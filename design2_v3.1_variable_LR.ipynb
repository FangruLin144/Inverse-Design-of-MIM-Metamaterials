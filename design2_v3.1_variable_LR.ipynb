{
 "cells": [
  {
   "cell_type": "code",
   "execution_count": 1,
   "metadata": {},
   "outputs": [],
   "source": [
    "import tidy3d as td\n",
    "import tidy3d.web as web\n",
    "from tidy3d import material_library, Medium, Structure\n",
    "from tidy3d.components.autograd import get_static\n",
    "\n",
    "import autograd\n",
    "from autograd.tracer import getval\n",
    "import autograd.numpy as anp\n",
    "from typing import List, Tuple\n",
    "\n",
    "import matplotlib.pylab as plt\n",
    "import numpy as np\n",
    "import os\n",
    "import optax"
   ]
  },
  {
   "cell_type": "markdown",
   "metadata": {},
   "source": [
    "## Create Simulation Structures\n",
    "\n",
    "### Define basic simulation parameters\n",
    "\n",
    "Most custom parameters are defined in the following block. However, the `param_to_design_info` needs to be carefully reviewed if the structure has changes in the layer numbers and dielectric/metal combinations as it is tightly bound to a specific structure."
   ]
  },
  {
   "cell_type": "code",
   "execution_count": 2,
   "metadata": {},
   "outputs": [
    {
     "name": "stdout",
     "output_type": "stream",
     "text": [
      "Center frequency:\t 7.05e+13 Hz\n",
      "Center wavelength:\t4.25 um\n",
      "Target bandwidth:\t0.25 um\n",
      "Frequency range:\t[ 5.77e+13,  9.08e+13] Hz\n",
      "Wavelength range:\t(3.3, 5.2) um\n",
      "\n",
      "Source frequency width:\t 3.32e+13 Hz\n",
      "Run time:\t\t 9.04e-12 s\n",
      "Shutoff:\t\t 1.00e-04 W/m^2\n",
      "\n",
      "Monitor frequency range: [ 9.08e+13,  5.77e+13] Hz\n"
     ]
    }
   ],
   "source": [
    "Ni = material_library[\"Ni\"][\"RakicLorentzDrude1998\"]  # Valid for 0.25 - 6.2 um\n",
    "SiO2 = Medium(permittivity=2.08, name=\"SiO2\")\n",
    "\n",
    "bandwidth = 0.25  # microns\n",
    "wvl_range = (3.30, 5.20)  # microns\n",
    "freq_range = (td.C_0 / wvl_range[1], td.C_0 / wvl_range[0])\n",
    "\n",
    "wvl0 = np.mean(wvl_range)\n",
    "freq0 = td.C_0 / wvl0\n",
    "\n",
    "print(f\"Center frequency:\\t{freq0: .2e} Hz\")\n",
    "print(f\"Center wavelength:\\t{wvl0} um\")\n",
    "print(f\"Target bandwidth:\\t{bandwidth} um\")\n",
    "print(f\"Frequency range:\\t[{freq_range[0]: .2e}, {freq_range[1]: .2e}] Hz\")\n",
    "print(f\"Wavelength range:\\t{wvl_range} um\")\n",
    "\n",
    "fwidth = td.constants.C_0 / wvl_range[0] - td.constants.C_0 / wvl_range[1]\n",
    "run_time = 300 / fwidth\n",
    "shutoff = 1e-4\n",
    "\n",
    "print(f\"\\nSource frequency width:\\t{fwidth: .2e} Hz\")\n",
    "print(f\"Run time:\\t\\t{run_time: .2e} s\")\n",
    "print(f\"Shutoff:\\t\\t{shutoff: .2e} W/m^2\")\n",
    "\n",
    "#monitor_wvls = np.array([3.3, 3.395, 3.604, 3.794, 3.90, 3.95, 4.098, 4.15, 4.25, 4.32, 4.402, 4.497, 4.592, 4.706, 4.801, 4.953, 5.2])\n",
    "#monitor_freqs = td.constants.C_0 / monitor_wvls\n",
    "#wvl_points = 17\n",
    "\n",
    "wvl_points = 17\n",
    "monitor_wvls = np.linspace(wvl_range[0], wvl_range[1], wvl_points)\n",
    "monitor_freqs = td.constants.C_0 / monitor_wvls\n",
    "dl_monitor_wvls = (wvl_range[1] - wvl_range[0]) / (wvl_points - 1)\n",
    "\n",
    "print(f\"\\nMonitor frequency range: [{monitor_freqs[0]: .2e}, {monitor_freqs[-1]: .2e}] Hz\")\n",
    "\n",
    "buffer_size = 0.1  # distance between the source and the monitor\n",
    "distance = wvl0  # distance between the source/monitor/structure and the PML\n",
    "\n",
    "# Define the structure constraints\n",
    "# Default substrate values\n",
    "sub_metal_thickness = 0.2\n",
    "sub_dielectric_thickness = 0.25\n",
    "num_of_sub_layers = 2\n",
    "# Substrate constraints\n",
    "sub_metal_min_thickness = 0.1\n",
    "sub_metal_max_thickness = 0.3\n",
    "sub_dielectric_min_thickness = 0.15\n",
    "sub_dielectric_max_thickness = 0.35\n",
    "sub_thickness_constraints_min = [sub_metal_min_thickness, sub_dielectric_min_thickness]\n",
    "sub_thickness_constraints_max = [sub_metal_max_thickness, sub_dielectric_max_thickness]\n",
    "\n",
    "# Default cuboid values\n",
    "cuboid_metal_thickneness = 0.025\n",
    "cuboid_dielectric_thickness = 0.1\n",
    "num_of_cuboid_layers = 2 * 5  # 5 bilayers\n",
    "# Cuboid constraints\n",
    "cuboid_min_length = 1.0\n",
    "cuboid_max_length = 3.4\n",
    "cuboid_min_width = 1.0\n",
    "cuboid_max_width = 3.4\n",
    "cuboid_metal_min_thickness = 0.015\n",
    "cuboid_metal_max_thickness = 0.035\n",
    "cuboid_dielectric_min_thickness = 0.05\n",
    "cuboid_dielectric_max_thickness = 0.2\n",
    "cuboid_thickness_constraints_min = [\n",
    "    cuboid_metal_min_thickness,\n",
    "    cuboid_dielectric_min_thickness,\n",
    "    cuboid_metal_min_thickness,\n",
    "    cuboid_dielectric_min_thickness,\n",
    "    cuboid_metal_min_thickness,\n",
    "    cuboid_dielectric_min_thickness,\n",
    "    cuboid_metal_min_thickness,\n",
    "    cuboid_dielectric_min_thickness,\n",
    "    cuboid_metal_min_thickness,\n",
    "    cuboid_dielectric_min_thickness,\n",
    "]\n",
    "cuboid_thickness_constraints_max = [\n",
    "    cuboid_metal_max_thickness,\n",
    "    cuboid_dielectric_max_thickness,\n",
    "    cuboid_metal_max_thickness,\n",
    "    cuboid_dielectric_max_thickness,\n",
    "    cuboid_metal_max_thickness,\n",
    "    cuboid_dielectric_max_thickness,\n",
    "    cuboid_metal_max_thickness,\n",
    "    cuboid_dielectric_max_thickness,\n",
    "    cuboid_metal_max_thickness,\n",
    "    cuboid_dielectric_max_thickness,\n",
    "]\n",
    "\n",
    "sub_materials = [Ni, SiO2]\n",
    "cuboid_materials = [Ni, SiO2, Ni, SiO2, Ni, SiO2, Ni, SiO2, Ni, SiO2]\n",
    "\n",
    "# Simulation domain\n",
    "Lx = 3.5\n",
    "Ly = 3.5\n",
    "Lz = (\n",
    "    2 * wvl0\n",
    "    + buffer_size\n",
    "    + distance\n",
    "    + sub_metal_max_thickness\n",
    "    + sub_dielectric_max_thickness\n",
    "    + 5 * (cuboid_metal_max_thickness + cuboid_dielectric_max_thickness)\n",
    ")\n",
    "min_steps_per_wvl = 10  # outside of structure\n",
    "# fine discretization in propagation direction\n",
    "# make sure to double-check discretization in xy\n",
    "override_dl = (0.1, 0.1, 0.005)"
   ]
  },
  {
   "cell_type": "markdown",
   "metadata": {},
   "source": [
    "### Define source and monitor objects"
   ]
  },
  {
   "cell_type": "code",
   "execution_count": 3,
   "metadata": {},
   "outputs": [],
   "source": [
    "SOURCE_PLANEWV_NAME = \"source_planewave\"\n",
    "FLUX_MONITOR_NAME = \"monitor_flux\"\n",
    "\n",
    "source_planewave = td.PlaneWave(\n",
    "    center=(0, 0, Lz / 2 - wvl0 - buffer_size),\n",
    "    source_time=td.GaussianPulse(freq0=freq0, fwidth=fwidth),\n",
    "    size=(td.inf, td.inf, 0),\n",
    "    direction=\"-\",\n",
    "    pol_angle=0,\n",
    "    name=SOURCE_PLANEWV_NAME,\n",
    ")"
   ]
  },
  {
   "cell_type": "markdown",
   "metadata": {},
   "source": [
    "### Function to create the structure\n",
    "\n",
    "Parameter frame structure: \n",
    "\n",
    "| substrate thicknesses from bottom up | cuboid thicknesses from bottom up | cuboid length | cuboid width |\n",
    "| --- | --- | --- | --- |\n",
    "\n",
    "Every data frame is a NumPy array, which then form a Tuple."
   ]
  },
  {
   "cell_type": "code",
   "execution_count": 4,
   "metadata": {},
   "outputs": [],
   "source": [
    "def make_dynamic_structures(design_info: Tuple) -> List[Structure]:\n",
    "    if design_info is None:\n",
    "        return []\n",
    "\n",
    "    sub_thicknesses, cuboid_thicknesses, cuboid_length, cuboid_width = design_info\n",
    "    sub_thicknesses = anp.clip(sub_thicknesses, sub_thickness_constraints_min, sub_thickness_constraints_max)\n",
    "    cuboid_thicknesses = anp.clip(cuboid_thicknesses, cuboid_thickness_constraints_min, cuboid_thickness_constraints_max)\n",
    "    cuboid_length = anp.clip(cuboid_length, cuboid_min_length, cuboid_max_length)\n",
    "    cuboid_width = anp.clip(cuboid_width, cuboid_min_width, cuboid_max_width)\n",
    "\n",
    "    # Substrate\n",
    "    substrate = []\n",
    "    z_center = -Lz / 2 + distance\n",
    "    for i in range(num_of_sub_layers):\n",
    "        z_center = z_center + sub_thicknesses[i] / 2 + (sub_thicknesses[i - 1] / 2 if i > 0 else 0)\n",
    "\n",
    "        substrate.append(\n",
    "            td.Structure(\n",
    "                geometry=td.Box(\n",
    "                    center=(0, 0, z_center),\n",
    "                    size=(td.inf, td.inf, sub_thicknesses[i]),\n",
    "                ),\n",
    "                medium=sub_materials[i],\n",
    "            )\n",
    "        )\n",
    "\n",
    "    z_center = z_center + sub_thicknesses[-1] / 2\n",
    "\n",
    "    # Cuboid\n",
    "    cuboid = []\n",
    "    for i in range(num_of_cuboid_layers):\n",
    "        z_center = (\n",
    "            z_center + cuboid_thicknesses[i] / 2 + (cuboid_thicknesses[i - 1] / 2 if i > 0 else 0)\n",
    "        )\n",
    "\n",
    "        cuboid.append(\n",
    "            td.Structure(\n",
    "                geometry=td.Box(\n",
    "                    center=(0, 0, z_center),\n",
    "                    size=(cuboid_length[0], cuboid_width[0], cuboid_thicknesses[i]),\n",
    "                ),\n",
    "                medium=cuboid_materials[i],\n",
    "            )\n",
    "        )\n",
    "\n",
    "    return substrate + cuboid"
   ]
  },
  {
   "cell_type": "markdown",
   "metadata": {},
   "source": [
    "### Function to create the simulation object"
   ]
  },
  {
   "cell_type": "code",
   "execution_count": 5,
   "metadata": {},
   "outputs": [],
   "source": [
    "def make_sim(design_info: Tuple) -> td.Simulation:\n",
    "    boundary_spec = td.BoundarySpec(\n",
    "        x=td.Boundary(minus=td.Periodic(), plus=td.Periodic()),\n",
    "        y=td.Boundary(minus=td.Periodic(), plus=td.Periodic()),\n",
    "        z=td.Boundary(minus=td.PML(), plus=td.PML()),\n",
    "    )\n",
    "\n",
    "    dynamic_structures = make_dynamic_structures(design_info)\n",
    "\n",
    "    # make mesh override, zmin and zmax are the bounds of the structure rounded down/up to the nearest 0.1\n",
    "    zmin = np.floor(getval(dynamic_structures[0].geometry.bounds[0][2]) * 10) / 10\n",
    "    zmax = np.ceil(getval(dynamic_structures[-1].geometry.bounds[1][2]) * 10) / 10\n",
    "    override = td.MeshOverrideStructure(\n",
    "        geometry=td.Box.from_bounds((-1e3, -1e3, zmin), (1e3, 1e3, zmax)),\n",
    "        dl=override_dl,\n",
    "        enforce=True,\n",
    "    )\n",
    "\n",
    "    grid_spec = td.GridSpec.auto(\n",
    "        wavelength=min(wvl_range),  # always mesh for smallest wavelength\n",
    "        min_steps_per_wvl=min_steps_per_wvl,\n",
    "        override_structures=[override],\n",
    "    )\n",
    "\n",
    "    sim = td.Simulation(\n",
    "        center=(0, 0, 0),\n",
    "        size=(Lx, Ly, Lz),\n",
    "        run_time=run_time,\n",
    "        boundary_spec=boundary_spec,\n",
    "        grid_spec=grid_spec,\n",
    "        structures=dynamic_structures,\n",
    "        sources=[source_planewave],\n",
    "        monitors=[],  # will be added in objective function\n",
    "        shutoff=shutoff,\n",
    "        symmetry=(-1, 1, 0),\n",
    "    )\n",
    "\n",
    "    return sim"
   ]
  },
  {
   "cell_type": "markdown",
   "metadata": {},
   "source": [
    "## Objective Function\n",
    "\n",
    "Flux calculated from server simulation, denoted as $\\Phi[n]$. \n",
    "\n",
    "Loss function $f(|\\Delta p|)$ defined as the function of the peak distances between the optimizing flux and the target center:\n",
    "\n",
    "$$\n",
    "f\\left( |\\Delta p| \\right) = 0.1 \\sqrt{|\\Delta p|} \n",
    "$$\n",
    "\n",
    "$$\n",
    "|\\Delta p| = \\left| p - p_0 \\right|, \\quad p = \\left[ \\frac{e^{\\Phi^{\\prime\\prime}[i]}}{\\sum_i e^{\\Phi^{\\prime\\prime}[i]}} \\right] \\cdot [p_i]\n",
    "$$\n",
    "\n",
    "$[p_i]$ is the array of monitor wavelengths, $p_0$ is the target wavelength (central wavelength).\n",
    "\n",
    "---\n",
    "\n",
    "* How to carry out finite differentiation?\n",
    "\n",
    "    The `np.gradient` seems to use a combination of forward, backward and central differention for discrete data points, in which the slicing operations break the diff chain and may be the cause of the incompatability with autograd.\n",
    "\n",
    "    However, other finite differentiation methods (such as forward only differentiation) will also include slicing operations. \n",
    "\n",
    "    A possible idea of an alternative to finite differentiation is to directly differentiate on flux, but this requires the knowledge of analytical expressions (a backend blackbox?).  \n",
    "\n",
    "---\n",
    "\n",
    "* How $\\Phi[n]$ is related to geometric parameters? \n",
    "\n",
    "    Is it possible to carry out the differentiation calculation with only $E$ and $H$ numbers without actually accessing the calculation steps of them? \n",
    "\n",
    "    $$Ae = b$$\n",
    "    $$A = \\nabla \\times \\nabla \\times -k_0^2 \\epsilon_r(r) \\text{  from Maxwell's equations}$$\n",
    "    $$b = -j \\omega \\mu_0 P(r) \\text{ , $P(r)$ is the current source}$$\n",
    "    $$\\Phi(e, e^*) \\rightarrow \\frac{\\mathrm{d} \\Phi}{\\mathrm{d} p} = 2\\mathbf{R}\\{\\frac{\\mathrm{d} \\Phi}{\\mathrm{d} e} \\frac{\\mathrm{d} e}{\\mathrm{d} p} \\}$$\n",
    "\n",
    "    The parameter-dependent part is $\\frac{\\mathrm{d} e}{\\mathrm{d} p} = - A^{-1} \\frac{\\mathrm{d} A}{\\mathrm{d} p} e$.\n",
    "\n",
    "    $$\\frac{\\mathrm{d} \\Phi}{\\mathrm{d} p} = 2\\mathbf{R}\\{(\\frac{\\mathrm{d} \\Phi}{\\mathrm{d} e} - A^{-1}) \\frac{\\mathrm{d} A}{\\mathrm{d} p} e \\} = 2\\mathbf{R}\\{e_{adj}^T \\frac{\\mathrm{d} A}{\\mathrm{d} p} e \\}$$\n",
    "\n",
    "\n",
    "\n",
    "### Define the target"
   ]
  },
  {
   "cell_type": "code",
   "execution_count": 6,
   "metadata": {},
   "outputs": [],
   "source": [
    "grass_green = '#6AA121'\n",
    "salmon_red = '#FA8072'\n",
    "vib_orange = '#FFA500'\n",
    "teal = '#008080'\n",
    "sandy_brown = '#F4A460'\n",
    "royal_blue = '#4169E1'\n",
    "light_green = '#90EE90'\n",
    "pale_turquoise = '#AFEEEE'\n",
    "medium_turquoise = '#48D1CC'\n",
    "light_gray = '#D3D3D3'\n",
    "dark_gray = '#A9A9A9'\n",
    "dim_gray = '#696969'\n",
    "orange_red = '#FF4500'"
   ]
  },
  {
   "cell_type": "code",
   "execution_count": 7,
   "metadata": {},
   "outputs": [],
   "source": [
    "def target_gaussian(peak_value: float=1.0, mu: float=wvl0, sigma: float=bandwidth/2.0) -> anp.array:\n",
    "    global monitor_wvls\n",
    "    target = peak_value * anp.exp(-((monitor_wvls - mu) ** 2) / (2 * sigma ** 2))\n",
    "    target = 1 - target\n",
    "    return target\n",
    "\n",
    "def plot_gaussian_and_flux_info(wvls, flux, flux_peak, target_peak): \n",
    "    fig = plt.figure(figsize=(6, 3))\n",
    "\n",
    "    ax0 = plt.subplot2grid((3, 2), (0, 0), rowspan=1)\n",
    "    ax0.scatter(wvls, np.zeros_like(wvls), marker='d', color=grass_green)\n",
    "    ax0.set_title(f\"Monitor wavelengths distribution\")\n",
    "    ax0.set_xlabel(\"Wavelength (um)\")\n",
    "    ax0.set_xlim(wvl_range[0], wvl_range[1])\n",
    "    ax0.set_yticks([])\n",
    "    ax0.grid(True)\n",
    "\n",
    "    ax1 = plt.subplot2grid((3, 2), (1, 0), rowspan=2)\n",
    "    ax1.scatter(wvls, target_gaussian(), marker='s', color=grass_green)\n",
    "    ax1.axvline(x=flux_peak, linestyle='-.', color=vib_orange, label=f\"Est. flux peak\")\n",
    "    ax1.set_xlabel(\"Wavelength (um)\")\n",
    "    ax1.set_xlim(wvl_range[0], wvl_range[1])\n",
    "    ax1.set_ylabel(\"Reflectance\")\n",
    "    ax1.set_title(f\"Target distribution\")\n",
    "    ax1.legend(fontsize=7)\n",
    "    ax1.grid(True)\n",
    "\n",
    "    ax2 = plt.subplot2grid((3, 2), (0, 1), rowspan=3)\n",
    "    ax2.plot(wvls, flux, 's--', color=grass_green)\n",
    "    ax2.axvline(x=target_peak, color=salmon_red, linestyle='--', label=f\"Target peak\")\n",
    "    ax2.axvline(x=flux_peak, linestyle='-.', color=vib_orange, label=f\"Est. flux peak\")\n",
    "    ax2.set_title(f\"Actual flux\")\n",
    "    ax2.set_xlabel(\"Wavelength (um)\")\n",
    "    ax2.set_ylabel(\"Reflectance\")\n",
    "    ax2.set_xlim(wvl_range[0], wvl_range[1])\n",
    "    ax2.set_ylim(0, 1)\n",
    "    ax2.legend(fontsize=7)\n",
    "    ax2.grid(True)\n",
    "\n",
    "    plt.tight_layout()\n",
    "    plt.show()"
   ]
  },
  {
   "cell_type": "code",
   "execution_count": 8,
   "metadata": {},
   "outputs": [],
   "source": [
    "def softmax(arr, beta: float=10.0):\n",
    "    weights = anp.exp(beta * arr) / anp.sum(anp.exp(beta * arr))\n",
    "    return weights\n",
    "\n",
    "def forward_diff(x, y): \n",
    "    dy_dx = (y[1:] - y[:-1]) / (x[1:] - x[:-1])\n",
    "    return (x[:-1]+x[1:])/2, dy_dx\n",
    "\n",
    "def find_peak_distance_from_flux_2ndD(flux: anp.array):\n",
    "    #flux_first_derivative = anp.gradient(flux) / dl_monitor_wvls\n",
    "    #flux_second_derivative = anp.gradient(flux_first_derivative) / dl_monitor_wvls\n",
    "\n",
    "    monitor_wvls_1stD, flux_first_derivative = forward_diff(monitor_wvls, flux)\n",
    "    monitor_wvls_2ndD, flux_second_derivative = forward_diff(monitor_wvls_1stD, flux_first_derivative)\n",
    "\n",
    "    flux_softmax_weights_2ndD = softmax(flux_second_derivative)\n",
    "    flux_peak_2ndD = anp.sum(flux_softmax_weights_2ndD * monitor_wvls_2ndD)\n",
    "\n",
    "    peak_distance = anp.abs(flux_peak_2ndD - wvl0)\n",
    "\n",
    "    print(f\"\\tEstimated peak of the optimizing flux: {flux_peak_2ndD._value:.3f} um\")\n",
    "    print(f\"\\tEstimated peak distance: {peak_distance._value:.3f} um\")\n",
    "    \n",
    "    return peak_distance, flux_peak_2ndD\n",
    "\n",
    "def evaluate_peak_distance(flux: anp.array):\n",
    "    peak_distance, flux_peak_2ndD = find_peak_distance_from_flux_2ndD(flux)\n",
    "    scaled_peak_distance = anp.sqrt(peak_distance) * 0.1\n",
    "\n",
    "    print(f\"\\tScaled peak distance: {scaled_peak_distance._value:.3f}\")\n",
    "\n",
    "    # flux_detraced = np.array([data._value for data in flux])\n",
    "    flux_detraced = get_static(flux)\n",
    "    if not isinstance(flux_peak_2ndD, float): flux_peak_2ndD = flux_peak_2ndD._value\n",
    "    plot_gaussian_and_flux_info(monitor_wvls, flux_detraced, flux_peak_2ndD, wvl0)\n",
    "\n",
    "    return scaled_peak_distance"
   ]
  },
  {
   "cell_type": "markdown",
   "metadata": {},
   "source": [
    "### Define the objective function"
   ]
  },
  {
   "cell_type": "code",
   "execution_count": 9,
   "metadata": {},
   "outputs": [],
   "source": [
    "sim_data_history = []\n",
    "fluxes_history = []\n",
    "\n",
    "def generate_unique_task(base_path) -> Tuple[str, str]:\n",
    "    i = 0\n",
    "    while True:\n",
    "        new_path = f\"data/{base_path}_{i}.hdf5\"\n",
    "        new_name = f\"task_{base_path}_{i}\"\n",
    "        if not os.path.exists(new_path):\n",
    "            return new_name, new_path\n",
    "        i += 1\n",
    "\n",
    "def objective_fn(params) -> float:\n",
    "    sim = make_sim(params)\n",
    "\n",
    "    sims = {}\n",
    "    for idx, freq in enumerate(monitor_freqs):\n",
    "        # we run a separate simulation for each freq\n",
    "        monitor_flux = td.FieldMonitor(\n",
    "            center=(0, 0, Lz / 2 - wvl0),\n",
    "            size=(td.inf, td.inf, 0),\n",
    "            freqs=[freq],\n",
    "            name=FLUX_MONITOR_NAME,\n",
    "        )\n",
    "        sims[f\"flux_{idx}\"] = sim.updated_copy(monitors=[monitor_flux])\n",
    "\n",
    "    print(f\"\\tUploading batch simulation data...\")\n",
    "\n",
    "    batch_data = web.run_async(sims, verbose=False, path_dir=\"data\")\n",
    "    \n",
    "    print(f\"\\tFinished batch simulation.\")\n",
    "    \n",
    "    \n",
    "    fluxes = [abs(batch_data[k][FLUX_MONITOR_NAME].flux.values.item()) for k in sims]\n",
    "    fluxes = anp.array(fluxes)\n",
    "    error = evaluate_peak_distance(fluxes)\n",
    "    \"\"\"\n",
    "\n",
    "    fluxes = []\n",
    "    for k in sims:\n",
    "        flux = batch_data[k][FLUX_MONITOR_NAME].flux.values.tolist()\n",
    "        flux = anp.squeeze(flux)\n",
    "        fluxes.append(flux)\n",
    "    fluxes = anp.array(fluxes)\n",
    "    error = evaluate_peak_distance(fluxes)\n",
    "    \"\"\"\n",
    "\n",
    "    # fluxes_detraced = [flux._value for flux in fluxes]\n",
    "    fluxes_detraced = get_static(fluxes)\n",
    "    sim_data_history.append(batch_data)\n",
    "    fluxes_history.append(fluxes_detraced)\n",
    "\n",
    "    print(f\"\\tFinished objective function evaluation.\")\n",
    "    \n",
    "    return error"
   ]
  },
  {
   "cell_type": "markdown",
   "metadata": {},
   "source": [
    "## Optimization\n",
    "\n",
    "### Calculate the initial state"
   ]
  },
  {
   "cell_type": "code",
   "execution_count": 10,
   "metadata": {},
   "outputs": [],
   "source": [
    "scaling_factor = 0.25\n",
    "\n",
    "PARAMS0 = (\n",
    "    anp.array([\n",
    "        (vmax - vmin) * scaling_factor + vmin\n",
    "        for vmin, vmax in zip(sub_thickness_constraints_min, sub_thickness_constraints_max)\n",
    "    ]),\n",
    "    anp.array([\n",
    "        (vmax - vmin) * scaling_factor + vmin\n",
    "        for vmin, vmax in zip(cuboid_thickness_constraints_min, cuboid_thickness_constraints_max)\n",
    "    ]),\n",
    "    anp.array([(cuboid_max_length - cuboid_min_length) * scaling_factor + cuboid_min_length]),\n",
    "    anp.array([(cuboid_max_width - cuboid_min_width) * scaling_factor + cuboid_min_width],),\n",
    ")"
   ]
  },
  {
   "cell_type": "code",
   "execution_count": 11,
   "metadata": {},
   "outputs": [
    {
     "name": "stdout",
     "output_type": "stream",
     "text": [
      "skip\n"
     ]
    }
   ],
   "source": [
    "%%script echo skip\n",
    "\n",
    "sim_initial = make_sim(PARAMS0)\n",
    "sim_initial.plot_3d()\n",
    "plt.show()"
   ]
  },
  {
   "cell_type": "code",
   "execution_count": 12,
   "metadata": {},
   "outputs": [],
   "source": [
    "# Define the gradient function\n",
    "val_and_grad_fn = autograd.value_and_grad(objective_fn)"
   ]
  },
  {
   "cell_type": "code",
   "execution_count": 13,
   "metadata": {},
   "outputs": [
    {
     "name": "stdout",
     "output_type": "stream",
     "text": [
      "skip\n"
     ]
    }
   ],
   "source": [
    "%%script echo skip\n",
    "\n",
    "val_initial, grad_initial = val_and_grad_fn(PARAMS0)\n",
    "print(f\"Initial design\\tFlux error: {val_initial}\\tGradient: {grad_initial}\")"
   ]
  },
  {
   "cell_type": "markdown",
   "metadata": {},
   "source": [
    "### Optimization loop setup"
   ]
  },
  {
   "cell_type": "markdown",
   "metadata": {},
   "source": [
    "To avoid the compatability issues between autograd and optax (which is a native support of Jax), there are some measures taken before and after applying the optimizer updates: \n",
    "\n",
    "* params_i is concatenated from a Tuple into a 1D np array\n",
    "* apply updates\n",
    "* the updated params_i is then converted to a np array and then restored to the origial shape"
   ]
  },
  {
   "cell_type": "markdown",
   "metadata": {},
   "source": [
    "The code below utilizes Adam optimizer with optax."
   ]
  },
  {
   "cell_type": "code",
   "execution_count": 14,
   "metadata": {},
   "outputs": [],
   "source": [
    "params_i = PARAMS0\n",
    "shape = [p.size for p in params_i]\n",
    "sim_i = make_sim(params_i) # Note that sim_i is a List of Simulation objects\n",
    "\n",
    "params_history = [PARAMS0]\n",
    "error_history = []\n",
    "grad_history = []\n",
    "\n",
    "metadata_file_summary = f\"The results for variable learning rate simulations (testing).\"\n",
    "metadata_learning_rate = f\"error\"\n",
    "metadata_starting_point = f\"scaling_factor = {scaling_factor}\"\n",
    "metadata_target_bandwidth = f\"{bandwidth} um\""
   ]
  },
  {
   "cell_type": "markdown",
   "metadata": {},
   "source": [
    "Save the data on the go, so that even if the optimization is interrupted halfway it can be retrieved and continued later."
   ]
  },
  {
   "cell_type": "code",
   "execution_count": 15,
   "metadata": {},
   "outputs": [],
   "source": [
    "import h5py\n",
    "import os\n",
    "from datetime import datetime\n",
    "import pickle\n",
    "\n",
    "DATASET_NAME_FLUX_HISTORY = 'fluxes_data_history'\n",
    "DATASET_NAME_PARAMS_HISTORY = 'geometric_parameters_history'\n",
    "DATASET_NAME_ERROR_HISTORY = 'error_history'\n",
    "DATASET_NAME_GRAD_HISTORY = 'gradient_history'\n",
    "DATASET_NAME_NUM_OF_ITRS = 'number_of_iterations'\n",
    "\n",
    "def generate_unique_file(base_path) -> str:\n",
    "    i = 0\n",
    "    while True:\n",
    "        new_path = f\"results/{base_path}_{i}.hdf5\"\n",
    "        if not os.path.exists(new_path): return new_path\n",
    "        i = i + 1\n",
    "\n",
    "def extract_base_path(file_name) -> str:\n",
    "    base_path = file_name[8:-5]\n",
    "    print(f\"Base path: {base_path}\")\n",
    "    return base_path # remove the results/ prefix and .hdf5 postfix\n",
    "\n",
    "def save_data(file_name, itr): \n",
    "    with h5py.File(file_name, 'w') as f:\n",
    "        creation_time = datetime.now().isoformat()\n",
    "        f.attrs['creation_time'] = creation_time\n",
    "        f.attrs['file_summary'] = metadata_file_summary\n",
    "        f.attrs['learning_rate'] = metadata_learning_rate\n",
    "        f.attrs['starting_point'] = metadata_starting_point\n",
    "        f.attrs['target_bandwidth'] = metadata_target_bandwidth\n",
    "\n",
    "        # Simulation data history\n",
    "        #sim_data_pickle = pickle.dumps(sim_data_history)\n",
    "        #f.create_dataset('simulation_data_history', data=np.void(sim_data_pickle))\n",
    "\n",
    "        # Fluxes data history\n",
    "        flux_data_pickle = pickle.dumps(fluxes_history)\n",
    "        f.create_dataset(DATASET_NAME_FLUX_HISTORY, data=np.void(flux_data_pickle))\n",
    "        \n",
    "        # Geometric parameters history\n",
    "        params_pickle = pickle.dumps(params_history)\n",
    "        f.create_dataset(DATASET_NAME_PARAMS_HISTORY, data=np.void(params_pickle))\n",
    "\n",
    "        # Error history\n",
    "        error_pickle = pickle.dumps(error_history)\n",
    "        f.create_dataset(DATASET_NAME_ERROR_HISTORY, data=np.void(error_pickle))\n",
    "\n",
    "        # Gradient history\n",
    "        gradient_pickle = pickle.dumps(grad_history)\n",
    "        f.create_dataset(DATASET_NAME_GRAD_HISTORY, data=np.void(gradient_pickle))\n",
    "\n",
    "        # Number of iterations\n",
    "        itr_pickle = pickle.dumps(itr)\n",
    "        f.create_dataset(DATASET_NAME_NUM_OF_ITRS, data=np.void(itr_pickle))\n",
    "\n",
    "def list_datasets(file_name): \n",
    "    with h5py.File(file_name, 'r') as f:\n",
    "        print(f\"File name:\\t{file_name}\\n\")\n",
    "        print(f\"Metadata of the file:\")\n",
    "        for attr_name, attr_value in f.attrs.items():\n",
    "            print(f\"\\t{attr_name}:\\t{attr_value}\")\n",
    "        print()\n",
    "        print(f\"Datasets in the file:\")\n",
    "        for key in f:\n",
    "            if isinstance(f[key], h5py.Dataset): \n",
    "                print(f\"\\t{key}\")\n",
    "\n",
    "def retrieve_dataset(file_name, dataset_name): \n",
    "    with h5py.File(file_name, 'r') as f:\n",
    "        data_pickle = f[dataset_name][()]\n",
    "        data = pickle.loads(data_pickle.tobytes())\n",
    "        if isinstance(data, np.ndarray): data = data.tolist()\n",
    "        return data"
   ]
  },
  {
   "cell_type": "markdown",
   "metadata": {},
   "source": [
    "Load and continue simulation from previous results for `retrieval = True`, where both `retrieval` and `RETRIEVED_FILE_NAME` need to be renewed. Otherwise generate a new empty hdf5 file."
   ]
  },
  {
   "cell_type": "code",
   "execution_count": 16,
   "metadata": {},
   "outputs": [],
   "source": [
    "base_path = f\"2ndD_peak_distance\"\n",
    "\n",
    "retrieval = True\n",
    "RETRIEVED_FILE_NAME = 'results/2ndD_peak_distance_0.hdf5'\n",
    "\n",
    "number_of_iterations = 3"
   ]
  },
  {
   "cell_type": "code",
   "execution_count": 17,
   "metadata": {},
   "outputs": [
    {
     "name": "stdout",
     "output_type": "stream",
     "text": [
      "Base path: 2ndD_peak_distance_0\n",
      "New file name: results/2ndD_peak_distance_0_0.hdf5\n"
     ]
    }
   ],
   "source": [
    "iteration_num = 0\n",
    "file_name = ''\n",
    "\n",
    "if retrieval == False:\n",
    "    file_name = generate_unique_file(base_path)\n",
    "\n",
    "    # Generate an empty file\n",
    "    save_data(file_name, -1)\n",
    "    list_datasets(file_name)\n",
    "else:\n",
    "    file_name = generate_unique_file(extract_base_path(RETRIEVED_FILE_NAME))\n",
    "    print(f\"New file name: {file_name}\")\n",
    "    \n",
    "    params_history = retrieve_dataset(RETRIEVED_FILE_NAME, DATASET_NAME_PARAMS_HISTORY)\n",
    "    params_i = params_history[-1]\n",
    "    iteration_num = retrieve_dataset(RETRIEVED_FILE_NAME, DATASET_NAME_NUM_OF_ITRS) + 1 # +1 for the starting point in the optimization loop\n",
    "    error_history = retrieve_dataset(RETRIEVED_FILE_NAME, DATASET_NAME_ERROR_HISTORY)\n",
    "    fluxes_history = retrieve_dataset(RETRIEVED_FILE_NAME, DATASET_NAME_FLUX_HISTORY)\n",
    "    grad_history = retrieve_dataset(RETRIEVED_FILE_NAME, DATASET_NAME_GRAD_HISTORY)"
   ]
  },
  {
   "cell_type": "markdown",
   "metadata": {},
   "source": [
    "### Optimization loop"
   ]
  },
  {
   "cell_type": "code",
   "execution_count": 18,
   "metadata": {},
   "outputs": [
    {
     "name": "stdout",
     "output_type": "stream",
     "text": [
      "Iteration 2\n",
      "\tUploading batch simulation data...\n",
      "\tFinished batch simulation.\n",
      "\tEstimated peak of the optimizing flux: 3.656 um\n",
      "\tEstimated peak distance: 0.594 um\n",
      "\tScaled peak distance: 0.077\n"
     ]
    },
    {
     "data": {
      "image/png": "[encoded data removed]",
      "text/plain": [
       "<Figure size 600x300 with 3 Axes>"
      ]
     },
     "metadata": {},
     "output_type": "display_data"
    },
    {
     "name": "stdout",
     "output_type": "stream",
     "text": [
      "\tFinished objective function evaluation.\n"
     ]
    },
    {
     "name": "stderr",
     "output_type": "stream",
     "text": [
      "/Users/flin/Documents/vscode/tidy3d/lib/python3.9/site-packages/autograd/numpy/numpy_vjps.py:53: RuntimeWarning: overflow encountered in scalar power\n",
      "  lambda ans, x, y : unbroadcast_f(y, lambda g: - g * x / y**2))\n"
     ]
    },
    {
     "name": "stdout",
     "output_type": "stream",
     "text": [
      "\tObjective function error value: 0.0770551750371122\n",
      "Iteration 3\n",
      "\tUploading batch simulation data...\n",
      "\tFinished batch simulation.\n",
      "\tEstimated peak of the optimizing flux: 3.656 um\n",
      "\tEstimated peak distance: 0.594 um\n",
      "\tScaled peak distance: 0.077\n"
     ]
    },
    {
     "data": {
      "image/png": "[encoded data removed]",
      "text/plain": [
       "<Figure size 600x300 with 3 Axes>"
      ]
     },
     "metadata": {},
     "output_type": "display_data"
    },
    {
     "name": "stdout",
     "output_type": "stream",
     "text": [
      "\tFinished objective function evaluation.\n",
      "\tObjective function error value: 0.0770551750371122\n"
     ]
    }
   ],
   "source": [
    "i = 0\n",
    "\n",
    "while i < number_of_iterations:\n",
    "    if retrieval == True: \n",
    "        i = iteration_num\n",
    "        retrieval = False\n",
    "\n",
    "    print(f\"Iteration {i + 1}\")\n",
    "\n",
    "    # Compute the value (error) and gradient of the objective function\n",
    "    val_i, grad_i = val_and_grad_fn(params_i)\n",
    "    # grad_norm_i = np.linalg.norm(grad_i)\n",
    "\n",
    "    print(f\"\\tObjective function error value: {val_i}\")\n",
    "\n",
    "    # Adjusting the step size as the optimization goes on\n",
    "    step_size = val_i\n",
    "    optimizer = optax.adam(learning_rate=step_size)\n",
    "    optimizer_state = optimizer.init(np.concatenate(params_i))\n",
    "\n",
    "    params_i_concatenated = np.concatenate(params_i)\n",
    "    grad_i_concatenated = np.concatenate(grad_i)\n",
    "\n",
    "    # Update the parameters: error (loss) as small as possible\n",
    "    updates, optimizer_state = optimizer.update(grad_i_concatenated, optimizer_state, params_i_concatenated)\n",
    "    params_i_concatenated = optax.apply_updates(params_i_concatenated, updates) # params_i is now Jax-traced\n",
    "\n",
    "    # Restore the original shape of the parameters\n",
    "    params_i = np.array(params_i_concatenated)\n",
    "    params_i = np.split(params_i, np.cumsum(shape[:-1]))\n",
    "\n",
    "    # Save the optimization history\n",
    "    params_history.append(params_i)\n",
    "    error_history.append(val_i)\n",
    "    grad_history.append(grad_i)\n",
    "    # Simulation data history is stored in sim_data_history in objective_fn\n",
    "\n",
    "    # Save the current optimization progress in the file\n",
    "    save_data(file_name, i)\n",
    "\n",
    "    i = i + 1"
   ]
  },
  {
   "cell_type": "markdown",
   "metadata": {},
   "source": [
    "## Data Visualization"
   ]
  },
  {
   "cell_type": "code",
   "execution_count": 20,
   "metadata": {},
   "outputs": [
    {
     "data": {
      "image/png": "[encoded data removed]",
      "text/plain": [
       "<Figure size 900x1200 with 12 Axes>"
      ]
     },
     "metadata": {},
     "output_type": "display_data"
    }
   ],
   "source": [
    "# Flux history\n",
    "\n",
    "fig, axes = plt.subplots(4, 3, figsize = (9, 12))\n",
    "axes = axes.flatten()\n",
    "for i, flux in enumerate(fluxes_history):\n",
    "    # flux = [flux._value for flux in fluxes_history[i]]\n",
    "    ax = axes[i]\n",
    "    ax.plot(monitor_wvls, flux, 's--', color=grass_green)\n",
    "    ax.set_title(f'Flux at iteration {i+1}')\n",
    "    ax.set_xlabel('Wavelegnth (um)')\n",
    "    ax.set_ylabel('Flux')\n",
    "    ax.set_xlim(wvl_range[0], wvl_range[1])\n",
    "    ax.set_ylim(0, 1)\n",
    "    ax.axvline(x=wvl0, color=salmon_red, linestyle='--')\n",
    "# fig.delaxes(axes[-1]) # Delete the last subplot if number_of_iterations == 5\n",
    "plt.tight_layout()\n",
    "plt.savefig(\"flux_history.png\")\n",
    "plt.show()"
   ]
  },
  {
   "cell_type": "code",
   "execution_count": 23,
   "metadata": {},
   "outputs": [
    {
     "data": {
      "image/png": "[encoded data removed]",
      "text/plain": [
       "<Figure size 300x300 with 1 Axes>"
      ]
     },
     "metadata": {},
     "output_type": "display_data"
    }
   ],
   "source": [
    "# Error history\n",
    "plt.figure(figsize=(3, 3))\n",
    "plt.plot(error_history, 's-', color=vib_orange)\n",
    "plt.xlabel(\"Iteration\")\n",
    "plt.ylabel(\"Error\")\n",
    "plt.xlim((0, 10))\n",
    "plt.title(\"Error History\")\n",
    "plt.show()"
   ]
  },
  {
   "cell_type": "code",
   "execution_count": 24,
   "metadata": {},
   "outputs": [
    {
     "name": "stdout",
     "output_type": "stream",
     "text": [
      "skip\n"
     ]
    }
   ],
   "source": [
    "%%script echo skip\n",
    "\n",
    "# Retrieve geometric parameters at the {itr}th iteration\n",
    "itr = 3\n",
    "wvl_points_for_checking = 101\n",
    "wvls_for_checking = np.linspace(wvl_range[0], wvl_range[1], wvl_points_for_checking)\n",
    "freqs_for_checking = td.constants.C_0 / wvls_for_checking\n",
    "\n",
    "FLUX_MONITOR_FOR_CHECKING_NAME = 'flux_monitor_for_checking'\n",
    "\n",
    "monitor_flux_for_checking = td.FluxMonitor(\n",
    "    center=(0, 0, Lz / 2 - wvl0),\n",
    "    size=(td.inf, td.inf, 0),\n",
    "    freqs=freqs_for_checking,\n",
    "    name=FLUX_MONITOR_FOR_CHECKING_NAME,\n",
    ")\n",
    "\n",
    "sim_for_checking = make_sim(params_history[itr-1])\n",
    "sim_for_checking = sim_for_checking.updated_copy(monitors=[monitor_flux_for_checking])\n",
    "sim_for_checking.plot_3d()"
   ]
  },
  {
   "cell_type": "code",
   "execution_count": 25,
   "metadata": {},
   "outputs": [
    {
     "name": "stdout",
     "output_type": "stream",
     "text": [
      "skip\n"
     ]
    }
   ],
   "source": [
    "%%script echo skip\n",
    "\n",
    "sim_data_for_checking = web.run(simulation=sim_for_checking, task_name=f\"{itr}th_iteration\", path=f\"data/{itr}th_iteration.hdf5\", verbose=False)"
   ]
  },
  {
   "cell_type": "code",
   "execution_count": 26,
   "metadata": {},
   "outputs": [
    {
     "name": "stdout",
     "output_type": "stream",
     "text": [
      "skip\n"
     ]
    }
   ],
   "source": [
    "%%script echo skip\n",
    "\n",
    "reflectance = sim_data_for_checking[FLUX_MONITOR_FOR_CHECKING_NAME].flux\n",
    "\n",
    "plt.figure(figsize=(3, 3))\n",
    "plt.plot(wvls_for_checking, reflectance, marker='o', markersize=3, label='Reflectance', color=grass_green)\n",
    "plt.axvline(x=4.25, color=salmon_red, label='Target', linestyle='--')\n",
    "plt.xlabel('Wavelengths (um)')\n",
    "plt.ylabel('Reflectance')\n",
    "plt.legend()\n",
    "plt.title(f'Reflectance at iteration {itr}')\n",
    "plt.show()"
   ]
  }
 ],
 "metadata": {
  "kernelspec": {
   "display_name": "Python 3 (ipykernel)",
   "language": "python",
   "name": "python3"
  },
  "language_info": {
   "codemirror_mode": {
    "name": "ipython",
    "version": 3
   },
   "file_extension": ".py",
   "mimetype": "text/x-python",
   "name": "python",
   "nbconvert_exporter": "python",
   "pygments_lexer": "ipython3",
   "version": "3.9.6"
  }
 },
 "nbformat": 4,
 "nbformat_minor": 4
}
