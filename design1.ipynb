{
 "cells": [
  {
   "cell_type": "code",
   "execution_count": 1,
   "metadata": {},
   "outputs": [],
   "source": [
    "import tidy3d as td\n",
    "import tidy3d.web as web\n",
    "from tidy3d import material_library, Medium, Structure, MeshOverrideStructure\n",
    "from tidy3d.plugins.autograd.invdes import tanh_projection\n",
    "\n",
    "import autograd as autograd\n",
    "import autograd.numpy as anp\n",
    "from typing import List, Tuple\n",
    "\n",
    "import matplotlib.pylab as plt"
   ]
  },
  {
   "cell_type": "markdown",
   "metadata": {},
   "source": [
    "## Create Simulation Structures\n",
    "\n",
    "### Define basic simulation parameters\n",
    "\n",
    "Most custom parameters are defined in the following block. However, the `param_to_design_info` needs to be carefully reviewed if the structure has changes in the layer numbers and dielectric/metal combinations as it is tightly bound to a specific structure."
   ]
  },
  {
   "cell_type": "code",
   "execution_count": 2,
   "metadata": {},
   "outputs": [],
   "source": [
    "Ni = material_library['Ni']['RakicLorentzDrude1998'] # Valid for 0.25 - 6.2 um\n",
    "SiO2 = Medium(permittivity = 3.9, name='SiO2')\n",
    "\n",
    "wvl0 = 2.35 # microns\n",
    "freq0 = td.constants.C_0 / wvl0\n",
    "bandwidth = 0.25 # microns\n",
    "wvl_range = [1.35, 3.35] # microns\n",
    "wvl_points = 101\n",
    "wvls = anp.linspace(wvl_range[0], wvl_range[1], wvl_points)\n",
    "freqs = td.constants.C_0 / wvls\n",
    "\n",
    "fwidth = td.constants.C_0 / (wvl0 * 20)\n",
    "run_time =  50 / fwidth\n",
    "shutoff = 1e-05\n",
    "\n",
    "monitor_freqs = [td.constants.C_0 / wvl0]\n",
    "\n",
    "buffer_size = wvl0 # distance between the source/monitor and the computational domain\n",
    "distance = wvl0 # distance between the source/monitor and the structure\n",
    "\n",
    "# Define the structure constraints\n",
    "# Default substrate values\n",
    "sub_metal_thickness = 0.2\n",
    "sub_dielectric_thickness = 0.25\n",
    "num_of_sub_layers = 2\n",
    "# Substrate constraints\n",
    "sub_metal_min_thickness = 0.1\n",
    "sub_metal_max_thickness = 0.3\n",
    "sub_dielectric_min_thickness = 0.15\n",
    "sub_dielectric_max_thickness = 0.35\n",
    "sub_thickness_constraints_min = [sub_metal_min_thickness, sub_dielectric_min_thickness]\n",
    "sub_thickness_constraints_max = [sub_metal_max_thickness, sub_dielectric_max_thickness]\n",
    "\n",
    "# Default cuboid values\n",
    "cuboid_metal_thickneness = 0.025\n",
    "cuboid_dielectric_thickness = 0.1\n",
    "num_of_cuboid_layers = 2 * 5 # 5 bilayers\n",
    "# Cuboid constraints\n",
    "cuboid_min_length = 1.0\n",
    "cuboid_max_length = 3.4\n",
    "cuboid_min_width = 1.0\n",
    "cuboid_max_width = 3.4\n",
    "cuboid_metal_min_thickness = 0.015\n",
    "cuboid_metal_max_thickness = 0.035\n",
    "cuboid_dielectric_min_thickness = 0.05\n",
    "cuboid_dielectric_max_thickness = 0.2\n",
    "cuboid_thickness_constraints_min = [cuboid_metal_min_thickness, cuboid_dielectric_min_thickness, cuboid_metal_min_thickness, cuboid_dielectric_min_thickness, cuboid_metal_min_thickness, cuboid_dielectric_min_thickness, cuboid_metal_min_thickness, cuboid_dielectric_min_thickness, cuboid_metal_min_thickness, cuboid_dielectric_min_thickness]\n",
    "cuboid_thickness_constraints_max = [cuboid_metal_max_thickness, cuboid_dielectric_max_thickness, cuboid_metal_max_thickness, cuboid_dielectric_max_thickness, cuboid_metal_max_thickness, cuboid_dielectric_max_thickness, cuboid_metal_max_thickness, cuboid_dielectric_max_thickness, cuboid_metal_max_thickness, cuboid_dielectric_max_thickness]\n",
    "\n",
    "sub_materials = [Ni, SiO2]\n",
    "cuboid_materials = [Ni, SiO2, Ni, SiO2, Ni, SiO2, Ni, SiO2, Ni, SiO2]\n",
    "\n",
    "# Simulation domain\n",
    "Lx = 3.5\n",
    "Ly = 3.5\n",
    "Lz = 3 * buffer_size + distance + \\\n",
    "     sub_metal_max_thickness + sub_dielectric_max_thickness + \\\n",
    "     5 * (cuboid_metal_max_thickness + cuboid_dielectric_max_thickness)\n",
    "min_steps_per_wvl = 24\n",
    "dl_sub = 0.1\n",
    "dl_cuboid = 0.015"
   ]
  },
  {
   "cell_type": "markdown",
   "metadata": {},
   "source": [
    "### Define source and monitor objects"
   ]
  },
  {
   "cell_type": "code",
   "execution_count": 3,
   "metadata": {},
   "outputs": [],
   "source": [
    "SOURCE_PLANEWV_NAME = 'source_planewave'\n",
    "FLUX_MONITOR_NAME = 'monitor_flux'\n",
    "FIELD_MONITOR_NAME = 'monitor_field'\n",
    "\n",
    "source_planewave = td.PlaneWave(\n",
    "    center=(0, 0, Lz/2 - 2*buffer_size),\n",
    "    source_time=td.GaussianPulse(freq0=freq0, fwidth=fwidth),\n",
    "    size=(td.inf, td.inf, 0),\n",
    "    direction='-',\n",
    "    pol_angle=0,\n",
    "    name=SOURCE_PLANEWV_NAME,\n",
    ")\n",
    "\n",
    "monitor_flux = td.FluxMonitor(\n",
    "    center=(0, 0, Lz/2 - buffer_size),\n",
    "    size=(td.inf, td.inf, 0),\n",
    "    freqs=monitor_freqs,\n",
    "    name=FLUX_MONITOR_NAME,\n",
    ")\n",
    "\n",
    "monitor_field = td.FieldMonitor(\n",
    "    center=(0, 0, Lz/2 - buffer_size),\n",
    "    size=(td.inf, td.inf, 0),\n",
    "    freqs=monitor_freqs,\n",
    "    name=FIELD_MONITOR_NAME,\n",
    "    colocate=False,\n",
    ")"
   ]
  },
  {
   "cell_type": "markdown",
   "metadata": {},
   "source": [
    "### Function to create the structure\n",
    "\n",
    "Parameter frame structure: \n",
    "\n",
    "| substrate thicknesses from bottom up | cuboid thicknesses from bottom up | cuboid length | cuboid width |\n",
    "| --- | --- | --- | --- |\n"
   ]
  },
  {
   "cell_type": "code",
   "execution_count": 4,
   "metadata": {},
   "outputs": [],
   "source": [
    "def make_dynamic_structures(design_info: anp.array) -> List[Structure]:\n",
    "    if design_info is None: return []\n",
    "\n",
    "    sub_thicknesses = design_info[:num_of_sub_layers]\n",
    "    cuboid_thicknesses = design_info[num_of_sub_layers:num_of_sub_layers + num_of_cuboid_layers]\n",
    "    cuboid_length = design_info[-2]\n",
    "    cuboid_width = design_info[-1]\n",
    "\n",
    "    # Substrate\n",
    "    substrate = []\n",
    "    z_center = -Lz/2 + buffer_size\n",
    "    for i in range(num_of_sub_layers):\n",
    "        z_center += sub_thicknesses[i] / 2 + (sub_thicknesses[i-1] / 2 if i > 0 else 0)\n",
    "        \n",
    "        substrate.append(\n",
    "            td.Structure(\n",
    "                geometry=td.Box(\n",
    "                    center=(0, 0, z_center),\n",
    "                    size=(td.inf, td.inf, sub_thicknesses[i]),\n",
    "                ),\n",
    "                medium=sub_materials[i],\n",
    "            )\n",
    "        )\n",
    "\n",
    "    z_center += sub_thicknesses[-1] / 2\n",
    "\n",
    "    # Cuboid\n",
    "    cuboid = []\n",
    "    for i in range(num_of_cuboid_layers):\n",
    "        z_center += cuboid_thicknesses[i] / 2 + (cuboid_thicknesses[i-1] / 2 if i > 0 else 0)\n",
    "        \n",
    "        cuboid.append(\n",
    "            td.Structure(\n",
    "                geometry=td.Box(\n",
    "                    center=(0, 0, z_center),\n",
    "                    size=(cuboid_length, cuboid_width, cuboid_thicknesses[i]),\n",
    "                ),\n",
    "                medium=cuboid_materials[i],\n",
    "            )\n",
    "        )\n",
    "\n",
    "    return substrate + cuboid\n",
    "\n",
    "def get_override_structure_v1(design_info: anp.array) -> List[MeshOverrideStructure]:\n",
    "    sub_thicknesses = design_info[:num_of_sub_layers]\n",
    "    cuboid_thicknesses = design_info[num_of_sub_layers:num_of_sub_layers + num_of_cuboid_layers]\n",
    "    cuboid_length = design_info[-2]\n",
    "    cuboid_width = design_info[-1]\n",
    "\n",
    "    sub_thickness = sum(sub_thicknesses)\n",
    "    cuboid_thickness = sum(cuboid_thicknesses)\n",
    "\n",
    "    override_structure_sub = td.MeshOverrideStructure(\n",
    "        geometry=td.Box(\n",
    "            center=(0, 0, -Lz/2 + buffer_size + sub_thickness/2),\n",
    "            size=(td.inf, td.inf, sub_thickness),\n",
    "        ),\n",
    "        dl=[dl_sub, dl_sub, dl_sub],\n",
    "    )\n",
    "\n",
    "    override_structure_cuboid = td.MeshOverrideStructure(\n",
    "        geometry=td.Box(\n",
    "            center=(0, 0, -Lz/2 + buffer_size + sub_thickness + cuboid_thickness/2),\n",
    "            size=(cuboid_length, cuboid_width, cuboid_thickness),\n",
    "        ),\n",
    "        dl=[dl_cuboid, dl_cuboid, dl_cuboid],\n",
    "    )\n",
    "\n",
    "    return [override_structure_sub, override_structure_cuboid]\n",
    "\n",
    "from autograd.tracer import getval\n",
    "\n",
    "def get_override_structure(design_info: anp.array) -> List[MeshOverrideStructure]:\n",
    "    sub_thicknesses = design_info[:num_of_sub_layers]\n",
    "    cuboid_thicknesses = design_info[num_of_sub_layers:num_of_sub_layers + num_of_cuboid_layers]\n",
    "    cuboid_length = design_info[-2]\n",
    "    cuboid_width = design_info[-1]\n",
    "\n",
    "    sub_thickness = sum(sub_thicknesses)\n",
    "    cuboid_thickness = sum(cuboid_thicknesses)\n",
    "\n",
    "    override_structure_sub = td.MeshOverrideStructure(\n",
    "        geometry=td.Box(\n",
    "            center=(0, 0, getval(-Lz/2 + buffer_size + sub_thickness/2)),\n",
    "            size=(td.inf, td.inf, getval(sub_thickness)),\n",
    "        ),\n",
    "        dl=[dl_sub, dl_sub, dl_sub],\n",
    "    )\n",
    "\n",
    "    override_structure_cuboid = td.MeshOverrideStructure(\n",
    "        geometry=td.Box(\n",
    "            center=(0, 0, getval(-Lz/2 + buffer_size + sub_thickness + cuboid_thickness/2)),\n",
    "            size=(getval(cuboid_length), getval(cuboid_width), getval(cuboid_thickness)),\n",
    "        ).to_static(),\n",
    "        dl=[dl_cuboid, dl_cuboid, dl_cuboid],\n",
    "    )\n",
    "   \n",
    "    return [override_structure_sub, override_structure_cuboid]"
   ]
  },
  {
   "cell_type": "markdown",
   "metadata": {},
   "source": [
    "### Function to create the simulation object"
   ]
  },
  {
   "cell_type": "code",
   "execution_count": 5,
   "metadata": {},
   "outputs": [],
   "source": [
    "def make_sim(design_info: anp.array) -> td.Simulation:\n",
    "    boundary_spec = td.BoundarySpec(\n",
    "        x=td.Boundary(minus=td.Periodic(), plus=td.Periodic()),\n",
    "        y=td.Boundary(minus=td.Periodic(), plus=td.Periodic()),\n",
    "        z=td.Boundary(minus=td.PML(), plus=td.PML()),\n",
    "    )\n",
    "\n",
    "    override_structures = get_override_structure(design_info)\n",
    "\n",
    "    grid_spec = td.GridSpec.auto(\n",
    "        wavelength=wvl0,\n",
    "        min_steps_per_wvl=min_steps_per_wvl,\n",
    "        override_structures=override_structures,\n",
    "    )\n",
    "\n",
    "    dynamic_structures = make_dynamic_structures(design_info)\n",
    "\n",
    "    sim = td.Simulation(\n",
    "        center=(0, 0, 0),\n",
    "        size=(Lx, Ly, Lz),\n",
    "        run_time=run_time,\n",
    "        boundary_spec=boundary_spec,\n",
    "        grid_spec=grid_spec,\n",
    "        structures=dynamic_structures,\n",
    "        sources=[source_planewave],\n",
    "        monitors=[monitor_field],\n",
    "        shutoff=shutoff,\n",
    "    )\n",
    "\n",
    "    return sim"
   ]
  },
  {
   "cell_type": "markdown",
   "metadata": {},
   "source": [
    "### Check point"
   ]
  },
  {
   "cell_type": "code",
   "execution_count": 6,
   "metadata": {},
   "outputs": [
    {
     "name": "stdout",
     "output_type": "stream",
     "text": [
      "random_sub_thicknesses: [0.18719898 0.10518525]\n",
      "random_cuboid_length: 2.319189946908902\n",
      "random_cuboid_width: 2.0447737422838648\n",
      "random_cuboid_thicknesses: [0.02340736 0.0216067  0.01909297 0.02738542 0.02099309 0.02033655\n",
      " 0.02742268 0.02558284 0.0176916  0.02527156]\n"
     ]
    },
    {
     "data": {
      "text/html": [
       "\n",
       "    <div class=\"simulation-viewer\" data-width=\"800\" data-height=\"800\" data-simulation=\"{&quot;attrs&quot;: {}, &quot;type&quot;: &quot;Simulation&quot;, &quot;center&quot;: [0.0, 0.0, 0.0], &quot;size&quot;: [3.5, 3.5, 11.225000000000001], &quot;medium&quot;: {&quot;attrs&quot;: {}, &quot;name&quot;: null, &quot;frequency_range&quot;: null, &quot;allow_gain&quot;: false, &quot;nonlinear_spec&quot;: null, &quot;modulation_spec&quot;: null, &quot;heat_spec&quot;: null, &quot;type&quot;: &quot;Medium&quot;, &quot;permittivity&quot;: 1.0, &quot;conductivity&quot;: 0.0}, &quot;structures&quot;: [{&quot;attrs&quot;: {}, &quot;geometry&quot;: {&quot;attrs&quot;: {}, &quot;type&quot;: &quot;Box&quot;, &quot;center&quot;: [0.0, 0.0, -3.1689005097858], &quot;size&quot;: [&quot;Infinity&quot;, &quot;Infinity&quot;, 0.18719898042840075]}, &quot;name&quot;: null, &quot;type&quot;: &quot;Structure&quot;, &quot;medium&quot;: {&quot;attrs&quot;: {}, &quot;name&quot;: null, &quot;frequency_range&quot;: [48359784845438.54, 1208994621135963.5], &quot;allow_gain&quot;: false, &quot;nonlinear_spec&quot;: null, &quot;modulation_spec&quot;: null, &quot;heat_spec&quot;: null, &quot;type&quot;: &quot;PoleResidue&quot;, &quot;eps_inf&quot;: 1.0, &quot;poles&quot;: [[{&quot;real&quot;: 0.0, &quot;imag&quot;: 0.0}, {&quot;real&quot;: 3.850528653318057e+17, &quot;imag&quot;: 0.0}], [{&quot;real&quot;: -72924837503814.11, &quot;imag&quot;: 0.0}, {&quot;real&quot;: -3.850528653318057e+17, &quot;imag&quot;: 0.0}], [{&quot;real&quot;: -10211922369538.5, &quot;imag&quot;: 0.0}, {&quot;real&quot;: 4280689317169589.5, &quot;imag&quot;: 0.0}], [{&quot;real&quot;: -6843203535540992.0, &quot;imag&quot;: 0.0}, {&quot;real&quot;: -4280689317169589.5, &quot;imag&quot;: 0.0}], [{&quot;real&quot;: -518328915630820.1, &quot;imag&quot;: 0.0}, {&quot;real&quot;: 3.988443595266849e+16, &quot;imag&quot;: 0.0}], [{&quot;real&quot;: -1508373859996013.5, &quot;imag&quot;: 0.0}, {&quot;real&quot;: -3.988443595266849e+16, &quot;imag&quot;: 0.0}], [{&quot;real&quot;: -1654482250867782.5, &quot;imag&quot;: -1774676068987181.8}, {&quot;real&quot;: 0.0, &quot;imag&quot;: 1.7470742743872058e+16}], [{&quot;real&quot;: -4779615391395816.0, &quot;imag&quot;: -7920412739409055.0}, {&quot;real&quot;: 0.0, &quot;imag&quot;: 2.692181349054443e+16}]]}}, {&quot;attrs&quot;: {}, &quot;geometry&quot;: {&quot;attrs&quot;: {}, &quot;type&quot;: &quot;Box&quot;, &quot;center&quot;: [0.0, 0.0, -3.0227083963888104], &quot;size&quot;: [&quot;Infinity&quot;, &quot;Infinity&quot;, 0.10518524636557827]}, &quot;name&quot;: null, &quot;type&quot;: &quot;Structure&quot;, &quot;medium&quot;: {&quot;attrs&quot;: {}, &quot;name&quot;: &quot;SiO2&quot;, &quot;frequency_range&quot;: null, &quot;allow_gain&quot;: false, &quot;nonlinear_spec&quot;: null, &quot;modulation_spec&quot;: null, &quot;heat_spec&quot;: null, &quot;type&quot;: &quot;Medium&quot;, &quot;permittivity&quot;: 3.9, &quot;conductivity&quot;: 0.0}}, {&quot;attrs&quot;: {}, &quot;geometry&quot;: {&quot;attrs&quot;: {}, &quot;type&quot;: &quot;Box&quot;, &quot;center&quot;: [0.0, 0.0, -2.9584120951851465], &quot;size&quot;: [2.319189946908902, 2.0447737422838648, 0.02340735604174978]}, &quot;name&quot;: null, &quot;type&quot;: &quot;Structure&quot;, &quot;medium&quot;: {&quot;attrs&quot;: {}, &quot;name&quot;: null, &quot;frequency_range&quot;: [48359784845438.54, 1208994621135963.5], &quot;allow_gain&quot;: false, &quot;nonlinear_spec&quot;: null, &quot;modulation_spec&quot;: null, &quot;heat_spec&quot;: null, &quot;type&quot;: &quot;PoleResidue&quot;, &quot;eps_inf&quot;: 1.0, &quot;poles&quot;: [[{&quot;real&quot;: 0.0, &quot;imag&quot;: 0.0}, {&quot;real&quot;: 3.850528653318057e+17, &quot;imag&quot;: 0.0}], [{&quot;real&quot;: -72924837503814.11, &quot;imag&quot;: 0.0}, {&quot;real&quot;: -3.850528653318057e+17, &quot;imag&quot;: 0.0}], [{&quot;real&quot;: -10211922369538.5, &quot;imag&quot;: 0.0}, {&quot;real&quot;: 4280689317169589.5, &quot;imag&quot;: 0.0}], [{&quot;real&quot;: -6843203535540992.0, &quot;imag&quot;: 0.0}, {&quot;real&quot;: -4280689317169589.5, &quot;imag&quot;: 0.0}], [{&quot;real&quot;: -518328915630820.1, &quot;imag&quot;: 0.0}, {&quot;real&quot;: 3.988443595266849e+16, &quot;imag&quot;: 0.0}], [{&quot;real&quot;: -1508373859996013.5, &quot;imag&quot;: 0.0}, {&quot;real&quot;: -3.988443595266849e+16, &quot;imag&quot;: 0.0}], [{&quot;real&quot;: -1654482250867782.5, &quot;imag&quot;: -1774676068987181.8}, {&quot;real&quot;: 0.0, &quot;imag&quot;: 1.7470742743872058e+16}], [{&quot;real&quot;: -4779615391395816.0, &quot;imag&quot;: -7920412739409055.0}, {&quot;real&quot;: 0.0, &quot;imag&quot;: 2.692181349054443e+16}]]}}, {&quot;attrs&quot;: {}, &quot;geometry&quot;: {&quot;attrs&quot;: {}, &quot;type&quot;: &quot;Box&quot;, &quot;center&quot;: [0.0, 0.0, -2.935905068954233], &quot;size&quot;: [2.319189946908902, 2.0447737422838648, 0.02160669642007748]}, &quot;name&quot;: null, &quot;type&quot;: &quot;Structure&quot;, &quot;medium&quot;: {&quot;attrs&quot;: {}, &quot;name&quot;: &quot;SiO2&quot;, &quot;frequency_range&quot;: null, &quot;allow_gain&quot;: false, &quot;nonlinear_spec&quot;: null, &quot;modulation_spec&quot;: null, &quot;heat_spec&quot;: null, &quot;type&quot;: &quot;Medium&quot;, &quot;permittivity&quot;: 3.9, &quot;conductivity&quot;: 0.0}}, {&quot;attrs&quot;: {}, &quot;geometry&quot;: {&quot;attrs&quot;: {}, &quot;type&quot;: &quot;Box&quot;, &quot;center&quot;: [0.0, 0.0, -2.915555234403816], &quot;size&quot;: [2.319189946908902, 2.0447737422838648, 0.01909297268075685]}, &quot;name&quot;: null, &quot;type&quot;: &quot;Structure&quot;, &quot;medium&quot;: {&quot;attrs&quot;: {}, &quot;name&quot;: null, &quot;frequency_range&quot;: [48359784845438.54, 1208994621135963.5], &quot;allow_gain&quot;: false, &quot;nonlinear_spec&quot;: null, &quot;modulation_spec&quot;: null, &quot;heat_spec&quot;: null, &quot;type&quot;: &quot;PoleResidue&quot;, &quot;eps_inf&quot;: 1.0, &quot;poles&quot;: [[{&quot;real&quot;: 0.0, &quot;imag&quot;: 0.0}, {&quot;real&quot;: 3.850528653318057e+17, &quot;imag&quot;: 0.0}], [{&quot;real&quot;: -72924837503814.11, &quot;imag&quot;: 0.0}, {&quot;real&quot;: -3.850528653318057e+17, &quot;imag&quot;: 0.0}], [{&quot;real&quot;: -10211922369538.5, &quot;imag&quot;: 0.0}, {&quot;real&quot;: 4280689317169589.5, &quot;imag&quot;: 0.0}], [{&quot;real&quot;: -6843203535540992.0, &quot;imag&quot;: 0.0}, {&quot;real&quot;: -4280689317169589.5, &quot;imag&quot;: 0.0}], [{&quot;real&quot;: -518328915630820.1, &quot;imag&quot;: 0.0}, {&quot;real&quot;: 3.988443595266849e+16, &quot;imag&quot;: 0.0}], [{&quot;real&quot;: -1508373859996013.5, &quot;imag&quot;: 0.0}, {&quot;real&quot;: -3.988443595266849e+16, &quot;imag&quot;: 0.0}], [{&quot;real&quot;: -1654482250867782.5, &quot;imag&quot;: -1774676068987181.8}, {&quot;real&quot;: 0.0, &quot;imag&quot;: 1.7470742743872058e+16}], [{&quot;real&quot;: -4779615391395816.0, &quot;imag&quot;: -7920412739409055.0}, {&quot;real&quot;: 0.0, &quot;imag&quot;: 2.692181349054443e+16}]]}}, {&quot;attrs&quot;: {}, &quot;geometry&quot;: {&quot;attrs&quot;: {}, &quot;type&quot;: &quot;Box&quot;, &quot;center&quot;: [0.0, 0.0, -2.892316038399931], &quot;size&quot;: [2.319189946908902, 2.0447737422838648, 0.027385419327013275]}, &quot;name&quot;: null, &quot;type&quot;: &quot;Structure&quot;, &quot;medium&quot;: {&quot;attrs&quot;: {}, &quot;name&quot;: &quot;SiO2&quot;, &quot;frequency_range&quot;: null, &quot;allow_gain&quot;: false, &quot;nonlinear_spec&quot;: null, &quot;modulation_spec&quot;: null, &quot;heat_spec&quot;: null, &quot;type&quot;: &quot;Medium&quot;, &quot;permittivity&quot;: 3.9, &quot;conductivity&quot;: 0.0}}, {&quot;attrs&quot;: {}, &quot;geometry&quot;: {&quot;attrs&quot;: {}, &quot;type&quot;: &quot;Box&quot;, &quot;center&quot;: [0.0, 0.0, -2.868126781999679], &quot;size&quot;: [2.319189946908902, 2.0447737422838648, 0.020993093473490463]}, &quot;name&quot;: null, &quot;type&quot;: &quot;Structure&quot;, &quot;medium&quot;: {&quot;attrs&quot;: {}, &quot;name&quot;: null, &quot;frequency_range&quot;: [48359784845438.54, 1208994621135963.5], &quot;allow_gain&quot;: false, &quot;nonlinear_spec&quot;: null, &quot;modulation_spec&quot;: null, &quot;heat_spec&quot;: null, &quot;type&quot;: &quot;PoleResidue&quot;, &quot;eps_inf&quot;: 1.0, &quot;poles&quot;: [[{&quot;real&quot;: 0.0, &quot;imag&quot;: 0.0}, {&quot;real&quot;: 3.850528653318057e+17, &quot;imag&quot;: 0.0}], [{&quot;real&quot;: -72924837503814.11, &quot;imag&quot;: 0.0}, {&quot;real&quot;: -3.850528653318057e+17, &quot;imag&quot;: 0.0}], [{&quot;real&quot;: -10211922369538.5, &quot;imag&quot;: 0.0}, {&quot;real&quot;: 4280689317169589.5, &quot;imag&quot;: 0.0}], [{&quot;real&quot;: -6843203535540992.0, &quot;imag&quot;: 0.0}, {&quot;real&quot;: -4280689317169589.5, &quot;imag&quot;: 0.0}], [{&quot;real&quot;: -518328915630820.1, &quot;imag&quot;: 0.0}, {&quot;real&quot;: 3.988443595266849e+16, &quot;imag&quot;: 0.0}], [{&quot;real&quot;: -1508373859996013.5, &quot;imag&quot;: 0.0}, {&quot;real&quot;: -3.988443595266849e+16, &quot;imag&quot;: 0.0}], [{&quot;real&quot;: -1654482250867782.5, &quot;imag&quot;: -1774676068987181.8}, {&quot;real&quot;: 0.0, &quot;imag&quot;: 1.7470742743872058e+16}], [{&quot;real&quot;: -4779615391395816.0, &quot;imag&quot;: -7920412739409055.0}, {&quot;real&quot;: 0.0, &quot;imag&quot;: 2.692181349054443e+16}]]}}, {&quot;attrs&quot;: {}, &quot;geometry&quot;: {&quot;attrs&quot;: {}, &quot;type&quot;: &quot;Box&quot;, &quot;center&quot;: [0.0, 0.0, -2.847461962511905], &quot;size&quot;: [2.319189946908902, 2.0447737422838648, 0.020336545502057334]}, &quot;name&quot;: null, &quot;type&quot;: &quot;Structure&quot;, &quot;medium&quot;: {&quot;attrs&quot;: {}, &quot;name&quot;: &quot;SiO2&quot;, &quot;frequency_range&quot;: null, &quot;allow_gain&quot;: false, &quot;nonlinear_spec&quot;: null, &quot;modulation_spec&quot;: null, &quot;heat_spec&quot;: null, &quot;type&quot;: &quot;Medium&quot;, &quot;permittivity&quot;: 3.9, &quot;conductivity&quot;: 0.0}}, {&quot;attrs&quot;: {}, &quot;geometry&quot;: {&quot;attrs&quot;: {}, &quot;type&quot;: &quot;Box&quot;, &quot;center&quot;: [0.0, 0.0, -2.823582351433183], &quot;size&quot;: [2.319189946908902, 2.0447737422838648, 0.0274226766553859]}, &quot;name&quot;: null, &quot;type&quot;: &quot;Structure&quot;, &quot;medium&quot;: {&quot;attrs&quot;: {}, &quot;name&quot;: null, &quot;frequency_range&quot;: [48359784845438.54, 1208994621135963.5], &quot;allow_gain&quot;: false, &quot;nonlinear_spec&quot;: null, &quot;modulation_spec&quot;: null, &quot;heat_spec&quot;: null, &quot;type&quot;: &quot;PoleResidue&quot;, &quot;eps_inf&quot;: 1.0, &quot;poles&quot;: [[{&quot;real&quot;: 0.0, &quot;imag&quot;: 0.0}, {&quot;real&quot;: 3.850528653318057e+17, &quot;imag&quot;: 0.0}], [{&quot;real&quot;: -72924837503814.11, &quot;imag&quot;: 0.0}, {&quot;real&quot;: -3.850528653318057e+17, &quot;imag&quot;: 0.0}], [{&quot;real&quot;: -10211922369538.5, &quot;imag&quot;: 0.0}, {&quot;real&quot;: 4280689317169589.5, &quot;imag&quot;: 0.0}], [{&quot;real&quot;: -6843203535540992.0, &quot;imag&quot;: 0.0}, {&quot;real&quot;: -4280689317169589.5, &quot;imag&quot;: 0.0}], [{&quot;real&quot;: -518328915630820.1, &quot;imag&quot;: 0.0}, {&quot;real&quot;: 3.988443595266849e+16, &quot;imag&quot;: 0.0}], [{&quot;real&quot;: -1508373859996013.5, &quot;imag&quot;: 0.0}, {&quot;real&quot;: -3.988443595266849e+16, &quot;imag&quot;: 0.0}], [{&quot;real&quot;: -1654482250867782.5, &quot;imag&quot;: -1774676068987181.8}, {&quot;real&quot;: 0.0, &quot;imag&quot;: 1.7470742743872058e+16}], [{&quot;real&quot;: -4779615391395816.0, &quot;imag&quot;: -7920412739409055.0}, {&quot;real&quot;: 0.0, &quot;imag&quot;: 2.692181349054443e+16}]]}}, {&quot;attrs&quot;: {}, &quot;geometry&quot;: {&quot;attrs&quot;: {}, &quot;type&quot;: &quot;Box&quot;, &quot;center&quot;: [0.0, 0.0, -2.79707959216272], &quot;size&quot;: [2.319189946908902, 2.0447737422838648, 0.02558284188554078]}, &quot;name&quot;: null, &quot;type&quot;: &quot;Structure&quot;, &quot;medium&quot;: {&quot;attrs&quot;: {}, &quot;name&quot;: &quot;SiO2&quot;, &quot;frequency_range&quot;: null, &quot;allow_gain&quot;: false, &quot;nonlinear_spec&quot;: null, &quot;modulation_spec&quot;: null, &quot;heat_spec&quot;: null, &quot;type&quot;: &quot;Medium&quot;, &quot;permittivity&quot;: 3.9, &quot;conductivity&quot;: 0.0}}, {&quot;attrs&quot;: {}, &quot;geometry&quot;: {&quot;attrs&quot;: {}, &quot;type&quot;: &quot;Box&quot;, &quot;center&quot;: [0.0, 0.0, -2.7754423717665], &quot;size&quot;: [2.319189946908902, 2.0447737422838648, 0.01769159890689867]}, &quot;name&quot;: null, &quot;type&quot;: &quot;Structure&quot;, &quot;medium&quot;: {&quot;attrs&quot;: {}, &quot;name&quot;: null, &quot;frequency_range&quot;: [48359784845438.54, 1208994621135963.5], &quot;allow_gain&quot;: false, &quot;nonlinear_spec&quot;: null, &quot;modulation_spec&quot;: null, &quot;heat_spec&quot;: null, &quot;type&quot;: &quot;PoleResidue&quot;, &quot;eps_inf&quot;: 1.0, &quot;poles&quot;: [[{&quot;real&quot;: 0.0, &quot;imag&quot;: 0.0}, {&quot;real&quot;: 3.850528653318057e+17, &quot;imag&quot;: 0.0}], [{&quot;real&quot;: -72924837503814.11, &quot;imag&quot;: 0.0}, {&quot;real&quot;: -3.850528653318057e+17, &quot;imag&quot;: 0.0}], [{&quot;real&quot;: -10211922369538.5, &quot;imag&quot;: 0.0}, {&quot;real&quot;: 4280689317169589.5, &quot;imag&quot;: 0.0}], [{&quot;real&quot;: -6843203535540992.0, &quot;imag&quot;: 0.0}, {&quot;real&quot;: -4280689317169589.5, &quot;imag&quot;: 0.0}], [{&quot;real&quot;: -518328915630820.1, &quot;imag&quot;: 0.0}, {&quot;real&quot;: 3.988443595266849e+16, &quot;imag&quot;: 0.0}], [{&quot;real&quot;: -1508373859996013.5, &quot;imag&quot;: 0.0}, {&quot;real&quot;: -3.988443595266849e+16, &quot;imag&quot;: 0.0}], [{&quot;real&quot;: -1654482250867782.5, &quot;imag&quot;: -1774676068987181.8}, {&quot;real&quot;: 0.0, &quot;imag&quot;: 1.7470742743872058e+16}], [{&quot;real&quot;: -4779615391395816.0, &quot;imag&quot;: -7920412739409055.0}, {&quot;real&quot;: 0.0, &quot;imag&quot;: 2.692181349054443e+16}]]}}, {&quot;attrs&quot;: {}, &quot;geometry&quot;: {&quot;attrs&quot;: {}, &quot;type&quot;: &quot;Box&quot;, &quot;center&quot;: [0.0, 0.0, -2.7539607911003934], &quot;size&quot;: [2.319189946908902, 2.0447737422838648, 0.02527156242531493]}, &quot;name&quot;: null, &quot;type&quot;: &quot;Structure&quot;, &quot;medium&quot;: {&quot;attrs&quot;: {}, &quot;name&quot;: &quot;SiO2&quot;, &quot;frequency_range&quot;: null, &quot;allow_gain&quot;: false, &quot;nonlinear_spec&quot;: null, &quot;modulation_spec&quot;: null, &quot;heat_spec&quot;: null, &quot;type&quot;: &quot;Medium&quot;, &quot;permittivity&quot;: 3.9, &quot;conductivity&quot;: 0.0}}], &quot;symmetry&quot;: [0, 0, 0], &quot;sources&quot;: [{&quot;attrs&quot;: {}, &quot;name&quot;: &quot;source_planewave&quot;, &quot;type&quot;: &quot;PlaneWave&quot;, &quot;center&quot;: [0.0, 0.0, 0.9125000000000005], &quot;size&quot;: [&quot;Infinity&quot;, &quot;Infinity&quot;, 0.0], &quot;source_time&quot;: {&quot;attrs&quot;: {}, &quot;amplitude&quot;: 1.0, &quot;phase&quot;: 0.0, &quot;type&quot;: &quot;GaussianPulse&quot;, &quot;freq0&quot;: 127571258723404.25, &quot;fwidth&quot;: 6378562936170.213, &quot;offset&quot;: 5.0, &quot;remove_dc_component&quot;: true}, &quot;direction&quot;: &quot;-&quot;, &quot;angle_theta&quot;: 0.0, &quot;angle_phi&quot;: 0.0, &quot;pol_angle&quot;: 0.0}], &quot;boundary_spec&quot;: {&quot;attrs&quot;: {}, &quot;x&quot;: {&quot;attrs&quot;: {}, &quot;plus&quot;: {&quot;attrs&quot;: {}, &quot;name&quot;: null, &quot;type&quot;: &quot;Periodic&quot;}, &quot;minus&quot;: {&quot;attrs&quot;: {}, &quot;name&quot;: null, &quot;type&quot;: &quot;Periodic&quot;}, &quot;type&quot;: &quot;Boundary&quot;}, &quot;y&quot;: {&quot;attrs&quot;: {}, &quot;plus&quot;: {&quot;attrs&quot;: {}, &quot;name&quot;: null, &quot;type&quot;: &quot;Periodic&quot;}, &quot;minus&quot;: {&quot;attrs&quot;: {}, &quot;name&quot;: null, &quot;type&quot;: &quot;Periodic&quot;}, &quot;type&quot;: &quot;Boundary&quot;}, &quot;z&quot;: {&quot;attrs&quot;: {}, &quot;plus&quot;: {&quot;attrs&quot;: {}, &quot;name&quot;: null, &quot;type&quot;: &quot;PML&quot;, &quot;num_layers&quot;: 12, &quot;parameters&quot;: {&quot;attrs&quot;: {}, &quot;sigma_order&quot;: 3, &quot;sigma_min&quot;: 0.0, &quot;sigma_max&quot;: 1.5, &quot;type&quot;: &quot;PMLParams&quot;, &quot;kappa_order&quot;: 3, &quot;kappa_min&quot;: 1.0, &quot;kappa_max&quot;: 3.0, &quot;alpha_order&quot;: 1, &quot;alpha_min&quot;: 0.0, &quot;alpha_max&quot;: 0.0}}, &quot;minus&quot;: {&quot;attrs&quot;: {}, &quot;name&quot;: null, &quot;type&quot;: &quot;PML&quot;, &quot;num_layers&quot;: 12, &quot;parameters&quot;: {&quot;attrs&quot;: {}, &quot;sigma_order&quot;: 3, &quot;sigma_min&quot;: 0.0, &quot;sigma_max&quot;: 1.5, &quot;type&quot;: &quot;PMLParams&quot;, &quot;kappa_order&quot;: 3, &quot;kappa_min&quot;: 1.0, &quot;kappa_max&quot;: 3.0, &quot;alpha_order&quot;: 1, &quot;alpha_min&quot;: 0.0, &quot;alpha_max&quot;: 0.0}}, &quot;type&quot;: &quot;Boundary&quot;}, &quot;type&quot;: &quot;BoundarySpec&quot;}, &quot;monitors&quot;: [{&quot;attrs&quot;: {}, &quot;type&quot;: &quot;FieldMonitor&quot;, &quot;center&quot;: [0.0, 0.0, 3.2625000000000006], &quot;size&quot;: [&quot;Infinity&quot;, &quot;Infinity&quot;, 0.0], &quot;name&quot;: &quot;monitor_field&quot;, &quot;interval_space&quot;: [1, 1, 1], &quot;colocate&quot;: false, &quot;freqs&quot;: [127571258723404.25], &quot;apodization&quot;: {&quot;attrs&quot;: {}, &quot;start&quot;: null, &quot;end&quot;: null, &quot;width&quot;: null, &quot;type&quot;: &quot;ApodizationSpec&quot;}, &quot;fields&quot;: [&quot;Ex&quot;, &quot;Ey&quot;, &quot;Ez&quot;, &quot;Hx&quot;, &quot;Hy&quot;, &quot;Hz&quot;]}], &quot;grid_spec&quot;: {&quot;attrs&quot;: {}, &quot;grid_x&quot;: {&quot;attrs&quot;: {}, &quot;type&quot;: &quot;AutoGrid&quot;, &quot;min_steps_per_wvl&quot;: 24.0, &quot;max_scale&quot;: 1.4, &quot;dl_min&quot;: 0.0, &quot;mesher&quot;: {&quot;attrs&quot;: {}, &quot;type&quot;: &quot;GradedMesher&quot;}}, &quot;grid_y&quot;: {&quot;attrs&quot;: {}, &quot;type&quot;: &quot;AutoGrid&quot;, &quot;min_steps_per_wvl&quot;: 24.0, &quot;max_scale&quot;: 1.4, &quot;dl_min&quot;: 0.0, &quot;mesher&quot;: {&quot;attrs&quot;: {}, &quot;type&quot;: &quot;GradedMesher&quot;}}, &quot;grid_z&quot;: {&quot;attrs&quot;: {}, &quot;type&quot;: &quot;AutoGrid&quot;, &quot;min_steps_per_wvl&quot;: 24.0, &quot;max_scale&quot;: 1.4, &quot;dl_min&quot;: 0.0, &quot;mesher&quot;: {&quot;attrs&quot;: {}, &quot;type&quot;: &quot;GradedMesher&quot;}}, &quot;wavelength&quot;: 2.35, &quot;override_structures&quot;: [{&quot;attrs&quot;: {}, &quot;geometry&quot;: {&quot;attrs&quot;: {}, &quot;type&quot;: &quot;Box&quot;, &quot;center&quot;: [0.0, 0.0, -3.116307886603011], &quot;size&quot;: [&quot;Infinity&quot;, &quot;Infinity&quot;, 0.292384226793979]}, &quot;name&quot;: null, &quot;type&quot;: &quot;MeshOverrideStructure&quot;, &quot;dl&quot;: [0.1, 0.1, 0.1], &quot;enforce&quot;: false}, {&quot;attrs&quot;: {}, &quot;geometry&quot;: {&quot;attrs&quot;: {}, &quot;type&quot;: &quot;Box&quot;, &quot;center&quot;: [0.0, 0.0, -2.855720391546879], &quot;size&quot;: [2.319189946908902, 2.0447737422838648, 0.22879076331828543]}, &quot;name&quot;: null, &quot;type&quot;: &quot;MeshOverrideStructure&quot;, &quot;dl&quot;: [0.015, 0.015, 0.015], &quot;enforce&quot;: false}], &quot;snapping_points&quot;: [], &quot;type&quot;: &quot;GridSpec&quot;}, &quot;version&quot;: &quot;2.7.2&quot;, &quot;lumped_elements&quot;: [], &quot;subpixel&quot;: {&quot;attrs&quot;: {}, &quot;dielectric&quot;: {&quot;attrs&quot;: {}, &quot;type&quot;: &quot;PolarizedAveraging&quot;}, &quot;metal&quot;: {&quot;attrs&quot;: {}, &quot;type&quot;: &quot;Staircasing&quot;}, &quot;pec&quot;: {&quot;attrs&quot;: {}, &quot;type&quot;: &quot;PECConformal&quot;, &quot;timestep_reduction&quot;: 0.3}, &quot;type&quot;: &quot;SubpixelSpec&quot;}, &quot;simulation_type&quot;: null, &quot;courant&quot;: 0.99, &quot;normalize_index&quot;: 0, &quot;shutoff&quot;: 1e-05, &quot;run_time&quot;: 7.838756237156573e-12}\" />\n",
       "    <script>\n",
       "        \n",
       "        /**\n",
       "        * Simulation Viewer Injector\n",
       "        *\n",
       "        * Monitors the document for elements being added in the form:\n",
       "        *\n",
       "        *    <div class=\"simulation-viewer\" data-width=\"800\" data-height=\"800\" data-simulation=\"{...}\" />\n",
       "        *\n",
       "        * This script will then inject an iframe to the viewer application, and pass it the simulation data\n",
       "        * via the postMessage API on request. The script may be safely included multiple times, with only the\n",
       "        * configuration of the first started script (e.g. viewer URL) applying.\n",
       "        *\n",
       "        */\n",
       "        (function() {\n",
       "            const TARGET_CLASS = \"simulation-viewer\";\n",
       "            const ACTIVE_CLASS = \"simulation-viewer-active\";\n",
       "            const VIEWER_URL = \"https://feature-simulation-viewer.d3a9gfg7glllfq.amplifyapp.com/simulation-viewer\";\n",
       "\n",
       "            class SimulationViewerInjector {\n",
       "                constructor() {\n",
       "                    for (var node of document.getElementsByClassName(TARGET_CLASS)) {\n",
       "                        this.injectViewer(node);\n",
       "                    }\n",
       "\n",
       "                    // Monitor for newly added nodes to the DOM\n",
       "                    this.observer = new MutationObserver(this.onMutations.bind(this));\n",
       "                    this.observer.observe(document.body, {childList: true, subtree: true});\n",
       "                }\n",
       "\n",
       "                onMutations(mutations) {\n",
       "                    for (var mutation of mutations) {\n",
       "                        if (mutation.type === 'childList') {\n",
       "                            /**\n",
       "                            * Have found that adding the element does not reliably trigger the mutation observer.\n",
       "                            * It may be the case that setting content with innerHTML does not trigger.\n",
       "                            *\n",
       "                            * It seems to be sufficient to re-scan the document for un-activated viewers\n",
       "                            * whenever an event occurs, as Jupyter triggers multiple events on cell evaluation.\n",
       "                            */\n",
       "                            var viewers = document.getElementsByClassName(TARGET_CLASS);\n",
       "                            for (var node of viewers) {\n",
       "                                this.injectViewer(node);\n",
       "                            }\n",
       "                        }\n",
       "                    }\n",
       "                }\n",
       "\n",
       "                injectViewer(node) {\n",
       "                    // (re-)check that this is a valid simulation container and has not already been injected\n",
       "                    if (node.classList.contains(TARGET_CLASS) && !node.classList.contains(ACTIVE_CLASS)) {\n",
       "                        // Mark node as injected, to prevent re-runs\n",
       "                        node.classList.add(ACTIVE_CLASS);\n",
       "\n",
       "                        var uuid;\n",
       "                        if (window.crypto && window.crypto.randomUUID) {\n",
       "                            uuid = window.crypto.randomUUID();\n",
       "                        } else {\n",
       "                            uuid = \"\" + Math.random();\n",
       "                        }\n",
       "\n",
       "                        var frame = document.createElement(\"iframe\");\n",
       "                        frame.width = node.dataset.width || 800;\n",
       "                        frame.height = node.dataset.height || 800;\n",
       "                        frame.src = VIEWER_URL + \"?uuid=\" + uuid;\n",
       "\n",
       "                        var postMessageToViewer;\n",
       "                        postMessageToViewer = event => {{\n",
       "                            if(event.data.type === 'viewer' && event.data.uuid===uuid){{\n",
       "                                var simulation = JSON.parse(node.dataset.simulation);\n",
       "                                frame.contentWindow.postMessage({ type: 'jupyter', uuid, value: simulation}, '*');\n",
       "\n",
       "                                // Run once only\n",
       "                                window.removeEventListener('message', postMessageToViewer);\n",
       "                            }}\n",
       "                        }};\n",
       "                        window.addEventListener(\n",
       "                            'message',\n",
       "                            postMessageToViewer,\n",
       "                            false\n",
       "                        );\n",
       "\n",
       "                        node.appendChild(frame);\n",
       "                    }\n",
       "                }\n",
       "            }\n",
       "\n",
       "            if (!window.simulationViewerInjector) {\n",
       "                window.simulationViewerInjector = new SimulationViewerInjector();\n",
       "            }\n",
       "        })();\n",
       "    \n",
       "    </script>\n",
       "    "
      ],
      "text/plain": [
       "<IPython.core.display.HTML object>"
      ]
     },
     "metadata": {},
     "output_type": "display_data"
    },
    {
     "data": {
      "text/html": [
       "<pre style=\"white-space:pre;overflow-x:auto;line-height:normal;font-family:Menlo,'DejaVu Sans Mono',consolas,'Courier New',monospace\"><span style=\"color: #7fbfbf; text-decoration-color: #7fbfbf\">18:46:30 BST </span>Created task <span style=\"color: #008000; text-decoration-color: #008000\">'week08_design_credit_estimation'</span> with task_id        \n",
       "<span style=\"color: #7fbfbf; text-decoration-color: #7fbfbf\">             </span><span style=\"color: #008000; text-decoration-color: #008000\">'fdve-28019aa4-047d-43be-9dbd-9156badaf353'</span> and task_type <span style=\"color: #008000; text-decoration-color: #008000\">'FDTD'</span>.  \n",
       "</pre>\n"
      ],
      "text/plain": [
       "\u001b[2;36m18:46:30 BST\u001b[0m\u001b[2;36m \u001b[0mCreated task \u001b[32m'week08_design_credit_estimation'\u001b[0m with task_id        \n",
       "\u001b[2;36m             \u001b[0m\u001b[32m'fdve-28019aa4-047d-43be-9dbd-9156badaf353'\u001b[0m and task_type \u001b[32m'FDTD'\u001b[0m.  \n"
      ]
     },
     "metadata": {},
     "output_type": "display_data"
    },
    {
     "data": {
      "text/html": [
       "<pre style=\"white-space:pre;overflow-x:auto;line-height:normal;font-family:Menlo,'DejaVu Sans Mono',consolas,'Courier New',monospace\"><span style=\"color: #7fbfbf; text-decoration-color: #7fbfbf\">             </span>View task using web UI at                                          \n",
       "<span style=\"color: #7fbfbf; text-decoration-color: #7fbfbf\">             </span><a href=\"https://tidy3d.simulation.cloud/workbench?taskId=fdve-28019aa4-047d-43be-9dbd-9156badaf353\" target=\"_blank\"><span style=\"color: #008000; text-decoration-color: #008000\">'https://tidy3d.simulation.cloud/workbench?taskId=fdve-28019aa4-047</span></a>\n",
       "<span style=\"color: #7fbfbf; text-decoration-color: #7fbfbf\">             </span><a href=\"https://tidy3d.simulation.cloud/workbench?taskId=fdve-28019aa4-047d-43be-9dbd-9156badaf353\" target=\"_blank\"><span style=\"color: #008000; text-decoration-color: #008000\">d-43be-9dbd-9156badaf353'</span></a>.                                         \n",
       "</pre>\n"
      ],
      "text/plain": [
       "\u001b[2;36m            \u001b[0m\u001b[2;36m \u001b[0mView task using web UI at                                          \n",
       "\u001b[2;36m             \u001b[0m\u001b]8;id=332857;https://tidy3d.simulation.cloud/workbench?taskId=fdve-28019aa4-047d-43be-9dbd-9156badaf353\u001b\\\u001b[32m'https://tidy3d.simulation.cloud/workbench?\u001b[0m\u001b]8;;\u001b\\\u001b]8;id=876267;https://tidy3d.simulation.cloud/workbench?taskId=fdve-28019aa4-047d-43be-9dbd-9156badaf353\u001b\\\u001b[32mtaskId\u001b[0m\u001b]8;;\u001b\\\u001b]8;id=332857;https://tidy3d.simulation.cloud/workbench?taskId=fdve-28019aa4-047d-43be-9dbd-9156badaf353\u001b\\\u001b[32m=\u001b[0m\u001b]8;;\u001b\\\u001b]8;id=40242;https://tidy3d.simulation.cloud/workbench?taskId=fdve-28019aa4-047d-43be-9dbd-9156badaf353\u001b\\\u001b[32mfdve\u001b[0m\u001b]8;;\u001b\\\u001b]8;id=332857;https://tidy3d.simulation.cloud/workbench?taskId=fdve-28019aa4-047d-43be-9dbd-9156badaf353\u001b\\\u001b[32m-28019aa4-047\u001b[0m\u001b]8;;\u001b\\\n",
       "\u001b[2;36m             \u001b[0m\u001b]8;id=332857;https://tidy3d.simulation.cloud/workbench?taskId=fdve-28019aa4-047d-43be-9dbd-9156badaf353\u001b\\\u001b[32md-43be-9dbd-9156badaf353'\u001b[0m\u001b]8;;\u001b\\.                                         \n"
      ]
     },
     "metadata": {},
     "output_type": "display_data"
    },
    {
     "data": {
      "application/vnd.jupyter.widget-view+json": {
       "model_id": "974123977eef4ea9a2bb49b162f5745f",
       "version_major": 2,
       "version_minor": 0
      },
      "text/plain": [
       "Output()"
      ]
     },
     "metadata": {},
     "output_type": "display_data"
    },
    {
     "data": {
      "text/html": [
       "<pre style=\"white-space:pre;overflow-x:auto;line-height:normal;font-family:Menlo,'DejaVu Sans Mono',consolas,'Courier New',monospace\"></pre>\n"
      ],
      "text/plain": []
     },
     "metadata": {},
     "output_type": "display_data"
    },
    {
     "data": {
      "text/html": [
       "<pre style=\"white-space:pre;overflow-x:auto;line-height:normal;font-family:Menlo,'DejaVu Sans Mono',consolas,'Courier New',monospace\">\n",
       "</pre>\n"
      ],
      "text/plain": [
       "\n"
      ]
     },
     "metadata": {},
     "output_type": "display_data"
    },
    {
     "data": {
      "text/html": [
       "<pre style=\"white-space:pre;overflow-x:auto;line-height:normal;font-family:Menlo,'DejaVu Sans Mono',consolas,'Courier New',monospace\"><span style=\"color: #7fbfbf; text-decoration-color: #7fbfbf\">18:46:38 BST </span>Maximum FlexCredit cost: <span style=\"color: #008080; text-decoration-color: #008080; font-weight: bold\">0.516</span>. Minimum cost depends on task       \n",
       "<span style=\"color: #7fbfbf; text-decoration-color: #7fbfbf\">             </span>execution details. Use <span style=\"color: #008000; text-decoration-color: #008000\">'web.real_cost(task_id)'</span> to get the billed  \n",
       "<span style=\"color: #7fbfbf; text-decoration-color: #7fbfbf\">             </span>FlexCredit cost after a simulation run.                            \n",
       "</pre>\n"
      ],
      "text/plain": [
       "\u001b[2;36m18:46:38 BST\u001b[0m\u001b[2;36m \u001b[0mMaximum FlexCredit cost: \u001b[1;36m0.516\u001b[0m. Minimum cost depends on task       \n",
       "\u001b[2;36m             \u001b[0mexecution details. Use \u001b[32m'web.real_cost\u001b[0m\u001b[32m(\u001b[0m\u001b[32mtask_id\u001b[0m\u001b[32m)\u001b[0m\u001b[32m'\u001b[0m to get the billed  \n",
       "\u001b[2;36m             \u001b[0mFlexCredit cost after a simulation run.                            \n"
      ]
     },
     "metadata": {},
     "output_type": "display_data"
    },
    {
     "name": "stdout",
     "output_type": "stream",
     "text": [
      "Estimated cost: 0.516325355657954\n"
     ]
    }
   ],
   "source": [
    "anp.random.seed(2)\n",
    "\n",
    "random_sub_thicknesses = anp.random.uniform(sub_metal_min_thickness, sub_metal_max_thickness, num_of_sub_layers)\n",
    "random_cuboid_length = anp.random.uniform(cuboid_min_length, cuboid_max_length)\n",
    "random_cuboid_width = anp.random.uniform(cuboid_min_width, cuboid_max_width)\n",
    "random_cuboid_thicknesses = anp.random.uniform(cuboid_metal_min_thickness, cuboid_metal_max_thickness, num_of_cuboid_layers)\n",
    "random_design_info = anp.concatenate([random_sub_thicknesses, random_cuboid_thicknesses, [random_cuboid_length, random_cuboid_width]])\n",
    "\n",
    "random_sim = make_sim(random_design_info)\n",
    "\n",
    "print(f\"random_sub_thicknesses: {random_sub_thicknesses}\")\n",
    "print(f\"random_cuboid_length: {random_cuboid_length}\")\n",
    "print(f\"random_cuboid_width: {random_cuboid_width}\")\n",
    "print(f\"random_cuboid_thicknesses: {random_cuboid_thicknesses}\")\n",
    "\n",
    "random_sim.plot_3d()\n",
    "plt.show()\n",
    "\n",
    "job_random_sim = td.web.Job(simulation=random_sim, task_name='week08_design_credit_estimation', verbose=True)\n",
    "estimated_cost = td.web.estimate_cost(job_random_sim.task_id)\n",
    "print(f\"Estimated cost: {estimated_cost}\")"
   ]
  },
  {
   "cell_type": "markdown",
   "metadata": {},
   "source": [
    "## Objective Function\n",
    "\n",
    "### Define the target"
   ]
  },
  {
   "cell_type": "code",
   "execution_count": 7,
   "metadata": {},
   "outputs": [
    {
     "name": "stdout",
     "output_type": "stream",
     "text": [
      "wvl_min:  2.23, wvl_max:  2.48\n"
     ]
    },
    {
     "data": {
      "image/png": "[encoded data removed]",
      "text/plain": [
       "<Figure size 640x480 with 1 Axes>"
      ]
     },
     "metadata": {},
     "output_type": "display_data"
    }
   ],
   "source": [
    "def target() -> anp.array:\n",
    "    wvl_min = wvl0 - bandwidth / 2.0\n",
    "    wvl_max = wvl0 + bandwidth / 2.0\n",
    "    target = anp.where(anp.logical_and(wvls >= wvl_min, wvls <= wvl_max), 0.0, 1.0)\n",
    "    print(f\"wvl_min: {wvl_min: .2f}, wvl_max: {wvl_max: .2f}\")\n",
    "    return target\n",
    "\n",
    "plt.scatter(wvls, target())\n",
    "plt.xlabel('Wavelength (um)')\n",
    "plt.ylabel('Reflection')\n",
    "plt.title('Target Spectrum')\n",
    "plt.show()"
   ]
  },
  {
   "cell_type": "code",
   "execution_count": 8,
   "metadata": {},
   "outputs": [],
   "source": [
    "def evaluate_flux_error_MAE(flux: anp.array) -> float:\n",
    "    error = anp.sum(anp.abs(flux - target())) / wvl_points\n",
    "    return error\n",
    "\n",
    "def evaluate_flux_error_MSE(flux: anp.array) -> float:\n",
    "    error = anp.sum((flux - target())**2) / wvl_points\n",
    "    return error"
   ]
  },
  {
   "cell_type": "markdown",
   "metadata": {},
   "source": [
    "### Convert param to design information\n",
    "\n",
    "Projector equation: \n",
    "\n",
    "$$\n",
    "\\text{value} = v_{min} + (v_{max} - v_{min}) * \\frac{\\tanh(\\beta \\eta) + \\tanh(\\beta (x-\\eta))}{\\tanh(\\beta \\eta) + \\tanh(\\beta (1-\\eta))}\n",
    "$$"
   ]
  },
  {
   "cell_type": "code",
   "execution_count": 9,
   "metadata": {},
   "outputs": [],
   "source": [
    "def projector(x: anp.array, vmin: float, vmax: float, beta: float=1.0, eta: float=0.5) -> anp.array:\n",
    "    value = vmin + (vmax - vmin) * (anp.tanh(beta*eta) + anp.tanh(beta*(x-eta))) / (anp.tanh(beta*eta) + anp.tanh(beta*(1-eta)))\n",
    "    return value"
   ]
  },
  {
   "cell_type": "code",
   "execution_count": 10,
   "metadata": {},
   "outputs": [],
   "source": [
    "def params_to_design_info_custom(params: anp.array) -> anp.array:\n",
    "    if params is None: return None\n",
    "\n",
    "    # Extract the parameters\n",
    "    param_sub_thicknesses = params[:num_of_sub_layers]\n",
    "    param_cuboid_thicknesses = params[num_of_sub_layers:num_of_sub_layers + num_of_cuboid_layers]\n",
    "    param_cuboid_length = params[-2]\n",
    "    param_cuboid_width = params[-1]\n",
    "\n",
    "    # Scale the parameters\n",
    "    # Substrate thicknesses\n",
    "    sub_thicknesses = anp.zeros(num_of_sub_layers)\n",
    "    for i in range(num_of_sub_layers):\n",
    "        sub_thicknesses[i] = projector(param_sub_thicknesses[i], sub_thickness_constraints_min[i], sub_thickness_constraints_max[i])\n",
    "        print(f\"sub_thicknesses[{i}]: {sub_thicknesses[i]}\")\n",
    "    \n",
    "\n",
    "    # Cuboid thicknesses\n",
    "    cuboid_thicknesses = anp.zeros(num_of_cuboid_layers)\n",
    "    for i in range(num_of_cuboid_layers):\n",
    "        cuboid_thicknesses[i] = projector(param_cuboid_thicknesses[i], cuboid_thickness_constraints_min[i], cuboid_thickness_constraints_max[i])\n",
    "        print(f\"cuboid_thicknesses[{i}]: {cuboid_thicknesses[i]}\")\n",
    "\n",
    "    # Cuboid length\n",
    "    cuboid_length = projector(param_cuboid_length, cuboid_min_length, cuboid_max_length)\n",
    "\n",
    "    # Cuboid width\n",
    "    cuboid_width = projector(param_cuboid_width, cuboid_min_width, cuboid_max_width)\n",
    "\n",
    "    return anp.concatenate([sub_thicknesses, cuboid_thicknesses, [cuboid_length, cuboid_width]])\n",
    "\n",
    "def params_to_design_info(params: anp.array) -> anp.array:\n",
    "    if params is None: return None\n",
    "    # return params\n",
    "\n",
    "    # Extract the parameters\n",
    "    param_sub_thicknesses = params[:num_of_sub_layers]\n",
    "    param_cuboid_thicknesses = params[num_of_sub_layers:num_of_sub_layers + num_of_cuboid_layers]\n",
    "    param_cuboid_length = params[-2]\n",
    "    param_cuboid_width = params[-1]\n",
    "\n",
    "    # Set the constraints (temporary)\n",
    "    sub_min = 0.1\n",
    "    sub_max = 0.35\n",
    "    cub_min = 0.015\n",
    "    cub_max = 0.2\n",
    "\n",
    "    # Scale the parameters\n",
    "    # Substrate thicknesses\n",
    "    substrate_thicknesses = tanh_projection(param_sub_thicknesses)\n",
    "    substrate_thicknesses = substrate_thicknesses * (sub_max - sub_min) + sub_min\n",
    "    # Cuboid thicknesses\n",
    "    cuboid_thicknesses = tanh_projection(param_cuboid_thicknesses)\n",
    "    cuboid_thicknesses = cuboid_thicknesses * (cub_max - cub_min) + cub_min\n",
    "    # Cuboid length\n",
    "    cuboid_length = tanh_projection(param_cuboid_length)\n",
    "    cuboid_length = cuboid_length * (cuboid_max_length - cuboid_min_length) + cuboid_min_length\n",
    "    # Cuboid width\n",
    "    cuboid_width = tanh_projection(param_cuboid_width)\n",
    "    cuboid_width = cuboid_width * (cuboid_max_width - cuboid_min_width) + cuboid_min_width\n",
    "\n",
    "    return anp.concatenate([substrate_thicknesses, cuboid_thicknesses, [cuboid_length, cuboid_width]])"
   ]
  },
  {
   "cell_type": "markdown",
   "metadata": {},
   "source": [
    "### Define the objective function"
   ]
  },
  {
   "cell_type": "code",
   "execution_count": 11,
   "metadata": {},
   "outputs": [
    {
     "ename": "SyntaxError",
     "evalue": "invalid syntax (793070596.py, line 3)",
     "output_type": "error",
     "traceback": [
      "\u001b[0;36m  Cell \u001b[0;32mIn[11], line 3\u001b[0;36m\u001b[0m\n\u001b[0;31m    field_ex = field_data.\u001b[0m\n\u001b[0m                          ^\u001b[0m\n\u001b[0;31mSyntaxError\u001b[0m\u001b[0;31m:\u001b[0m invalid syntax\n"
     ]
    }
   ],
   "source": [
    "def get_flux_from_sim_data(sim_data: td.SimulationData) -> float:\n",
    "    field_data = sim_data[FIELD_MONITOR_NAME]\n",
    "    field_ex = field_data."
   ]
  },
  {
   "cell_type": "code",
   "execution_count": null,
   "metadata": {},
   "outputs": [],
   "source": [
    "import os\n",
    "\n",
    "sim_data_history = []\n",
    "\n",
    "def generate_unique_task(base_path) -> Tuple[str, str]:\n",
    "    i = 0\n",
    "    while True:\n",
    "        new_path = f\"data/{base_path}_{i}.hdf5\"\n",
    "        new_name = f\"task_{base_path}_{i}\"\n",
    "        if not os.path.exists(new_path):\n",
    "            return new_name, new_path\n",
    "        i += 1\n",
    "\n",
    "def objective_fn(params: anp.array) -> float: \n",
    "    structure_info = params_to_design_info(params)\n",
    "    sim = make_sim(structure_info)\n",
    "    task_name, data_path = generate_unique_task(\"week08_design\")\n",
    "    sim_data = web.run(sim, task_name = task_name, verbose = True, path = data_path)\n",
    "    sim_data_history.append(sim_data)\n",
    "    flux = get_flux_from_sim_data(sim_data)\n",
    "    error = evaluate_flux_error_MAE(flux)\n",
    "    return error"
   ]
  },
  {
   "cell_type": "markdown",
   "metadata": {},
   "source": [
    "## Optimization\n",
    "\n",
    "### Calculate the initial state"
   ]
  },
  {
   "cell_type": "code",
   "execution_count": null,
   "metadata": {},
   "outputs": [],
   "source": [
    "PARAMS0 = 0.01 * anp.ones((num_of_sub_layers + num_of_cuboid_layers + 2))\n",
    "\n",
    "sim_initial = make_sim(params_to_design_info(PARAMS0))\n",
    "sim_initial.plot_3d()\n",
    "plt.show()"
   ]
  },
  {
   "cell_type": "markdown",
   "metadata": {},
   "source": [
    "optimizer -> numbers (parameters) -> f(parameters) = design_info"
   ]
  },
  {
   "cell_type": "code",
   "execution_count": null,
   "metadata": {},
   "outputs": [],
   "source": [
    "val_and_grad_fn = autograd.value_and_grad(objective_fn)\n",
    "val_initial, grad_initial = val_and_grad_fn(PARAMS0)\n",
    "print(f\"Initial design\\tFlux error: {val_initial}\\tGradient: {grad_initial}\")"
   ]
  },
  {
   "cell_type": "markdown",
   "metadata": {},
   "source": [
    "### Visualize the initial state"
   ]
  },
  {
   "cell_type": "code",
   "execution_count": null,
   "metadata": {},
   "outputs": [],
   "source": [
    "def plot_flux(itr: int): \n",
    "    flux = sim_data_history[-1][FIELD_MONITOR_NAME].flux\n",
    "    plt.figure(figsize = (4, 2))\n",
    "    plt.plot(td.constants.C_0 / monitor_freqs, flux)\n",
    "    plt.xlabel('Wavelength (um)')\n",
    "    plt.ylabel('Flux')\n",
    "    plt.title(f'Flux at iteration {itr}')\n",
    "    plt.show()"
   ]
  }
 ],
 "metadata": {
  "kernelspec": {
   "display_name": "tidy3d_dev",
   "language": "python",
   "name": "python3"
  },
  "language_info": {
   "codemirror_mode": {
    "name": "ipython",
    "version": 3
   },
   "file_extension": ".py",
   "mimetype": "text/x-python",
   "name": "python",
   "nbconvert_exporter": "python",
   "pygments_lexer": "ipython3",
   "version": "3.9.6"
  }
 },
 "nbformat": 4,
 "nbformat_minor": 2
}
