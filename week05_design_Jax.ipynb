{
 "cells": [
  {
   "cell_type": "code",
   "execution_count": 1,
   "metadata": {},
   "outputs": [],
   "source": [
    "import tidy3d as td\n",
    "import tidy3d.plugins.adjoint as tdadjoint\n",
    "from tidy3d.plugins.adjoint import (\n",
    "    JaxBox, JaxMedium, JaxStructure, JaxSimulation, JaxSimulationData, JaxDataArray\n",
    ")\n",
    "from tidy3d import material_library, Structure, FieldData\n",
    "from tidy3d.web import run as run_sim\n",
    "from tidy3d.plugins.adjoint.web import run_local as run_adjoint\n",
    "from tidy3d.plugins.adjoint.utils.filter import BinaryProjector\n",
    "\n",
    "\n",
    "from typing import Tuple, List\n",
    "import matplotlib.pyplot as plt\n",
    "import numpy as np\n",
    "import jax \n",
    "import jax.numpy as jnp\n",
    "import optax\n",
    "import os\n",
    "import h5py"
   ]
  },
  {
   "cell_type": "markdown",
   "metadata": {},
   "source": [
    "f(p0, p1, ..., p4) = output (float)\n",
    "\n",
    "output = [flux_f0, flux_f1, ..., flux_ftarget, ..., flux_fN] * [-1, -1, ..., 1, ..., -1]"
   ]
  },
  {
   "cell_type": "markdown",
   "metadata": {},
   "source": [
    "## Create Simulation Structures\n",
    "\n",
    "### Define basic simulation parameters"
   ]
  },
  {
   "cell_type": "code",
   "execution_count": 2,
   "metadata": {},
   "outputs": [],
   "source": [
    "wvl0 = 0.6 # microns\n",
    "freq0 = td.constants.C_0 / wvl0 \n",
    "wvl_range = [0.5, 0.7] # microns\n",
    "freq_range = [td.constants.C_0 / wvl_range[1], td.constants.C_0 / wvl_range[0]]\n",
    "fwidth = 0.18 * (freq_range[1] - freq_range[0])\n",
    "freq_points = 101\n",
    "\n",
    "run_time = 500 / fwidth\n",
    "\n",
    "monitor_freqs = np.linspace(freq_range[0], freq_range[1], freq_points)\n",
    "monitor_wvls = td.constants.C_0 / monitor_freqs\n",
    "\n",
    "buffer_size = wvl0 # distance between the source/monitor and the computational domain\n",
    "distance = wvl0 # distance between the source/monitor and the structure\n",
    "\n",
    "# Define the structure\n",
    "# Substrate information (4 layers of substrates incl. metal and dielectric)\n",
    "sub_metal_thickness = 0.05\n",
    "sub_dielectric_min_thickness = 0.05\n",
    "sub_dielectric_max_thickness = 0.5\n",
    "\n",
    "# permittivity0 = 3.9 # Assume SiO2 is used as the dielectric substrate\n",
    "permittivity0 = 2.25 # Assume TiOx is used as the dielectric substrate\n",
    "Copper= material_library['Cu']['RakicLorentzDrude1998']\n",
    "TiO2 = material_library['TiOx']['Horiba']\n",
    "Gold = material_library['Au']['JohnsonChristy1972']\n",
    "Palladium = material_library['Pd']['JohnsonChristy1972']\n",
    "\n",
    "# Cuboid information\n",
    "cuboid_min_length = 0.1\n",
    "cuboid_max_length = 0.5\n",
    "cuboid_min_width = 0.1\n",
    "cuboid_max_width = 0.5\n",
    "cuboid_min_height = 0.1\n",
    "cuboid_max_height = 0.5\n",
    "\n",
    "# Simulation domain\n",
    "min_steps_per_wvl = 24\n",
    "dl = wvl0 / min_steps_per_wvl\n",
    "Lx = 0.5\n",
    "Ly = 0.5\n",
    "Lz = 3 * buffer_size + distance + \\\n",
    "     2 * sub_metal_thickness + 2 * sub_dielectric_max_thickness + cuboid_max_height"
   ]
  },
  {
   "cell_type": "markdown",
   "metadata": {},
   "source": [
    "### Define source and monitor objects\n",
    "\n",
    "Monitors used in this context are field monitors, as JaxSimulation does not support flux monitors. Therefore, the flux is calculated using field monitors, which are compatible with JaxSimulation."
   ]
  },
  {
   "cell_type": "code",
   "execution_count": 3,
   "metadata": {},
   "outputs": [],
   "source": [
    "SOURCE_PLANEWV_NAME = 'source_planewave'\n",
    "SOURCE_PLANEWV_UPDATED_NAME = 'source_planewave_updated'\n",
    "FIELD_MONITOR_NAME = 'monitor_field'\n",
    "FIELD_MONITOR_UPDATED_NAME = 'monitor_field_updated'\n",
    "FLUX_MONITOR_NAME = 'monitor_flux'\n",
    "\n",
    "source_planewave = td.PlaneWave(\n",
    "    center = (0, 0, Lz/2 - 2*buffer_size),\n",
    "    source_time = td.GaussianPulse(freq0 = freq0, fwidth = fwidth),\n",
    "    size = (td.inf, td.inf, 0),\n",
    "    direction = '-',\n",
    "    pol_angle = 0,\n",
    "    name = SOURCE_PLANEWV_NAME,\n",
    ")\n",
    "\n",
    "monitor_field = td.FieldMonitor(\n",
    "    center = (0, 0, Lz/2 - buffer_size),\n",
    "    size = (td.inf, td.inf, 0),\n",
    "    freqs = monitor_freqs,\n",
    "    # fields = ['Ex', 'Ey', 'Ez'],\n",
    "    name = FIELD_MONITOR_NAME,\n",
    "    colocate = False,\n",
    ")\n",
    "\n",
    "monitor_flux = td.FluxMonitor(\n",
    "    center = (0, 0, Lz/2 - buffer_size),\n",
    "    size = (td.inf, td.inf, 0),\n",
    "    freqs = monitor_freqs,\n",
    "    name = FLUX_MONITOR_NAME,\n",
    ")"
   ]
  },
  {
   "cell_type": "markdown",
   "metadata": {},
   "source": [
    "### Function to create the structure\n",
    "\n",
    "The structure consists of the following components: \n",
    "\n",
    "* Stacked substrates of 4 layers, with alterning layers of metals and dielectrics\n",
    "* Cuboid on top of the substrate\n",
    "\n",
    "So far I didn't found a method to make metal layers jax-compatible, so metal layers are of fixed thickness of 50 nm. The sizes of dielectric components are to be optimized via inverse design. Specifically, the following parameters are to be optimized: \n",
    "\n",
    "* Thicknesses of the dielectric substrates\n",
    "* Side lengths of the cuboid (length, width and height)"
   ]
  },
  {
   "cell_type": "code",
   "execution_count": 4,
   "metadata": {},
   "outputs": [],
   "source": [
    "def make_dynamic_structure(slab_info: jnp.array) -> List[JaxStructure]: \n",
    "    if slab_info is None:\n",
    "        return []\n",
    "\n",
    "    dielectric_thicknesses = slab_info[:2]\n",
    "    cuboid_length = slab_info[2]\n",
    "    cuboid_width = slab_info[3]\n",
    "    cuboid_height = slab_info[4]\n",
    "\n",
    "    # Substrate\n",
    "    substrate = []\n",
    "    z_center = -Lz/2 + buffer_size\n",
    "    # Metal layer 1 (replaced with high-permittivity dielectric)\n",
    "    z_center += sub_metal_thickness/2\n",
    "    substrate.append(\n",
    "        JaxStructure(\n",
    "            geometry = JaxBox(\n",
    "                center = (0, 0, z_center),\n",
    "                size = (td.inf, td.inf, sub_metal_thickness),\n",
    "            ),\n",
    "            medium = JaxMedium(permittivity = 20.0),\n",
    "        )\n",
    "    )\n",
    "    # Dielectric layer 1\n",
    "    z_center += sub_metal_thickness/2 + dielectric_thicknesses[0]/2\n",
    "    substrate.append(\n",
    "        JaxStructure(\n",
    "            geometry = JaxBox(\n",
    "                center = (0, 0, z_center),\n",
    "                # size = (td.inf, td.inf, float(dielectric_thicknesses[0].item())),\n",
    "                size = (td.inf, td.inf, dielectric_thicknesses[0])\n",
    "            ),\n",
    "            medium = JaxMedium(permittivity = permittivity0),\n",
    "        )\n",
    "    )\n",
    "    # Metal layer 2 (replaced with high-permittivity dielectric)\n",
    "    z_center += dielectric_thicknesses[0]/2 + sub_metal_thickness/2\n",
    "    substrate.append(\n",
    "        JaxStructure(\n",
    "            geometry = JaxBox(\n",
    "                center = (0, 0, z_center),\n",
    "                size = (td.inf, td.inf, sub_metal_thickness),\n",
    "            ),\n",
    "            medium = JaxMedium(permittivity = 10.0),\n",
    "        )\n",
    "    )\n",
    "    # Dielectric layer 2\n",
    "    z_center += sub_metal_thickness/2 + dielectric_thicknesses[1]/2\n",
    "    substrate.append(\n",
    "        JaxStructure(\n",
    "            geometry = JaxBox(\n",
    "                center = (0, 0, z_center),\n",
    "                size = (td.inf, td.inf, dielectric_thicknesses[1]),\n",
    "            ),\n",
    "            medium = JaxMedium(permittivity = permittivity0),\n",
    "        )\n",
    "    )\n",
    "\n",
    "    # Cuboid\n",
    "    z_center += dielectric_thicknesses[1]/2 + cuboid_height/2\n",
    "    cuboid = JaxStructure(\n",
    "        geometry = JaxBox(\n",
    "            center = (0, 0, z_center),\n",
    "            size = (cuboid_length, cuboid_width, cuboid_height),\n",
    "        ),\n",
    "        medium = JaxMedium(permittivity = permittivity0),\n",
    "    )\n",
    "\n",
    "    return substrate + [cuboid]"
   ]
  },
  {
   "cell_type": "markdown",
   "metadata": {},
   "source": [
    "### Function to create the simulation object\n",
    "\n",
    "The `make_jsim` function returns a JaxSimulation object with updated internal structures. \n",
    "\n",
    "The boundary condition here specifies that along the x and y direction, the pattern repeats infinitely, thus Bloch condition is used. Along z direction, PML condition is used to absorb the waves and avoid reflections."
   ]
  },
  {
   "cell_type": "code",
   "execution_count": 5,
   "metadata": {},
   "outputs": [],
   "source": [
    "def make_jsim(slab_info: jnp.array) -> JaxSimulation: \n",
    "    boundary_spec = td.BoundarySpec(\n",
    "        x = td.Boundary.bloch_from_source(\n",
    "            source = source_planewave, domain_size = Lx, axis = 0,\n",
    "        ),\n",
    "        y = td.Boundary.bloch_from_source(\n",
    "            source = source_planewave, domain_size = Ly, axis = 1,\n",
    "        ),\n",
    "        z = td.Boundary.pml(),\n",
    "    )\n",
    "\n",
    "    # grid_spec = td.GridSpec.auto(min_steps_per_wvl = min_steps_per_wvl)\n",
    "    grid_spec = td.GridSpec.auto()\n",
    "    \n",
    "    # static_structure = make_static_structure(slab_info)\n",
    "    dynamic_structure = make_dynamic_structure(slab_info)\n",
    "\n",
    "    jsim = JaxSimulation(\n",
    "        size = (Lx, Ly, Lz),\n",
    "        run_time = run_time,\n",
    "        boundary_spec = boundary_spec,\n",
    "        grid_spec = grid_spec,\n",
    "        structures = [], \n",
    "        input_structures = dynamic_structure,\n",
    "        sources = [source_planewave],\n",
    "        monitors = [monitor_flux],\n",
    "        output_monitors = [monitor_field],\n",
    "        shutoff = 1e-6,\n",
    "    )\n",
    "\n",
    "    return jsim"
   ]
  },
  {
   "cell_type": "markdown",
   "metadata": {},
   "source": [
    "### Check point\n",
    "\n",
    "This section will check if the structure can be correctly generated using random design information. \n",
    "\n",
    "It will also estimate credit usage for each simulation. "
   ]
  },
  {
   "cell_type": "code",
   "execution_count": 6,
   "metadata": {},
   "outputs": [
    {
     "data": {
      "text/html": [
       "<pre style=\"white-space:pre;overflow-x:auto;line-height:normal;font-family:Menlo,'DejaVu Sans Mono',consolas,'Courier New',monospace\"><span style=\"color: #7fbfbf; text-decoration-color: #7fbfbf\">17:47:41 BST </span><span style=\"color: #800000; text-decoration-color: #800000\">WARNING: </span><span style=\"color: #008000; text-decoration-color: #008000\">'JaxSimulation.input_structures[0]'</span><span style=\"color: #800000; text-decoration-color: #800000\"> overlaps or touches   </span>\n",
       "<span style=\"color: #7fbfbf; text-decoration-color: #7fbfbf\">             </span><span style=\"color: #008000; text-decoration-color: #008000\">'JaxSimulation.input_structures[1]'</span><span style=\"color: #800000; text-decoration-color: #800000\">. Geometric gradients for       </span>\n",
       "<span style=\"color: #7fbfbf; text-decoration-color: #7fbfbf\">             </span><span style=\"color: #800000; text-decoration-color: #800000\">overlapping input structures may contain errors.                   </span>\n",
       "</pre>\n"
      ],
      "text/plain": [
       "\u001b[2;36m17:47:41 BST\u001b[0m\u001b[2;36m \u001b[0m\u001b[31mWARNING: \u001b[0m\u001b[32m'JaxSimulation.input_structures\u001b[0m\u001b[32m[\u001b[0m\u001b[32m0\u001b[0m\u001b[32m]\u001b[0m\u001b[32m'\u001b[0m\u001b[31m overlaps or touches   \u001b[0m\n",
       "\u001b[2;36m             \u001b[0m\u001b[32m'JaxSimulation.input_structures\u001b[0m\u001b[32m[\u001b[0m\u001b[32m1\u001b[0m\u001b[32m]\u001b[0m\u001b[32m'\u001b[0m\u001b[31m. Geometric gradients for       \u001b[0m\n",
       "\u001b[2;36m             \u001b[0m\u001b[31moverlapping input structures may contain errors.                   \u001b[0m\n"
      ]
     },
     "metadata": {},
     "output_type": "display_data"
    },
    {
     "data": {
      "text/html": [
       "<pre style=\"white-space:pre;overflow-x:auto;line-height:normal;font-family:Menlo,'DejaVu Sans Mono',consolas,'Courier New',monospace\"><span style=\"color: #7fbfbf; text-decoration-color: #7fbfbf\">             </span><span style=\"color: #800000; text-decoration-color: #800000\">WARNING: Suppressed </span><span style=\"color: #008080; text-decoration-color: #008080; font-weight: bold\">3</span><span style=\"color: #800000; text-decoration-color: #800000\"> WARNING messages.                            </span>\n",
       "</pre>\n"
      ],
      "text/plain": [
       "\u001b[2;36m            \u001b[0m\u001b[2;36m \u001b[0m\u001b[31mWARNING: Suppressed \u001b[0m\u001b[1;36m3\u001b[0m\u001b[31m WARNING messages.                            \u001b[0m\n"
      ]
     },
     "metadata": {},
     "output_type": "display_data"
    },
    {
     "data": {
      "text/html": [
       "\n",
       "    <div class=\"simulation-viewer\" data-width=\"800\" data-height=\"800\" data-simulation=\"{&quot;attrs&quot;: {}, &quot;type&quot;: &quot;Simulation&quot;, &quot;center&quot;: [0.0, 0.0, 0.0], &quot;size&quot;: [0.5, 0.5, 4.0], &quot;medium&quot;: {&quot;attrs&quot;: {}, &quot;name&quot;: null, &quot;frequency_range&quot;: null, &quot;allow_gain&quot;: false, &quot;nonlinear_spec&quot;: null, &quot;modulation_spec&quot;: null, &quot;heat_spec&quot;: null, &quot;type&quot;: &quot;Medium&quot;, &quot;permittivity&quot;: 1.0, &quot;conductivity&quot;: 0.0}, &quot;structures&quot;: [{&quot;attrs&quot;: {}, &quot;geometry&quot;: {&quot;attrs&quot;: {}, &quot;type&quot;: &quot;Box&quot;, &quot;center&quot;: [0.0, 0.0, -1.375], &quot;size&quot;: [&quot;Infinity&quot;, &quot;Infinity&quot;, 0.05]}, &quot;name&quot;: null, &quot;type&quot;: &quot;Structure&quot;, &quot;medium&quot;: {&quot;attrs&quot;: {}, &quot;name&quot;: null, &quot;frequency_range&quot;: null, &quot;allow_gain&quot;: false, &quot;nonlinear_spec&quot;: null, &quot;modulation_spec&quot;: null, &quot;heat_spec&quot;: null, &quot;type&quot;: &quot;Medium&quot;, &quot;permittivity&quot;: 20.0, &quot;conductivity&quot;: 0.0}}, {&quot;attrs&quot;: {}, &quot;geometry&quot;: {&quot;attrs&quot;: {}, &quot;type&quot;: &quot;Box&quot;, &quot;center&quot;: [0.0, 0.0, -1.1078026712482256], &quot;size&quot;: [&quot;Infinity&quot;, &quot;Infinity&quot;, 0.4843946575035489]}, &quot;name&quot;: null, &quot;type&quot;: &quot;Structure&quot;, &quot;medium&quot;: {&quot;attrs&quot;: {}, &quot;name&quot;: null, &quot;frequency_range&quot;: null, &quot;allow_gain&quot;: false, &quot;nonlinear_spec&quot;: null, &quot;modulation_spec&quot;: null, &quot;heat_spec&quot;: null, &quot;type&quot;: &quot;Medium&quot;, &quot;permittivity&quot;: 2.25, &quot;conductivity&quot;: 0.0}}, {&quot;attrs&quot;: {}, &quot;geometry&quot;: {&quot;attrs&quot;: {}, &quot;type&quot;: &quot;Box&quot;, &quot;center&quot;: [0.0, 0.0, -0.8406053424964512], &quot;size&quot;: [&quot;Infinity&quot;, &quot;Infinity&quot;, 0.05]}, &quot;name&quot;: null, &quot;type&quot;: &quot;Structure&quot;, &quot;medium&quot;: {&quot;attrs&quot;: {}, &quot;name&quot;: null, &quot;frequency_range&quot;: null, &quot;allow_gain&quot;: false, &quot;nonlinear_spec&quot;: null, &quot;modulation_spec&quot;: null, &quot;heat_spec&quot;: null, &quot;type&quot;: &quot;Medium&quot;, &quot;permittivity&quot;: 10.0, &quot;conductivity&quot;: 0.0}}, {&quot;attrs&quot;: {}, &quot;geometry&quot;: {&quot;attrs&quot;: {}, &quot;type&quot;: &quot;Box&quot;, &quot;center&quot;: [0.0, 0.0, -0.739944558491337], &quot;size&quot;: [&quot;Infinity&quot;, &quot;Infinity&quot;, 0.15132156801022856]}, &quot;name&quot;: null, &quot;type&quot;: &quot;Structure&quot;, &quot;medium&quot;: {&quot;attrs&quot;: {}, &quot;name&quot;: null, &quot;frequency_range&quot;: null, &quot;allow_gain&quot;: false, &quot;nonlinear_spec&quot;: null, &quot;modulation_spec&quot;: null, &quot;heat_spec&quot;: null, &quot;type&quot;: &quot;Medium&quot;, &quot;permittivity&quot;: 2.25, &quot;conductivity&quot;: 0.0}}, {&quot;attrs&quot;: {}, &quot;geometry&quot;: {&quot;attrs&quot;: {}, &quot;type&quot;: &quot;Box&quot;, &quot;center&quot;: [0.0, 0.0, -0.602610026069431], &quot;size&quot;: [0.29210414395093603, 0.1771872444015674, 0.12334749683358331]}, &quot;name&quot;: null, &quot;type&quot;: &quot;Structure&quot;, &quot;medium&quot;: {&quot;attrs&quot;: {}, &quot;name&quot;: null, &quot;frequency_range&quot;: null, &quot;allow_gain&quot;: false, &quot;nonlinear_spec&quot;: null, &quot;modulation_spec&quot;: null, &quot;heat_spec&quot;: null, &quot;type&quot;: &quot;Medium&quot;, &quot;permittivity&quot;: 2.25, &quot;conductivity&quot;: 0.0}}], &quot;symmetry&quot;: [0, 0, 0], &quot;sources&quot;: [{&quot;attrs&quot;: {}, &quot;name&quot;: &quot;source_planewave&quot;, &quot;type&quot;: &quot;PlaneWave&quot;, &quot;center&quot;: [0.0, 0.0, 0.8], &quot;size&quot;: [&quot;Infinity&quot;, &quot;Infinity&quot;, 0.0], &quot;source_time&quot;: {&quot;attrs&quot;: {}, &quot;amplitude&quot;: 1.0, &quot;phase&quot;: 0.0, &quot;type&quot;: &quot;GaussianPulse&quot;, &quot;freq0&quot;: 499654096666666.7, &quot;fwidth&quot;: 30835795680000.0, &quot;offset&quot;: 5.0, &quot;remove_dc_component&quot;: true}, &quot;direction&quot;: &quot;-&quot;, &quot;angle_theta&quot;: 0.0, &quot;angle_phi&quot;: 0.0, &quot;pol_angle&quot;: 0.0}], &quot;boundary_spec&quot;: {&quot;attrs&quot;: {}, &quot;x&quot;: {&quot;attrs&quot;: {}, &quot;plus&quot;: {&quot;attrs&quot;: {}, &quot;name&quot;: null, &quot;type&quot;: &quot;BlochBoundary&quot;, &quot;bloch_vec&quot;: 0.0}, &quot;minus&quot;: {&quot;attrs&quot;: {}, &quot;name&quot;: null, &quot;type&quot;: &quot;BlochBoundary&quot;, &quot;bloch_vec&quot;: 0.0}, &quot;type&quot;: &quot;Boundary&quot;}, &quot;y&quot;: {&quot;attrs&quot;: {}, &quot;plus&quot;: {&quot;attrs&quot;: {}, &quot;name&quot;: null, &quot;type&quot;: &quot;BlochBoundary&quot;, &quot;bloch_vec&quot;: 0.0}, &quot;minus&quot;: {&quot;attrs&quot;: {}, &quot;name&quot;: null, &quot;type&quot;: &quot;BlochBoundary&quot;, &quot;bloch_vec&quot;: 0.0}, &quot;type&quot;: &quot;Boundary&quot;}, &quot;z&quot;: {&quot;attrs&quot;: {}, &quot;plus&quot;: {&quot;attrs&quot;: {}, &quot;name&quot;: null, &quot;type&quot;: &quot;PML&quot;, &quot;num_layers&quot;: 12, &quot;parameters&quot;: {&quot;attrs&quot;: {}, &quot;sigma_order&quot;: 3, &quot;sigma_min&quot;: 0.0, &quot;sigma_max&quot;: 1.5, &quot;type&quot;: &quot;PMLParams&quot;, &quot;kappa_order&quot;: 3, &quot;kappa_min&quot;: 1.0, &quot;kappa_max&quot;: 3.0, &quot;alpha_order&quot;: 1, &quot;alpha_min&quot;: 0.0, &quot;alpha_max&quot;: 0.0}}, &quot;minus&quot;: {&quot;attrs&quot;: {}, &quot;name&quot;: null, &quot;type&quot;: &quot;PML&quot;, &quot;num_layers&quot;: 12, &quot;parameters&quot;: {&quot;attrs&quot;: {}, &quot;sigma_order&quot;: 3, &quot;sigma_min&quot;: 0.0, &quot;sigma_max&quot;: 1.5, &quot;type&quot;: &quot;PMLParams&quot;, &quot;kappa_order&quot;: 3, &quot;kappa_min&quot;: 1.0, &quot;kappa_max&quot;: 3.0, &quot;alpha_order&quot;: 1, &quot;alpha_min&quot;: 0.0, &quot;alpha_max&quot;: 0.0}}, &quot;type&quot;: &quot;Boundary&quot;}, &quot;type&quot;: &quot;BoundarySpec&quot;}, &quot;monitors&quot;: [{&quot;attrs&quot;: {}, &quot;type&quot;: &quot;FluxMonitor&quot;, &quot;center&quot;: [0.0, 0.0, 1.4], &quot;size&quot;: [&quot;Infinity&quot;, &quot;Infinity&quot;, 0.0], &quot;name&quot;: &quot;monitor_flux&quot;, &quot;interval_space&quot;: [1, 1, 1], &quot;colocate&quot;: true, &quot;freqs&quot;: [428274940000000.0, 429988039760000.0, 431701139520000.0, 433414239280000.0, 435127339040000.0, 436840438800000.0, 438553538560000.0, 440266638320000.0, 441979738080000.0, 443692837840000.0, 445405937600000.0, 447119037360000.0, 448832137120000.0, 450545236880000.0, 452258336640000.0, 453971436400000.0, 455684536160000.0, 457397635920000.0, 459110735680000.0, 460823835440000.0, 462536935200000.0, 464250034960000.0, 465963134720000.0, 467676234480000.0, 469389334240000.0, 471102434000000.0, 472815533760000.0, 474528633520000.0, 476241733280000.0, 477954833040000.0, 479667932800000.0, 481381032560000.0, 483094132320000.0, 484807232080000.0, 486520331840000.0, 488233431600000.0, 489946531360000.0, 491659631120000.0, 493372730880000.0, 495085830640000.0, 496798930400000.0, 498512030160000.0, 500225129920000.0, 501938229680000.0, 503651329440000.0, 505364429200000.0, 507077528960000.0, 508790628720000.0, 510503728480000.0, 512216828240000.0, 513929928000000.0, 515643027760000.0, 517356127520000.0, 519069227280000.0, 520782327040000.0, 522495426800000.0, 524208526560000.0, 525921626320000.0, 527634726080000.0, 529347825840000.0, 531060925600000.0, 532774025360000.0, 534487125120000.0, 536200224880000.0, 537913324640000.0, 539626424400000.0, 541339524160000.0, 543052623920000.0, 544765723680000.0, 546478823440000.0, 548191923200000.0, 549905022960000.0, 551618122720000.0, 553331222480000.0, 555044322240000.0, 556757422000000.0, 558470521760000.0, 560183621520000.0, 561896721280000.0, 563609821040000.0, 565322920800000.0, 567036020560000.0, 568749120320000.0, 570462220080000.0, 572175319840000.0, 573888419600000.0, 575601519360000.0, 577314619120000.0, 579027718880000.0, 580740818640000.0, 582453918400000.0, 584167018160000.0, 585880117920000.0, 587593217680000.0, 589306317440000.0, 591019417200000.0, 592732516960000.0, 594445616720000.0, 596158716480000.0, 597871816240000.0, 599584916000000.0], &quot;apodization&quot;: {&quot;attrs&quot;: {}, &quot;start&quot;: null, &quot;end&quot;: null, &quot;width&quot;: null, &quot;type&quot;: &quot;ApodizationSpec&quot;}, &quot;normal_dir&quot;: &quot;+&quot;, &quot;exclude_surfaces&quot;: null}, {&quot;attrs&quot;: {}, &quot;type&quot;: &quot;FieldMonitor&quot;, &quot;center&quot;: [0.0, 0.0, 1.4], &quot;size&quot;: [&quot;Infinity&quot;, &quot;Infinity&quot;, 0.0], &quot;name&quot;: &quot;monitor_field&quot;, &quot;interval_space&quot;: [1, 1, 1], &quot;colocate&quot;: false, &quot;freqs&quot;: [428274940000000.0, 429988039760000.0, 431701139520000.0, 433414239280000.0, 435127339040000.0, 436840438800000.0, 438553538560000.0, 440266638320000.0, 441979738080000.0, 443692837840000.0, 445405937600000.0, 447119037360000.0, 448832137120000.0, 450545236880000.0, 452258336640000.0, 453971436400000.0, 455684536160000.0, 457397635920000.0, 459110735680000.0, 460823835440000.0, 462536935200000.0, 464250034960000.0, 465963134720000.0, 467676234480000.0, 469389334240000.0, 471102434000000.0, 472815533760000.0, 474528633520000.0, 476241733280000.0, 477954833040000.0, 479667932800000.0, 481381032560000.0, 483094132320000.0, 484807232080000.0, 486520331840000.0, 488233431600000.0, 489946531360000.0, 491659631120000.0, 493372730880000.0, 495085830640000.0, 496798930400000.0, 498512030160000.0, 500225129920000.0, 501938229680000.0, 503651329440000.0, 505364429200000.0, 507077528960000.0, 508790628720000.0, 510503728480000.0, 512216828240000.0, 513929928000000.0, 515643027760000.0, 517356127520000.0, 519069227280000.0, 520782327040000.0, 522495426800000.0, 524208526560000.0, 525921626320000.0, 527634726080000.0, 529347825840000.0, 531060925600000.0, 532774025360000.0, 534487125120000.0, 536200224880000.0, 537913324640000.0, 539626424400000.0, 541339524160000.0, 543052623920000.0, 544765723680000.0, 546478823440000.0, 548191923200000.0, 549905022960000.0, 551618122720000.0, 553331222480000.0, 555044322240000.0, 556757422000000.0, 558470521760000.0, 560183621520000.0, 561896721280000.0, 563609821040000.0, 565322920800000.0, 567036020560000.0, 568749120320000.0, 570462220080000.0, 572175319840000.0, 573888419600000.0, 575601519360000.0, 577314619120000.0, 579027718880000.0, 580740818640000.0, 582453918400000.0, 584167018160000.0, 585880117920000.0, 587593217680000.0, 589306317440000.0, 591019417200000.0, 592732516960000.0, 594445616720000.0, 596158716480000.0, 597871816240000.0, 599584916000000.0], &quot;apodization&quot;: {&quot;attrs&quot;: {}, &quot;start&quot;: null, &quot;end&quot;: null, &quot;width&quot;: null, &quot;type&quot;: &quot;ApodizationSpec&quot;}, &quot;fields&quot;: [&quot;Ex&quot;, &quot;Ey&quot;, &quot;Ez&quot;, &quot;Hx&quot;, &quot;Hy&quot;, &quot;Hz&quot;]}], &quot;grid_spec&quot;: {&quot;attrs&quot;: {}, &quot;grid_x&quot;: {&quot;attrs&quot;: {}, &quot;type&quot;: &quot;AutoGrid&quot;, &quot;min_steps_per_wvl&quot;: 10.0, &quot;max_scale&quot;: 1.4, &quot;dl_min&quot;: 0.0, &quot;mesher&quot;: {&quot;attrs&quot;: {}, &quot;type&quot;: &quot;GradedMesher&quot;}}, &quot;grid_y&quot;: {&quot;attrs&quot;: {}, &quot;type&quot;: &quot;AutoGrid&quot;, &quot;min_steps_per_wvl&quot;: 10.0, &quot;max_scale&quot;: 1.4, &quot;dl_min&quot;: 0.0, &quot;mesher&quot;: {&quot;attrs&quot;: {}, &quot;type&quot;: &quot;GradedMesher&quot;}}, &quot;grid_z&quot;: {&quot;attrs&quot;: {}, &quot;type&quot;: &quot;AutoGrid&quot;, &quot;min_steps_per_wvl&quot;: 10.0, &quot;max_scale&quot;: 1.4, &quot;dl_min&quot;: 0.0, &quot;mesher&quot;: {&quot;attrs&quot;: {}, &quot;type&quot;: &quot;GradedMesher&quot;}}, &quot;wavelength&quot;: null, &quot;override_structures&quot;: [], &quot;snapping_points&quot;: [], &quot;type&quot;: &quot;GridSpec&quot;}, &quot;version&quot;: &quot;2.7.1&quot;, &quot;lumped_elements&quot;: [], &quot;subpixel&quot;: {&quot;attrs&quot;: {}, &quot;dielectric&quot;: {&quot;attrs&quot;: {}, &quot;type&quot;: &quot;PolarizedAveraging&quot;}, &quot;metal&quot;: {&quot;attrs&quot;: {}, &quot;type&quot;: &quot;Staircasing&quot;}, &quot;pec&quot;: {&quot;attrs&quot;: {}, &quot;type&quot;: &quot;PECConformal&quot;, &quot;timestep_reduction&quot;: 0.3}, &quot;type&quot;: &quot;SubpixelSpec&quot;}, &quot;courant&quot;: 0.99, &quot;normalize_index&quot;: 0, &quot;shutoff&quot;: 1e-06, &quot;run_time&quot;: 1.6214921294354614e-11}\" />\n",
       "    <script>\n",
       "        \n",
       "        /**\n",
       "        * Simulation Viewer Injector\n",
       "        *\n",
       "        * Monitors the document for elements being added in the form:\n",
       "        *\n",
       "        *    <div class=\"simulation-viewer\" data-width=\"800\" data-height=\"800\" data-simulation=\"{...}\" />\n",
       "        *\n",
       "        * This script will then inject an iframe to the viewer application, and pass it the simulation data\n",
       "        * via the postMessage API on request. The script may be safely included multiple times, with only the\n",
       "        * configuration of the first started script (e.g. viewer URL) applying.\n",
       "        *\n",
       "        */\n",
       "        (function() {\n",
       "            const TARGET_CLASS = \"simulation-viewer\";\n",
       "            const ACTIVE_CLASS = \"simulation-viewer-active\";\n",
       "            const VIEWER_URL = \"https://feature-simulation-viewer.d3a9gfg7glllfq.amplifyapp.com/simulation-viewer\";\n",
       "\n",
       "            class SimulationViewerInjector {\n",
       "                constructor() {\n",
       "                    for (var node of document.getElementsByClassName(TARGET_CLASS)) {\n",
       "                        this.injectViewer(node);\n",
       "                    }\n",
       "\n",
       "                    // Monitor for newly added nodes to the DOM\n",
       "                    this.observer = new MutationObserver(this.onMutations.bind(this));\n",
       "                    this.observer.observe(document.body, {childList: true, subtree: true});\n",
       "                }\n",
       "\n",
       "                onMutations(mutations) {\n",
       "                    for (var mutation of mutations) {\n",
       "                        if (mutation.type === 'childList') {\n",
       "                            /**\n",
       "                            * Have found that adding the element does not reliably trigger the mutation observer.\n",
       "                            * It may be the case that setting content with innerHTML does not trigger.\n",
       "                            *\n",
       "                            * It seems to be sufficient to re-scan the document for un-activated viewers\n",
       "                            * whenever an event occurs, as Jupyter triggers multiple events on cell evaluation.\n",
       "                            */\n",
       "                            var viewers = document.getElementsByClassName(TARGET_CLASS);\n",
       "                            for (var node of viewers) {\n",
       "                                this.injectViewer(node);\n",
       "                            }\n",
       "                        }\n",
       "                    }\n",
       "                }\n",
       "\n",
       "                injectViewer(node) {\n",
       "                    // (re-)check that this is a valid simulation container and has not already been injected\n",
       "                    if (node.classList.contains(TARGET_CLASS) && !node.classList.contains(ACTIVE_CLASS)) {\n",
       "                        // Mark node as injected, to prevent re-runs\n",
       "                        node.classList.add(ACTIVE_CLASS);\n",
       "\n",
       "                        var uuid;\n",
       "                        if (window.crypto && window.crypto.randomUUID) {\n",
       "                            uuid = window.crypto.randomUUID();\n",
       "                        } else {\n",
       "                            uuid = \"\" + Math.random();\n",
       "                        }\n",
       "\n",
       "                        var frame = document.createElement(\"iframe\");\n",
       "                        frame.width = node.dataset.width || 800;\n",
       "                        frame.height = node.dataset.height || 800;\n",
       "                        frame.src = VIEWER_URL + \"?uuid=\" + uuid;\n",
       "\n",
       "                        var postMessageToViewer;\n",
       "                        postMessageToViewer = event => {{\n",
       "                            if(event.data.type === 'viewer' && event.data.uuid===uuid){{\n",
       "                                var simulation = JSON.parse(node.dataset.simulation);\n",
       "                                frame.contentWindow.postMessage({ type: 'jupyter', uuid, value: simulation}, '*');\n",
       "\n",
       "                                // Run once only\n",
       "                                window.removeEventListener('message', postMessageToViewer);\n",
       "                            }}\n",
       "                        }};\n",
       "                        window.addEventListener(\n",
       "                            'message',\n",
       "                            postMessageToViewer,\n",
       "                            false\n",
       "                        );\n",
       "\n",
       "                        node.appendChild(frame);\n",
       "                    }\n",
       "                }\n",
       "            }\n",
       "\n",
       "            if (!window.simulationViewerInjector) {\n",
       "                window.simulationViewerInjector = new SimulationViewerInjector();\n",
       "            }\n",
       "        })();\n",
       "    \n",
       "    </script>\n",
       "    "
      ],
      "text/plain": [
       "<IPython.core.display.HTML object>"
      ]
     },
     "metadata": {},
     "output_type": "display_data"
    },
    {
     "data": {
      "text/html": [
       "<pre style=\"white-space:pre;overflow-x:auto;line-height:normal;font-family:Menlo,'DejaVu Sans Mono',consolas,'Courier New',monospace\"><span style=\"color: #7fbfbf; text-decoration-color: #7fbfbf\">17:47:42 BST </span>Created task <span style=\"color: #008000; text-decoration-color: #008000\">'week05_design_Jax_credit_estimation'</span> with task_id    \n",
       "<span style=\"color: #7fbfbf; text-decoration-color: #7fbfbf\">             </span><span style=\"color: #008000; text-decoration-color: #008000\">'fdve-90a49d46-33bf-4c1e-bb0e-de0858a68c1e'</span> and task_type <span style=\"color: #008000; text-decoration-color: #008000\">'FDTD'</span>.  \n",
       "</pre>\n"
      ],
      "text/plain": [
       "\u001b[2;36m17:47:42 BST\u001b[0m\u001b[2;36m \u001b[0mCreated task \u001b[32m'week05_design_Jax_credit_estimation'\u001b[0m with task_id    \n",
       "\u001b[2;36m             \u001b[0m\u001b[32m'fdve-90a49d46-33bf-4c1e-bb0e-de0858a68c1e'\u001b[0m and task_type \u001b[32m'FDTD'\u001b[0m.  \n"
      ]
     },
     "metadata": {},
     "output_type": "display_data"
    },
    {
     "data": {
      "text/html": [
       "<pre style=\"white-space:pre;overflow-x:auto;line-height:normal;font-family:Menlo,'DejaVu Sans Mono',consolas,'Courier New',monospace\"><span style=\"color: #7fbfbf; text-decoration-color: #7fbfbf\">             </span>View task using web UI at                                          \n",
       "<span style=\"color: #7fbfbf; text-decoration-color: #7fbfbf\">             </span><a href=\"https://tidy3d.simulation.cloud/workbench?taskId=fdve-90a49d46-33bf-4c1e-bb0e-de0858a68c1e\" target=\"_blank\"><span style=\"color: #008000; text-decoration-color: #008000\">'https://tidy3d.simulation.cloud/workbench?taskId=fdve-90a49d46-33b</span></a>\n",
       "<span style=\"color: #7fbfbf; text-decoration-color: #7fbfbf\">             </span><a href=\"https://tidy3d.simulation.cloud/workbench?taskId=fdve-90a49d46-33bf-4c1e-bb0e-de0858a68c1e\" target=\"_blank\"><span style=\"color: #008000; text-decoration-color: #008000\">f-4c1e-bb0e-de0858a68c1e'</span></a>.                                         \n",
       "</pre>\n"
      ],
      "text/plain": [
       "\u001b[2;36m            \u001b[0m\u001b[2;36m \u001b[0mView task using web UI at                                          \n",
       "\u001b[2;36m             \u001b[0m\u001b]8;id=805505;https://tidy3d.simulation.cloud/workbench?taskId=fdve-90a49d46-33bf-4c1e-bb0e-de0858a68c1e\u001b\\\u001b[32m'https://tidy3d.simulation.cloud/workbench?\u001b[0m\u001b]8;;\u001b\\\u001b]8;id=497697;https://tidy3d.simulation.cloud/workbench?taskId=fdve-90a49d46-33bf-4c1e-bb0e-de0858a68c1e\u001b\\\u001b[32mtaskId\u001b[0m\u001b]8;;\u001b\\\u001b]8;id=805505;https://tidy3d.simulation.cloud/workbench?taskId=fdve-90a49d46-33bf-4c1e-bb0e-de0858a68c1e\u001b\\\u001b[32m=\u001b[0m\u001b]8;;\u001b\\\u001b]8;id=688341;https://tidy3d.simulation.cloud/workbench?taskId=fdve-90a49d46-33bf-4c1e-bb0e-de0858a68c1e\u001b\\\u001b[32mfdve\u001b[0m\u001b]8;;\u001b\\\u001b]8;id=805505;https://tidy3d.simulation.cloud/workbench?taskId=fdve-90a49d46-33bf-4c1e-bb0e-de0858a68c1e\u001b\\\u001b[32m-90a49d46-33b\u001b[0m\u001b]8;;\u001b\\\n",
       "\u001b[2;36m             \u001b[0m\u001b]8;id=805505;https://tidy3d.simulation.cloud/workbench?taskId=fdve-90a49d46-33bf-4c1e-bb0e-de0858a68c1e\u001b\\\u001b[32mf-4c1e-bb0e-de0858a68c1e'\u001b[0m\u001b]8;;\u001b\\.                                         \n"
      ]
     },
     "metadata": {},
     "output_type": "display_data"
    },
    {
     "data": {
      "application/vnd.jupyter.widget-view+json": {
       "model_id": "8bb7c264e6a343209a9bfeb7cc72b20d",
       "version_major": 2,
       "version_minor": 0
      },
      "text/plain": [
       "Output()"
      ]
     },
     "metadata": {},
     "output_type": "display_data"
    },
    {
     "data": {
      "text/html": [
       "<pre style=\"white-space:pre;overflow-x:auto;line-height:normal;font-family:Menlo,'DejaVu Sans Mono',consolas,'Courier New',monospace\"></pre>\n"
      ],
      "text/plain": []
     },
     "metadata": {},
     "output_type": "display_data"
    },
    {
     "data": {
      "text/html": [
       "<pre style=\"white-space:pre;overflow-x:auto;line-height:normal;font-family:Menlo,'DejaVu Sans Mono',consolas,'Courier New',monospace\">\n",
       "</pre>\n"
      ],
      "text/plain": [
       "\n"
      ]
     },
     "metadata": {},
     "output_type": "display_data"
    },
    {
     "data": {
      "text/html": [
       "<pre style=\"white-space:pre;overflow-x:auto;line-height:normal;font-family:Menlo,'DejaVu Sans Mono',consolas,'Courier New',monospace\"><span style=\"color: #7fbfbf; text-decoration-color: #7fbfbf\">17:47:49 BST </span>Maximum FlexCredit cost: <span style=\"color: #008080; text-decoration-color: #008080; font-weight: bold\">0.079</span>. Minimum cost depends on task       \n",
       "<span style=\"color: #7fbfbf; text-decoration-color: #7fbfbf\">             </span>execution details. Use <span style=\"color: #008000; text-decoration-color: #008000\">'web.real_cost(task_id)'</span> to get the billed  \n",
       "<span style=\"color: #7fbfbf; text-decoration-color: #7fbfbf\">             </span>FlexCredit cost after a simulation run.                            \n",
       "</pre>\n"
      ],
      "text/plain": [
       "\u001b[2;36m17:47:49 BST\u001b[0m\u001b[2;36m \u001b[0mMaximum FlexCredit cost: \u001b[1;36m0.079\u001b[0m. Minimum cost depends on task       \n",
       "\u001b[2;36m             \u001b[0mexecution details. Use \u001b[32m'web.real_cost\u001b[0m\u001b[32m(\u001b[0m\u001b[32mtask_id\u001b[0m\u001b[32m)\u001b[0m\u001b[32m'\u001b[0m to get the billed  \n",
       "\u001b[2;36m             \u001b[0mFlexCredit cost after a simulation run.                            \n"
      ]
     },
     "metadata": {},
     "output_type": "display_data"
    },
    {
     "data": {
      "text/html": [
       "<pre style=\"white-space:pre;overflow-x:auto;line-height:normal;font-family:Menlo,'DejaVu Sans Mono',consolas,'Courier New',monospace\"><span style=\"color: #7fbfbf; text-decoration-color: #7fbfbf\">             </span>  <span style=\"color: #008080; text-decoration-color: #008080; font-weight: bold\">0.000</span> FlexCredit of the total cost from post-processing.         \n",
       "</pre>\n"
      ],
      "text/plain": [
       "\u001b[2;36m            \u001b[0m\u001b[2;36m \u001b[0m  \u001b[1;36m0.000\u001b[0m FlexCredit of the total cost from post-processing.         \n"
      ]
     },
     "metadata": {},
     "output_type": "display_data"
    },
    {
     "name": "stdout",
     "output_type": "stream",
     "text": [
      "Estimated cost: 0.07931613055651753\n"
     ]
    }
   ],
   "source": [
    "key = jax.random.PRNGKey(0)\n",
    "random_substrate_thickness = jax.random.uniform(key, (2,), minval=sub_dielectric_min_thickness, maxval=sub_dielectric_max_thickness)\n",
    "(key, subkey) = jax.random.split(key)\n",
    "random_cuboid_length = jax.random.uniform(key, (1,), minval=cuboid_min_length, maxval=cuboid_max_length)\n",
    "(key, subkey) = jax.random.split(key)\n",
    "random_cuboid_width = jax.random.uniform(key, (1,), minval=cuboid_min_width, maxval=cuboid_max_width)\n",
    "(key, subkey) = jax.random.split(key)\n",
    "random_cuboid_height = jax.random.uniform(key, (1,), minval=cuboid_min_height, maxval=cuboid_max_height)\n",
    "(key, subkey) = jax.random.split(key)\n",
    "random_design_info = jnp.concatenate([random_substrate_thickness, random_cuboid_length, random_cuboid_width, random_cuboid_height])\n",
    "\n",
    "random_jsim = make_jsim(random_design_info)\n",
    "# random_jsim = make_jsim(None)\n",
    "random_sim, random_jax_info = random_jsim.to_simulation()\n",
    "\n",
    "random_sim.plot_3d()\n",
    "plt.show()\n",
    "\n",
    "random_sim_job = td.web.Job(simulation = random_sim, task_name = \"week05_design_Jax_credit_estimation\", verbose = True)\n",
    "estimated_cost = td.web.estimate_cost(random_sim_job.task_id)\n",
    "print(f\"Estimated cost: {estimated_cost}\")"
   ]
  },
  {
   "cell_type": "markdown",
   "metadata": {},
   "source": [
    "## Objective Function\n",
    "\n",
    "This section will define the objective function and the normalized objective function. For normalized function to be defined, an empty structure flux will be first calculated.  "
   ]
  },
  {
   "cell_type": "markdown",
   "metadata": {},
   "source": [
    "### Process simulation data\n",
    "\n",
    "This step retrieves flux information from the field data at different frequencies."
   ]
  },
  {
   "cell_type": "code",
   "execution_count": 7,
   "metadata": {},
   "outputs": [
    {
     "data": {
      "image/png": "[encoded data removed]",
      "text/plain": [
       "<Figure size 640x480 with 1 Axes>"
      ]
     },
     "metadata": {},
     "output_type": "display_data"
    }
   ],
   "source": [
    "# Create a gaussian distribution that we want to regress to\n",
    "from jax.scipy.stats import norm as jspnorm\n",
    "\n",
    "def find_closest_index(array: jnp.array, value: float) -> int:\n",
    "    idx = (jnp.abs(array - value)).argmin()\n",
    "    return idx\n",
    "\n",
    "gaussian_x = jnp.linspace(freq_range[0] / 1e12, freq_range[1] / 1e12, freq_points)\n",
    "mean_idx = find_closest_index(gaussian_x, freq0 / 1e12)\n",
    "mean = gaussian_x[mean_idx]\n",
    "std_dev = 13.5\n",
    "gaussian_y = jspnorm.pdf(gaussian_x, mean, std_dev)\n",
    "gaussian_y /= jnp.max(gaussian_y)\n",
    "gaussian_y = 1 - gaussian_y\n",
    "\n",
    "plt.plot(gaussian_x, gaussian_y, label=f'Gaussian Peak\\nMean: {mean: .3f} THz\\nStd Dev: {std_dev}')\n",
    "plt.xlabel(\"Frequency (THz)\")\n",
    "plt.ylabel('Desired flux')\n",
    "plt.legend()\n",
    "plt.savefig(\"gaussian_peak.png\")\n",
    "plt.show()"
   ]
  },
  {
   "cell_type": "code",
   "execution_count": 8,
   "metadata": {},
   "outputs": [],
   "source": [
    "flux_history = []\n",
    "\n",
    "def get_flux_from_field_data_v2(jsim_data: JaxSimulationData) -> JaxDataArray:\n",
    "    flux = jsim_data[FIELD_MONITOR_NAME].flux\n",
    "    return flux\n",
    "\n",
    "def evaluate_flux_error_v2(flux: JaxDataArray) -> float:\n",
    "    # Create a gaussian shape penalty array, so that the center deviation will be heavily penalized\n",
    "    penalty_max = 5.0\n",
    "    penalty_min = 1.0\n",
    "    penalty_array = (1 - gaussian_y) * (penalty_max - penalty_min) + penalty_min\n",
    "    error = jnp.sum(jnp.dot(jnp.square(flux.values - gaussian_y), penalty_array))\n",
    "    return error\n",
    "    "
   ]
  },
  {
   "cell_type": "markdown",
   "metadata": {},
   "source": [
    "### Convert param to design information\n",
    "\n",
    "Note that BinaryProjector is compatible with Jax."
   ]
  },
  {
   "cell_type": "code",
   "execution_count": 9,
   "metadata": {},
   "outputs": [],
   "source": [
    "def params_to_slab_info(params: jnp.array) -> jnp.array:\n",
    "    if params is None: \n",
    "        return None\n",
    "\n",
    "    param_thicknesses_0_to_1 = 0.5 * (jnp.tanh(params[:2]) + 1)\n",
    "    param_cuboid_length_0_to_1 = 0.5 * (jnp.tanh(params[2]) + 1)\n",
    "    param_cuboid_width_0_to_1 = 0.5 * (jnp.tanh(params[3]) + 1)\n",
    "    param_cuboid_height_0_to_1 = 0.5 * (jnp.tanh(params[4]) + 1)\n",
    "\n",
    "    binary_projector_thicknesses = BinaryProjector(vmin = sub_dielectric_min_thickness, vmax = sub_dielectric_max_thickness, beta = 1.0)\n",
    "    binary_projector_cuboid_length = BinaryProjector(vmin = cuboid_min_length, vmax = cuboid_max_length, beta = 1.0)\n",
    "    binary_projector_cuboid_width = BinaryProjector(vmin = cuboid_min_width, vmax = cuboid_max_width, beta = 1.0)\n",
    "    binary_projector_cuboid_height = BinaryProjector(vmin = cuboid_min_height, vmax = cuboid_max_height, beta = 1.0)\n",
    "\n",
    "    thicknesses = binary_projector_thicknesses.evaluate(param_thicknesses_0_to_1)\n",
    "    length = binary_projector_cuboid_length.evaluate(param_cuboid_length_0_to_1)\n",
    "    width = binary_projector_cuboid_width.evaluate(param_cuboid_width_0_to_1)\n",
    "    height = binary_projector_cuboid_height.evaluate(param_cuboid_height_0_to_1)\n",
    "\n",
    "    return jnp.concatenate([thicknesses, jnp.array([length, width, height])])"
   ]
  },
  {
   "cell_type": "markdown",
   "metadata": {},
   "source": [
    "### Define the objective function"
   ]
  },
  {
   "cell_type": "code",
   "execution_count": 10,
   "metadata": {},
   "outputs": [],
   "source": [
    "def generate_unique_task(base_path) -> Tuple[str, str]:\n",
    "    i = 0\n",
    "    while True:\n",
    "        new_path = f\"data/{base_path}_{i}.hdf5\"\n",
    "        new_name = f\"task_{base_path}_{i}\"\n",
    "        if not os.path.exists(new_path):\n",
    "            return new_name, new_path\n",
    "        i += 1\n",
    "\n",
    "def objective_fn(params: jnp.array) -> Tuple[float, JaxSimulationData]: \n",
    "    slab_info = params_to_slab_info(params)\n",
    "    jsim = make_jsim(slab_info)\n",
    "    task_name, data_path = generate_unique_task(\"week05_design_jax_objective_fn\")\n",
    "    jsim_data = run_adjoint(jsim, task_name = task_name, verbose = True, path = data_path)\n",
    "    flux = get_flux_from_field_data_v2(jsim_data)\n",
    "    flux_history.append(jsim_data[FLUX_MONITOR_NAME].flux)\n",
    "    error = evaluate_flux_error_v2(flux)\n",
    "    return error, jsim_data\n",
    "\n",
    "val_and_grad_fn = jax.value_and_grad(objective_fn, has_aux = True)"
   ]
  },
  {
   "cell_type": "markdown",
   "metadata": {},
   "source": [
    "### Run an empty structure simulation\n",
    "\n",
    "For this application, there is no need to simulate an empty structure. Thus, the normalized objective function is left empty.\n",
    "\n",
    "However, this section is reserved for framework integrity. "
   ]
  },
  {
   "cell_type": "code",
   "execution_count": null,
   "metadata": {},
   "outputs": [],
   "source": []
  },
  {
   "cell_type": "markdown",
   "metadata": {},
   "source": [
    "### Define the normalized objective function"
   ]
  },
  {
   "cell_type": "code",
   "execution_count": null,
   "metadata": {},
   "outputs": [],
   "source": []
  },
  {
   "cell_type": "markdown",
   "metadata": {},
   "source": [
    "## Optimization\n",
    "\n",
    "### Calculate the initial state\n",
    "\n",
    "An initial state is set with values slightly below the medium values. \n",
    "\n",
    "If 100% sure that the code works as expected, this step can be omitted. The expected output will be some numbers in the gradient array, the same size as the parameter array. "
   ]
  },
  {
   "cell_type": "code",
   "execution_count": 11,
   "metadata": {},
   "outputs": [
    {
     "data": {
      "image/png": "[encoded data removed]",
      "text/plain": [
       "<Figure size 640x480 with 2 Axes>"
      ]
     },
     "metadata": {},
     "output_type": "display_data"
    }
   ],
   "source": [
    "PARAMS0 = -0.1 * jnp.ones(5)\n",
    "\n",
    "jsim_initial = make_jsim(params_to_slab_info(PARAMS0))\n",
    "jsim_initial.plot_eps(x = 0)\n",
    "plt.show()"
   ]
  },
  {
   "cell_type": "code",
   "execution_count": 12,
   "metadata": {},
   "outputs": [],
   "source": [
    "# (val_intial, jsim_data_initial), grad_initial = val_and_grad_fn(PARAMS0)\n",
    "# print(f\"Initial design\\tFlux error: {val_intial}\\tGradient: {grad_initial}\")"
   ]
  },
  {
   "cell_type": "markdown",
   "metadata": {},
   "source": [
    "### Visualize the initial state"
   ]
  },
  {
   "cell_type": "code",
   "execution_count": 13,
   "metadata": {},
   "outputs": [],
   "source": [
    "def plot_flux(itr: int):\n",
    "    flux = flux_history[-1]\n",
    "    plt.figure(figsize = (4, 2))\n",
    "    plt.plot(monitor_freqs / 1e12, flux)\n",
    "    plt.xlabel('Frequency (THz)')\n",
    "    plt.ylabel('Flux')\n",
    "    plt.title(f'Flux at iteration {itr}')\n",
    "    plt.show()"
   ]
  },
  {
   "cell_type": "markdown",
   "metadata": {},
   "source": [
    "### Optimization loop\n",
    "\n",
    "This loop updates the param using the Adam optimizer. \n",
    "\n",
    "To visualize the optimization process, several things are done after each iteration: \n",
    "\n",
    "* Plot the flux spectrum\n",
    "* Plot the cross section of the structure\n"
   ]
  },
  {
   "cell_type": "code",
   "execution_count": 14,
   "metadata": {},
   "outputs": [
    {
     "name": "stdout",
     "output_type": "stream",
     "text": [
      "Iteration 1\n"
     ]
    },
    {
     "data": {
      "text/html": [
       "<pre style=\"white-space:pre;overflow-x:auto;line-height:normal;font-family:Menlo,'DejaVu Sans Mono',consolas,'Courier New',monospace\"><span style=\"color: #7fbfbf; text-decoration-color: #7fbfbf\">17:47:50 BST </span>Created task <span style=\"color: #008000; text-decoration-color: #008000\">'task_week05_design_jax_objective_fn_12_fwd'</span> with     \n",
       "<span style=\"color: #7fbfbf; text-decoration-color: #7fbfbf\">             </span>task_id <span style=\"color: #008000; text-decoration-color: #008000\">'fdve-b16b6737-a514-4d9c-bf30-5b1882d2cc7e'</span> and task_type  \n",
       "<span style=\"color: #7fbfbf; text-decoration-color: #7fbfbf\">             </span><span style=\"color: #008000; text-decoration-color: #008000\">'FDTD'</span>.                                                            \n",
       "</pre>\n"
      ],
      "text/plain": [
       "\u001b[2;36m17:47:50 BST\u001b[0m\u001b[2;36m \u001b[0mCreated task \u001b[32m'task_week05_design_jax_objective_fn_12_fwd'\u001b[0m with     \n",
       "\u001b[2;36m             \u001b[0mtask_id \u001b[32m'fdve-b16b6737-a514-4d9c-bf30-5b1882d2cc7e'\u001b[0m and task_type  \n",
       "\u001b[2;36m             \u001b[0m\u001b[32m'FDTD'\u001b[0m.                                                            \n"
      ]
     },
     "metadata": {},
     "output_type": "display_data"
    },
    {
     "data": {
      "text/html": [
       "<pre style=\"white-space:pre;overflow-x:auto;line-height:normal;font-family:Menlo,'DejaVu Sans Mono',consolas,'Courier New',monospace\"><span style=\"color: #7fbfbf; text-decoration-color: #7fbfbf\">             </span>View task using web UI at                                          \n",
       "<span style=\"color: #7fbfbf; text-decoration-color: #7fbfbf\">             </span><a href=\"https://tidy3d.simulation.cloud/workbench?taskId=fdve-b16b6737-a514-4d9c-bf30-5b1882d2cc7e\" target=\"_blank\"><span style=\"color: #008000; text-decoration-color: #008000\">'https://tidy3d.simulation.cloud/workbench?taskId=fdve-b16b6737-a51</span></a>\n",
       "<span style=\"color: #7fbfbf; text-decoration-color: #7fbfbf\">             </span><a href=\"https://tidy3d.simulation.cloud/workbench?taskId=fdve-b16b6737-a514-4d9c-bf30-5b1882d2cc7e\" target=\"_blank\"><span style=\"color: #008000; text-decoration-color: #008000\">4-4d9c-bf30-5b1882d2cc7e'</span></a>.                                         \n",
       "</pre>\n"
      ],
      "text/plain": [
       "\u001b[2;36m            \u001b[0m\u001b[2;36m \u001b[0mView task using web UI at                                          \n",
       "\u001b[2;36m             \u001b[0m\u001b]8;id=111419;https://tidy3d.simulation.cloud/workbench?taskId=fdve-b16b6737-a514-4d9c-bf30-5b1882d2cc7e\u001b\\\u001b[32m'https://tidy3d.simulation.cloud/workbench?\u001b[0m\u001b]8;;\u001b\\\u001b]8;id=166931;https://tidy3d.simulation.cloud/workbench?taskId=fdve-b16b6737-a514-4d9c-bf30-5b1882d2cc7e\u001b\\\u001b[32mtaskId\u001b[0m\u001b]8;;\u001b\\\u001b]8;id=111419;https://tidy3d.simulation.cloud/workbench?taskId=fdve-b16b6737-a514-4d9c-bf30-5b1882d2cc7e\u001b\\\u001b[32m=\u001b[0m\u001b]8;;\u001b\\\u001b]8;id=441142;https://tidy3d.simulation.cloud/workbench?taskId=fdve-b16b6737-a514-4d9c-bf30-5b1882d2cc7e\u001b\\\u001b[32mfdve\u001b[0m\u001b]8;;\u001b\\\u001b]8;id=111419;https://tidy3d.simulation.cloud/workbench?taskId=fdve-b16b6737-a514-4d9c-bf30-5b1882d2cc7e\u001b\\\u001b[32m-b16b6737-a51\u001b[0m\u001b]8;;\u001b\\\n",
       "\u001b[2;36m             \u001b[0m\u001b]8;id=111419;https://tidy3d.simulation.cloud/workbench?taskId=fdve-b16b6737-a514-4d9c-bf30-5b1882d2cc7e\u001b\\\u001b[32m4-4d9c-bf30-5b1882d2cc7e'\u001b[0m\u001b]8;;\u001b\\.                                         \n"
      ]
     },
     "metadata": {},
     "output_type": "display_data"
    },
    {
     "data": {
      "application/vnd.jupyter.widget-view+json": {
       "model_id": "3abf4af58f18463581020f81ea82af07",
       "version_major": 2,
       "version_minor": 0
      },
      "text/plain": [
       "Output()"
      ]
     },
     "metadata": {},
     "output_type": "display_data"
    },
    {
     "data": {
      "text/html": [
       "<pre style=\"white-space:pre;overflow-x:auto;line-height:normal;font-family:Menlo,'DejaVu Sans Mono',consolas,'Courier New',monospace\"></pre>\n"
      ],
      "text/plain": []
     },
     "metadata": {},
     "output_type": "display_data"
    },
    {
     "data": {
      "text/html": [
       "<pre style=\"white-space:pre;overflow-x:auto;line-height:normal;font-family:Menlo,'DejaVu Sans Mono',consolas,'Courier New',monospace\">\n",
       "</pre>\n"
      ],
      "text/plain": [
       "\n"
      ]
     },
     "metadata": {},
     "output_type": "display_data"
    },
    {
     "data": {
      "text/html": [
       "<pre style=\"white-space:pre;overflow-x:auto;line-height:normal;font-family:Menlo,'DejaVu Sans Mono',consolas,'Courier New',monospace\"><span style=\"color: #7fbfbf; text-decoration-color: #7fbfbf\">17:47:52 BST </span>status = queued                                                    \n",
       "</pre>\n"
      ],
      "text/plain": [
       "\u001b[2;36m17:47:52 BST\u001b[0m\u001b[2;36m \u001b[0mstatus = queued                                                    \n"
      ]
     },
     "metadata": {},
     "output_type": "display_data"
    },
    {
     "data": {
      "text/html": [
       "<pre style=\"white-space:pre;overflow-x:auto;line-height:normal;font-family:Menlo,'DejaVu Sans Mono',consolas,'Courier New',monospace\"><span style=\"color: #7fbfbf; text-decoration-color: #7fbfbf\">             </span>To cancel the simulation, use <span style=\"color: #008000; text-decoration-color: #008000\">'web.abort(task_id)'</span> or              \n",
       "<span style=\"color: #7fbfbf; text-decoration-color: #7fbfbf\">             </span><span style=\"color: #008000; text-decoration-color: #008000\">'web.delete(task_id)'</span> or abort/delete the task in the web UI.      \n",
       "<span style=\"color: #7fbfbf; text-decoration-color: #7fbfbf\">             </span>Terminating the Python script will not stop the job running on the \n",
       "<span style=\"color: #7fbfbf; text-decoration-color: #7fbfbf\">             </span>cloud.                                                             \n",
       "</pre>\n"
      ],
      "text/plain": [
       "\u001b[2;36m            \u001b[0m\u001b[2;36m \u001b[0mTo cancel the simulation, use \u001b[32m'web.abort\u001b[0m\u001b[32m(\u001b[0m\u001b[32mtask_id\u001b[0m\u001b[32m)\u001b[0m\u001b[32m'\u001b[0m or              \n",
       "\u001b[2;36m             \u001b[0m\u001b[32m'web.delete\u001b[0m\u001b[32m(\u001b[0m\u001b[32mtask_id\u001b[0m\u001b[32m)\u001b[0m\u001b[32m'\u001b[0m or abort/delete the task in the web UI.      \n",
       "\u001b[2;36m             \u001b[0mTerminating the Python script will not stop the job running on the \n",
       "\u001b[2;36m             \u001b[0mcloud.                                                             \n"
      ]
     },
     "metadata": {},
     "output_type": "display_data"
    },
    {
     "data": {
      "application/vnd.jupyter.widget-view+json": {
       "model_id": "aef6039309304f82a7658201158ac62e",
       "version_major": 2,
       "version_minor": 0
      },
      "text/plain": [
       "Output()"
      ]
     },
     "metadata": {},
     "output_type": "display_data"
    },
    {
     "data": {
      "text/html": [
       "<pre style=\"white-space:pre;overflow-x:auto;line-height:normal;font-family:Menlo,'DejaVu Sans Mono',consolas,'Courier New',monospace\"><span style=\"color: #7fbfbf; text-decoration-color: #7fbfbf\">17:48:03 BST </span>status = preprocess                                                \n",
       "</pre>\n"
      ],
      "text/plain": [
       "\u001b[2;36m17:48:03 BST\u001b[0m\u001b[2;36m \u001b[0mstatus = preprocess                                                \n"
      ]
     },
     "metadata": {},
     "output_type": "display_data"
    },
    {
     "data": {
      "text/html": [
       "<pre style=\"white-space:pre;overflow-x:auto;line-height:normal;font-family:Menlo,'DejaVu Sans Mono',consolas,'Courier New',monospace\"></pre>\n"
      ],
      "text/plain": []
     },
     "metadata": {},
     "output_type": "display_data"
    },
    {
     "data": {
      "text/html": [
       "<pre style=\"white-space:pre;overflow-x:auto;line-height:normal;font-family:Menlo,'DejaVu Sans Mono',consolas,'Courier New',monospace\"><span style=\"color: #7fbfbf; text-decoration-color: #7fbfbf\">17:48:04 BST </span>You are running this simulation for FREE. Your current plan allows \n",
       "<span style=\"color: #7fbfbf; text-decoration-color: #7fbfbf\">             </span>up to <span style=\"color: #008080; text-decoration-color: #008080; font-weight: bold\">20</span> free non-concurrent simulations per day <span style=\"font-weight: bold\">(</span>under <span style=\"color: #008080; text-decoration-color: #008080; font-weight: bold\">100.</span>0M grid\n",
       "<span style=\"color: #7fbfbf; text-decoration-color: #7fbfbf\">             </span>points and <span style=\"color: #008080; text-decoration-color: #008080; font-weight: bold\">50.</span>0K time steps<span style=\"font-weight: bold\">)</span>                                       \n",
       "</pre>\n"
      ],
      "text/plain": [
       "\u001b[2;36m17:48:04 BST\u001b[0m\u001b[2;36m \u001b[0mYou are running this simulation for FREE. Your current plan allows \n",
       "\u001b[2;36m             \u001b[0mup to \u001b[1;36m20\u001b[0m free non-concurrent simulations per day \u001b[1m(\u001b[0munder \u001b[1;36m100.\u001b[0m0M grid\n",
       "\u001b[2;36m             \u001b[0mpoints and \u001b[1;36m50.\u001b[0m0K time steps\u001b[1m)\u001b[0m                                       \n"
      ]
     },
     "metadata": {},
     "output_type": "display_data"
    },
    {
     "data": {
      "text/html": [
       "<pre style=\"white-space:pre;overflow-x:auto;line-height:normal;font-family:Menlo,'DejaVu Sans Mono',consolas,'Courier New',monospace\"><span style=\"color: #7fbfbf; text-decoration-color: #7fbfbf\">             </span>starting up solver                                                 \n",
       "</pre>\n"
      ],
      "text/plain": [
       "\u001b[2;36m            \u001b[0m\u001b[2;36m \u001b[0mstarting up solver                                                 \n"
      ]
     },
     "metadata": {},
     "output_type": "display_data"
    },
    {
     "data": {
      "text/html": [
       "<pre style=\"white-space:pre;overflow-x:auto;line-height:normal;font-family:Menlo,'DejaVu Sans Mono',consolas,'Courier New',monospace\"><span style=\"color: #7fbfbf; text-decoration-color: #7fbfbf\">             </span>running solver                                                     \n",
       "</pre>\n"
      ],
      "text/plain": [
       "\u001b[2;36m            \u001b[0m\u001b[2;36m \u001b[0mrunning solver                                                     \n"
      ]
     },
     "metadata": {},
     "output_type": "display_data"
    },
    {
     "data": {
      "application/vnd.jupyter.widget-view+json": {
       "model_id": "45e06f09363049048a853fd803816ac9",
       "version_major": 2,
       "version_minor": 0
      },
      "text/plain": [
       "Output()"
      ]
     },
     "metadata": {},
     "output_type": "display_data"
    },
    {
     "data": {
      "text/html": [
       "<pre style=\"white-space:pre;overflow-x:auto;line-height:normal;font-family:Menlo,'DejaVu Sans Mono',consolas,'Courier New',monospace\"></pre>\n"
      ],
      "text/plain": []
     },
     "metadata": {},
     "output_type": "display_data"
    },
    {
     "data": {
      "text/html": [
       "<pre style=\"white-space:pre;overflow-x:auto;line-height:normal;font-family:Menlo,'DejaVu Sans Mono',consolas,'Courier New',monospace\">\n",
       "</pre>\n"
      ],
      "text/plain": [
       "\n"
      ]
     },
     "metadata": {},
     "output_type": "display_data"
    },
    {
     "data": {
      "text/html": [
       "<pre style=\"white-space:pre;overflow-x:auto;line-height:normal;font-family:Menlo,'DejaVu Sans Mono',consolas,'Courier New',monospace\"><span style=\"color: #7fbfbf; text-decoration-color: #7fbfbf\">17:51:47 BST </span>status = postprocess                                               \n",
       "</pre>\n"
      ],
      "text/plain": [
       "\u001b[2;36m17:51:47 BST\u001b[0m\u001b[2;36m \u001b[0mstatus = postprocess                                               \n"
      ]
     },
     "metadata": {},
     "output_type": "display_data"
    },
    {
     "data": {
      "application/vnd.jupyter.widget-view+json": {
       "model_id": "48aae03c8065402482d430dce62a041d",
       "version_major": 2,
       "version_minor": 0
      },
      "text/plain": [
       "Output()"
      ]
     },
     "metadata": {},
     "output_type": "display_data"
    },
    {
     "data": {
      "text/html": [
       "<pre style=\"white-space:pre;overflow-x:auto;line-height:normal;font-family:Menlo,'DejaVu Sans Mono',consolas,'Courier New',monospace\"><span style=\"color: #7fbfbf; text-decoration-color: #7fbfbf\">17:52:05 BST </span>status = success                                                   \n",
       "</pre>\n"
      ],
      "text/plain": [
       "\u001b[2;36m17:52:05 BST\u001b[0m\u001b[2;36m \u001b[0mstatus = success                                                   \n"
      ]
     },
     "metadata": {},
     "output_type": "display_data"
    },
    {
     "data": {
      "text/html": [
       "<pre style=\"white-space:pre;overflow-x:auto;line-height:normal;font-family:Menlo,'DejaVu Sans Mono',consolas,'Courier New',monospace\"></pre>\n"
      ],
      "text/plain": []
     },
     "metadata": {},
     "output_type": "display_data"
    },
    {
     "data": {
      "text/html": [
       "<pre style=\"white-space:pre;overflow-x:auto;line-height:normal;font-family:Menlo,'DejaVu Sans Mono',consolas,'Courier New',monospace\"><span style=\"color: #7fbfbf; text-decoration-color: #7fbfbf\">             </span>View simulation result at                                          \n",
       "<span style=\"color: #7fbfbf; text-decoration-color: #7fbfbf\">             </span><a href=\"https://tidy3d.simulation.cloud/workbench?taskId=fdve-b16b6737-a514-4d9c-bf30-5b1882d2cc7e\" target=\"_blank\"><span style=\"color: #000080; text-decoration-color: #000080; text-decoration: underline\">'https://tidy3d.simulation.cloud/workbench?taskId=fdve-b16b6737-a51</span></a>\n",
       "<span style=\"color: #7fbfbf; text-decoration-color: #7fbfbf\">             </span><a href=\"https://tidy3d.simulation.cloud/workbench?taskId=fdve-b16b6737-a514-4d9c-bf30-5b1882d2cc7e\" target=\"_blank\"><span style=\"color: #000080; text-decoration-color: #000080; text-decoration: underline\">4-4d9c-bf30-5b1882d2cc7e'</span></a><span style=\"color: #000080; text-decoration-color: #000080; text-decoration: underline\">.</span>                                         \n",
       "</pre>\n"
      ],
      "text/plain": [
       "\u001b[2;36m            \u001b[0m\u001b[2;36m \u001b[0mView simulation result at                                          \n",
       "\u001b[2;36m             \u001b[0m\u001b]8;id=42618;https://tidy3d.simulation.cloud/workbench?taskId=fdve-b16b6737-a514-4d9c-bf30-5b1882d2cc7e\u001b\\\u001b[4;34m'https://tidy3d.simulation.cloud/workbench?\u001b[0m\u001b]8;;\u001b\\\u001b]8;id=431375;https://tidy3d.simulation.cloud/workbench?taskId=fdve-b16b6737-a514-4d9c-bf30-5b1882d2cc7e\u001b\\\u001b[4;34mtaskId\u001b[0m\u001b]8;;\u001b\\\u001b]8;id=42618;https://tidy3d.simulation.cloud/workbench?taskId=fdve-b16b6737-a514-4d9c-bf30-5b1882d2cc7e\u001b\\\u001b[4;34m=\u001b[0m\u001b]8;;\u001b\\\u001b]8;id=228954;https://tidy3d.simulation.cloud/workbench?taskId=fdve-b16b6737-a514-4d9c-bf30-5b1882d2cc7e\u001b\\\u001b[4;34mfdve\u001b[0m\u001b]8;;\u001b\\\u001b]8;id=42618;https://tidy3d.simulation.cloud/workbench?taskId=fdve-b16b6737-a514-4d9c-bf30-5b1882d2cc7e\u001b\\\u001b[4;34m-b16b6737-a51\u001b[0m\u001b]8;;\u001b\\\n",
       "\u001b[2;36m             \u001b[0m\u001b]8;id=42618;https://tidy3d.simulation.cloud/workbench?taskId=fdve-b16b6737-a514-4d9c-bf30-5b1882d2cc7e\u001b\\\u001b[4;34m4-4d9c-bf30-5b1882d2cc7e'\u001b[0m\u001b]8;;\u001b\\\u001b[4;34m.\u001b[0m                                         \n"
      ]
     },
     "metadata": {},
     "output_type": "display_data"
    },
    {
     "data": {
      "application/vnd.jupyter.widget-view+json": {
       "model_id": "7121c14fe3264bb8b3f518377ace0e30",
       "version_major": 2,
       "version_minor": 0
      },
      "text/plain": [
       "Output()"
      ]
     },
     "metadata": {},
     "output_type": "display_data"
    },
    {
     "data": {
      "text/html": [
       "<pre style=\"white-space:pre;overflow-x:auto;line-height:normal;font-family:Menlo,'DejaVu Sans Mono',consolas,'Courier New',monospace\"></pre>\n"
      ],
      "text/plain": []
     },
     "metadata": {},
     "output_type": "display_data"
    },
    {
     "data": {
      "text/html": [
       "<pre style=\"white-space:pre;overflow-x:auto;line-height:normal;font-family:Menlo,'DejaVu Sans Mono',consolas,'Courier New',monospace\">\n",
       "</pre>\n"
      ],
      "text/plain": [
       "\n"
      ]
     },
     "metadata": {},
     "output_type": "display_data"
    },
    {
     "data": {
      "text/html": [
       "<pre style=\"white-space:pre;overflow-x:auto;line-height:normal;font-family:Menlo,'DejaVu Sans Mono',consolas,'Courier New',monospace\"><span style=\"color: #7fbfbf; text-decoration-color: #7fbfbf\">17:52:22 BST </span>loading simulation from data/week05_design_jax_objective_fn_12.hdf5\n",
       "</pre>\n"
      ],
      "text/plain": [
       "\u001b[2;36m17:52:22 BST\u001b[0m\u001b[2;36m \u001b[0mloading simulation from data/week05_design_jax_objective_fn_12.hdf5\n"
      ]
     },
     "metadata": {},
     "output_type": "display_data"
    },
    {
     "data": {
      "text/html": [
       "<pre style=\"white-space:pre;overflow-x:auto;line-height:normal;font-family:Menlo,'DejaVu Sans Mono',consolas,'Courier New',monospace\"><span style=\"color: #7fbfbf; text-decoration-color: #7fbfbf\">             </span><span style=\"color: #800000; text-decoration-color: #800000\">WARNING: Simulation final field decay value of </span><span style=\"color: #008080; text-decoration-color: #008080; font-weight: bold\">3.73e-05</span><span style=\"color: #800000; text-decoration-color: #800000\"> is greater </span>\n",
       "<span style=\"color: #7fbfbf; text-decoration-color: #7fbfbf\">             </span><span style=\"color: #800000; text-decoration-color: #800000\">than the simulation shutoff threshold of </span><span style=\"color: #008080; text-decoration-color: #008080; font-weight: bold\">1e-06</span><span style=\"color: #800000; text-decoration-color: #800000\">. Consider running   </span>\n",
       "<span style=\"color: #7fbfbf; text-decoration-color: #7fbfbf\">             </span><span style=\"color: #800000; text-decoration-color: #800000\">the simulation again with a larger </span><span style=\"color: #008000; text-decoration-color: #008000\">'run_time'</span><span style=\"color: #800000; text-decoration-color: #800000\"> duration for more    </span>\n",
       "<span style=\"color: #7fbfbf; text-decoration-color: #7fbfbf\">             </span><span style=\"color: #800000; text-decoration-color: #800000\">accurate results.                                                  </span>\n",
       "</pre>\n"
      ],
      "text/plain": [
       "\u001b[2;36m            \u001b[0m\u001b[2;36m \u001b[0m\u001b[31mWARNING: Simulation final field decay value of \u001b[0m\u001b[1;36m3.73e-05\u001b[0m\u001b[31m is greater \u001b[0m\n",
       "\u001b[2;36m             \u001b[0m\u001b[31mthan the simulation shutoff threshold of \u001b[0m\u001b[1;36m1e-06\u001b[0m\u001b[31m. Consider running   \u001b[0m\n",
       "\u001b[2;36m             \u001b[0m\u001b[31mthe simulation again with a larger \u001b[0m\u001b[32m'run_time'\u001b[0m\u001b[31m duration for more    \u001b[0m\n",
       "\u001b[2;36m             \u001b[0m\u001b[31maccurate results.                                                  \u001b[0m\n"
      ]
     },
     "metadata": {},
     "output_type": "display_data"
    },
    {
     "data": {
      "text/html": [
       "<pre style=\"white-space:pre;overflow-x:auto;line-height:normal;font-family:Menlo,'DejaVu Sans Mono',consolas,'Courier New',monospace\"><span style=\"color: #7fbfbf; text-decoration-color: #7fbfbf\">17:52:24 BST </span><span style=\"color: #800000; text-decoration-color: #800000\">WARNING: </span><span style=\"color: #008080; text-decoration-color: #008080; font-weight: bold\">101</span><span style=\"color: #800000; text-decoration-color: #800000\"> unique frequencies detected in the output monitors    </span>\n",
       "<span style=\"color: #7fbfbf; text-decoration-color: #7fbfbf\">             </span><span style=\"color: #800000; text-decoration-color: #800000\">with a minimum spacing of </span><span style=\"color: #008080; text-decoration-color: #008080; font-weight: bold\">1.713e+12</span><span style=\"color: #800000; text-decoration-color: #800000\"> </span><span style=\"color: #800000; text-decoration-color: #800000; font-weight: bold\">(</span><span style=\"color: #800000; text-decoration-color: #800000\">Hz</span><span style=\"color: #800000; text-decoration-color: #800000; font-weight: bold\">)</span><span style=\"color: #800000; text-decoration-color: #800000\">. Setting the </span><span style=\"color: #008000; text-decoration-color: #008000\">'fwidth'</span><span style=\"color: #800000; text-decoration-color: #800000\"> of  </span>\n",
       "<span style=\"color: #7fbfbf; text-decoration-color: #7fbfbf\">             </span><span style=\"color: #800000; text-decoration-color: #800000\">the adjoint sources to </span><span style=\"color: #008080; text-decoration-color: #008080; font-weight: bold\">0.1</span><span style=\"color: #800000; text-decoration-color: #800000\"> times this value = </span><span style=\"color: #008080; text-decoration-color: #008080; font-weight: bold\">1.713e+11</span><span style=\"color: #800000; text-decoration-color: #800000\"> </span><span style=\"color: #800000; text-decoration-color: #800000; font-weight: bold\">(</span><span style=\"color: #800000; text-decoration-color: #800000\">Hz</span><span style=\"color: #800000; text-decoration-color: #800000; font-weight: bold\">)</span><span style=\"color: #800000; text-decoration-color: #800000\"> to    </span>\n",
       "<span style=\"color: #7fbfbf; text-decoration-color: #7fbfbf\">             </span><span style=\"color: #800000; text-decoration-color: #800000\">avoid spectral overlap. To account for this, the corresponding     </span>\n",
       "<span style=\"color: #7fbfbf; text-decoration-color: #7fbfbf\">             </span><span style=\"color: #008000; text-decoration-color: #008000\">'run_time'</span><span style=\"color: #800000; text-decoration-color: #800000\"> in the adjoint simulation is will be set to </span><span style=\"color: #008080; text-decoration-color: #008080; font-weight: bold\">7.458864e-11</span>\n",
       "<span style=\"color: #7fbfbf; text-decoration-color: #7fbfbf\">             </span><span style=\"color: #800000; text-decoration-color: #800000\">compared to </span><span style=\"color: #008080; text-decoration-color: #008080; font-weight: bold\">1.621492e-11</span><span style=\"color: #800000; text-decoration-color: #800000\"> in the forward simulation. If the adjoint </span>\n",
       "<span style=\"color: #7fbfbf; text-decoration-color: #7fbfbf\">             </span><span style=\"color: #008000; text-decoration-color: #008000\">'run_time'</span><span style=\"color: #800000; text-decoration-color: #800000\"> is large due to small frequency spacing, it could be    </span>\n",
       "<span style=\"color: #7fbfbf; text-decoration-color: #7fbfbf\">             </span><span style=\"color: #800000; text-decoration-color: #800000\">better to instead run one simulation per frequency, which can be   </span>\n",
       "<span style=\"color: #7fbfbf; text-decoration-color: #7fbfbf\">             </span><span style=\"color: #800000; text-decoration-color: #800000\">done in parallel using </span><span style=\"color: #008000; text-decoration-color: #008000\">'tidy3d.plugins.adjoint.web.run_async'</span><span style=\"color: #800000; text-decoration-color: #800000\">.     </span>\n",
       "</pre>\n"
      ],
      "text/plain": [
       "\u001b[2;36m17:52:24 BST\u001b[0m\u001b[2;36m \u001b[0m\u001b[31mWARNING: \u001b[0m\u001b[1;36m101\u001b[0m\u001b[31m unique frequencies detected in the output monitors    \u001b[0m\n",
       "\u001b[2;36m             \u001b[0m\u001b[31mwith a minimum spacing of \u001b[0m\u001b[1;36m1.713e+12\u001b[0m\u001b[31m \u001b[0m\u001b[1;31m(\u001b[0m\u001b[31mHz\u001b[0m\u001b[1;31m)\u001b[0m\u001b[31m. Setting the \u001b[0m\u001b[32m'fwidth'\u001b[0m\u001b[31m of  \u001b[0m\n",
       "\u001b[2;36m             \u001b[0m\u001b[31mthe adjoint sources to \u001b[0m\u001b[1;36m0.1\u001b[0m\u001b[31m times this value = \u001b[0m\u001b[1;36m1.713e+11\u001b[0m\u001b[31m \u001b[0m\u001b[1;31m(\u001b[0m\u001b[31mHz\u001b[0m\u001b[1;31m)\u001b[0m\u001b[31m to    \u001b[0m\n",
       "\u001b[2;36m             \u001b[0m\u001b[31mavoid spectral overlap. To account for this, the corresponding     \u001b[0m\n",
       "\u001b[2;36m             \u001b[0m\u001b[32m'run_time'\u001b[0m\u001b[31m in the adjoint simulation is will be set to \u001b[0m\u001b[1;36m7.458864e-11\u001b[0m\n",
       "\u001b[2;36m             \u001b[0m\u001b[31mcompared to \u001b[0m\u001b[1;36m1.621492e-11\u001b[0m\u001b[31m in the forward simulation. If the adjoint \u001b[0m\n",
       "\u001b[2;36m             \u001b[0m\u001b[32m'run_time'\u001b[0m\u001b[31m is large due to small frequency spacing, it could be    \u001b[0m\n",
       "\u001b[2;36m             \u001b[0m\u001b[31mbetter to instead run one simulation per frequency, which can be   \u001b[0m\n",
       "\u001b[2;36m             \u001b[0m\u001b[31mdone in parallel using \u001b[0m\u001b[32m'tidy3d.plugins.adjoint.web.run_async'\u001b[0m\u001b[31m.     \u001b[0m\n"
      ]
     },
     "metadata": {},
     "output_type": "display_data"
    },
    {
     "data": {
      "text/html": [
       "<pre style=\"white-space:pre;overflow-x:auto;line-height:normal;font-family:Menlo,'DejaVu Sans Mono',consolas,'Courier New',monospace\"><span style=\"color: #7fbfbf; text-decoration-color: #7fbfbf\">17:52:28 BST </span><span style=\"color: #800000; text-decoration-color: #800000\">WARNING: Simulation has </span><span style=\"color: #008080; text-decoration-color: #008080; font-weight: bold\">3.16e+06</span><span style=\"color: #800000; text-decoration-color: #800000\"> time steps. The </span><span style=\"color: #008000; text-decoration-color: #008000\">'run_time'</span><span style=\"color: #800000; text-decoration-color: #800000\"> may be </span>\n",
       "<span style=\"color: #7fbfbf; text-decoration-color: #7fbfbf\">             </span><span style=\"color: #800000; text-decoration-color: #800000\">unnecessarily large, unless there are very long-lived resonances.  </span>\n",
       "</pre>\n"
      ],
      "text/plain": [
       "\u001b[2;36m17:52:28 BST\u001b[0m\u001b[2;36m \u001b[0m\u001b[31mWARNING: Simulation has \u001b[0m\u001b[1;36m3.16e+06\u001b[0m\u001b[31m time steps. The \u001b[0m\u001b[32m'run_time'\u001b[0m\u001b[31m may be \u001b[0m\n",
       "\u001b[2;36m             \u001b[0m\u001b[31munnecessarily large, unless there are very long-lived resonances.  \u001b[0m\n"
      ]
     },
     "metadata": {},
     "output_type": "display_data"
    },
    {
     "data": {
      "text/html": [
       "<pre style=\"white-space:pre;overflow-x:auto;line-height:normal;font-family:Menlo,'DejaVu Sans Mono',consolas,'Courier New',monospace\"><span style=\"color: #7fbfbf; text-decoration-color: #7fbfbf\">             </span>Created task <span style=\"color: #008000; text-decoration-color: #008000\">'task_week05_design_jax_objective_fn_12_adj'</span> with     \n",
       "<span style=\"color: #7fbfbf; text-decoration-color: #7fbfbf\">             </span>task_id <span style=\"color: #008000; text-decoration-color: #008000\">'fdve-b3f6a2f2-45e5-4a3f-acd1-fd05994819f0'</span> and task_type  \n",
       "<span style=\"color: #7fbfbf; text-decoration-color: #7fbfbf\">             </span><span style=\"color: #008000; text-decoration-color: #008000\">'FDTD'</span>.                                                            \n",
       "</pre>\n"
      ],
      "text/plain": [
       "\u001b[2;36m            \u001b[0m\u001b[2;36m \u001b[0mCreated task \u001b[32m'task_week05_design_jax_objective_fn_12_adj'\u001b[0m with     \n",
       "\u001b[2;36m             \u001b[0mtask_id \u001b[32m'fdve-b3f6a2f2-45e5-4a3f-acd1-fd05994819f0'\u001b[0m and task_type  \n",
       "\u001b[2;36m             \u001b[0m\u001b[32m'FDTD'\u001b[0m.                                                            \n"
      ]
     },
     "metadata": {},
     "output_type": "display_data"
    },
    {
     "data": {
      "text/html": [
       "<pre style=\"white-space:pre;overflow-x:auto;line-height:normal;font-family:Menlo,'DejaVu Sans Mono',consolas,'Courier New',monospace\"><span style=\"color: #7fbfbf; text-decoration-color: #7fbfbf\">             </span>View task using web UI at                                          \n",
       "<span style=\"color: #7fbfbf; text-decoration-color: #7fbfbf\">             </span><a href=\"https://tidy3d.simulation.cloud/workbench?taskId=fdve-b3f6a2f2-45e5-4a3f-acd1-fd05994819f0\" target=\"_blank\"><span style=\"color: #008000; text-decoration-color: #008000\">'https://tidy3d.simulation.cloud/workbench?taskId=fdve-b3f6a2f2-45e</span></a>\n",
       "<span style=\"color: #7fbfbf; text-decoration-color: #7fbfbf\">             </span><a href=\"https://tidy3d.simulation.cloud/workbench?taskId=fdve-b3f6a2f2-45e5-4a3f-acd1-fd05994819f0\" target=\"_blank\"><span style=\"color: #008000; text-decoration-color: #008000\">5-4a3f-acd1-fd05994819f0'</span></a>.                                         \n",
       "</pre>\n"
      ],
      "text/plain": [
       "\u001b[2;36m            \u001b[0m\u001b[2;36m \u001b[0mView task using web UI at                                          \n",
       "\u001b[2;36m             \u001b[0m\u001b]8;id=56524;https://tidy3d.simulation.cloud/workbench?taskId=fdve-b3f6a2f2-45e5-4a3f-acd1-fd05994819f0\u001b\\\u001b[32m'https://tidy3d.simulation.cloud/workbench?\u001b[0m\u001b]8;;\u001b\\\u001b]8;id=116836;https://tidy3d.simulation.cloud/workbench?taskId=fdve-b3f6a2f2-45e5-4a3f-acd1-fd05994819f0\u001b\\\u001b[32mtaskId\u001b[0m\u001b]8;;\u001b\\\u001b]8;id=56524;https://tidy3d.simulation.cloud/workbench?taskId=fdve-b3f6a2f2-45e5-4a3f-acd1-fd05994819f0\u001b\\\u001b[32m=\u001b[0m\u001b]8;;\u001b\\\u001b]8;id=96214;https://tidy3d.simulation.cloud/workbench?taskId=fdve-b3f6a2f2-45e5-4a3f-acd1-fd05994819f0\u001b\\\u001b[32mfdve\u001b[0m\u001b]8;;\u001b\\\u001b]8;id=56524;https://tidy3d.simulation.cloud/workbench?taskId=fdve-b3f6a2f2-45e5-4a3f-acd1-fd05994819f0\u001b\\\u001b[32m-b3f6a2f2-45e\u001b[0m\u001b]8;;\u001b\\\n",
       "\u001b[2;36m             \u001b[0m\u001b]8;id=56524;https://tidy3d.simulation.cloud/workbench?taskId=fdve-b3f6a2f2-45e5-4a3f-acd1-fd05994819f0\u001b\\\u001b[32m5-4a3f-acd1-fd05994819f0'\u001b[0m\u001b]8;;\u001b\\.                                         \n"
      ]
     },
     "metadata": {},
     "output_type": "display_data"
    },
    {
     "data": {
      "application/vnd.jupyter.widget-view+json": {
       "model_id": "213adcc1c5af4188b4fb2474c01d64a6",
       "version_major": 2,
       "version_minor": 0
      },
      "text/plain": [
       "Output()"
      ]
     },
     "metadata": {},
     "output_type": "display_data"
    },
    {
     "data": {
      "text/html": [
       "<pre style=\"white-space:pre;overflow-x:auto;line-height:normal;font-family:Menlo,'DejaVu Sans Mono',consolas,'Courier New',monospace\"></pre>\n"
      ],
      "text/plain": []
     },
     "metadata": {},
     "output_type": "display_data"
    },
    {
     "data": {
      "text/html": [
       "<pre style=\"white-space:pre;overflow-x:auto;line-height:normal;font-family:Menlo,'DejaVu Sans Mono',consolas,'Courier New',monospace\">\n",
       "</pre>\n"
      ],
      "text/plain": [
       "\n"
      ]
     },
     "metadata": {},
     "output_type": "display_data"
    },
    {
     "data": {
      "text/html": [
       "<pre style=\"white-space:pre;overflow-x:auto;line-height:normal;font-family:Menlo,'DejaVu Sans Mono',consolas,'Courier New',monospace\"><span style=\"color: #7fbfbf; text-decoration-color: #7fbfbf\">17:52:40 BST </span>status = queued                                                    \n",
       "</pre>\n"
      ],
      "text/plain": [
       "\u001b[2;36m17:52:40 BST\u001b[0m\u001b[2;36m \u001b[0mstatus = queued                                                    \n"
      ]
     },
     "metadata": {},
     "output_type": "display_data"
    },
    {
     "data": {
      "text/html": [
       "<pre style=\"white-space:pre;overflow-x:auto;line-height:normal;font-family:Menlo,'DejaVu Sans Mono',consolas,'Courier New',monospace\"><span style=\"color: #7fbfbf; text-decoration-color: #7fbfbf\">             </span>To cancel the simulation, use <span style=\"color: #008000; text-decoration-color: #008000\">'web.abort(task_id)'</span> or              \n",
       "<span style=\"color: #7fbfbf; text-decoration-color: #7fbfbf\">             </span><span style=\"color: #008000; text-decoration-color: #008000\">'web.delete(task_id)'</span> or abort/delete the task in the web UI.      \n",
       "<span style=\"color: #7fbfbf; text-decoration-color: #7fbfbf\">             </span>Terminating the Python script will not stop the job running on the \n",
       "<span style=\"color: #7fbfbf; text-decoration-color: #7fbfbf\">             </span>cloud.                                                             \n",
       "</pre>\n"
      ],
      "text/plain": [
       "\u001b[2;36m            \u001b[0m\u001b[2;36m \u001b[0mTo cancel the simulation, use \u001b[32m'web.abort\u001b[0m\u001b[32m(\u001b[0m\u001b[32mtask_id\u001b[0m\u001b[32m)\u001b[0m\u001b[32m'\u001b[0m or              \n",
       "\u001b[2;36m             \u001b[0m\u001b[32m'web.delete\u001b[0m\u001b[32m(\u001b[0m\u001b[32mtask_id\u001b[0m\u001b[32m)\u001b[0m\u001b[32m'\u001b[0m or abort/delete the task in the web UI.      \n",
       "\u001b[2;36m             \u001b[0mTerminating the Python script will not stop the job running on the \n",
       "\u001b[2;36m             \u001b[0mcloud.                                                             \n"
      ]
     },
     "metadata": {},
     "output_type": "display_data"
    },
    {
     "data": {
      "application/vnd.jupyter.widget-view+json": {
       "model_id": "cd193a11909e420995833dd644698ae9",
       "version_major": 2,
       "version_minor": 0
      },
      "text/plain": [
       "Output()"
      ]
     },
     "metadata": {},
     "output_type": "display_data"
    },
    {
     "data": {
      "text/html": [
       "<pre style=\"white-space:pre;overflow-x:auto;line-height:normal;font-family:Menlo,'DejaVu Sans Mono',consolas,'Courier New',monospace\"><span style=\"color: #7fbfbf; text-decoration-color: #7fbfbf\">17:52:49 BST </span>status = preprocess                                                \n",
       "</pre>\n"
      ],
      "text/plain": [
       "\u001b[2;36m17:52:49 BST\u001b[0m\u001b[2;36m \u001b[0mstatus = preprocess                                                \n"
      ]
     },
     "metadata": {},
     "output_type": "display_data"
    },
    {
     "data": {
      "text/html": [
       "<pre style=\"white-space:pre;overflow-x:auto;line-height:normal;font-family:Menlo,'DejaVu Sans Mono',consolas,'Courier New',monospace\"></pre>\n"
      ],
      "text/plain": []
     },
     "metadata": {},
     "output_type": "display_data"
    },
    {
     "data": {
      "text/html": [
       "<pre style=\"white-space:pre;overflow-x:auto;line-height:normal;font-family:Menlo,'DejaVu Sans Mono',consolas,'Courier New',monospace\"><span style=\"color: #7fbfbf; text-decoration-color: #7fbfbf\">17:53:41 BST </span>Maximum FlexCredit cost: <span style=\"color: #008080; text-decoration-color: #008080; font-weight: bold\">0.623</span>. Use <span style=\"color: #008000; text-decoration-color: #008000\">'web.real_cost(task_id)'</span> to get\n",
       "<span style=\"color: #7fbfbf; text-decoration-color: #7fbfbf\">             </span>the billed FlexCredit cost after a simulation run.                 \n",
       "</pre>\n"
      ],
      "text/plain": [
       "\u001b[2;36m17:53:41 BST\u001b[0m\u001b[2;36m \u001b[0mMaximum FlexCredit cost: \u001b[1;36m0.623\u001b[0m. Use \u001b[32m'web.real_cost\u001b[0m\u001b[32m(\u001b[0m\u001b[32mtask_id\u001b[0m\u001b[32m)\u001b[0m\u001b[32m'\u001b[0m to get\n",
       "\u001b[2;36m             \u001b[0mthe billed FlexCredit cost after a simulation run.                 \n"
      ]
     },
     "metadata": {},
     "output_type": "display_data"
    },
    {
     "data": {
      "text/html": [
       "<pre style=\"white-space:pre;overflow-x:auto;line-height:normal;font-family:Menlo,'DejaVu Sans Mono',consolas,'Courier New',monospace\"><span style=\"color: #7fbfbf; text-decoration-color: #7fbfbf\">             </span>starting up solver                                                 \n",
       "</pre>\n"
      ],
      "text/plain": [
       "\u001b[2;36m            \u001b[0m\u001b[2;36m \u001b[0mstarting up solver                                                 \n"
      ]
     },
     "metadata": {},
     "output_type": "display_data"
    },
    {
     "data": {
      "text/html": [
       "<pre style=\"white-space:pre;overflow-x:auto;line-height:normal;font-family:Menlo,'DejaVu Sans Mono',consolas,'Courier New',monospace\"><span style=\"color: #7fbfbf; text-decoration-color: #7fbfbf\">             </span>running solver                                                     \n",
       "</pre>\n"
      ],
      "text/plain": [
       "\u001b[2;36m            \u001b[0m\u001b[2;36m \u001b[0mrunning solver                                                     \n"
      ]
     },
     "metadata": {},
     "output_type": "display_data"
    },
    {
     "data": {
      "application/vnd.jupyter.widget-view+json": {
       "model_id": "6b1217cb596b498e891b45b01504f41d",
       "version_major": 2,
       "version_minor": 0
      },
      "text/plain": [
       "Output()"
      ]
     },
     "metadata": {},
     "output_type": "display_data"
    },
    {
     "data": {
      "text/html": [
       "<pre style=\"white-space:pre;overflow-x:auto;line-height:normal;font-family:Menlo,'DejaVu Sans Mono',consolas,'Courier New',monospace\"><span style=\"color: #7fbfbf; text-decoration-color: #7fbfbf\">18:00:11 BST </span>early shutoff detected at <span style=\"color: #008080; text-decoration-color: #008080; font-weight: bold\">12</span>%, exiting.                            \n",
       "</pre>\n"
      ],
      "text/plain": [
       "\u001b[2;36m18:00:11 BST\u001b[0m\u001b[2;36m \u001b[0mearly shutoff detected at \u001b[1;36m12\u001b[0m%, exiting.                            \n"
      ]
     },
     "metadata": {},
     "output_type": "display_data"
    },
    {
     "data": {
      "text/html": [
       "<pre style=\"white-space:pre;overflow-x:auto;line-height:normal;font-family:Menlo,'DejaVu Sans Mono',consolas,'Courier New',monospace\"></pre>\n"
      ],
      "text/plain": []
     },
     "metadata": {},
     "output_type": "display_data"
    },
    {
     "data": {
      "text/html": [
       "<pre style=\"white-space:pre;overflow-x:auto;line-height:normal;font-family:Menlo,'DejaVu Sans Mono',consolas,'Courier New',monospace\">\n",
       "</pre>\n"
      ],
      "text/plain": [
       "\n"
      ]
     },
     "metadata": {},
     "output_type": "display_data"
    },
    {
     "data": {
      "text/html": [
       "<pre style=\"white-space:pre;overflow-x:auto;line-height:normal;font-family:Menlo,'DejaVu Sans Mono',consolas,'Courier New',monospace\"><span style=\"color: #7fbfbf; text-decoration-color: #7fbfbf\">             </span>status = postprocess                                               \n",
       "</pre>\n"
      ],
      "text/plain": [
       "\u001b[2;36m            \u001b[0m\u001b[2;36m \u001b[0mstatus = postprocess                                               \n"
      ]
     },
     "metadata": {},
     "output_type": "display_data"
    },
    {
     "data": {
      "application/vnd.jupyter.widget-view+json": {
       "model_id": "8e6f5e41aa1b4f07a0d70e42a20561d5",
       "version_major": 2,
       "version_minor": 0
      },
      "text/plain": [
       "Output()"
      ]
     },
     "metadata": {},
     "output_type": "display_data"
    },
    {
     "data": {
      "text/html": [
       "<pre style=\"white-space:pre;overflow-x:auto;line-height:normal;font-family:Menlo,'DejaVu Sans Mono',consolas,'Courier New',monospace\"><span style=\"color: #7fbfbf; text-decoration-color: #7fbfbf\">18:00:26 BST </span>status = success                                                   \n",
       "</pre>\n"
      ],
      "text/plain": [
       "\u001b[2;36m18:00:26 BST\u001b[0m\u001b[2;36m \u001b[0mstatus = success                                                   \n"
      ]
     },
     "metadata": {},
     "output_type": "display_data"
    },
    {
     "data": {
      "text/html": [
       "<pre style=\"white-space:pre;overflow-x:auto;line-height:normal;font-family:Menlo,'DejaVu Sans Mono',consolas,'Courier New',monospace\"></pre>\n"
      ],
      "text/plain": []
     },
     "metadata": {},
     "output_type": "display_data"
    },
    {
     "data": {
      "text/html": [
       "<pre style=\"white-space:pre;overflow-x:auto;line-height:normal;font-family:Menlo,'DejaVu Sans Mono',consolas,'Courier New',monospace\"><span style=\"color: #7fbfbf; text-decoration-color: #7fbfbf\">             </span>View simulation result at                                          \n",
       "<span style=\"color: #7fbfbf; text-decoration-color: #7fbfbf\">             </span><a href=\"https://tidy3d.simulation.cloud/workbench?taskId=fdve-b3f6a2f2-45e5-4a3f-acd1-fd05994819f0\" target=\"_blank\"><span style=\"color: #000080; text-decoration-color: #000080; text-decoration: underline\">'https://tidy3d.simulation.cloud/workbench?taskId=fdve-b3f6a2f2-45e</span></a>\n",
       "<span style=\"color: #7fbfbf; text-decoration-color: #7fbfbf\">             </span><a href=\"https://tidy3d.simulation.cloud/workbench?taskId=fdve-b3f6a2f2-45e5-4a3f-acd1-fd05994819f0\" target=\"_blank\"><span style=\"color: #000080; text-decoration-color: #000080; text-decoration: underline\">5-4a3f-acd1-fd05994819f0'</span></a><span style=\"color: #000080; text-decoration-color: #000080; text-decoration: underline\">.</span>                                         \n",
       "</pre>\n"
      ],
      "text/plain": [
       "\u001b[2;36m            \u001b[0m\u001b[2;36m \u001b[0mView simulation result at                                          \n",
       "\u001b[2;36m             \u001b[0m\u001b]8;id=866185;https://tidy3d.simulation.cloud/workbench?taskId=fdve-b3f6a2f2-45e5-4a3f-acd1-fd05994819f0\u001b\\\u001b[4;34m'https://tidy3d.simulation.cloud/workbench?\u001b[0m\u001b]8;;\u001b\\\u001b]8;id=696789;https://tidy3d.simulation.cloud/workbench?taskId=fdve-b3f6a2f2-45e5-4a3f-acd1-fd05994819f0\u001b\\\u001b[4;34mtaskId\u001b[0m\u001b]8;;\u001b\\\u001b]8;id=866185;https://tidy3d.simulation.cloud/workbench?taskId=fdve-b3f6a2f2-45e5-4a3f-acd1-fd05994819f0\u001b\\\u001b[4;34m=\u001b[0m\u001b]8;;\u001b\\\u001b]8;id=319655;https://tidy3d.simulation.cloud/workbench?taskId=fdve-b3f6a2f2-45e5-4a3f-acd1-fd05994819f0\u001b\\\u001b[4;34mfdve\u001b[0m\u001b]8;;\u001b\\\u001b]8;id=866185;https://tidy3d.simulation.cloud/workbench?taskId=fdve-b3f6a2f2-45e5-4a3f-acd1-fd05994819f0\u001b\\\u001b[4;34m-b3f6a2f2-45e\u001b[0m\u001b]8;;\u001b\\\n",
       "\u001b[2;36m             \u001b[0m\u001b]8;id=866185;https://tidy3d.simulation.cloud/workbench?taskId=fdve-b3f6a2f2-45e5-4a3f-acd1-fd05994819f0\u001b\\\u001b[4;34m5-4a3f-acd1-fd05994819f0'\u001b[0m\u001b]8;;\u001b\\\u001b[4;34m.\u001b[0m                                         \n"
      ]
     },
     "metadata": {},
     "output_type": "display_data"
    },
    {
     "data": {
      "application/vnd.jupyter.widget-view+json": {
       "model_id": "d109586a2b3d44158f88c73bcfb9f214",
       "version_major": 2,
       "version_minor": 0
      },
      "text/plain": [
       "Output()"
      ]
     },
     "metadata": {},
     "output_type": "display_data"
    },
    {
     "data": {
      "text/html": [
       "<pre style=\"white-space:pre;overflow-x:auto;line-height:normal;font-family:Menlo,'DejaVu Sans Mono',consolas,'Courier New',monospace\"></pre>\n"
      ],
      "text/plain": []
     },
     "metadata": {},
     "output_type": "display_data"
    },
    {
     "data": {
      "text/html": [
       "<pre style=\"white-space:pre;overflow-x:auto;line-height:normal;font-family:Menlo,'DejaVu Sans Mono',consolas,'Courier New',monospace\">\n",
       "</pre>\n"
      ],
      "text/plain": [
       "\n"
      ]
     },
     "metadata": {},
     "output_type": "display_data"
    },
    {
     "data": {
      "text/html": [
       "<pre style=\"white-space:pre;overflow-x:auto;line-height:normal;font-family:Menlo,'DejaVu Sans Mono',consolas,'Courier New',monospace\"><span style=\"color: #7fbfbf; text-decoration-color: #7fbfbf\">18:00:40 BST </span>loading simulation from data/week05_design_jax_objective_fn_12.hdf5\n",
       "</pre>\n"
      ],
      "text/plain": [
       "\u001b[2;36m18:00:40 BST\u001b[0m\u001b[2;36m \u001b[0mloading simulation from data/week05_design_jax_objective_fn_12.hdf5\n"
      ]
     },
     "metadata": {},
     "output_type": "display_data"
    },
    {
     "name": "stdout",
     "output_type": "stream",
     "text": [
      "\terror value: 43.428130307796906\n",
      "\tgradient norm: 0.1730285918049905\n"
     ]
    },
    {
     "data": {
      "image/png": "[encoded data removed]",
      "text/plain": [
       "<Figure size 400x200 with 1 Axes>"
      ]
     },
     "metadata": {},
     "output_type": "display_data"
    },
    {
     "name": "stdout",
     "output_type": "stream",
     "text": [
      "Iteration 2\n"
     ]
    },
    {
     "data": {
      "text/html": [
       "<pre style=\"white-space:pre;overflow-x:auto;line-height:normal;font-family:Menlo,'DejaVu Sans Mono',consolas,'Courier New',monospace\"><span style=\"color: #7fbfbf; text-decoration-color: #7fbfbf\">18:04:48 BST </span>Created task <span style=\"color: #008000; text-decoration-color: #008000\">'task_week05_design_jax_objective_fn_13_fwd'</span> with     \n",
       "<span style=\"color: #7fbfbf; text-decoration-color: #7fbfbf\">             </span>task_id <span style=\"color: #008000; text-decoration-color: #008000\">'fdve-0fdee930-b656-498c-9f8e-c8808813bb5b'</span> and task_type  \n",
       "<span style=\"color: #7fbfbf; text-decoration-color: #7fbfbf\">             </span><span style=\"color: #008000; text-decoration-color: #008000\">'FDTD'</span>.                                                            \n",
       "</pre>\n"
      ],
      "text/plain": [
       "\u001b[2;36m18:04:48 BST\u001b[0m\u001b[2;36m \u001b[0mCreated task \u001b[32m'task_week05_design_jax_objective_fn_13_fwd'\u001b[0m with     \n",
       "\u001b[2;36m             \u001b[0mtask_id \u001b[32m'fdve-0fdee930-b656-498c-9f8e-c8808813bb5b'\u001b[0m and task_type  \n",
       "\u001b[2;36m             \u001b[0m\u001b[32m'FDTD'\u001b[0m.                                                            \n"
      ]
     },
     "metadata": {},
     "output_type": "display_data"
    },
    {
     "data": {
      "text/html": [
       "<pre style=\"white-space:pre;overflow-x:auto;line-height:normal;font-family:Menlo,'DejaVu Sans Mono',consolas,'Courier New',monospace\"><span style=\"color: #7fbfbf; text-decoration-color: #7fbfbf\">             </span>View task using web UI at                                          \n",
       "<span style=\"color: #7fbfbf; text-decoration-color: #7fbfbf\">             </span><a href=\"https://tidy3d.simulation.cloud/workbench?taskId=fdve-0fdee930-b656-498c-9f8e-c8808813bb5b\" target=\"_blank\"><span style=\"color: #008000; text-decoration-color: #008000\">'https://tidy3d.simulation.cloud/workbench?taskId=fdve-0fdee930-b65</span></a>\n",
       "<span style=\"color: #7fbfbf; text-decoration-color: #7fbfbf\">             </span><a href=\"https://tidy3d.simulation.cloud/workbench?taskId=fdve-0fdee930-b656-498c-9f8e-c8808813bb5b\" target=\"_blank\"><span style=\"color: #008000; text-decoration-color: #008000\">6-498c-9f8e-c8808813bb5b'</span></a>.                                         \n",
       "</pre>\n"
      ],
      "text/plain": [
       "\u001b[2;36m            \u001b[0m\u001b[2;36m \u001b[0mView task using web UI at                                          \n",
       "\u001b[2;36m             \u001b[0m\u001b]8;id=112038;https://tidy3d.simulation.cloud/workbench?taskId=fdve-0fdee930-b656-498c-9f8e-c8808813bb5b\u001b\\\u001b[32m'https://tidy3d.simulation.cloud/workbench?\u001b[0m\u001b]8;;\u001b\\\u001b]8;id=224294;https://tidy3d.simulation.cloud/workbench?taskId=fdve-0fdee930-b656-498c-9f8e-c8808813bb5b\u001b\\\u001b[32mtaskId\u001b[0m\u001b]8;;\u001b\\\u001b]8;id=112038;https://tidy3d.simulation.cloud/workbench?taskId=fdve-0fdee930-b656-498c-9f8e-c8808813bb5b\u001b\\\u001b[32m=\u001b[0m\u001b]8;;\u001b\\\u001b]8;id=45219;https://tidy3d.simulation.cloud/workbench?taskId=fdve-0fdee930-b656-498c-9f8e-c8808813bb5b\u001b\\\u001b[32mfdve\u001b[0m\u001b]8;;\u001b\\\u001b]8;id=112038;https://tidy3d.simulation.cloud/workbench?taskId=fdve-0fdee930-b656-498c-9f8e-c8808813bb5b\u001b\\\u001b[32m-0fdee930-b65\u001b[0m\u001b]8;;\u001b\\\n",
       "\u001b[2;36m             \u001b[0m\u001b]8;id=112038;https://tidy3d.simulation.cloud/workbench?taskId=fdve-0fdee930-b656-498c-9f8e-c8808813bb5b\u001b\\\u001b[32m6-498c-9f8e-c8808813bb5b'\u001b[0m\u001b]8;;\u001b\\.                                         \n"
      ]
     },
     "metadata": {},
     "output_type": "display_data"
    },
    {
     "data": {
      "application/vnd.jupyter.widget-view+json": {
       "model_id": "ee7b59c505d54deda36622613f82e6f9",
       "version_major": 2,
       "version_minor": 0
      },
      "text/plain": [
       "Output()"
      ]
     },
     "metadata": {},
     "output_type": "display_data"
    },
    {
     "data": {
      "text/html": [
       "<pre style=\"white-space:pre;overflow-x:auto;line-height:normal;font-family:Menlo,'DejaVu Sans Mono',consolas,'Courier New',monospace\"></pre>\n"
      ],
      "text/plain": []
     },
     "metadata": {},
     "output_type": "display_data"
    },
    {
     "data": {
      "text/html": [
       "<pre style=\"white-space:pre;overflow-x:auto;line-height:normal;font-family:Menlo,'DejaVu Sans Mono',consolas,'Courier New',monospace\">\n",
       "</pre>\n"
      ],
      "text/plain": [
       "\n"
      ]
     },
     "metadata": {},
     "output_type": "display_data"
    },
    {
     "data": {
      "text/html": [
       "<pre style=\"white-space:pre;overflow-x:auto;line-height:normal;font-family:Menlo,'DejaVu Sans Mono',consolas,'Courier New',monospace\"><span style=\"color: #7fbfbf; text-decoration-color: #7fbfbf\">18:04:51 BST </span>status = queued                                                    \n",
       "</pre>\n"
      ],
      "text/plain": [
       "\u001b[2;36m18:04:51 BST\u001b[0m\u001b[2;36m \u001b[0mstatus = queued                                                    \n"
      ]
     },
     "metadata": {},
     "output_type": "display_data"
    },
    {
     "data": {
      "text/html": [
       "<pre style=\"white-space:pre;overflow-x:auto;line-height:normal;font-family:Menlo,'DejaVu Sans Mono',consolas,'Courier New',monospace\"><span style=\"color: #7fbfbf; text-decoration-color: #7fbfbf\">             </span>To cancel the simulation, use <span style=\"color: #008000; text-decoration-color: #008000\">'web.abort(task_id)'</span> or              \n",
       "<span style=\"color: #7fbfbf; text-decoration-color: #7fbfbf\">             </span><span style=\"color: #008000; text-decoration-color: #008000\">'web.delete(task_id)'</span> or abort/delete the task in the web UI.      \n",
       "<span style=\"color: #7fbfbf; text-decoration-color: #7fbfbf\">             </span>Terminating the Python script will not stop the job running on the \n",
       "<span style=\"color: #7fbfbf; text-decoration-color: #7fbfbf\">             </span>cloud.                                                             \n",
       "</pre>\n"
      ],
      "text/plain": [
       "\u001b[2;36m            \u001b[0m\u001b[2;36m \u001b[0mTo cancel the simulation, use \u001b[32m'web.abort\u001b[0m\u001b[32m(\u001b[0m\u001b[32mtask_id\u001b[0m\u001b[32m)\u001b[0m\u001b[32m'\u001b[0m or              \n",
       "\u001b[2;36m             \u001b[0m\u001b[32m'web.delete\u001b[0m\u001b[32m(\u001b[0m\u001b[32mtask_id\u001b[0m\u001b[32m)\u001b[0m\u001b[32m'\u001b[0m or abort/delete the task in the web UI.      \n",
       "\u001b[2;36m             \u001b[0mTerminating the Python script will not stop the job running on the \n",
       "\u001b[2;36m             \u001b[0mcloud.                                                             \n"
      ]
     },
     "metadata": {},
     "output_type": "display_data"
    },
    {
     "data": {
      "application/vnd.jupyter.widget-view+json": {
       "model_id": "a5f6c819e40348dbb68b46b494bba521",
       "version_major": 2,
       "version_minor": 0
      },
      "text/plain": [
       "Output()"
      ]
     },
     "metadata": {},
     "output_type": "display_data"
    },
    {
     "data": {
      "text/html": [
       "<pre style=\"white-space:pre;overflow-x:auto;line-height:normal;font-family:Menlo,'DejaVu Sans Mono',consolas,'Courier New',monospace\"><span style=\"color: #7fbfbf; text-decoration-color: #7fbfbf\">18:04:57 BST </span>status = preprocess                                                \n",
       "</pre>\n"
      ],
      "text/plain": [
       "\u001b[2;36m18:04:57 BST\u001b[0m\u001b[2;36m \u001b[0mstatus = preprocess                                                \n"
      ]
     },
     "metadata": {},
     "output_type": "display_data"
    },
    {
     "data": {
      "text/html": [
       "<pre style=\"white-space:pre;overflow-x:auto;line-height:normal;font-family:Menlo,'DejaVu Sans Mono',consolas,'Courier New',monospace\"></pre>\n"
      ],
      "text/plain": []
     },
     "metadata": {},
     "output_type": "display_data"
    },
    {
     "data": {
      "text/html": [
       "<pre style=\"white-space:pre;overflow-x:auto;line-height:normal;font-family:Menlo,'DejaVu Sans Mono',consolas,'Courier New',monospace\"><span style=\"color: #7fbfbf; text-decoration-color: #7fbfbf\">18:04:59 BST </span>Maximum FlexCredit cost: <span style=\"color: #008080; text-decoration-color: #008080; font-weight: bold\">0.208</span>. Use <span style=\"color: #008000; text-decoration-color: #008000\">'web.real_cost(task_id)'</span> to get\n",
       "<span style=\"color: #7fbfbf; text-decoration-color: #7fbfbf\">             </span>the billed FlexCredit cost after a simulation run.                 \n",
       "</pre>\n"
      ],
      "text/plain": [
       "\u001b[2;36m18:04:59 BST\u001b[0m\u001b[2;36m \u001b[0mMaximum FlexCredit cost: \u001b[1;36m0.208\u001b[0m. Use \u001b[32m'web.real_cost\u001b[0m\u001b[32m(\u001b[0m\u001b[32mtask_id\u001b[0m\u001b[32m)\u001b[0m\u001b[32m'\u001b[0m to get\n",
       "\u001b[2;36m             \u001b[0mthe billed FlexCredit cost after a simulation run.                 \n"
      ]
     },
     "metadata": {},
     "output_type": "display_data"
    },
    {
     "data": {
      "text/html": [
       "<pre style=\"white-space:pre;overflow-x:auto;line-height:normal;font-family:Menlo,'DejaVu Sans Mono',consolas,'Courier New',monospace\"><span style=\"color: #7fbfbf; text-decoration-color: #7fbfbf\">             </span>starting up solver                                                 \n",
       "</pre>\n"
      ],
      "text/plain": [
       "\u001b[2;36m            \u001b[0m\u001b[2;36m \u001b[0mstarting up solver                                                 \n"
      ]
     },
     "metadata": {},
     "output_type": "display_data"
    },
    {
     "data": {
      "text/html": [
       "<pre style=\"white-space:pre;overflow-x:auto;line-height:normal;font-family:Menlo,'DejaVu Sans Mono',consolas,'Courier New',monospace\"><span style=\"color: #7fbfbf; text-decoration-color: #7fbfbf\">             </span>running solver                                                     \n",
       "</pre>\n"
      ],
      "text/plain": [
       "\u001b[2;36m            \u001b[0m\u001b[2;36m \u001b[0mrunning solver                                                     \n"
      ]
     },
     "metadata": {},
     "output_type": "display_data"
    },
    {
     "data": {
      "application/vnd.jupyter.widget-view+json": {
       "model_id": "538e62b74631452b865ae40e1ecc20c5",
       "version_major": 2,
       "version_minor": 0
      },
      "text/plain": [
       "Output()"
      ]
     },
     "metadata": {},
     "output_type": "display_data"
    },
    {
     "data": {
      "text/html": [
       "<pre style=\"white-space:pre;overflow-x:auto;line-height:normal;font-family:Menlo,'DejaVu Sans Mono',consolas,'Courier New',monospace\"></pre>\n"
      ],
      "text/plain": []
     },
     "metadata": {},
     "output_type": "display_data"
    },
    {
     "data": {
      "text/html": [
       "<pre style=\"white-space:pre;overflow-x:auto;line-height:normal;font-family:Menlo,'DejaVu Sans Mono',consolas,'Courier New',monospace\">\n",
       "</pre>\n"
      ],
      "text/plain": [
       "\n"
      ]
     },
     "metadata": {},
     "output_type": "display_data"
    },
    {
     "data": {
      "text/html": [
       "<pre style=\"white-space:pre;overflow-x:auto;line-height:normal;font-family:Menlo,'DejaVu Sans Mono',consolas,'Courier New',monospace\"><span style=\"color: #7fbfbf; text-decoration-color: #7fbfbf\">18:07:15 BST </span>status = postprocess                                               \n",
       "</pre>\n"
      ],
      "text/plain": [
       "\u001b[2;36m18:07:15 BST\u001b[0m\u001b[2;36m \u001b[0mstatus = postprocess                                               \n"
      ]
     },
     "metadata": {},
     "output_type": "display_data"
    },
    {
     "data": {
      "application/vnd.jupyter.widget-view+json": {
       "model_id": "0bf19a332a0848a2bf57a897d1e21045",
       "version_major": 2,
       "version_minor": 0
      },
      "text/plain": [
       "Output()"
      ]
     },
     "metadata": {},
     "output_type": "display_data"
    },
    {
     "data": {
      "text/html": [
       "<pre style=\"white-space:pre;overflow-x:auto;line-height:normal;font-family:Menlo,'DejaVu Sans Mono',consolas,'Courier New',monospace\"><span style=\"color: #7fbfbf; text-decoration-color: #7fbfbf\">18:07:35 BST </span>status = success                                                   \n",
       "</pre>\n"
      ],
      "text/plain": [
       "\u001b[2;36m18:07:35 BST\u001b[0m\u001b[2;36m \u001b[0mstatus = success                                                   \n"
      ]
     },
     "metadata": {},
     "output_type": "display_data"
    },
    {
     "data": {
      "text/html": [
       "<pre style=\"white-space:pre;overflow-x:auto;line-height:normal;font-family:Menlo,'DejaVu Sans Mono',consolas,'Courier New',monospace\"></pre>\n"
      ],
      "text/plain": []
     },
     "metadata": {},
     "output_type": "display_data"
    },
    {
     "data": {
      "text/html": [
       "<pre style=\"white-space:pre;overflow-x:auto;line-height:normal;font-family:Menlo,'DejaVu Sans Mono',consolas,'Courier New',monospace\"><span style=\"color: #7fbfbf; text-decoration-color: #7fbfbf\">18:07:36 BST </span>View simulation result at                                          \n",
       "<span style=\"color: #7fbfbf; text-decoration-color: #7fbfbf\">             </span><a href=\"https://tidy3d.simulation.cloud/workbench?taskId=fdve-0fdee930-b656-498c-9f8e-c8808813bb5b\" target=\"_blank\"><span style=\"color: #000080; text-decoration-color: #000080; text-decoration: underline\">'https://tidy3d.simulation.cloud/workbench?taskId=fdve-0fdee930-b65</span></a>\n",
       "<span style=\"color: #7fbfbf; text-decoration-color: #7fbfbf\">             </span><a href=\"https://tidy3d.simulation.cloud/workbench?taskId=fdve-0fdee930-b656-498c-9f8e-c8808813bb5b\" target=\"_blank\"><span style=\"color: #000080; text-decoration-color: #000080; text-decoration: underline\">6-498c-9f8e-c8808813bb5b'</span></a><span style=\"color: #000080; text-decoration-color: #000080; text-decoration: underline\">.</span>                                         \n",
       "</pre>\n"
      ],
      "text/plain": [
       "\u001b[2;36m18:07:36 BST\u001b[0m\u001b[2;36m \u001b[0mView simulation result at                                          \n",
       "\u001b[2;36m             \u001b[0m\u001b]8;id=825283;https://tidy3d.simulation.cloud/workbench?taskId=fdve-0fdee930-b656-498c-9f8e-c8808813bb5b\u001b\\\u001b[4;34m'https://tidy3d.simulation.cloud/workbench?\u001b[0m\u001b]8;;\u001b\\\u001b]8;id=388321;https://tidy3d.simulation.cloud/workbench?taskId=fdve-0fdee930-b656-498c-9f8e-c8808813bb5b\u001b\\\u001b[4;34mtaskId\u001b[0m\u001b]8;;\u001b\\\u001b]8;id=825283;https://tidy3d.simulation.cloud/workbench?taskId=fdve-0fdee930-b656-498c-9f8e-c8808813bb5b\u001b\\\u001b[4;34m=\u001b[0m\u001b]8;;\u001b\\\u001b]8;id=127849;https://tidy3d.simulation.cloud/workbench?taskId=fdve-0fdee930-b656-498c-9f8e-c8808813bb5b\u001b\\\u001b[4;34mfdve\u001b[0m\u001b]8;;\u001b\\\u001b]8;id=825283;https://tidy3d.simulation.cloud/workbench?taskId=fdve-0fdee930-b656-498c-9f8e-c8808813bb5b\u001b\\\u001b[4;34m-0fdee930-b65\u001b[0m\u001b]8;;\u001b\\\n",
       "\u001b[2;36m             \u001b[0m\u001b]8;id=825283;https://tidy3d.simulation.cloud/workbench?taskId=fdve-0fdee930-b656-498c-9f8e-c8808813bb5b\u001b\\\u001b[4;34m6-498c-9f8e-c8808813bb5b'\u001b[0m\u001b]8;;\u001b\\\u001b[4;34m.\u001b[0m                                         \n"
      ]
     },
     "metadata": {},
     "output_type": "display_data"
    },
    {
     "data": {
      "application/vnd.jupyter.widget-view+json": {
       "model_id": "88a6387bed314fd899ee5bd4397b5451",
       "version_major": 2,
       "version_minor": 0
      },
      "text/plain": [
       "Output()"
      ]
     },
     "metadata": {},
     "output_type": "display_data"
    },
    {
     "data": {
      "text/html": [
       "<pre style=\"white-space:pre;overflow-x:auto;line-height:normal;font-family:Menlo,'DejaVu Sans Mono',consolas,'Courier New',monospace\"></pre>\n"
      ],
      "text/plain": []
     },
     "metadata": {},
     "output_type": "display_data"
    },
    {
     "data": {
      "text/html": [
       "<pre style=\"white-space:pre;overflow-x:auto;line-height:normal;font-family:Menlo,'DejaVu Sans Mono',consolas,'Courier New',monospace\">\n",
       "</pre>\n"
      ],
      "text/plain": [
       "\n"
      ]
     },
     "metadata": {},
     "output_type": "display_data"
    },
    {
     "data": {
      "text/html": [
       "<pre style=\"white-space:pre;overflow-x:auto;line-height:normal;font-family:Menlo,'DejaVu Sans Mono',consolas,'Courier New',monospace\"><span style=\"color: #7fbfbf; text-decoration-color: #7fbfbf\">18:07:47 BST </span>loading simulation from data/week05_design_jax_objective_fn_13.hdf5\n",
       "</pre>\n"
      ],
      "text/plain": [
       "\u001b[2;36m18:07:47 BST\u001b[0m\u001b[2;36m \u001b[0mloading simulation from data/week05_design_jax_objective_fn_13.hdf5\n"
      ]
     },
     "metadata": {},
     "output_type": "display_data"
    },
    {
     "data": {
      "text/html": [
       "<pre style=\"white-space:pre;overflow-x:auto;line-height:normal;font-family:Menlo,'DejaVu Sans Mono',consolas,'Courier New',monospace\"><span style=\"color: #7fbfbf; text-decoration-color: #7fbfbf\">18:07:48 BST </span><span style=\"color: #800000; text-decoration-color: #800000\">WARNING: Simulation final field decay value of </span><span style=\"color: #008080; text-decoration-color: #008080; font-weight: bold\">0.00014</span><span style=\"color: #800000; text-decoration-color: #800000\"> is greater  </span>\n",
       "<span style=\"color: #7fbfbf; text-decoration-color: #7fbfbf\">             </span><span style=\"color: #800000; text-decoration-color: #800000\">than the simulation shutoff threshold of </span><span style=\"color: #008080; text-decoration-color: #008080; font-weight: bold\">1e-06</span><span style=\"color: #800000; text-decoration-color: #800000\">. Consider running   </span>\n",
       "<span style=\"color: #7fbfbf; text-decoration-color: #7fbfbf\">             </span><span style=\"color: #800000; text-decoration-color: #800000\">the simulation again with a larger </span><span style=\"color: #008000; text-decoration-color: #008000\">'run_time'</span><span style=\"color: #800000; text-decoration-color: #800000\"> duration for more    </span>\n",
       "<span style=\"color: #7fbfbf; text-decoration-color: #7fbfbf\">             </span><span style=\"color: #800000; text-decoration-color: #800000\">accurate results.                                                  </span>\n",
       "</pre>\n"
      ],
      "text/plain": [
       "\u001b[2;36m18:07:48 BST\u001b[0m\u001b[2;36m \u001b[0m\u001b[31mWARNING: Simulation final field decay value of \u001b[0m\u001b[1;36m0.00014\u001b[0m\u001b[31m is greater  \u001b[0m\n",
       "\u001b[2;36m             \u001b[0m\u001b[31mthan the simulation shutoff threshold of \u001b[0m\u001b[1;36m1e-06\u001b[0m\u001b[31m. Consider running   \u001b[0m\n",
       "\u001b[2;36m             \u001b[0m\u001b[31mthe simulation again with a larger \u001b[0m\u001b[32m'run_time'\u001b[0m\u001b[31m duration for more    \u001b[0m\n",
       "\u001b[2;36m             \u001b[0m\u001b[31maccurate results.                                                  \u001b[0m\n"
      ]
     },
     "metadata": {},
     "output_type": "display_data"
    },
    {
     "data": {
      "text/html": [
       "<pre style=\"white-space:pre;overflow-x:auto;line-height:normal;font-family:Menlo,'DejaVu Sans Mono',consolas,'Courier New',monospace\"><span style=\"color: #7fbfbf; text-decoration-color: #7fbfbf\">18:07:49 BST </span><span style=\"color: #800000; text-decoration-color: #800000\">WARNING: </span><span style=\"color: #008080; text-decoration-color: #008080; font-weight: bold\">101</span><span style=\"color: #800000; text-decoration-color: #800000\"> unique frequencies detected in the output monitors    </span>\n",
       "<span style=\"color: #7fbfbf; text-decoration-color: #7fbfbf\">             </span><span style=\"color: #800000; text-decoration-color: #800000\">with a minimum spacing of </span><span style=\"color: #008080; text-decoration-color: #008080; font-weight: bold\">1.713e+12</span><span style=\"color: #800000; text-decoration-color: #800000\"> </span><span style=\"color: #800000; text-decoration-color: #800000; font-weight: bold\">(</span><span style=\"color: #800000; text-decoration-color: #800000\">Hz</span><span style=\"color: #800000; text-decoration-color: #800000; font-weight: bold\">)</span><span style=\"color: #800000; text-decoration-color: #800000\">. Setting the </span><span style=\"color: #008000; text-decoration-color: #008000\">'fwidth'</span><span style=\"color: #800000; text-decoration-color: #800000\"> of  </span>\n",
       "<span style=\"color: #7fbfbf; text-decoration-color: #7fbfbf\">             </span><span style=\"color: #800000; text-decoration-color: #800000\">the adjoint sources to </span><span style=\"color: #008080; text-decoration-color: #008080; font-weight: bold\">0.1</span><span style=\"color: #800000; text-decoration-color: #800000\"> times this value = </span><span style=\"color: #008080; text-decoration-color: #008080; font-weight: bold\">1.713e+11</span><span style=\"color: #800000; text-decoration-color: #800000\"> </span><span style=\"color: #800000; text-decoration-color: #800000; font-weight: bold\">(</span><span style=\"color: #800000; text-decoration-color: #800000\">Hz</span><span style=\"color: #800000; text-decoration-color: #800000; font-weight: bold\">)</span><span style=\"color: #800000; text-decoration-color: #800000\"> to    </span>\n",
       "<span style=\"color: #7fbfbf; text-decoration-color: #7fbfbf\">             </span><span style=\"color: #800000; text-decoration-color: #800000\">avoid spectral overlap. To account for this, the corresponding     </span>\n",
       "<span style=\"color: #7fbfbf; text-decoration-color: #7fbfbf\">             </span><span style=\"color: #008000; text-decoration-color: #008000\">'run_time'</span><span style=\"color: #800000; text-decoration-color: #800000\"> in the adjoint simulation is will be set to </span><span style=\"color: #008080; text-decoration-color: #008080; font-weight: bold\">7.458864e-11</span>\n",
       "<span style=\"color: #7fbfbf; text-decoration-color: #7fbfbf\">             </span><span style=\"color: #800000; text-decoration-color: #800000\">compared to </span><span style=\"color: #008080; text-decoration-color: #008080; font-weight: bold\">1.621492e-11</span><span style=\"color: #800000; text-decoration-color: #800000\"> in the forward simulation. If the adjoint </span>\n",
       "<span style=\"color: #7fbfbf; text-decoration-color: #7fbfbf\">             </span><span style=\"color: #008000; text-decoration-color: #008000\">'run_time'</span><span style=\"color: #800000; text-decoration-color: #800000\"> is large due to small frequency spacing, it could be    </span>\n",
       "<span style=\"color: #7fbfbf; text-decoration-color: #7fbfbf\">             </span><span style=\"color: #800000; text-decoration-color: #800000\">better to instead run one simulation per frequency, which can be   </span>\n",
       "<span style=\"color: #7fbfbf; text-decoration-color: #7fbfbf\">             </span><span style=\"color: #800000; text-decoration-color: #800000\">done in parallel using </span><span style=\"color: #008000; text-decoration-color: #008000\">'tidy3d.plugins.adjoint.web.run_async'</span><span style=\"color: #800000; text-decoration-color: #800000\">.     </span>\n",
       "</pre>\n"
      ],
      "text/plain": [
       "\u001b[2;36m18:07:49 BST\u001b[0m\u001b[2;36m \u001b[0m\u001b[31mWARNING: \u001b[0m\u001b[1;36m101\u001b[0m\u001b[31m unique frequencies detected in the output monitors    \u001b[0m\n",
       "\u001b[2;36m             \u001b[0m\u001b[31mwith a minimum spacing of \u001b[0m\u001b[1;36m1.713e+12\u001b[0m\u001b[31m \u001b[0m\u001b[1;31m(\u001b[0m\u001b[31mHz\u001b[0m\u001b[1;31m)\u001b[0m\u001b[31m. Setting the \u001b[0m\u001b[32m'fwidth'\u001b[0m\u001b[31m of  \u001b[0m\n",
       "\u001b[2;36m             \u001b[0m\u001b[31mthe adjoint sources to \u001b[0m\u001b[1;36m0.1\u001b[0m\u001b[31m times this value = \u001b[0m\u001b[1;36m1.713e+11\u001b[0m\u001b[31m \u001b[0m\u001b[1;31m(\u001b[0m\u001b[31mHz\u001b[0m\u001b[1;31m)\u001b[0m\u001b[31m to    \u001b[0m\n",
       "\u001b[2;36m             \u001b[0m\u001b[31mavoid spectral overlap. To account for this, the corresponding     \u001b[0m\n",
       "\u001b[2;36m             \u001b[0m\u001b[32m'run_time'\u001b[0m\u001b[31m in the adjoint simulation is will be set to \u001b[0m\u001b[1;36m7.458864e-11\u001b[0m\n",
       "\u001b[2;36m             \u001b[0m\u001b[31mcompared to \u001b[0m\u001b[1;36m1.621492e-11\u001b[0m\u001b[31m in the forward simulation. If the adjoint \u001b[0m\n",
       "\u001b[2;36m             \u001b[0m\u001b[32m'run_time'\u001b[0m\u001b[31m is large due to small frequency spacing, it could be    \u001b[0m\n",
       "\u001b[2;36m             \u001b[0m\u001b[31mbetter to instead run one simulation per frequency, which can be   \u001b[0m\n",
       "\u001b[2;36m             \u001b[0m\u001b[31mdone in parallel using \u001b[0m\u001b[32m'tidy3d.plugins.adjoint.web.run_async'\u001b[0m\u001b[31m.     \u001b[0m\n"
      ]
     },
     "metadata": {},
     "output_type": "display_data"
    },
    {
     "data": {
      "text/html": [
       "<pre style=\"white-space:pre;overflow-x:auto;line-height:normal;font-family:Menlo,'DejaVu Sans Mono',consolas,'Courier New',monospace\"><span style=\"color: #7fbfbf; text-decoration-color: #7fbfbf\">18:07:53 BST </span><span style=\"color: #800000; text-decoration-color: #800000\">WARNING: Simulation has </span><span style=\"color: #008080; text-decoration-color: #008080; font-weight: bold\">3.19e+06</span><span style=\"color: #800000; text-decoration-color: #800000\"> time steps. The </span><span style=\"color: #008000; text-decoration-color: #008000\">'run_time'</span><span style=\"color: #800000; text-decoration-color: #800000\"> may be </span>\n",
       "<span style=\"color: #7fbfbf; text-decoration-color: #7fbfbf\">             </span><span style=\"color: #800000; text-decoration-color: #800000\">unnecessarily large, unless there are very long-lived resonances.  </span>\n",
       "</pre>\n"
      ],
      "text/plain": [
       "\u001b[2;36m18:07:53 BST\u001b[0m\u001b[2;36m \u001b[0m\u001b[31mWARNING: Simulation has \u001b[0m\u001b[1;36m3.19e+06\u001b[0m\u001b[31m time steps. The \u001b[0m\u001b[32m'run_time'\u001b[0m\u001b[31m may be \u001b[0m\n",
       "\u001b[2;36m             \u001b[0m\u001b[31munnecessarily large, unless there are very long-lived resonances.  \u001b[0m\n"
      ]
     },
     "metadata": {},
     "output_type": "display_data"
    },
    {
     "data": {
      "text/html": [
       "<pre style=\"white-space:pre;overflow-x:auto;line-height:normal;font-family:Menlo,'DejaVu Sans Mono',consolas,'Courier New',monospace\"><span style=\"color: #7fbfbf; text-decoration-color: #7fbfbf\">             </span>Created task <span style=\"color: #008000; text-decoration-color: #008000\">'task_week05_design_jax_objective_fn_13_adj'</span> with     \n",
       "<span style=\"color: #7fbfbf; text-decoration-color: #7fbfbf\">             </span>task_id <span style=\"color: #008000; text-decoration-color: #008000\">'fdve-0231786b-65ec-4ad8-8647-6fb9c1f94dcf'</span> and task_type  \n",
       "<span style=\"color: #7fbfbf; text-decoration-color: #7fbfbf\">             </span><span style=\"color: #008000; text-decoration-color: #008000\">'FDTD'</span>.                                                            \n",
       "</pre>\n"
      ],
      "text/plain": [
       "\u001b[2;36m            \u001b[0m\u001b[2;36m \u001b[0mCreated task \u001b[32m'task_week05_design_jax_objective_fn_13_adj'\u001b[0m with     \n",
       "\u001b[2;36m             \u001b[0mtask_id \u001b[32m'fdve-0231786b-65ec-4ad8-8647-6fb9c1f94dcf'\u001b[0m and task_type  \n",
       "\u001b[2;36m             \u001b[0m\u001b[32m'FDTD'\u001b[0m.                                                            \n"
      ]
     },
     "metadata": {},
     "output_type": "display_data"
    },
    {
     "data": {
      "text/html": [
       "<pre style=\"white-space:pre;overflow-x:auto;line-height:normal;font-family:Menlo,'DejaVu Sans Mono',consolas,'Courier New',monospace\"><span style=\"color: #7fbfbf; text-decoration-color: #7fbfbf\">             </span>View task using web UI at                                          \n",
       "<span style=\"color: #7fbfbf; text-decoration-color: #7fbfbf\">             </span><a href=\"https://tidy3d.simulation.cloud/workbench?taskId=fdve-0231786b-65ec-4ad8-8647-6fb9c1f94dcf\" target=\"_blank\"><span style=\"color: #008000; text-decoration-color: #008000\">'https://tidy3d.simulation.cloud/workbench?taskId=fdve-0231786b-65e</span></a>\n",
       "<span style=\"color: #7fbfbf; text-decoration-color: #7fbfbf\">             </span><a href=\"https://tidy3d.simulation.cloud/workbench?taskId=fdve-0231786b-65ec-4ad8-8647-6fb9c1f94dcf\" target=\"_blank\"><span style=\"color: #008000; text-decoration-color: #008000\">c-4ad8-8647-6fb9c1f94dcf'</span></a>.                                         \n",
       "</pre>\n"
      ],
      "text/plain": [
       "\u001b[2;36m            \u001b[0m\u001b[2;36m \u001b[0mView task using web UI at                                          \n",
       "\u001b[2;36m             \u001b[0m\u001b]8;id=780123;https://tidy3d.simulation.cloud/workbench?taskId=fdve-0231786b-65ec-4ad8-8647-6fb9c1f94dcf\u001b\\\u001b[32m'https://tidy3d.simulation.cloud/workbench?\u001b[0m\u001b]8;;\u001b\\\u001b]8;id=257524;https://tidy3d.simulation.cloud/workbench?taskId=fdve-0231786b-65ec-4ad8-8647-6fb9c1f94dcf\u001b\\\u001b[32mtaskId\u001b[0m\u001b]8;;\u001b\\\u001b]8;id=780123;https://tidy3d.simulation.cloud/workbench?taskId=fdve-0231786b-65ec-4ad8-8647-6fb9c1f94dcf\u001b\\\u001b[32m=\u001b[0m\u001b]8;;\u001b\\\u001b]8;id=192759;https://tidy3d.simulation.cloud/workbench?taskId=fdve-0231786b-65ec-4ad8-8647-6fb9c1f94dcf\u001b\\\u001b[32mfdve\u001b[0m\u001b]8;;\u001b\\\u001b]8;id=780123;https://tidy3d.simulation.cloud/workbench?taskId=fdve-0231786b-65ec-4ad8-8647-6fb9c1f94dcf\u001b\\\u001b[32m-0231786b-65e\u001b[0m\u001b]8;;\u001b\\\n",
       "\u001b[2;36m             \u001b[0m\u001b]8;id=780123;https://tidy3d.simulation.cloud/workbench?taskId=fdve-0231786b-65ec-4ad8-8647-6fb9c1f94dcf\u001b\\\u001b[32mc-4ad8-8647-6fb9c1f94dcf'\u001b[0m\u001b]8;;\u001b\\.                                         \n"
      ]
     },
     "metadata": {},
     "output_type": "display_data"
    },
    {
     "data": {
      "application/vnd.jupyter.widget-view+json": {
       "model_id": "8a1e98fe5b1242f789531d72be64b274",
       "version_major": 2,
       "version_minor": 0
      },
      "text/plain": [
       "Output()"
      ]
     },
     "metadata": {},
     "output_type": "display_data"
    },
    {
     "data": {
      "text/html": [
       "<pre style=\"white-space:pre;overflow-x:auto;line-height:normal;font-family:Menlo,'DejaVu Sans Mono',consolas,'Courier New',monospace\"></pre>\n"
      ],
      "text/plain": []
     },
     "metadata": {},
     "output_type": "display_data"
    },
    {
     "data": {
      "text/html": [
       "<pre style=\"white-space:pre;overflow-x:auto;line-height:normal;font-family:Menlo,'DejaVu Sans Mono',consolas,'Courier New',monospace\">\n",
       "</pre>\n"
      ],
      "text/plain": [
       "\n"
      ]
     },
     "metadata": {},
     "output_type": "display_data"
    },
    {
     "data": {
      "text/html": [
       "<pre style=\"white-space:pre;overflow-x:auto;line-height:normal;font-family:Menlo,'DejaVu Sans Mono',consolas,'Courier New',monospace\"><span style=\"color: #7fbfbf; text-decoration-color: #7fbfbf\">18:08:05 BST </span>status = queued                                                    \n",
       "</pre>\n"
      ],
      "text/plain": [
       "\u001b[2;36m18:08:05 BST\u001b[0m\u001b[2;36m \u001b[0mstatus = queued                                                    \n"
      ]
     },
     "metadata": {},
     "output_type": "display_data"
    },
    {
     "data": {
      "text/html": [
       "<pre style=\"white-space:pre;overflow-x:auto;line-height:normal;font-family:Menlo,'DejaVu Sans Mono',consolas,'Courier New',monospace\"><span style=\"color: #7fbfbf; text-decoration-color: #7fbfbf\">             </span>To cancel the simulation, use <span style=\"color: #008000; text-decoration-color: #008000\">'web.abort(task_id)'</span> or              \n",
       "<span style=\"color: #7fbfbf; text-decoration-color: #7fbfbf\">             </span><span style=\"color: #008000; text-decoration-color: #008000\">'web.delete(task_id)'</span> or abort/delete the task in the web UI.      \n",
       "<span style=\"color: #7fbfbf; text-decoration-color: #7fbfbf\">             </span>Terminating the Python script will not stop the job running on the \n",
       "<span style=\"color: #7fbfbf; text-decoration-color: #7fbfbf\">             </span>cloud.                                                             \n",
       "</pre>\n"
      ],
      "text/plain": [
       "\u001b[2;36m            \u001b[0m\u001b[2;36m \u001b[0mTo cancel the simulation, use \u001b[32m'web.abort\u001b[0m\u001b[32m(\u001b[0m\u001b[32mtask_id\u001b[0m\u001b[32m)\u001b[0m\u001b[32m'\u001b[0m or              \n",
       "\u001b[2;36m             \u001b[0m\u001b[32m'web.delete\u001b[0m\u001b[32m(\u001b[0m\u001b[32mtask_id\u001b[0m\u001b[32m)\u001b[0m\u001b[32m'\u001b[0m or abort/delete the task in the web UI.      \n",
       "\u001b[2;36m             \u001b[0mTerminating the Python script will not stop the job running on the \n",
       "\u001b[2;36m             \u001b[0mcloud.                                                             \n"
      ]
     },
     "metadata": {},
     "output_type": "display_data"
    },
    {
     "data": {
      "application/vnd.jupyter.widget-view+json": {
       "model_id": "0621d0d6785a4ed4a1f437ff2159b1f7",
       "version_major": 2,
       "version_minor": 0
      },
      "text/plain": [
       "Output()"
      ]
     },
     "metadata": {},
     "output_type": "display_data"
    },
    {
     "data": {
      "text/html": [
       "<pre style=\"white-space:pre;overflow-x:auto;line-height:normal;font-family:Menlo,'DejaVu Sans Mono',consolas,'Courier New',monospace\"><span style=\"color: #7fbfbf; text-decoration-color: #7fbfbf\">18:08:13 BST </span>status = preprocess                                                \n",
       "</pre>\n"
      ],
      "text/plain": [
       "\u001b[2;36m18:08:13 BST\u001b[0m\u001b[2;36m \u001b[0mstatus = preprocess                                                \n"
      ]
     },
     "metadata": {},
     "output_type": "display_data"
    },
    {
     "data": {
      "text/html": [
       "<pre style=\"white-space:pre;overflow-x:auto;line-height:normal;font-family:Menlo,'DejaVu Sans Mono',consolas,'Courier New',monospace\"></pre>\n"
      ],
      "text/plain": []
     },
     "metadata": {},
     "output_type": "display_data"
    },
    {
     "data": {
      "text/html": [
       "<pre style=\"white-space:pre;overflow-x:auto;line-height:normal;font-family:Menlo,'DejaVu Sans Mono',consolas,'Courier New',monospace\"><span style=\"color: #7fbfbf; text-decoration-color: #7fbfbf\">18:09:03 BST </span>Maximum FlexCredit cost: <span style=\"color: #008080; text-decoration-color: #008080; font-weight: bold\">0.651</span>. Use <span style=\"color: #008000; text-decoration-color: #008000\">'web.real_cost(task_id)'</span> to get\n",
       "<span style=\"color: #7fbfbf; text-decoration-color: #7fbfbf\">             </span>the billed FlexCredit cost after a simulation run.                 \n",
       "</pre>\n"
      ],
      "text/plain": [
       "\u001b[2;36m18:09:03 BST\u001b[0m\u001b[2;36m \u001b[0mMaximum FlexCredit cost: \u001b[1;36m0.651\u001b[0m. Use \u001b[32m'web.real_cost\u001b[0m\u001b[32m(\u001b[0m\u001b[32mtask_id\u001b[0m\u001b[32m)\u001b[0m\u001b[32m'\u001b[0m to get\n",
       "\u001b[2;36m             \u001b[0mthe billed FlexCredit cost after a simulation run.                 \n"
      ]
     },
     "metadata": {},
     "output_type": "display_data"
    },
    {
     "data": {
      "text/html": [
       "<pre style=\"white-space:pre;overflow-x:auto;line-height:normal;font-family:Menlo,'DejaVu Sans Mono',consolas,'Courier New',monospace\"><span style=\"color: #7fbfbf; text-decoration-color: #7fbfbf\">             </span>starting up solver                                                 \n",
       "</pre>\n"
      ],
      "text/plain": [
       "\u001b[2;36m            \u001b[0m\u001b[2;36m \u001b[0mstarting up solver                                                 \n"
      ]
     },
     "metadata": {},
     "output_type": "display_data"
    },
    {
     "data": {
      "text/html": [
       "<pre style=\"white-space:pre;overflow-x:auto;line-height:normal;font-family:Menlo,'DejaVu Sans Mono',consolas,'Courier New',monospace\"><span style=\"color: #7fbfbf; text-decoration-color: #7fbfbf\">             </span>running solver                                                     \n",
       "</pre>\n"
      ],
      "text/plain": [
       "\u001b[2;36m            \u001b[0m\u001b[2;36m \u001b[0mrunning solver                                                     \n"
      ]
     },
     "metadata": {},
     "output_type": "display_data"
    },
    {
     "data": {
      "application/vnd.jupyter.widget-view+json": {
       "model_id": "e7d34c409f7343abbb3a1626beb4e2c6",
       "version_major": 2,
       "version_minor": 0
      },
      "text/plain": [
       "Output()"
      ]
     },
     "metadata": {},
     "output_type": "display_data"
    },
    {
     "data": {
      "text/html": [
       "<pre style=\"white-space:pre;overflow-x:auto;line-height:normal;font-family:Menlo,'DejaVu Sans Mono',consolas,'Courier New',monospace\"><span style=\"color: #7fbfbf; text-decoration-color: #7fbfbf\">18:15:35 BST </span>early shutoff detected at <span style=\"color: #008080; text-decoration-color: #008080; font-weight: bold\">12</span>%, exiting.                            \n",
       "</pre>\n"
      ],
      "text/plain": [
       "\u001b[2;36m18:15:35 BST\u001b[0m\u001b[2;36m \u001b[0mearly shutoff detected at \u001b[1;36m12\u001b[0m%, exiting.                            \n"
      ]
     },
     "metadata": {},
     "output_type": "display_data"
    },
    {
     "data": {
      "text/html": [
       "<pre style=\"white-space:pre;overflow-x:auto;line-height:normal;font-family:Menlo,'DejaVu Sans Mono',consolas,'Courier New',monospace\"></pre>\n"
      ],
      "text/plain": []
     },
     "metadata": {},
     "output_type": "display_data"
    },
    {
     "data": {
      "text/html": [
       "<pre style=\"white-space:pre;overflow-x:auto;line-height:normal;font-family:Menlo,'DejaVu Sans Mono',consolas,'Courier New',monospace\">\n",
       "</pre>\n"
      ],
      "text/plain": [
       "\n"
      ]
     },
     "metadata": {},
     "output_type": "display_data"
    },
    {
     "data": {
      "text/html": [
       "<pre style=\"white-space:pre;overflow-x:auto;line-height:normal;font-family:Menlo,'DejaVu Sans Mono',consolas,'Courier New',monospace\"><span style=\"color: #7fbfbf; text-decoration-color: #7fbfbf\">             </span>status = postprocess                                               \n",
       "</pre>\n"
      ],
      "text/plain": [
       "\u001b[2;36m            \u001b[0m\u001b[2;36m \u001b[0mstatus = postprocess                                               \n"
      ]
     },
     "metadata": {},
     "output_type": "display_data"
    },
    {
     "data": {
      "application/vnd.jupyter.widget-view+json": {
       "model_id": "0e0294465a2c4cf4baa170474e8222ae",
       "version_major": 2,
       "version_minor": 0
      },
      "text/plain": [
       "Output()"
      ]
     },
     "metadata": {},
     "output_type": "display_data"
    },
    {
     "data": {
      "text/html": [
       "<pre style=\"white-space:pre;overflow-x:auto;line-height:normal;font-family:Menlo,'DejaVu Sans Mono',consolas,'Courier New',monospace\"><span style=\"color: #7fbfbf; text-decoration-color: #7fbfbf\">18:15:50 BST </span>status = success                                                   \n",
       "</pre>\n"
      ],
      "text/plain": [
       "\u001b[2;36m18:15:50 BST\u001b[0m\u001b[2;36m \u001b[0mstatus = success                                                   \n"
      ]
     },
     "metadata": {},
     "output_type": "display_data"
    },
    {
     "data": {
      "text/html": [
       "<pre style=\"white-space:pre;overflow-x:auto;line-height:normal;font-family:Menlo,'DejaVu Sans Mono',consolas,'Courier New',monospace\"></pre>\n"
      ],
      "text/plain": []
     },
     "metadata": {},
     "output_type": "display_data"
    },
    {
     "data": {
      "text/html": [
       "<pre style=\"white-space:pre;overflow-x:auto;line-height:normal;font-family:Menlo,'DejaVu Sans Mono',consolas,'Courier New',monospace\"><span style=\"color: #7fbfbf; text-decoration-color: #7fbfbf\">             </span>View simulation result at                                          \n",
       "<span style=\"color: #7fbfbf; text-decoration-color: #7fbfbf\">             </span><a href=\"https://tidy3d.simulation.cloud/workbench?taskId=fdve-0231786b-65ec-4ad8-8647-6fb9c1f94dcf\" target=\"_blank\"><span style=\"color: #000080; text-decoration-color: #000080; text-decoration: underline\">'https://tidy3d.simulation.cloud/workbench?taskId=fdve-0231786b-65e</span></a>\n",
       "<span style=\"color: #7fbfbf; text-decoration-color: #7fbfbf\">             </span><a href=\"https://tidy3d.simulation.cloud/workbench?taskId=fdve-0231786b-65ec-4ad8-8647-6fb9c1f94dcf\" target=\"_blank\"><span style=\"color: #000080; text-decoration-color: #000080; text-decoration: underline\">c-4ad8-8647-6fb9c1f94dcf'</span></a><span style=\"color: #000080; text-decoration-color: #000080; text-decoration: underline\">.</span>                                         \n",
       "</pre>\n"
      ],
      "text/plain": [
       "\u001b[2;36m            \u001b[0m\u001b[2;36m \u001b[0mView simulation result at                                          \n",
       "\u001b[2;36m             \u001b[0m\u001b]8;id=579395;https://tidy3d.simulation.cloud/workbench?taskId=fdve-0231786b-65ec-4ad8-8647-6fb9c1f94dcf\u001b\\\u001b[4;34m'https://tidy3d.simulation.cloud/workbench?\u001b[0m\u001b]8;;\u001b\\\u001b]8;id=678702;https://tidy3d.simulation.cloud/workbench?taskId=fdve-0231786b-65ec-4ad8-8647-6fb9c1f94dcf\u001b\\\u001b[4;34mtaskId\u001b[0m\u001b]8;;\u001b\\\u001b]8;id=579395;https://tidy3d.simulation.cloud/workbench?taskId=fdve-0231786b-65ec-4ad8-8647-6fb9c1f94dcf\u001b\\\u001b[4;34m=\u001b[0m\u001b]8;;\u001b\\\u001b]8;id=455301;https://tidy3d.simulation.cloud/workbench?taskId=fdve-0231786b-65ec-4ad8-8647-6fb9c1f94dcf\u001b\\\u001b[4;34mfdve\u001b[0m\u001b]8;;\u001b\\\u001b]8;id=579395;https://tidy3d.simulation.cloud/workbench?taskId=fdve-0231786b-65ec-4ad8-8647-6fb9c1f94dcf\u001b\\\u001b[4;34m-0231786b-65e\u001b[0m\u001b]8;;\u001b\\\n",
       "\u001b[2;36m             \u001b[0m\u001b]8;id=579395;https://tidy3d.simulation.cloud/workbench?taskId=fdve-0231786b-65ec-4ad8-8647-6fb9c1f94dcf\u001b\\\u001b[4;34mc-4ad8-8647-6fb9c1f94dcf'\u001b[0m\u001b]8;;\u001b\\\u001b[4;34m.\u001b[0m                                         \n"
      ]
     },
     "metadata": {},
     "output_type": "display_data"
    },
    {
     "data": {
      "application/vnd.jupyter.widget-view+json": {
       "model_id": "b2cd89b0489144f198ff096807c2b090",
       "version_major": 2,
       "version_minor": 0
      },
      "text/plain": [
       "Output()"
      ]
     },
     "metadata": {},
     "output_type": "display_data"
    },
    {
     "data": {
      "text/html": [
       "<pre style=\"white-space:pre;overflow-x:auto;line-height:normal;font-family:Menlo,'DejaVu Sans Mono',consolas,'Courier New',monospace\"></pre>\n"
      ],
      "text/plain": []
     },
     "metadata": {},
     "output_type": "display_data"
    },
    {
     "data": {
      "text/html": [
       "<pre style=\"white-space:pre;overflow-x:auto;line-height:normal;font-family:Menlo,'DejaVu Sans Mono',consolas,'Courier New',monospace\">\n",
       "</pre>\n"
      ],
      "text/plain": [
       "\n"
      ]
     },
     "metadata": {},
     "output_type": "display_data"
    },
    {
     "data": {
      "text/html": [
       "<pre style=\"white-space:pre;overflow-x:auto;line-height:normal;font-family:Menlo,'DejaVu Sans Mono',consolas,'Courier New',monospace\"><span style=\"color: #7fbfbf; text-decoration-color: #7fbfbf\">18:16:07 BST </span>loading simulation from data/week05_design_jax_objective_fn_13.hdf5\n",
       "</pre>\n"
      ],
      "text/plain": [
       "\u001b[2;36m18:16:07 BST\u001b[0m\u001b[2;36m \u001b[0mloading simulation from data/week05_design_jax_objective_fn_13.hdf5\n"
      ]
     },
     "metadata": {},
     "output_type": "display_data"
    },
    {
     "name": "stdout",
     "output_type": "stream",
     "text": [
      "\terror value: 57.815789501735225\n",
      "\tgradient norm: 0.08306381315139784\n"
     ]
    },
    {
     "data": {
      "image/png": "[encoded data removed]",
      "text/plain": [
       "<Figure size 400x200 with 1 Axes>"
      ]
     },
     "metadata": {},
     "output_type": "display_data"
    },
    {
     "name": "stdout",
     "output_type": "stream",
     "text": [
      "Iteration 3\n"
     ]
    },
    {
     "data": {
      "text/html": [
       "<pre style=\"white-space:pre;overflow-x:auto;line-height:normal;font-family:Menlo,'DejaVu Sans Mono',consolas,'Courier New',monospace\"><span style=\"color: #7fbfbf; text-decoration-color: #7fbfbf\">18:20:18 BST </span>Created task <span style=\"color: #008000; text-decoration-color: #008000\">'task_week05_design_jax_objective_fn_14_fwd'</span> with     \n",
       "<span style=\"color: #7fbfbf; text-decoration-color: #7fbfbf\">             </span>task_id <span style=\"color: #008000; text-decoration-color: #008000\">'fdve-734db721-ebfd-4a36-9b3e-e4aba399e7fa'</span> and task_type  \n",
       "<span style=\"color: #7fbfbf; text-decoration-color: #7fbfbf\">             </span><span style=\"color: #008000; text-decoration-color: #008000\">'FDTD'</span>.                                                            \n",
       "</pre>\n"
      ],
      "text/plain": [
       "\u001b[2;36m18:20:18 BST\u001b[0m\u001b[2;36m \u001b[0mCreated task \u001b[32m'task_week05_design_jax_objective_fn_14_fwd'\u001b[0m with     \n",
       "\u001b[2;36m             \u001b[0mtask_id \u001b[32m'fdve-734db721-ebfd-4a36-9b3e-e4aba399e7fa'\u001b[0m and task_type  \n",
       "\u001b[2;36m             \u001b[0m\u001b[32m'FDTD'\u001b[0m.                                                            \n"
      ]
     },
     "metadata": {},
     "output_type": "display_data"
    },
    {
     "data": {
      "text/html": [
       "<pre style=\"white-space:pre;overflow-x:auto;line-height:normal;font-family:Menlo,'DejaVu Sans Mono',consolas,'Courier New',monospace\"><span style=\"color: #7fbfbf; text-decoration-color: #7fbfbf\">             </span>View task using web UI at                                          \n",
       "<span style=\"color: #7fbfbf; text-decoration-color: #7fbfbf\">             </span><a href=\"https://tidy3d.simulation.cloud/workbench?taskId=fdve-734db721-ebfd-4a36-9b3e-e4aba399e7fa\" target=\"_blank\"><span style=\"color: #008000; text-decoration-color: #008000\">'https://tidy3d.simulation.cloud/workbench?taskId=fdve-734db721-ebf</span></a>\n",
       "<span style=\"color: #7fbfbf; text-decoration-color: #7fbfbf\">             </span><a href=\"https://tidy3d.simulation.cloud/workbench?taskId=fdve-734db721-ebfd-4a36-9b3e-e4aba399e7fa\" target=\"_blank\"><span style=\"color: #008000; text-decoration-color: #008000\">d-4a36-9b3e-e4aba399e7fa'</span></a>.                                         \n",
       "</pre>\n"
      ],
      "text/plain": [
       "\u001b[2;36m            \u001b[0m\u001b[2;36m \u001b[0mView task using web UI at                                          \n",
       "\u001b[2;36m             \u001b[0m\u001b]8;id=122946;https://tidy3d.simulation.cloud/workbench?taskId=fdve-734db721-ebfd-4a36-9b3e-e4aba399e7fa\u001b\\\u001b[32m'https://tidy3d.simulation.cloud/workbench?\u001b[0m\u001b]8;;\u001b\\\u001b]8;id=57503;https://tidy3d.simulation.cloud/workbench?taskId=fdve-734db721-ebfd-4a36-9b3e-e4aba399e7fa\u001b\\\u001b[32mtaskId\u001b[0m\u001b]8;;\u001b\\\u001b]8;id=122946;https://tidy3d.simulation.cloud/workbench?taskId=fdve-734db721-ebfd-4a36-9b3e-e4aba399e7fa\u001b\\\u001b[32m=\u001b[0m\u001b]8;;\u001b\\\u001b]8;id=394164;https://tidy3d.simulation.cloud/workbench?taskId=fdve-734db721-ebfd-4a36-9b3e-e4aba399e7fa\u001b\\\u001b[32mfdve\u001b[0m\u001b]8;;\u001b\\\u001b]8;id=122946;https://tidy3d.simulation.cloud/workbench?taskId=fdve-734db721-ebfd-4a36-9b3e-e4aba399e7fa\u001b\\\u001b[32m-734db721-ebf\u001b[0m\u001b]8;;\u001b\\\n",
       "\u001b[2;36m             \u001b[0m\u001b]8;id=122946;https://tidy3d.simulation.cloud/workbench?taskId=fdve-734db721-ebfd-4a36-9b3e-e4aba399e7fa\u001b\\\u001b[32md-4a36-9b3e-e4aba399e7fa'\u001b[0m\u001b]8;;\u001b\\.                                         \n"
      ]
     },
     "metadata": {},
     "output_type": "display_data"
    },
    {
     "data": {
      "application/vnd.jupyter.widget-view+json": {
       "model_id": "a862c5db1c5447248acb20db7f3e1867",
       "version_major": 2,
       "version_minor": 0
      },
      "text/plain": [
       "Output()"
      ]
     },
     "metadata": {},
     "output_type": "display_data"
    },
    {
     "data": {
      "text/html": [
       "<pre style=\"white-space:pre;overflow-x:auto;line-height:normal;font-family:Menlo,'DejaVu Sans Mono',consolas,'Courier New',monospace\"></pre>\n"
      ],
      "text/plain": []
     },
     "metadata": {},
     "output_type": "display_data"
    },
    {
     "data": {
      "text/html": [
       "<pre style=\"white-space:pre;overflow-x:auto;line-height:normal;font-family:Menlo,'DejaVu Sans Mono',consolas,'Courier New',monospace\">\n",
       "</pre>\n"
      ],
      "text/plain": [
       "\n"
      ]
     },
     "metadata": {},
     "output_type": "display_data"
    },
    {
     "data": {
      "text/html": [
       "<pre style=\"white-space:pre;overflow-x:auto;line-height:normal;font-family:Menlo,'DejaVu Sans Mono',consolas,'Courier New',monospace\"><span style=\"color: #7fbfbf; text-decoration-color: #7fbfbf\">18:20:21 BST </span>status = queued                                                    \n",
       "</pre>\n"
      ],
      "text/plain": [
       "\u001b[2;36m18:20:21 BST\u001b[0m\u001b[2;36m \u001b[0mstatus = queued                                                    \n"
      ]
     },
     "metadata": {},
     "output_type": "display_data"
    },
    {
     "data": {
      "text/html": [
       "<pre style=\"white-space:pre;overflow-x:auto;line-height:normal;font-family:Menlo,'DejaVu Sans Mono',consolas,'Courier New',monospace\"><span style=\"color: #7fbfbf; text-decoration-color: #7fbfbf\">             </span>To cancel the simulation, use <span style=\"color: #008000; text-decoration-color: #008000\">'web.abort(task_id)'</span> or              \n",
       "<span style=\"color: #7fbfbf; text-decoration-color: #7fbfbf\">             </span><span style=\"color: #008000; text-decoration-color: #008000\">'web.delete(task_id)'</span> or abort/delete the task in the web UI.      \n",
       "<span style=\"color: #7fbfbf; text-decoration-color: #7fbfbf\">             </span>Terminating the Python script will not stop the job running on the \n",
       "<span style=\"color: #7fbfbf; text-decoration-color: #7fbfbf\">             </span>cloud.                                                             \n",
       "</pre>\n"
      ],
      "text/plain": [
       "\u001b[2;36m            \u001b[0m\u001b[2;36m \u001b[0mTo cancel the simulation, use \u001b[32m'web.abort\u001b[0m\u001b[32m(\u001b[0m\u001b[32mtask_id\u001b[0m\u001b[32m)\u001b[0m\u001b[32m'\u001b[0m or              \n",
       "\u001b[2;36m             \u001b[0m\u001b[32m'web.delete\u001b[0m\u001b[32m(\u001b[0m\u001b[32mtask_id\u001b[0m\u001b[32m)\u001b[0m\u001b[32m'\u001b[0m or abort/delete the task in the web UI.      \n",
       "\u001b[2;36m             \u001b[0mTerminating the Python script will not stop the job running on the \n",
       "\u001b[2;36m             \u001b[0mcloud.                                                             \n"
      ]
     },
     "metadata": {},
     "output_type": "display_data"
    },
    {
     "data": {
      "application/vnd.jupyter.widget-view+json": {
       "model_id": "1325a16467034a04a15d4ef0210746ae",
       "version_major": 2,
       "version_minor": 0
      },
      "text/plain": [
       "Output()"
      ]
     },
     "metadata": {},
     "output_type": "display_data"
    },
    {
     "data": {
      "text/html": [
       "<pre style=\"white-space:pre;overflow-x:auto;line-height:normal;font-family:Menlo,'DejaVu Sans Mono',consolas,'Courier New',monospace\"><span style=\"color: #7fbfbf; text-decoration-color: #7fbfbf\">18:20:35 BST </span>status = preprocess                                                \n",
       "</pre>\n"
      ],
      "text/plain": [
       "\u001b[2;36m18:20:35 BST\u001b[0m\u001b[2;36m \u001b[0mstatus = preprocess                                                \n"
      ]
     },
     "metadata": {},
     "output_type": "display_data"
    },
    {
     "data": {
      "text/html": [
       "<pre style=\"white-space:pre;overflow-x:auto;line-height:normal;font-family:Menlo,'DejaVu Sans Mono',consolas,'Courier New',monospace\"></pre>\n"
      ],
      "text/plain": []
     },
     "metadata": {},
     "output_type": "display_data"
    },
    {
     "data": {
      "text/html": [
       "<pre style=\"white-space:pre;overflow-x:auto;line-height:normal;font-family:Menlo,'DejaVu Sans Mono',consolas,'Courier New',monospace\"><span style=\"color: #7fbfbf; text-decoration-color: #7fbfbf\">18:20:36 BST </span>You are running this simulation for FREE. Your current plan allows \n",
       "<span style=\"color: #7fbfbf; text-decoration-color: #7fbfbf\">             </span>up to <span style=\"color: #008080; text-decoration-color: #008080; font-weight: bold\">20</span> free non-concurrent simulations per day <span style=\"font-weight: bold\">(</span>under <span style=\"color: #008080; text-decoration-color: #008080; font-weight: bold\">100.</span>0M grid\n",
       "<span style=\"color: #7fbfbf; text-decoration-color: #7fbfbf\">             </span>points and <span style=\"color: #008080; text-decoration-color: #008080; font-weight: bold\">50.</span>0K time steps<span style=\"font-weight: bold\">)</span>                                       \n",
       "</pre>\n"
      ],
      "text/plain": [
       "\u001b[2;36m18:20:36 BST\u001b[0m\u001b[2;36m \u001b[0mYou are running this simulation for FREE. Your current plan allows \n",
       "\u001b[2;36m             \u001b[0mup to \u001b[1;36m20\u001b[0m free non-concurrent simulations per day \u001b[1m(\u001b[0munder \u001b[1;36m100.\u001b[0m0M grid\n",
       "\u001b[2;36m             \u001b[0mpoints and \u001b[1;36m50.\u001b[0m0K time steps\u001b[1m)\u001b[0m                                       \n"
      ]
     },
     "metadata": {},
     "output_type": "display_data"
    },
    {
     "data": {
      "text/html": [
       "<pre style=\"white-space:pre;overflow-x:auto;line-height:normal;font-family:Menlo,'DejaVu Sans Mono',consolas,'Courier New',monospace\"><span style=\"color: #7fbfbf; text-decoration-color: #7fbfbf\">             </span>starting up solver                                                 \n",
       "</pre>\n"
      ],
      "text/plain": [
       "\u001b[2;36m            \u001b[0m\u001b[2;36m \u001b[0mstarting up solver                                                 \n"
      ]
     },
     "metadata": {},
     "output_type": "display_data"
    },
    {
     "data": {
      "text/html": [
       "<pre style=\"white-space:pre;overflow-x:auto;line-height:normal;font-family:Menlo,'DejaVu Sans Mono',consolas,'Courier New',monospace\"><span style=\"color: #7fbfbf; text-decoration-color: #7fbfbf\">18:20:37 BST </span>running solver                                                     \n",
       "</pre>\n"
      ],
      "text/plain": [
       "\u001b[2;36m18:20:37 BST\u001b[0m\u001b[2;36m \u001b[0mrunning solver                                                     \n"
      ]
     },
     "metadata": {},
     "output_type": "display_data"
    },
    {
     "data": {
      "application/vnd.jupyter.widget-view+json": {
       "model_id": "acd905dab025499b99dc738f2c40421c",
       "version_major": 2,
       "version_minor": 0
      },
      "text/plain": [
       "Output()"
      ]
     },
     "metadata": {},
     "output_type": "display_data"
    },
    {
     "data": {
      "text/html": [
       "<pre style=\"white-space:pre;overflow-x:auto;line-height:normal;font-family:Menlo,'DejaVu Sans Mono',consolas,'Courier New',monospace\"></pre>\n"
      ],
      "text/plain": []
     },
     "metadata": {},
     "output_type": "display_data"
    },
    {
     "data": {
      "text/html": [
       "<pre style=\"white-space:pre;overflow-x:auto;line-height:normal;font-family:Menlo,'DejaVu Sans Mono',consolas,'Courier New',monospace\">\n",
       "</pre>\n"
      ],
      "text/plain": [
       "\n"
      ]
     },
     "metadata": {},
     "output_type": "display_data"
    },
    {
     "data": {
      "text/html": [
       "<pre style=\"white-space:pre;overflow-x:auto;line-height:normal;font-family:Menlo,'DejaVu Sans Mono',consolas,'Courier New',monospace\"><span style=\"color: #7fbfbf; text-decoration-color: #7fbfbf\">18:22:50 BST </span>status = postprocess                                               \n",
       "</pre>\n"
      ],
      "text/plain": [
       "\u001b[2;36m18:22:50 BST\u001b[0m\u001b[2;36m \u001b[0mstatus = postprocess                                               \n"
      ]
     },
     "metadata": {},
     "output_type": "display_data"
    },
    {
     "data": {
      "application/vnd.jupyter.widget-view+json": {
       "model_id": "64ec515b7296498db59c01228ed0f916",
       "version_major": 2,
       "version_minor": 0
      },
      "text/plain": [
       "Output()"
      ]
     },
     "metadata": {},
     "output_type": "display_data"
    },
    {
     "data": {
      "text/html": [
       "<pre style=\"white-space:pre;overflow-x:auto;line-height:normal;font-family:Menlo,'DejaVu Sans Mono',consolas,'Courier New',monospace\"><span style=\"color: #7fbfbf; text-decoration-color: #7fbfbf\">18:23:04 BST </span>status = success                                                   \n",
       "</pre>\n"
      ],
      "text/plain": [
       "\u001b[2;36m18:23:04 BST\u001b[0m\u001b[2;36m \u001b[0mstatus = success                                                   \n"
      ]
     },
     "metadata": {},
     "output_type": "display_data"
    },
    {
     "data": {
      "text/html": [
       "<pre style=\"white-space:pre;overflow-x:auto;line-height:normal;font-family:Menlo,'DejaVu Sans Mono',consolas,'Courier New',monospace\"></pre>\n"
      ],
      "text/plain": []
     },
     "metadata": {},
     "output_type": "display_data"
    },
    {
     "data": {
      "text/html": [
       "<pre style=\"white-space:pre;overflow-x:auto;line-height:normal;font-family:Menlo,'DejaVu Sans Mono',consolas,'Courier New',monospace\"><span style=\"color: #7fbfbf; text-decoration-color: #7fbfbf\">             </span>View simulation result at                                          \n",
       "<span style=\"color: #7fbfbf; text-decoration-color: #7fbfbf\">             </span><a href=\"https://tidy3d.simulation.cloud/workbench?taskId=fdve-734db721-ebfd-4a36-9b3e-e4aba399e7fa\" target=\"_blank\"><span style=\"color: #000080; text-decoration-color: #000080; text-decoration: underline\">'https://tidy3d.simulation.cloud/workbench?taskId=fdve-734db721-ebf</span></a>\n",
       "<span style=\"color: #7fbfbf; text-decoration-color: #7fbfbf\">             </span><a href=\"https://tidy3d.simulation.cloud/workbench?taskId=fdve-734db721-ebfd-4a36-9b3e-e4aba399e7fa\" target=\"_blank\"><span style=\"color: #000080; text-decoration-color: #000080; text-decoration: underline\">d-4a36-9b3e-e4aba399e7fa'</span></a><span style=\"color: #000080; text-decoration-color: #000080; text-decoration: underline\">.</span>                                         \n",
       "</pre>\n"
      ],
      "text/plain": [
       "\u001b[2;36m            \u001b[0m\u001b[2;36m \u001b[0mView simulation result at                                          \n",
       "\u001b[2;36m             \u001b[0m\u001b]8;id=112770;https://tidy3d.simulation.cloud/workbench?taskId=fdve-734db721-ebfd-4a36-9b3e-e4aba399e7fa\u001b\\\u001b[4;34m'https://tidy3d.simulation.cloud/workbench?\u001b[0m\u001b]8;;\u001b\\\u001b]8;id=470070;https://tidy3d.simulation.cloud/workbench?taskId=fdve-734db721-ebfd-4a36-9b3e-e4aba399e7fa\u001b\\\u001b[4;34mtaskId\u001b[0m\u001b]8;;\u001b\\\u001b]8;id=112770;https://tidy3d.simulation.cloud/workbench?taskId=fdve-734db721-ebfd-4a36-9b3e-e4aba399e7fa\u001b\\\u001b[4;34m=\u001b[0m\u001b]8;;\u001b\\\u001b]8;id=767673;https://tidy3d.simulation.cloud/workbench?taskId=fdve-734db721-ebfd-4a36-9b3e-e4aba399e7fa\u001b\\\u001b[4;34mfdve\u001b[0m\u001b]8;;\u001b\\\u001b]8;id=112770;https://tidy3d.simulation.cloud/workbench?taskId=fdve-734db721-ebfd-4a36-9b3e-e4aba399e7fa\u001b\\\u001b[4;34m-734db721-ebf\u001b[0m\u001b]8;;\u001b\\\n",
       "\u001b[2;36m             \u001b[0m\u001b]8;id=112770;https://tidy3d.simulation.cloud/workbench?taskId=fdve-734db721-ebfd-4a36-9b3e-e4aba399e7fa\u001b\\\u001b[4;34md-4a36-9b3e-e4aba399e7fa'\u001b[0m\u001b]8;;\u001b\\\u001b[4;34m.\u001b[0m                                         \n"
      ]
     },
     "metadata": {},
     "output_type": "display_data"
    },
    {
     "data": {
      "application/vnd.jupyter.widget-view+json": {
       "model_id": "fd7a9865b3e04d6aa10f9058c8a5c720",
       "version_major": 2,
       "version_minor": 0
      },
      "text/plain": [
       "Output()"
      ]
     },
     "metadata": {},
     "output_type": "display_data"
    },
    {
     "data": {
      "text/html": [
       "<pre style=\"white-space:pre;overflow-x:auto;line-height:normal;font-family:Menlo,'DejaVu Sans Mono',consolas,'Courier New',monospace\"></pre>\n"
      ],
      "text/plain": []
     },
     "metadata": {},
     "output_type": "display_data"
    },
    {
     "data": {
      "text/html": [
       "<pre style=\"white-space:pre;overflow-x:auto;line-height:normal;font-family:Menlo,'DejaVu Sans Mono',consolas,'Courier New',monospace\">\n",
       "</pre>\n"
      ],
      "text/plain": [
       "\n"
      ]
     },
     "metadata": {},
     "output_type": "display_data"
    },
    {
     "data": {
      "text/html": [
       "<pre style=\"white-space:pre;overflow-x:auto;line-height:normal;font-family:Menlo,'DejaVu Sans Mono',consolas,'Courier New',monospace\"><span style=\"color: #7fbfbf; text-decoration-color: #7fbfbf\">18:23:16 BST </span>loading simulation from data/week05_design_jax_objective_fn_14.hdf5\n",
       "</pre>\n"
      ],
      "text/plain": [
       "\u001b[2;36m18:23:16 BST\u001b[0m\u001b[2;36m \u001b[0mloading simulation from data/week05_design_jax_objective_fn_14.hdf5\n"
      ]
     },
     "metadata": {},
     "output_type": "display_data"
    },
    {
     "data": {
      "text/html": [
       "<pre style=\"white-space:pre;overflow-x:auto;line-height:normal;font-family:Menlo,'DejaVu Sans Mono',consolas,'Courier New',monospace\"><span style=\"color: #7fbfbf; text-decoration-color: #7fbfbf\">             </span><span style=\"color: #800000; text-decoration-color: #800000\">WARNING: Simulation final field decay value of </span><span style=\"color: #008080; text-decoration-color: #008080; font-weight: bold\">9.02e-05</span><span style=\"color: #800000; text-decoration-color: #800000\"> is greater </span>\n",
       "<span style=\"color: #7fbfbf; text-decoration-color: #7fbfbf\">             </span><span style=\"color: #800000; text-decoration-color: #800000\">than the simulation shutoff threshold of </span><span style=\"color: #008080; text-decoration-color: #008080; font-weight: bold\">1e-06</span><span style=\"color: #800000; text-decoration-color: #800000\">. Consider running   </span>\n",
       "<span style=\"color: #7fbfbf; text-decoration-color: #7fbfbf\">             </span><span style=\"color: #800000; text-decoration-color: #800000\">the simulation again with a larger </span><span style=\"color: #008000; text-decoration-color: #008000\">'run_time'</span><span style=\"color: #800000; text-decoration-color: #800000\"> duration for more    </span>\n",
       "<span style=\"color: #7fbfbf; text-decoration-color: #7fbfbf\">             </span><span style=\"color: #800000; text-decoration-color: #800000\">accurate results.                                                  </span>\n",
       "</pre>\n"
      ],
      "text/plain": [
       "\u001b[2;36m            \u001b[0m\u001b[2;36m \u001b[0m\u001b[31mWARNING: Simulation final field decay value of \u001b[0m\u001b[1;36m9.02e-05\u001b[0m\u001b[31m is greater \u001b[0m\n",
       "\u001b[2;36m             \u001b[0m\u001b[31mthan the simulation shutoff threshold of \u001b[0m\u001b[1;36m1e-06\u001b[0m\u001b[31m. Consider running   \u001b[0m\n",
       "\u001b[2;36m             \u001b[0m\u001b[31mthe simulation again with a larger \u001b[0m\u001b[32m'run_time'\u001b[0m\u001b[31m duration for more    \u001b[0m\n",
       "\u001b[2;36m             \u001b[0m\u001b[31maccurate results.                                                  \u001b[0m\n"
      ]
     },
     "metadata": {},
     "output_type": "display_data"
    },
    {
     "data": {
      "text/html": [
       "<pre style=\"white-space:pre;overflow-x:auto;line-height:normal;font-family:Menlo,'DejaVu Sans Mono',consolas,'Courier New',monospace\"><span style=\"color: #7fbfbf; text-decoration-color: #7fbfbf\">18:23:17 BST </span><span style=\"color: #800000; text-decoration-color: #800000\">WARNING: </span><span style=\"color: #008080; text-decoration-color: #008080; font-weight: bold\">101</span><span style=\"color: #800000; text-decoration-color: #800000\"> unique frequencies detected in the output monitors    </span>\n",
       "<span style=\"color: #7fbfbf; text-decoration-color: #7fbfbf\">             </span><span style=\"color: #800000; text-decoration-color: #800000\">with a minimum spacing of </span><span style=\"color: #008080; text-decoration-color: #008080; font-weight: bold\">1.713e+12</span><span style=\"color: #800000; text-decoration-color: #800000\"> </span><span style=\"color: #800000; text-decoration-color: #800000; font-weight: bold\">(</span><span style=\"color: #800000; text-decoration-color: #800000\">Hz</span><span style=\"color: #800000; text-decoration-color: #800000; font-weight: bold\">)</span><span style=\"color: #800000; text-decoration-color: #800000\">. Setting the </span><span style=\"color: #008000; text-decoration-color: #008000\">'fwidth'</span><span style=\"color: #800000; text-decoration-color: #800000\"> of  </span>\n",
       "<span style=\"color: #7fbfbf; text-decoration-color: #7fbfbf\">             </span><span style=\"color: #800000; text-decoration-color: #800000\">the adjoint sources to </span><span style=\"color: #008080; text-decoration-color: #008080; font-weight: bold\">0.1</span><span style=\"color: #800000; text-decoration-color: #800000\"> times this value = </span><span style=\"color: #008080; text-decoration-color: #008080; font-weight: bold\">1.713e+11</span><span style=\"color: #800000; text-decoration-color: #800000\"> </span><span style=\"color: #800000; text-decoration-color: #800000; font-weight: bold\">(</span><span style=\"color: #800000; text-decoration-color: #800000\">Hz</span><span style=\"color: #800000; text-decoration-color: #800000; font-weight: bold\">)</span><span style=\"color: #800000; text-decoration-color: #800000\"> to    </span>\n",
       "<span style=\"color: #7fbfbf; text-decoration-color: #7fbfbf\">             </span><span style=\"color: #800000; text-decoration-color: #800000\">avoid spectral overlap. To account for this, the corresponding     </span>\n",
       "<span style=\"color: #7fbfbf; text-decoration-color: #7fbfbf\">             </span><span style=\"color: #008000; text-decoration-color: #008000\">'run_time'</span><span style=\"color: #800000; text-decoration-color: #800000\"> in the adjoint simulation is will be set to </span><span style=\"color: #008080; text-decoration-color: #008080; font-weight: bold\">7.458864e-11</span>\n",
       "<span style=\"color: #7fbfbf; text-decoration-color: #7fbfbf\">             </span><span style=\"color: #800000; text-decoration-color: #800000\">compared to </span><span style=\"color: #008080; text-decoration-color: #008080; font-weight: bold\">1.621492e-11</span><span style=\"color: #800000; text-decoration-color: #800000\"> in the forward simulation. If the adjoint </span>\n",
       "<span style=\"color: #7fbfbf; text-decoration-color: #7fbfbf\">             </span><span style=\"color: #008000; text-decoration-color: #008000\">'run_time'</span><span style=\"color: #800000; text-decoration-color: #800000\"> is large due to small frequency spacing, it could be    </span>\n",
       "<span style=\"color: #7fbfbf; text-decoration-color: #7fbfbf\">             </span><span style=\"color: #800000; text-decoration-color: #800000\">better to instead run one simulation per frequency, which can be   </span>\n",
       "<span style=\"color: #7fbfbf; text-decoration-color: #7fbfbf\">             </span><span style=\"color: #800000; text-decoration-color: #800000\">done in parallel using </span><span style=\"color: #008000; text-decoration-color: #008000\">'tidy3d.plugins.adjoint.web.run_async'</span><span style=\"color: #800000; text-decoration-color: #800000\">.     </span>\n",
       "</pre>\n"
      ],
      "text/plain": [
       "\u001b[2;36m18:23:17 BST\u001b[0m\u001b[2;36m \u001b[0m\u001b[31mWARNING: \u001b[0m\u001b[1;36m101\u001b[0m\u001b[31m unique frequencies detected in the output monitors    \u001b[0m\n",
       "\u001b[2;36m             \u001b[0m\u001b[31mwith a minimum spacing of \u001b[0m\u001b[1;36m1.713e+12\u001b[0m\u001b[31m \u001b[0m\u001b[1;31m(\u001b[0m\u001b[31mHz\u001b[0m\u001b[1;31m)\u001b[0m\u001b[31m. Setting the \u001b[0m\u001b[32m'fwidth'\u001b[0m\u001b[31m of  \u001b[0m\n",
       "\u001b[2;36m             \u001b[0m\u001b[31mthe adjoint sources to \u001b[0m\u001b[1;36m0.1\u001b[0m\u001b[31m times this value = \u001b[0m\u001b[1;36m1.713e+11\u001b[0m\u001b[31m \u001b[0m\u001b[1;31m(\u001b[0m\u001b[31mHz\u001b[0m\u001b[1;31m)\u001b[0m\u001b[31m to    \u001b[0m\n",
       "\u001b[2;36m             \u001b[0m\u001b[31mavoid spectral overlap. To account for this, the corresponding     \u001b[0m\n",
       "\u001b[2;36m             \u001b[0m\u001b[32m'run_time'\u001b[0m\u001b[31m in the adjoint simulation is will be set to \u001b[0m\u001b[1;36m7.458864e-11\u001b[0m\n",
       "\u001b[2;36m             \u001b[0m\u001b[31mcompared to \u001b[0m\u001b[1;36m1.621492e-11\u001b[0m\u001b[31m in the forward simulation. If the adjoint \u001b[0m\n",
       "\u001b[2;36m             \u001b[0m\u001b[32m'run_time'\u001b[0m\u001b[31m is large due to small frequency spacing, it could be    \u001b[0m\n",
       "\u001b[2;36m             \u001b[0m\u001b[31mbetter to instead run one simulation per frequency, which can be   \u001b[0m\n",
       "\u001b[2;36m             \u001b[0m\u001b[31mdone in parallel using \u001b[0m\u001b[32m'tidy3d.plugins.adjoint.web.run_async'\u001b[0m\u001b[31m.     \u001b[0m\n"
      ]
     },
     "metadata": {},
     "output_type": "display_data"
    },
    {
     "data": {
      "text/html": [
       "<pre style=\"white-space:pre;overflow-x:auto;line-height:normal;font-family:Menlo,'DejaVu Sans Mono',consolas,'Courier New',monospace\"><span style=\"color: #7fbfbf; text-decoration-color: #7fbfbf\">18:23:21 BST </span><span style=\"color: #800000; text-decoration-color: #800000\">WARNING: Simulation has </span><span style=\"color: #008080; text-decoration-color: #008080; font-weight: bold\">3.10e+06</span><span style=\"color: #800000; text-decoration-color: #800000\"> time steps. The </span><span style=\"color: #008000; text-decoration-color: #008000\">'run_time'</span><span style=\"color: #800000; text-decoration-color: #800000\"> may be </span>\n",
       "<span style=\"color: #7fbfbf; text-decoration-color: #7fbfbf\">             </span><span style=\"color: #800000; text-decoration-color: #800000\">unnecessarily large, unless there are very long-lived resonances.  </span>\n",
       "</pre>\n"
      ],
      "text/plain": [
       "\u001b[2;36m18:23:21 BST\u001b[0m\u001b[2;36m \u001b[0m\u001b[31mWARNING: Simulation has \u001b[0m\u001b[1;36m3.10e+06\u001b[0m\u001b[31m time steps. The \u001b[0m\u001b[32m'run_time'\u001b[0m\u001b[31m may be \u001b[0m\n",
       "\u001b[2;36m             \u001b[0m\u001b[31munnecessarily large, unless there are very long-lived resonances.  \u001b[0m\n"
      ]
     },
     "metadata": {},
     "output_type": "display_data"
    },
    {
     "data": {
      "text/html": [
       "<pre style=\"white-space:pre;overflow-x:auto;line-height:normal;font-family:Menlo,'DejaVu Sans Mono',consolas,'Courier New',monospace\"><span style=\"color: #7fbfbf; text-decoration-color: #7fbfbf\">             </span>Created task <span style=\"color: #008000; text-decoration-color: #008000\">'task_week05_design_jax_objective_fn_14_adj'</span> with     \n",
       "<span style=\"color: #7fbfbf; text-decoration-color: #7fbfbf\">             </span>task_id <span style=\"color: #008000; text-decoration-color: #008000\">'fdve-fc4e4d62-dba7-4481-82b0-7afe270d8048'</span> and task_type  \n",
       "<span style=\"color: #7fbfbf; text-decoration-color: #7fbfbf\">             </span><span style=\"color: #008000; text-decoration-color: #008000\">'FDTD'</span>.                                                            \n",
       "</pre>\n"
      ],
      "text/plain": [
       "\u001b[2;36m            \u001b[0m\u001b[2;36m \u001b[0mCreated task \u001b[32m'task_week05_design_jax_objective_fn_14_adj'\u001b[0m with     \n",
       "\u001b[2;36m             \u001b[0mtask_id \u001b[32m'fdve-fc4e4d62-dba7-4481-82b0-7afe270d8048'\u001b[0m and task_type  \n",
       "\u001b[2;36m             \u001b[0m\u001b[32m'FDTD'\u001b[0m.                                                            \n"
      ]
     },
     "metadata": {},
     "output_type": "display_data"
    },
    {
     "data": {
      "text/html": [
       "<pre style=\"white-space:pre;overflow-x:auto;line-height:normal;font-family:Menlo,'DejaVu Sans Mono',consolas,'Courier New',monospace\"><span style=\"color: #7fbfbf; text-decoration-color: #7fbfbf\">             </span>View task using web UI at                                          \n",
       "<span style=\"color: #7fbfbf; text-decoration-color: #7fbfbf\">             </span><a href=\"https://tidy3d.simulation.cloud/workbench?taskId=fdve-fc4e4d62-dba7-4481-82b0-7afe270d8048\" target=\"_blank\"><span style=\"color: #008000; text-decoration-color: #008000\">'https://tidy3d.simulation.cloud/workbench?taskId=fdve-fc4e4d62-dba</span></a>\n",
       "<span style=\"color: #7fbfbf; text-decoration-color: #7fbfbf\">             </span><a href=\"https://tidy3d.simulation.cloud/workbench?taskId=fdve-fc4e4d62-dba7-4481-82b0-7afe270d8048\" target=\"_blank\"><span style=\"color: #008000; text-decoration-color: #008000\">7-4481-82b0-7afe270d8048'</span></a>.                                         \n",
       "</pre>\n"
      ],
      "text/plain": [
       "\u001b[2;36m            \u001b[0m\u001b[2;36m \u001b[0mView task using web UI at                                          \n",
       "\u001b[2;36m             \u001b[0m\u001b]8;id=950364;https://tidy3d.simulation.cloud/workbench?taskId=fdve-fc4e4d62-dba7-4481-82b0-7afe270d8048\u001b\\\u001b[32m'https://tidy3d.simulation.cloud/workbench?\u001b[0m\u001b]8;;\u001b\\\u001b]8;id=414858;https://tidy3d.simulation.cloud/workbench?taskId=fdve-fc4e4d62-dba7-4481-82b0-7afe270d8048\u001b\\\u001b[32mtaskId\u001b[0m\u001b]8;;\u001b\\\u001b]8;id=950364;https://tidy3d.simulation.cloud/workbench?taskId=fdve-fc4e4d62-dba7-4481-82b0-7afe270d8048\u001b\\\u001b[32m=\u001b[0m\u001b]8;;\u001b\\\u001b]8;id=11642;https://tidy3d.simulation.cloud/workbench?taskId=fdve-fc4e4d62-dba7-4481-82b0-7afe270d8048\u001b\\\u001b[32mfdve\u001b[0m\u001b]8;;\u001b\\\u001b]8;id=950364;https://tidy3d.simulation.cloud/workbench?taskId=fdve-fc4e4d62-dba7-4481-82b0-7afe270d8048\u001b\\\u001b[32m-fc4e4d62-dba\u001b[0m\u001b]8;;\u001b\\\n",
       "\u001b[2;36m             \u001b[0m\u001b]8;id=950364;https://tidy3d.simulation.cloud/workbench?taskId=fdve-fc4e4d62-dba7-4481-82b0-7afe270d8048\u001b\\\u001b[32m7-4481-82b0-7afe270d8048'\u001b[0m\u001b]8;;\u001b\\.                                         \n"
      ]
     },
     "metadata": {},
     "output_type": "display_data"
    },
    {
     "data": {
      "application/vnd.jupyter.widget-view+json": {
       "model_id": "6e8ce3b36548432daf0720eb1083919e",
       "version_major": 2,
       "version_minor": 0
      },
      "text/plain": [
       "Output()"
      ]
     },
     "metadata": {},
     "output_type": "display_data"
    },
    {
     "data": {
      "text/html": [
       "<pre style=\"white-space:pre;overflow-x:auto;line-height:normal;font-family:Menlo,'DejaVu Sans Mono',consolas,'Courier New',monospace\"></pre>\n"
      ],
      "text/plain": []
     },
     "metadata": {},
     "output_type": "display_data"
    },
    {
     "data": {
      "text/html": [
       "<pre style=\"white-space:pre;overflow-x:auto;line-height:normal;font-family:Menlo,'DejaVu Sans Mono',consolas,'Courier New',monospace\">\n",
       "</pre>\n"
      ],
      "text/plain": [
       "\n"
      ]
     },
     "metadata": {},
     "output_type": "display_data"
    },
    {
     "data": {
      "text/html": [
       "<pre style=\"white-space:pre;overflow-x:auto;line-height:normal;font-family:Menlo,'DejaVu Sans Mono',consolas,'Courier New',monospace\"><span style=\"color: #7fbfbf; text-decoration-color: #7fbfbf\">18:23:33 BST </span>status = queued                                                    \n",
       "</pre>\n"
      ],
      "text/plain": [
       "\u001b[2;36m18:23:33 BST\u001b[0m\u001b[2;36m \u001b[0mstatus = queued                                                    \n"
      ]
     },
     "metadata": {},
     "output_type": "display_data"
    },
    {
     "data": {
      "text/html": [
       "<pre style=\"white-space:pre;overflow-x:auto;line-height:normal;font-family:Menlo,'DejaVu Sans Mono',consolas,'Courier New',monospace\"><span style=\"color: #7fbfbf; text-decoration-color: #7fbfbf\">             </span>To cancel the simulation, use <span style=\"color: #008000; text-decoration-color: #008000\">'web.abort(task_id)'</span> or              \n",
       "<span style=\"color: #7fbfbf; text-decoration-color: #7fbfbf\">             </span><span style=\"color: #008000; text-decoration-color: #008000\">'web.delete(task_id)'</span> or abort/delete the task in the web UI.      \n",
       "<span style=\"color: #7fbfbf; text-decoration-color: #7fbfbf\">             </span>Terminating the Python script will not stop the job running on the \n",
       "<span style=\"color: #7fbfbf; text-decoration-color: #7fbfbf\">             </span>cloud.                                                             \n",
       "</pre>\n"
      ],
      "text/plain": [
       "\u001b[2;36m            \u001b[0m\u001b[2;36m \u001b[0mTo cancel the simulation, use \u001b[32m'web.abort\u001b[0m\u001b[32m(\u001b[0m\u001b[32mtask_id\u001b[0m\u001b[32m)\u001b[0m\u001b[32m'\u001b[0m or              \n",
       "\u001b[2;36m             \u001b[0m\u001b[32m'web.delete\u001b[0m\u001b[32m(\u001b[0m\u001b[32mtask_id\u001b[0m\u001b[32m)\u001b[0m\u001b[32m'\u001b[0m or abort/delete the task in the web UI.      \n",
       "\u001b[2;36m             \u001b[0mTerminating the Python script will not stop the job running on the \n",
       "\u001b[2;36m             \u001b[0mcloud.                                                             \n"
      ]
     },
     "metadata": {},
     "output_type": "display_data"
    },
    {
     "data": {
      "application/vnd.jupyter.widget-view+json": {
       "model_id": "76f724c021ad4b4ba2f92e08e8a178e8",
       "version_major": 2,
       "version_minor": 0
      },
      "text/plain": [
       "Output()"
      ]
     },
     "metadata": {},
     "output_type": "display_data"
    },
    {
     "data": {
      "text/html": [
       "<pre style=\"white-space:pre;overflow-x:auto;line-height:normal;font-family:Menlo,'DejaVu Sans Mono',consolas,'Courier New',monospace\"><span style=\"color: #7fbfbf; text-decoration-color: #7fbfbf\">18:23:41 BST </span>status = preprocess                                                \n",
       "</pre>\n"
      ],
      "text/plain": [
       "\u001b[2;36m18:23:41 BST\u001b[0m\u001b[2;36m \u001b[0mstatus = preprocess                                                \n"
      ]
     },
     "metadata": {},
     "output_type": "display_data"
    },
    {
     "data": {
      "text/html": [
       "<pre style=\"white-space:pre;overflow-x:auto;line-height:normal;font-family:Menlo,'DejaVu Sans Mono',consolas,'Courier New',monospace\"></pre>\n"
      ],
      "text/plain": []
     },
     "metadata": {},
     "output_type": "display_data"
    },
    {
     "data": {
      "text/html": [
       "<pre style=\"white-space:pre;overflow-x:auto;line-height:normal;font-family:Menlo,'DejaVu Sans Mono',consolas,'Courier New',monospace\"><span style=\"color: #7fbfbf; text-decoration-color: #7fbfbf\">18:24:33 BST </span>Maximum FlexCredit cost: <span style=\"color: #008080; text-decoration-color: #008080; font-weight: bold\">0.608</span>. Use <span style=\"color: #008000; text-decoration-color: #008000\">'web.real_cost(task_id)'</span> to get\n",
       "<span style=\"color: #7fbfbf; text-decoration-color: #7fbfbf\">             </span>the billed FlexCredit cost after a simulation run.                 \n",
       "</pre>\n"
      ],
      "text/plain": [
       "\u001b[2;36m18:24:33 BST\u001b[0m\u001b[2;36m \u001b[0mMaximum FlexCredit cost: \u001b[1;36m0.608\u001b[0m. Use \u001b[32m'web.real_cost\u001b[0m\u001b[32m(\u001b[0m\u001b[32mtask_id\u001b[0m\u001b[32m)\u001b[0m\u001b[32m'\u001b[0m to get\n",
       "\u001b[2;36m             \u001b[0mthe billed FlexCredit cost after a simulation run.                 \n"
      ]
     },
     "metadata": {},
     "output_type": "display_data"
    },
    {
     "data": {
      "text/html": [
       "<pre style=\"white-space:pre;overflow-x:auto;line-height:normal;font-family:Menlo,'DejaVu Sans Mono',consolas,'Courier New',monospace\"><span style=\"color: #7fbfbf; text-decoration-color: #7fbfbf\">             </span>starting up solver                                                 \n",
       "</pre>\n"
      ],
      "text/plain": [
       "\u001b[2;36m            \u001b[0m\u001b[2;36m \u001b[0mstarting up solver                                                 \n"
      ]
     },
     "metadata": {},
     "output_type": "display_data"
    },
    {
     "data": {
      "text/html": [
       "<pre style=\"white-space:pre;overflow-x:auto;line-height:normal;font-family:Menlo,'DejaVu Sans Mono',consolas,'Courier New',monospace\"><span style=\"color: #7fbfbf; text-decoration-color: #7fbfbf\">             </span>running solver                                                     \n",
       "</pre>\n"
      ],
      "text/plain": [
       "\u001b[2;36m            \u001b[0m\u001b[2;36m \u001b[0mrunning solver                                                     \n"
      ]
     },
     "metadata": {},
     "output_type": "display_data"
    },
    {
     "data": {
      "application/vnd.jupyter.widget-view+json": {
       "model_id": "68f73a3893fb4c68bb00854ad9b1b52a",
       "version_major": 2,
       "version_minor": 0
      },
      "text/plain": [
       "Output()"
      ]
     },
     "metadata": {},
     "output_type": "display_data"
    },
    {
     "data": {
      "text/html": [
       "<pre style=\"white-space:pre;overflow-x:auto;line-height:normal;font-family:Menlo,'DejaVu Sans Mono',consolas,'Courier New',monospace\"><span style=\"color: #7fbfbf; text-decoration-color: #7fbfbf\">18:30:53 BST </span>early shutoff detected at <span style=\"color: #008080; text-decoration-color: #008080; font-weight: bold\">12</span>%, exiting.                            \n",
       "</pre>\n"
      ],
      "text/plain": [
       "\u001b[2;36m18:30:53 BST\u001b[0m\u001b[2;36m \u001b[0mearly shutoff detected at \u001b[1;36m12\u001b[0m%, exiting.                            \n"
      ]
     },
     "metadata": {},
     "output_type": "display_data"
    },
    {
     "data": {
      "text/html": [
       "<pre style=\"white-space:pre;overflow-x:auto;line-height:normal;font-family:Menlo,'DejaVu Sans Mono',consolas,'Courier New',monospace\"></pre>\n"
      ],
      "text/plain": []
     },
     "metadata": {},
     "output_type": "display_data"
    },
    {
     "data": {
      "text/html": [
       "<pre style=\"white-space:pre;overflow-x:auto;line-height:normal;font-family:Menlo,'DejaVu Sans Mono',consolas,'Courier New',monospace\">\n",
       "</pre>\n"
      ],
      "text/plain": [
       "\n"
      ]
     },
     "metadata": {},
     "output_type": "display_data"
    },
    {
     "data": {
      "text/html": [
       "<pre style=\"white-space:pre;overflow-x:auto;line-height:normal;font-family:Menlo,'DejaVu Sans Mono',consolas,'Courier New',monospace\"><span style=\"color: #7fbfbf; text-decoration-color: #7fbfbf\">             </span>status = postprocess                                               \n",
       "</pre>\n"
      ],
      "text/plain": [
       "\u001b[2;36m            \u001b[0m\u001b[2;36m \u001b[0mstatus = postprocess                                               \n"
      ]
     },
     "metadata": {},
     "output_type": "display_data"
    },
    {
     "data": {
      "application/vnd.jupyter.widget-view+json": {
       "model_id": "4b314c37f44b445ea1539f8b258a76a8",
       "version_major": 2,
       "version_minor": 0
      },
      "text/plain": [
       "Output()"
      ]
     },
     "metadata": {},
     "output_type": "display_data"
    },
    {
     "data": {
      "text/html": [
       "<pre style=\"white-space:pre;overflow-x:auto;line-height:normal;font-family:Menlo,'DejaVu Sans Mono',consolas,'Courier New',monospace\"><span style=\"color: #7fbfbf; text-decoration-color: #7fbfbf\">18:31:11 BST </span>status = success                                                   \n",
       "</pre>\n"
      ],
      "text/plain": [
       "\u001b[2;36m18:31:11 BST\u001b[0m\u001b[2;36m \u001b[0mstatus = success                                                   \n"
      ]
     },
     "metadata": {},
     "output_type": "display_data"
    },
    {
     "data": {
      "text/html": [
       "<pre style=\"white-space:pre;overflow-x:auto;line-height:normal;font-family:Menlo,'DejaVu Sans Mono',consolas,'Courier New',monospace\"></pre>\n"
      ],
      "text/plain": []
     },
     "metadata": {},
     "output_type": "display_data"
    },
    {
     "data": {
      "text/html": [
       "<pre style=\"white-space:pre;overflow-x:auto;line-height:normal;font-family:Menlo,'DejaVu Sans Mono',consolas,'Courier New',monospace\"><span style=\"color: #7fbfbf; text-decoration-color: #7fbfbf\">             </span>View simulation result at                                          \n",
       "<span style=\"color: #7fbfbf; text-decoration-color: #7fbfbf\">             </span><a href=\"https://tidy3d.simulation.cloud/workbench?taskId=fdve-fc4e4d62-dba7-4481-82b0-7afe270d8048\" target=\"_blank\"><span style=\"color: #000080; text-decoration-color: #000080; text-decoration: underline\">'https://tidy3d.simulation.cloud/workbench?taskId=fdve-fc4e4d62-dba</span></a>\n",
       "<span style=\"color: #7fbfbf; text-decoration-color: #7fbfbf\">             </span><a href=\"https://tidy3d.simulation.cloud/workbench?taskId=fdve-fc4e4d62-dba7-4481-82b0-7afe270d8048\" target=\"_blank\"><span style=\"color: #000080; text-decoration-color: #000080; text-decoration: underline\">7-4481-82b0-7afe270d8048'</span></a><span style=\"color: #000080; text-decoration-color: #000080; text-decoration: underline\">.</span>                                         \n",
       "</pre>\n"
      ],
      "text/plain": [
       "\u001b[2;36m            \u001b[0m\u001b[2;36m \u001b[0mView simulation result at                                          \n",
       "\u001b[2;36m             \u001b[0m\u001b]8;id=149322;https://tidy3d.simulation.cloud/workbench?taskId=fdve-fc4e4d62-dba7-4481-82b0-7afe270d8048\u001b\\\u001b[4;34m'https://tidy3d.simulation.cloud/workbench?\u001b[0m\u001b]8;;\u001b\\\u001b]8;id=789001;https://tidy3d.simulation.cloud/workbench?taskId=fdve-fc4e4d62-dba7-4481-82b0-7afe270d8048\u001b\\\u001b[4;34mtaskId\u001b[0m\u001b]8;;\u001b\\\u001b]8;id=149322;https://tidy3d.simulation.cloud/workbench?taskId=fdve-fc4e4d62-dba7-4481-82b0-7afe270d8048\u001b\\\u001b[4;34m=\u001b[0m\u001b]8;;\u001b\\\u001b]8;id=449372;https://tidy3d.simulation.cloud/workbench?taskId=fdve-fc4e4d62-dba7-4481-82b0-7afe270d8048\u001b\\\u001b[4;34mfdve\u001b[0m\u001b]8;;\u001b\\\u001b]8;id=149322;https://tidy3d.simulation.cloud/workbench?taskId=fdve-fc4e4d62-dba7-4481-82b0-7afe270d8048\u001b\\\u001b[4;34m-fc4e4d62-dba\u001b[0m\u001b]8;;\u001b\\\n",
       "\u001b[2;36m             \u001b[0m\u001b]8;id=149322;https://tidy3d.simulation.cloud/workbench?taskId=fdve-fc4e4d62-dba7-4481-82b0-7afe270d8048\u001b\\\u001b[4;34m7-4481-82b0-7afe270d8048'\u001b[0m\u001b]8;;\u001b\\\u001b[4;34m.\u001b[0m                                         \n"
      ]
     },
     "metadata": {},
     "output_type": "display_data"
    },
    {
     "data": {
      "application/vnd.jupyter.widget-view+json": {
       "model_id": "ed1e554dad2f4e318389d2fe1f28fa36",
       "version_major": 2,
       "version_minor": 0
      },
      "text/plain": [
       "Output()"
      ]
     },
     "metadata": {},
     "output_type": "display_data"
    },
    {
     "data": {
      "text/html": [
       "<pre style=\"white-space:pre;overflow-x:auto;line-height:normal;font-family:Menlo,'DejaVu Sans Mono',consolas,'Courier New',monospace\"></pre>\n"
      ],
      "text/plain": []
     },
     "metadata": {},
     "output_type": "display_data"
    },
    {
     "data": {
      "text/html": [
       "<pre style=\"white-space:pre;overflow-x:auto;line-height:normal;font-family:Menlo,'DejaVu Sans Mono',consolas,'Courier New',monospace\">\n",
       "</pre>\n"
      ],
      "text/plain": [
       "\n"
      ]
     },
     "metadata": {},
     "output_type": "display_data"
    },
    {
     "data": {
      "text/html": [
       "<pre style=\"white-space:pre;overflow-x:auto;line-height:normal;font-family:Menlo,'DejaVu Sans Mono',consolas,'Courier New',monospace\"><span style=\"color: #7fbfbf; text-decoration-color: #7fbfbf\">18:31:26 BST </span>loading simulation from data/week05_design_jax_objective_fn_14.hdf5\n",
       "</pre>\n"
      ],
      "text/plain": [
       "\u001b[2;36m18:31:26 BST\u001b[0m\u001b[2;36m \u001b[0mloading simulation from data/week05_design_jax_objective_fn_14.hdf5\n"
      ]
     },
     "metadata": {},
     "output_type": "display_data"
    },
    {
     "name": "stdout",
     "output_type": "stream",
     "text": [
      "\terror value: 57.68787400400154\n",
      "\tgradient norm: 0.033311915946613486\n"
     ]
    },
    {
     "data": {
      "image/png": "[encoded data removed]",
      "text/plain": [
       "<Figure size 400x200 with 1 Axes>"
      ]
     },
     "metadata": {},
     "output_type": "display_data"
    },
    {
     "name": "stdout",
     "output_type": "stream",
     "text": [
      "Iteration 4\n"
     ]
    },
    {
     "data": {
      "text/html": [
       "<pre style=\"white-space:pre;overflow-x:auto;line-height:normal;font-family:Menlo,'DejaVu Sans Mono',consolas,'Courier New',monospace\"><span style=\"color: #7fbfbf; text-decoration-color: #7fbfbf\">18:35:30 BST </span>Created task <span style=\"color: #008000; text-decoration-color: #008000\">'task_week05_design_jax_objective_fn_15_fwd'</span> with     \n",
       "<span style=\"color: #7fbfbf; text-decoration-color: #7fbfbf\">             </span>task_id <span style=\"color: #008000; text-decoration-color: #008000\">'fdve-96f7b963-6461-4ed2-ab1c-85046bd23514'</span> and task_type  \n",
       "<span style=\"color: #7fbfbf; text-decoration-color: #7fbfbf\">             </span><span style=\"color: #008000; text-decoration-color: #008000\">'FDTD'</span>.                                                            \n",
       "</pre>\n"
      ],
      "text/plain": [
       "\u001b[2;36m18:35:30 BST\u001b[0m\u001b[2;36m \u001b[0mCreated task \u001b[32m'task_week05_design_jax_objective_fn_15_fwd'\u001b[0m with     \n",
       "\u001b[2;36m             \u001b[0mtask_id \u001b[32m'fdve-96f7b963-6461-4ed2-ab1c-85046bd23514'\u001b[0m and task_type  \n",
       "\u001b[2;36m             \u001b[0m\u001b[32m'FDTD'\u001b[0m.                                                            \n"
      ]
     },
     "metadata": {},
     "output_type": "display_data"
    },
    {
     "data": {
      "text/html": [
       "<pre style=\"white-space:pre;overflow-x:auto;line-height:normal;font-family:Menlo,'DejaVu Sans Mono',consolas,'Courier New',monospace\"><span style=\"color: #7fbfbf; text-decoration-color: #7fbfbf\">             </span>View task using web UI at                                          \n",
       "<span style=\"color: #7fbfbf; text-decoration-color: #7fbfbf\">             </span><a href=\"https://tidy3d.simulation.cloud/workbench?taskId=fdve-96f7b963-6461-4ed2-ab1c-85046bd23514\" target=\"_blank\"><span style=\"color: #008000; text-decoration-color: #008000\">'https://tidy3d.simulation.cloud/workbench?taskId=fdve-96f7b963-646</span></a>\n",
       "<span style=\"color: #7fbfbf; text-decoration-color: #7fbfbf\">             </span><a href=\"https://tidy3d.simulation.cloud/workbench?taskId=fdve-96f7b963-6461-4ed2-ab1c-85046bd23514\" target=\"_blank\"><span style=\"color: #008000; text-decoration-color: #008000\">1-4ed2-ab1c-85046bd23514'</span></a>.                                         \n",
       "</pre>\n"
      ],
      "text/plain": [
       "\u001b[2;36m            \u001b[0m\u001b[2;36m \u001b[0mView task using web UI at                                          \n",
       "\u001b[2;36m             \u001b[0m\u001b]8;id=175560;https://tidy3d.simulation.cloud/workbench?taskId=fdve-96f7b963-6461-4ed2-ab1c-85046bd23514\u001b\\\u001b[32m'https://tidy3d.simulation.cloud/workbench?\u001b[0m\u001b]8;;\u001b\\\u001b]8;id=371635;https://tidy3d.simulation.cloud/workbench?taskId=fdve-96f7b963-6461-4ed2-ab1c-85046bd23514\u001b\\\u001b[32mtaskId\u001b[0m\u001b]8;;\u001b\\\u001b]8;id=175560;https://tidy3d.simulation.cloud/workbench?taskId=fdve-96f7b963-6461-4ed2-ab1c-85046bd23514\u001b\\\u001b[32m=\u001b[0m\u001b]8;;\u001b\\\u001b]8;id=312669;https://tidy3d.simulation.cloud/workbench?taskId=fdve-96f7b963-6461-4ed2-ab1c-85046bd23514\u001b\\\u001b[32mfdve\u001b[0m\u001b]8;;\u001b\\\u001b]8;id=175560;https://tidy3d.simulation.cloud/workbench?taskId=fdve-96f7b963-6461-4ed2-ab1c-85046bd23514\u001b\\\u001b[32m-96f7b963-646\u001b[0m\u001b]8;;\u001b\\\n",
       "\u001b[2;36m             \u001b[0m\u001b]8;id=175560;https://tidy3d.simulation.cloud/workbench?taskId=fdve-96f7b963-6461-4ed2-ab1c-85046bd23514\u001b\\\u001b[32m1-4ed2-ab1c-85046bd23514'\u001b[0m\u001b]8;;\u001b\\.                                         \n"
      ]
     },
     "metadata": {},
     "output_type": "display_data"
    },
    {
     "data": {
      "application/vnd.jupyter.widget-view+json": {
       "model_id": "69801354700f441cb6665a16132a3ef3",
       "version_major": 2,
       "version_minor": 0
      },
      "text/plain": [
       "Output()"
      ]
     },
     "metadata": {},
     "output_type": "display_data"
    },
    {
     "data": {
      "text/html": [
       "<pre style=\"white-space:pre;overflow-x:auto;line-height:normal;font-family:Menlo,'DejaVu Sans Mono',consolas,'Courier New',monospace\"></pre>\n"
      ],
      "text/plain": []
     },
     "metadata": {},
     "output_type": "display_data"
    },
    {
     "data": {
      "text/html": [
       "<pre style=\"white-space:pre;overflow-x:auto;line-height:normal;font-family:Menlo,'DejaVu Sans Mono',consolas,'Courier New',monospace\">\n",
       "</pre>\n"
      ],
      "text/plain": [
       "\n"
      ]
     },
     "metadata": {},
     "output_type": "display_data"
    },
    {
     "data": {
      "text/html": [
       "<pre style=\"white-space:pre;overflow-x:auto;line-height:normal;font-family:Menlo,'DejaVu Sans Mono',consolas,'Courier New',monospace\"><span style=\"color: #7fbfbf; text-decoration-color: #7fbfbf\">18:35:33 BST </span>status = queued                                                    \n",
       "</pre>\n"
      ],
      "text/plain": [
       "\u001b[2;36m18:35:33 BST\u001b[0m\u001b[2;36m \u001b[0mstatus = queued                                                    \n"
      ]
     },
     "metadata": {},
     "output_type": "display_data"
    },
    {
     "data": {
      "text/html": [
       "<pre style=\"white-space:pre;overflow-x:auto;line-height:normal;font-family:Menlo,'DejaVu Sans Mono',consolas,'Courier New',monospace\"><span style=\"color: #7fbfbf; text-decoration-color: #7fbfbf\">             </span>To cancel the simulation, use <span style=\"color: #008000; text-decoration-color: #008000\">'web.abort(task_id)'</span> or              \n",
       "<span style=\"color: #7fbfbf; text-decoration-color: #7fbfbf\">             </span><span style=\"color: #008000; text-decoration-color: #008000\">'web.delete(task_id)'</span> or abort/delete the task in the web UI.      \n",
       "<span style=\"color: #7fbfbf; text-decoration-color: #7fbfbf\">             </span>Terminating the Python script will not stop the job running on the \n",
       "<span style=\"color: #7fbfbf; text-decoration-color: #7fbfbf\">             </span>cloud.                                                             \n",
       "</pre>\n"
      ],
      "text/plain": [
       "\u001b[2;36m            \u001b[0m\u001b[2;36m \u001b[0mTo cancel the simulation, use \u001b[32m'web.abort\u001b[0m\u001b[32m(\u001b[0m\u001b[32mtask_id\u001b[0m\u001b[32m)\u001b[0m\u001b[32m'\u001b[0m or              \n",
       "\u001b[2;36m             \u001b[0m\u001b[32m'web.delete\u001b[0m\u001b[32m(\u001b[0m\u001b[32mtask_id\u001b[0m\u001b[32m)\u001b[0m\u001b[32m'\u001b[0m or abort/delete the task in the web UI.      \n",
       "\u001b[2;36m             \u001b[0mTerminating the Python script will not stop the job running on the \n",
       "\u001b[2;36m             \u001b[0mcloud.                                                             \n"
      ]
     },
     "metadata": {},
     "output_type": "display_data"
    },
    {
     "data": {
      "application/vnd.jupyter.widget-view+json": {
       "model_id": "0638ad117dc9405abef9162a4b7e9a2a",
       "version_major": 2,
       "version_minor": 0
      },
      "text/plain": [
       "Output()"
      ]
     },
     "metadata": {},
     "output_type": "display_data"
    },
    {
     "data": {
      "text/html": [
       "<pre style=\"white-space:pre;overflow-x:auto;line-height:normal;font-family:Menlo,'DejaVu Sans Mono',consolas,'Courier New',monospace\"><span style=\"color: #7fbfbf; text-decoration-color: #7fbfbf\">18:35:39 BST </span>status = preprocess                                                \n",
       "</pre>\n"
      ],
      "text/plain": [
       "\u001b[2;36m18:35:39 BST\u001b[0m\u001b[2;36m \u001b[0mstatus = preprocess                                                \n"
      ]
     },
     "metadata": {},
     "output_type": "display_data"
    },
    {
     "data": {
      "text/html": [
       "<pre style=\"white-space:pre;overflow-x:auto;line-height:normal;font-family:Menlo,'DejaVu Sans Mono',consolas,'Courier New',monospace\"></pre>\n"
      ],
      "text/plain": []
     },
     "metadata": {},
     "output_type": "display_data"
    },
    {
     "data": {
      "text/html": [
       "<pre style=\"white-space:pre;overflow-x:auto;line-height:normal;font-family:Menlo,'DejaVu Sans Mono',consolas,'Courier New',monospace\"><span style=\"color: #7fbfbf; text-decoration-color: #7fbfbf\">18:35:40 BST </span>Maximum FlexCredit cost: <span style=\"color: #008080; text-decoration-color: #008080; font-weight: bold\">0.183</span>. Use <span style=\"color: #008000; text-decoration-color: #008000\">'web.real_cost(task_id)'</span> to get\n",
       "<span style=\"color: #7fbfbf; text-decoration-color: #7fbfbf\">             </span>the billed FlexCredit cost after a simulation run.                 \n",
       "</pre>\n"
      ],
      "text/plain": [
       "\u001b[2;36m18:35:40 BST\u001b[0m\u001b[2;36m \u001b[0mMaximum FlexCredit cost: \u001b[1;36m0.183\u001b[0m. Use \u001b[32m'web.real_cost\u001b[0m\u001b[32m(\u001b[0m\u001b[32mtask_id\u001b[0m\u001b[32m)\u001b[0m\u001b[32m'\u001b[0m to get\n",
       "\u001b[2;36m             \u001b[0mthe billed FlexCredit cost after a simulation run.                 \n"
      ]
     },
     "metadata": {},
     "output_type": "display_data"
    },
    {
     "data": {
      "text/html": [
       "<pre style=\"white-space:pre;overflow-x:auto;line-height:normal;font-family:Menlo,'DejaVu Sans Mono',consolas,'Courier New',monospace\"><span style=\"color: #7fbfbf; text-decoration-color: #7fbfbf\">             </span>starting up solver                                                 \n",
       "</pre>\n"
      ],
      "text/plain": [
       "\u001b[2;36m            \u001b[0m\u001b[2;36m \u001b[0mstarting up solver                                                 \n"
      ]
     },
     "metadata": {},
     "output_type": "display_data"
    },
    {
     "data": {
      "text/html": [
       "<pre style=\"white-space:pre;overflow-x:auto;line-height:normal;font-family:Menlo,'DejaVu Sans Mono',consolas,'Courier New',monospace\"><span style=\"color: #7fbfbf; text-decoration-color: #7fbfbf\">             </span>running solver                                                     \n",
       "</pre>\n"
      ],
      "text/plain": [
       "\u001b[2;36m            \u001b[0m\u001b[2;36m \u001b[0mrunning solver                                                     \n"
      ]
     },
     "metadata": {},
     "output_type": "display_data"
    },
    {
     "data": {
      "application/vnd.jupyter.widget-view+json": {
       "model_id": "07bab2841d404415a59a84489b2529b6",
       "version_major": 2,
       "version_minor": 0
      },
      "text/plain": [
       "Output()"
      ]
     },
     "metadata": {},
     "output_type": "display_data"
    },
    {
     "data": {
      "text/html": [
       "<pre style=\"white-space:pre;overflow-x:auto;line-height:normal;font-family:Menlo,'DejaVu Sans Mono',consolas,'Courier New',monospace\"></pre>\n"
      ],
      "text/plain": []
     },
     "metadata": {},
     "output_type": "display_data"
    },
    {
     "data": {
      "text/html": [
       "<pre style=\"white-space:pre;overflow-x:auto;line-height:normal;font-family:Menlo,'DejaVu Sans Mono',consolas,'Courier New',monospace\">\n",
       "</pre>\n"
      ],
      "text/plain": [
       "\n"
      ]
     },
     "metadata": {},
     "output_type": "display_data"
    },
    {
     "data": {
      "text/html": [
       "<pre style=\"white-space:pre;overflow-x:auto;line-height:normal;font-family:Menlo,'DejaVu Sans Mono',consolas,'Courier New',monospace\"><span style=\"color: #7fbfbf; text-decoration-color: #7fbfbf\">18:37:51 BST </span>status = postprocess                                               \n",
       "</pre>\n"
      ],
      "text/plain": [
       "\u001b[2;36m18:37:51 BST\u001b[0m\u001b[2;36m \u001b[0mstatus = postprocess                                               \n"
      ]
     },
     "metadata": {},
     "output_type": "display_data"
    },
    {
     "data": {
      "application/vnd.jupyter.widget-view+json": {
       "model_id": "80901cb967114c9eabed2b57b5433021",
       "version_major": 2,
       "version_minor": 0
      },
      "text/plain": [
       "Output()"
      ]
     },
     "metadata": {},
     "output_type": "display_data"
    },
    {
     "data": {
      "text/html": [
       "<pre style=\"white-space:pre;overflow-x:auto;line-height:normal;font-family:Menlo,'DejaVu Sans Mono',consolas,'Courier New',monospace\"><span style=\"color: #7fbfbf; text-decoration-color: #7fbfbf\">18:38:09 BST </span>status = success                                                   \n",
       "</pre>\n"
      ],
      "text/plain": [
       "\u001b[2;36m18:38:09 BST\u001b[0m\u001b[2;36m \u001b[0mstatus = success                                                   \n"
      ]
     },
     "metadata": {},
     "output_type": "display_data"
    },
    {
     "data": {
      "text/html": [
       "<pre style=\"white-space:pre;overflow-x:auto;line-height:normal;font-family:Menlo,'DejaVu Sans Mono',consolas,'Courier New',monospace\"></pre>\n"
      ],
      "text/plain": []
     },
     "metadata": {},
     "output_type": "display_data"
    },
    {
     "data": {
      "text/html": [
       "<pre style=\"white-space:pre;overflow-x:auto;line-height:normal;font-family:Menlo,'DejaVu Sans Mono',consolas,'Courier New',monospace\"><span style=\"color: #7fbfbf; text-decoration-color: #7fbfbf\">18:38:10 BST </span>View simulation result at                                          \n",
       "<span style=\"color: #7fbfbf; text-decoration-color: #7fbfbf\">             </span><a href=\"https://tidy3d.simulation.cloud/workbench?taskId=fdve-96f7b963-6461-4ed2-ab1c-85046bd23514\" target=\"_blank\"><span style=\"color: #000080; text-decoration-color: #000080; text-decoration: underline\">'https://tidy3d.simulation.cloud/workbench?taskId=fdve-96f7b963-646</span></a>\n",
       "<span style=\"color: #7fbfbf; text-decoration-color: #7fbfbf\">             </span><a href=\"https://tidy3d.simulation.cloud/workbench?taskId=fdve-96f7b963-6461-4ed2-ab1c-85046bd23514\" target=\"_blank\"><span style=\"color: #000080; text-decoration-color: #000080; text-decoration: underline\">1-4ed2-ab1c-85046bd23514'</span></a><span style=\"color: #000080; text-decoration-color: #000080; text-decoration: underline\">.</span>                                         \n",
       "</pre>\n"
      ],
      "text/plain": [
       "\u001b[2;36m18:38:10 BST\u001b[0m\u001b[2;36m \u001b[0mView simulation result at                                          \n",
       "\u001b[2;36m             \u001b[0m\u001b]8;id=51736;https://tidy3d.simulation.cloud/workbench?taskId=fdve-96f7b963-6461-4ed2-ab1c-85046bd23514\u001b\\\u001b[4;34m'https://tidy3d.simulation.cloud/workbench?\u001b[0m\u001b]8;;\u001b\\\u001b]8;id=987138;https://tidy3d.simulation.cloud/workbench?taskId=fdve-96f7b963-6461-4ed2-ab1c-85046bd23514\u001b\\\u001b[4;34mtaskId\u001b[0m\u001b]8;;\u001b\\\u001b]8;id=51736;https://tidy3d.simulation.cloud/workbench?taskId=fdve-96f7b963-6461-4ed2-ab1c-85046bd23514\u001b\\\u001b[4;34m=\u001b[0m\u001b]8;;\u001b\\\u001b]8;id=841279;https://tidy3d.simulation.cloud/workbench?taskId=fdve-96f7b963-6461-4ed2-ab1c-85046bd23514\u001b\\\u001b[4;34mfdve\u001b[0m\u001b]8;;\u001b\\\u001b]8;id=51736;https://tidy3d.simulation.cloud/workbench?taskId=fdve-96f7b963-6461-4ed2-ab1c-85046bd23514\u001b\\\u001b[4;34m-96f7b963-646\u001b[0m\u001b]8;;\u001b\\\n",
       "\u001b[2;36m             \u001b[0m\u001b]8;id=51736;https://tidy3d.simulation.cloud/workbench?taskId=fdve-96f7b963-6461-4ed2-ab1c-85046bd23514\u001b\\\u001b[4;34m1-4ed2-ab1c-85046bd23514'\u001b[0m\u001b]8;;\u001b\\\u001b[4;34m.\u001b[0m                                         \n"
      ]
     },
     "metadata": {},
     "output_type": "display_data"
    },
    {
     "data": {
      "application/vnd.jupyter.widget-view+json": {
       "model_id": "589731c43e4942f9a9c9ef6b882ced9f",
       "version_major": 2,
       "version_minor": 0
      },
      "text/plain": [
       "Output()"
      ]
     },
     "metadata": {},
     "output_type": "display_data"
    },
    {
     "data": {
      "text/html": [
       "<pre style=\"white-space:pre;overflow-x:auto;line-height:normal;font-family:Menlo,'DejaVu Sans Mono',consolas,'Courier New',monospace\"></pre>\n"
      ],
      "text/plain": []
     },
     "metadata": {},
     "output_type": "display_data"
    },
    {
     "data": {
      "text/html": [
       "<pre style=\"white-space:pre;overflow-x:auto;line-height:normal;font-family:Menlo,'DejaVu Sans Mono',consolas,'Courier New',monospace\">\n",
       "</pre>\n"
      ],
      "text/plain": [
       "\n"
      ]
     },
     "metadata": {},
     "output_type": "display_data"
    },
    {
     "data": {
      "text/html": [
       "<pre style=\"white-space:pre;overflow-x:auto;line-height:normal;font-family:Menlo,'DejaVu Sans Mono',consolas,'Courier New',monospace\"><span style=\"color: #7fbfbf; text-decoration-color: #7fbfbf\">18:38:22 BST </span>loading simulation from data/week05_design_jax_objective_fn_15.hdf5\n",
       "</pre>\n"
      ],
      "text/plain": [
       "\u001b[2;36m18:38:22 BST\u001b[0m\u001b[2;36m \u001b[0mloading simulation from data/week05_design_jax_objective_fn_15.hdf5\n"
      ]
     },
     "metadata": {},
     "output_type": "display_data"
    },
    {
     "data": {
      "text/html": [
       "<pre style=\"white-space:pre;overflow-x:auto;line-height:normal;font-family:Menlo,'DejaVu Sans Mono',consolas,'Courier New',monospace\"><span style=\"color: #7fbfbf; text-decoration-color: #7fbfbf\">             </span><span style=\"color: #800000; text-decoration-color: #800000\">WARNING: Simulation final field decay value of </span><span style=\"color: #008080; text-decoration-color: #008080; font-weight: bold\">0.000285</span><span style=\"color: #800000; text-decoration-color: #800000\"> is greater </span>\n",
       "<span style=\"color: #7fbfbf; text-decoration-color: #7fbfbf\">             </span><span style=\"color: #800000; text-decoration-color: #800000\">than the simulation shutoff threshold of </span><span style=\"color: #008080; text-decoration-color: #008080; font-weight: bold\">1e-06</span><span style=\"color: #800000; text-decoration-color: #800000\">. Consider running   </span>\n",
       "<span style=\"color: #7fbfbf; text-decoration-color: #7fbfbf\">             </span><span style=\"color: #800000; text-decoration-color: #800000\">the simulation again with a larger </span><span style=\"color: #008000; text-decoration-color: #008000\">'run_time'</span><span style=\"color: #800000; text-decoration-color: #800000\"> duration for more    </span>\n",
       "<span style=\"color: #7fbfbf; text-decoration-color: #7fbfbf\">             </span><span style=\"color: #800000; text-decoration-color: #800000\">accurate results.                                                  </span>\n",
       "</pre>\n"
      ],
      "text/plain": [
       "\u001b[2;36m            \u001b[0m\u001b[2;36m \u001b[0m\u001b[31mWARNING: Simulation final field decay value of \u001b[0m\u001b[1;36m0.000285\u001b[0m\u001b[31m is greater \u001b[0m\n",
       "\u001b[2;36m             \u001b[0m\u001b[31mthan the simulation shutoff threshold of \u001b[0m\u001b[1;36m1e-06\u001b[0m\u001b[31m. Consider running   \u001b[0m\n",
       "\u001b[2;36m             \u001b[0m\u001b[31mthe simulation again with a larger \u001b[0m\u001b[32m'run_time'\u001b[0m\u001b[31m duration for more    \u001b[0m\n",
       "\u001b[2;36m             \u001b[0m\u001b[31maccurate results.                                                  \u001b[0m\n"
      ]
     },
     "metadata": {},
     "output_type": "display_data"
    },
    {
     "data": {
      "text/html": [
       "<pre style=\"white-space:pre;overflow-x:auto;line-height:normal;font-family:Menlo,'DejaVu Sans Mono',consolas,'Courier New',monospace\"><span style=\"color: #7fbfbf; text-decoration-color: #7fbfbf\">18:38:24 BST </span><span style=\"color: #800000; text-decoration-color: #800000\">WARNING: </span><span style=\"color: #008080; text-decoration-color: #008080; font-weight: bold\">101</span><span style=\"color: #800000; text-decoration-color: #800000\"> unique frequencies detected in the output monitors    </span>\n",
       "<span style=\"color: #7fbfbf; text-decoration-color: #7fbfbf\">             </span><span style=\"color: #800000; text-decoration-color: #800000\">with a minimum spacing of </span><span style=\"color: #008080; text-decoration-color: #008080; font-weight: bold\">1.713e+12</span><span style=\"color: #800000; text-decoration-color: #800000\"> </span><span style=\"color: #800000; text-decoration-color: #800000; font-weight: bold\">(</span><span style=\"color: #800000; text-decoration-color: #800000\">Hz</span><span style=\"color: #800000; text-decoration-color: #800000; font-weight: bold\">)</span><span style=\"color: #800000; text-decoration-color: #800000\">. Setting the </span><span style=\"color: #008000; text-decoration-color: #008000\">'fwidth'</span><span style=\"color: #800000; text-decoration-color: #800000\"> of  </span>\n",
       "<span style=\"color: #7fbfbf; text-decoration-color: #7fbfbf\">             </span><span style=\"color: #800000; text-decoration-color: #800000\">the adjoint sources to </span><span style=\"color: #008080; text-decoration-color: #008080; font-weight: bold\">0.1</span><span style=\"color: #800000; text-decoration-color: #800000\"> times this value = </span><span style=\"color: #008080; text-decoration-color: #008080; font-weight: bold\">1.713e+11</span><span style=\"color: #800000; text-decoration-color: #800000\"> </span><span style=\"color: #800000; text-decoration-color: #800000; font-weight: bold\">(</span><span style=\"color: #800000; text-decoration-color: #800000\">Hz</span><span style=\"color: #800000; text-decoration-color: #800000; font-weight: bold\">)</span><span style=\"color: #800000; text-decoration-color: #800000\"> to    </span>\n",
       "<span style=\"color: #7fbfbf; text-decoration-color: #7fbfbf\">             </span><span style=\"color: #800000; text-decoration-color: #800000\">avoid spectral overlap. To account for this, the corresponding     </span>\n",
       "<span style=\"color: #7fbfbf; text-decoration-color: #7fbfbf\">             </span><span style=\"color: #008000; text-decoration-color: #008000\">'run_time'</span><span style=\"color: #800000; text-decoration-color: #800000\"> in the adjoint simulation is will be set to </span><span style=\"color: #008080; text-decoration-color: #008080; font-weight: bold\">7.458864e-11</span>\n",
       "<span style=\"color: #7fbfbf; text-decoration-color: #7fbfbf\">             </span><span style=\"color: #800000; text-decoration-color: #800000\">compared to </span><span style=\"color: #008080; text-decoration-color: #008080; font-weight: bold\">1.621492e-11</span><span style=\"color: #800000; text-decoration-color: #800000\"> in the forward simulation. If the adjoint </span>\n",
       "<span style=\"color: #7fbfbf; text-decoration-color: #7fbfbf\">             </span><span style=\"color: #008000; text-decoration-color: #008000\">'run_time'</span><span style=\"color: #800000; text-decoration-color: #800000\"> is large due to small frequency spacing, it could be    </span>\n",
       "<span style=\"color: #7fbfbf; text-decoration-color: #7fbfbf\">             </span><span style=\"color: #800000; text-decoration-color: #800000\">better to instead run one simulation per frequency, which can be   </span>\n",
       "<span style=\"color: #7fbfbf; text-decoration-color: #7fbfbf\">             </span><span style=\"color: #800000; text-decoration-color: #800000\">done in parallel using </span><span style=\"color: #008000; text-decoration-color: #008000\">'tidy3d.plugins.adjoint.web.run_async'</span><span style=\"color: #800000; text-decoration-color: #800000\">.     </span>\n",
       "</pre>\n"
      ],
      "text/plain": [
       "\u001b[2;36m18:38:24 BST\u001b[0m\u001b[2;36m \u001b[0m\u001b[31mWARNING: \u001b[0m\u001b[1;36m101\u001b[0m\u001b[31m unique frequencies detected in the output monitors    \u001b[0m\n",
       "\u001b[2;36m             \u001b[0m\u001b[31mwith a minimum spacing of \u001b[0m\u001b[1;36m1.713e+12\u001b[0m\u001b[31m \u001b[0m\u001b[1;31m(\u001b[0m\u001b[31mHz\u001b[0m\u001b[1;31m)\u001b[0m\u001b[31m. Setting the \u001b[0m\u001b[32m'fwidth'\u001b[0m\u001b[31m of  \u001b[0m\n",
       "\u001b[2;36m             \u001b[0m\u001b[31mthe adjoint sources to \u001b[0m\u001b[1;36m0.1\u001b[0m\u001b[31m times this value = \u001b[0m\u001b[1;36m1.713e+11\u001b[0m\u001b[31m \u001b[0m\u001b[1;31m(\u001b[0m\u001b[31mHz\u001b[0m\u001b[1;31m)\u001b[0m\u001b[31m to    \u001b[0m\n",
       "\u001b[2;36m             \u001b[0m\u001b[31mavoid spectral overlap. To account for this, the corresponding     \u001b[0m\n",
       "\u001b[2;36m             \u001b[0m\u001b[32m'run_time'\u001b[0m\u001b[31m in the adjoint simulation is will be set to \u001b[0m\u001b[1;36m7.458864e-11\u001b[0m\n",
       "\u001b[2;36m             \u001b[0m\u001b[31mcompared to \u001b[0m\u001b[1;36m1.621492e-11\u001b[0m\u001b[31m in the forward simulation. If the adjoint \u001b[0m\n",
       "\u001b[2;36m             \u001b[0m\u001b[32m'run_time'\u001b[0m\u001b[31m is large due to small frequency spacing, it could be    \u001b[0m\n",
       "\u001b[2;36m             \u001b[0m\u001b[31mbetter to instead run one simulation per frequency, which can be   \u001b[0m\n",
       "\u001b[2;36m             \u001b[0m\u001b[31mdone in parallel using \u001b[0m\u001b[32m'tidy3d.plugins.adjoint.web.run_async'\u001b[0m\u001b[31m.     \u001b[0m\n"
      ]
     },
     "metadata": {},
     "output_type": "display_data"
    },
    {
     "data": {
      "text/html": [
       "<pre style=\"white-space:pre;overflow-x:auto;line-height:normal;font-family:Menlo,'DejaVu Sans Mono',consolas,'Courier New',monospace\"><span style=\"color: #7fbfbf; text-decoration-color: #7fbfbf\">18:38:27 BST </span><span style=\"color: #800000; text-decoration-color: #800000\">WARNING: Simulation has </span><span style=\"color: #008080; text-decoration-color: #008080; font-weight: bold\">3.04e+06</span><span style=\"color: #800000; text-decoration-color: #800000\"> time steps. The </span><span style=\"color: #008000; text-decoration-color: #008000\">'run_time'</span><span style=\"color: #800000; text-decoration-color: #800000\"> may be </span>\n",
       "<span style=\"color: #7fbfbf; text-decoration-color: #7fbfbf\">             </span><span style=\"color: #800000; text-decoration-color: #800000\">unnecessarily large, unless there are very long-lived resonances.  </span>\n",
       "</pre>\n"
      ],
      "text/plain": [
       "\u001b[2;36m18:38:27 BST\u001b[0m\u001b[2;36m \u001b[0m\u001b[31mWARNING: Simulation has \u001b[0m\u001b[1;36m3.04e+06\u001b[0m\u001b[31m time steps. The \u001b[0m\u001b[32m'run_time'\u001b[0m\u001b[31m may be \u001b[0m\n",
       "\u001b[2;36m             \u001b[0m\u001b[31munnecessarily large, unless there are very long-lived resonances.  \u001b[0m\n"
      ]
     },
     "metadata": {},
     "output_type": "display_data"
    },
    {
     "data": {
      "text/html": [
       "<pre style=\"white-space:pre;overflow-x:auto;line-height:normal;font-family:Menlo,'DejaVu Sans Mono',consolas,'Courier New',monospace\"><span style=\"color: #7fbfbf; text-decoration-color: #7fbfbf\">             </span>Created task <span style=\"color: #008000; text-decoration-color: #008000\">'task_week05_design_jax_objective_fn_15_adj'</span> with     \n",
       "<span style=\"color: #7fbfbf; text-decoration-color: #7fbfbf\">             </span>task_id <span style=\"color: #008000; text-decoration-color: #008000\">'fdve-000ec12d-be8c-4a6a-a613-d3cf37da8aad'</span> and task_type  \n",
       "<span style=\"color: #7fbfbf; text-decoration-color: #7fbfbf\">             </span><span style=\"color: #008000; text-decoration-color: #008000\">'FDTD'</span>.                                                            \n",
       "</pre>\n"
      ],
      "text/plain": [
       "\u001b[2;36m            \u001b[0m\u001b[2;36m \u001b[0mCreated task \u001b[32m'task_week05_design_jax_objective_fn_15_adj'\u001b[0m with     \n",
       "\u001b[2;36m             \u001b[0mtask_id \u001b[32m'fdve-000ec12d-be8c-4a6a-a613-d3cf37da8aad'\u001b[0m and task_type  \n",
       "\u001b[2;36m             \u001b[0m\u001b[32m'FDTD'\u001b[0m.                                                            \n"
      ]
     },
     "metadata": {},
     "output_type": "display_data"
    },
    {
     "data": {
      "text/html": [
       "<pre style=\"white-space:pre;overflow-x:auto;line-height:normal;font-family:Menlo,'DejaVu Sans Mono',consolas,'Courier New',monospace\"><span style=\"color: #7fbfbf; text-decoration-color: #7fbfbf\">             </span>View task using web UI at                                          \n",
       "<span style=\"color: #7fbfbf; text-decoration-color: #7fbfbf\">             </span><a href=\"https://tidy3d.simulation.cloud/workbench?taskId=fdve-000ec12d-be8c-4a6a-a613-d3cf37da8aad\" target=\"_blank\"><span style=\"color: #008000; text-decoration-color: #008000\">'https://tidy3d.simulation.cloud/workbench?taskId=fdve-000ec12d-be8</span></a>\n",
       "<span style=\"color: #7fbfbf; text-decoration-color: #7fbfbf\">             </span><a href=\"https://tidy3d.simulation.cloud/workbench?taskId=fdve-000ec12d-be8c-4a6a-a613-d3cf37da8aad\" target=\"_blank\"><span style=\"color: #008000; text-decoration-color: #008000\">c-4a6a-a613-d3cf37da8aad'</span></a>.                                         \n",
       "</pre>\n"
      ],
      "text/plain": [
       "\u001b[2;36m            \u001b[0m\u001b[2;36m \u001b[0mView task using web UI at                                          \n",
       "\u001b[2;36m             \u001b[0m\u001b]8;id=547634;https://tidy3d.simulation.cloud/workbench?taskId=fdve-000ec12d-be8c-4a6a-a613-d3cf37da8aad\u001b\\\u001b[32m'https://tidy3d.simulation.cloud/workbench?\u001b[0m\u001b]8;;\u001b\\\u001b]8;id=403596;https://tidy3d.simulation.cloud/workbench?taskId=fdve-000ec12d-be8c-4a6a-a613-d3cf37da8aad\u001b\\\u001b[32mtaskId\u001b[0m\u001b]8;;\u001b\\\u001b]8;id=547634;https://tidy3d.simulation.cloud/workbench?taskId=fdve-000ec12d-be8c-4a6a-a613-d3cf37da8aad\u001b\\\u001b[32m=\u001b[0m\u001b]8;;\u001b\\\u001b]8;id=571280;https://tidy3d.simulation.cloud/workbench?taskId=fdve-000ec12d-be8c-4a6a-a613-d3cf37da8aad\u001b\\\u001b[32mfdve\u001b[0m\u001b]8;;\u001b\\\u001b]8;id=547634;https://tidy3d.simulation.cloud/workbench?taskId=fdve-000ec12d-be8c-4a6a-a613-d3cf37da8aad\u001b\\\u001b[32m-000ec12d-be8\u001b[0m\u001b]8;;\u001b\\\n",
       "\u001b[2;36m             \u001b[0m\u001b]8;id=547634;https://tidy3d.simulation.cloud/workbench?taskId=fdve-000ec12d-be8c-4a6a-a613-d3cf37da8aad\u001b\\\u001b[32mc-4a6a-a613-d3cf37da8aad'\u001b[0m\u001b]8;;\u001b\\.                                         \n"
      ]
     },
     "metadata": {},
     "output_type": "display_data"
    },
    {
     "data": {
      "application/vnd.jupyter.widget-view+json": {
       "model_id": "3a24ea25828140078064b5c977d5c5d8",
       "version_major": 2,
       "version_minor": 0
      },
      "text/plain": [
       "Output()"
      ]
     },
     "metadata": {},
     "output_type": "display_data"
    },
    {
     "data": {
      "text/html": [
       "<pre style=\"white-space:pre;overflow-x:auto;line-height:normal;font-family:Menlo,'DejaVu Sans Mono',consolas,'Courier New',monospace\"></pre>\n"
      ],
      "text/plain": []
     },
     "metadata": {},
     "output_type": "display_data"
    },
    {
     "data": {
      "text/html": [
       "<pre style=\"white-space:pre;overflow-x:auto;line-height:normal;font-family:Menlo,'DejaVu Sans Mono',consolas,'Courier New',monospace\">\n",
       "</pre>\n"
      ],
      "text/plain": [
       "\n"
      ]
     },
     "metadata": {},
     "output_type": "display_data"
    },
    {
     "data": {
      "text/html": [
       "<pre style=\"white-space:pre;overflow-x:auto;line-height:normal;font-family:Menlo,'DejaVu Sans Mono',consolas,'Courier New',monospace\"><span style=\"color: #7fbfbf; text-decoration-color: #7fbfbf\">18:38:39 BST </span>status = queued                                                    \n",
       "</pre>\n"
      ],
      "text/plain": [
       "\u001b[2;36m18:38:39 BST\u001b[0m\u001b[2;36m \u001b[0mstatus = queued                                                    \n"
      ]
     },
     "metadata": {},
     "output_type": "display_data"
    },
    {
     "data": {
      "text/html": [
       "<pre style=\"white-space:pre;overflow-x:auto;line-height:normal;font-family:Menlo,'DejaVu Sans Mono',consolas,'Courier New',monospace\"><span style=\"color: #7fbfbf; text-decoration-color: #7fbfbf\">             </span>To cancel the simulation, use <span style=\"color: #008000; text-decoration-color: #008000\">'web.abort(task_id)'</span> or              \n",
       "<span style=\"color: #7fbfbf; text-decoration-color: #7fbfbf\">             </span><span style=\"color: #008000; text-decoration-color: #008000\">'web.delete(task_id)'</span> or abort/delete the task in the web UI.      \n",
       "<span style=\"color: #7fbfbf; text-decoration-color: #7fbfbf\">             </span>Terminating the Python script will not stop the job running on the \n",
       "<span style=\"color: #7fbfbf; text-decoration-color: #7fbfbf\">             </span>cloud.                                                             \n",
       "</pre>\n"
      ],
      "text/plain": [
       "\u001b[2;36m            \u001b[0m\u001b[2;36m \u001b[0mTo cancel the simulation, use \u001b[32m'web.abort\u001b[0m\u001b[32m(\u001b[0m\u001b[32mtask_id\u001b[0m\u001b[32m)\u001b[0m\u001b[32m'\u001b[0m or              \n",
       "\u001b[2;36m             \u001b[0m\u001b[32m'web.delete\u001b[0m\u001b[32m(\u001b[0m\u001b[32mtask_id\u001b[0m\u001b[32m)\u001b[0m\u001b[32m'\u001b[0m or abort/delete the task in the web UI.      \n",
       "\u001b[2;36m             \u001b[0mTerminating the Python script will not stop the job running on the \n",
       "\u001b[2;36m             \u001b[0mcloud.                                                             \n"
      ]
     },
     "metadata": {},
     "output_type": "display_data"
    },
    {
     "data": {
      "application/vnd.jupyter.widget-view+json": {
       "model_id": "7a6ae4fbd1ab4868a789392b58cc14f5",
       "version_major": 2,
       "version_minor": 0
      },
      "text/plain": [
       "Output()"
      ]
     },
     "metadata": {},
     "output_type": "display_data"
    },
    {
     "data": {
      "text/html": [
       "<pre style=\"white-space:pre;overflow-x:auto;line-height:normal;font-family:Menlo,'DejaVu Sans Mono',consolas,'Courier New',monospace\"><span style=\"color: #7fbfbf; text-decoration-color: #7fbfbf\">18:38:48 BST </span>status = preprocess                                                \n",
       "</pre>\n"
      ],
      "text/plain": [
       "\u001b[2;36m18:38:48 BST\u001b[0m\u001b[2;36m \u001b[0mstatus = preprocess                                                \n"
      ]
     },
     "metadata": {},
     "output_type": "display_data"
    },
    {
     "data": {
      "text/html": [
       "<pre style=\"white-space:pre;overflow-x:auto;line-height:normal;font-family:Menlo,'DejaVu Sans Mono',consolas,'Courier New',monospace\"></pre>\n"
      ],
      "text/plain": []
     },
     "metadata": {},
     "output_type": "display_data"
    },
    {
     "data": {
      "text/html": [
       "<pre style=\"white-space:pre;overflow-x:auto;line-height:normal;font-family:Menlo,'DejaVu Sans Mono',consolas,'Courier New',monospace\"><span style=\"color: #7fbfbf; text-decoration-color: #7fbfbf\">18:39:39 BST </span>Maximum FlexCredit cost: <span style=\"color: #008080; text-decoration-color: #008080; font-weight: bold\">0.569</span>. Use <span style=\"color: #008000; text-decoration-color: #008000\">'web.real_cost(task_id)'</span> to get\n",
       "<span style=\"color: #7fbfbf; text-decoration-color: #7fbfbf\">             </span>the billed FlexCredit cost after a simulation run.                 \n",
       "</pre>\n"
      ],
      "text/plain": [
       "\u001b[2;36m18:39:39 BST\u001b[0m\u001b[2;36m \u001b[0mMaximum FlexCredit cost: \u001b[1;36m0.569\u001b[0m. Use \u001b[32m'web.real_cost\u001b[0m\u001b[32m(\u001b[0m\u001b[32mtask_id\u001b[0m\u001b[32m)\u001b[0m\u001b[32m'\u001b[0m to get\n",
       "\u001b[2;36m             \u001b[0mthe billed FlexCredit cost after a simulation run.                 \n"
      ]
     },
     "metadata": {},
     "output_type": "display_data"
    },
    {
     "data": {
      "text/html": [
       "<pre style=\"white-space:pre;overflow-x:auto;line-height:normal;font-family:Menlo,'DejaVu Sans Mono',consolas,'Courier New',monospace\"><span style=\"color: #7fbfbf; text-decoration-color: #7fbfbf\">             </span>starting up solver                                                 \n",
       "</pre>\n"
      ],
      "text/plain": [
       "\u001b[2;36m            \u001b[0m\u001b[2;36m \u001b[0mstarting up solver                                                 \n"
      ]
     },
     "metadata": {},
     "output_type": "display_data"
    },
    {
     "data": {
      "text/html": [
       "<pre style=\"white-space:pre;overflow-x:auto;line-height:normal;font-family:Menlo,'DejaVu Sans Mono',consolas,'Courier New',monospace\"><span style=\"color: #7fbfbf; text-decoration-color: #7fbfbf\">             </span>running solver                                                     \n",
       "</pre>\n"
      ],
      "text/plain": [
       "\u001b[2;36m            \u001b[0m\u001b[2;36m \u001b[0mrunning solver                                                     \n"
      ]
     },
     "metadata": {},
     "output_type": "display_data"
    },
    {
     "data": {
      "application/vnd.jupyter.widget-view+json": {
       "model_id": "a2b091d278c340e9a79732df87abeb72",
       "version_major": 2,
       "version_minor": 0
      },
      "text/plain": [
       "Output()"
      ]
     },
     "metadata": {},
     "output_type": "display_data"
    },
    {
     "data": {
      "text/html": [
       "<pre style=\"white-space:pre;overflow-x:auto;line-height:normal;font-family:Menlo,'DejaVu Sans Mono',consolas,'Courier New',monospace\"><span style=\"color: #7fbfbf; text-decoration-color: #7fbfbf\">18:45:46 BST </span>early shutoff detected at <span style=\"color: #008080; text-decoration-color: #008080; font-weight: bold\">12</span>%, exiting.                            \n",
       "</pre>\n"
      ],
      "text/plain": [
       "\u001b[2;36m18:45:46 BST\u001b[0m\u001b[2;36m \u001b[0mearly shutoff detected at \u001b[1;36m12\u001b[0m%, exiting.                            \n"
      ]
     },
     "metadata": {},
     "output_type": "display_data"
    },
    {
     "data": {
      "text/html": [
       "<pre style=\"white-space:pre;overflow-x:auto;line-height:normal;font-family:Menlo,'DejaVu Sans Mono',consolas,'Courier New',monospace\"></pre>\n"
      ],
      "text/plain": []
     },
     "metadata": {},
     "output_type": "display_data"
    },
    {
     "data": {
      "text/html": [
       "<pre style=\"white-space:pre;overflow-x:auto;line-height:normal;font-family:Menlo,'DejaVu Sans Mono',consolas,'Courier New',monospace\">\n",
       "</pre>\n"
      ],
      "text/plain": [
       "\n"
      ]
     },
     "metadata": {},
     "output_type": "display_data"
    },
    {
     "data": {
      "text/html": [
       "<pre style=\"white-space:pre;overflow-x:auto;line-height:normal;font-family:Menlo,'DejaVu Sans Mono',consolas,'Courier New',monospace\"><span style=\"color: #7fbfbf; text-decoration-color: #7fbfbf\">             </span>status = postprocess                                               \n",
       "</pre>\n"
      ],
      "text/plain": [
       "\u001b[2;36m            \u001b[0m\u001b[2;36m \u001b[0mstatus = postprocess                                               \n"
      ]
     },
     "metadata": {},
     "output_type": "display_data"
    },
    {
     "data": {
      "application/vnd.jupyter.widget-view+json": {
       "model_id": "32045b7c4c8945ef8d9f835ce7916137",
       "version_major": 2,
       "version_minor": 0
      },
      "text/plain": [
       "Output()"
      ]
     },
     "metadata": {},
     "output_type": "display_data"
    },
    {
     "data": {
      "text/html": [
       "<pre style=\"white-space:pre;overflow-x:auto;line-height:normal;font-family:Menlo,'DejaVu Sans Mono',consolas,'Courier New',monospace\"><span style=\"color: #7fbfbf; text-decoration-color: #7fbfbf\">18:45:57 BST </span>status = success                                                   \n",
       "</pre>\n"
      ],
      "text/plain": [
       "\u001b[2;36m18:45:57 BST\u001b[0m\u001b[2;36m \u001b[0mstatus = success                                                   \n"
      ]
     },
     "metadata": {},
     "output_type": "display_data"
    },
    {
     "data": {
      "text/html": [
       "<pre style=\"white-space:pre;overflow-x:auto;line-height:normal;font-family:Menlo,'DejaVu Sans Mono',consolas,'Courier New',monospace\"></pre>\n"
      ],
      "text/plain": []
     },
     "metadata": {},
     "output_type": "display_data"
    },
    {
     "data": {
      "text/html": [
       "<pre style=\"white-space:pre;overflow-x:auto;line-height:normal;font-family:Menlo,'DejaVu Sans Mono',consolas,'Courier New',monospace\"><span style=\"color: #7fbfbf; text-decoration-color: #7fbfbf\">18:45:58 BST </span>View simulation result at                                          \n",
       "<span style=\"color: #7fbfbf; text-decoration-color: #7fbfbf\">             </span><a href=\"https://tidy3d.simulation.cloud/workbench?taskId=fdve-000ec12d-be8c-4a6a-a613-d3cf37da8aad\" target=\"_blank\"><span style=\"color: #000080; text-decoration-color: #000080; text-decoration: underline\">'https://tidy3d.simulation.cloud/workbench?taskId=fdve-000ec12d-be8</span></a>\n",
       "<span style=\"color: #7fbfbf; text-decoration-color: #7fbfbf\">             </span><a href=\"https://tidy3d.simulation.cloud/workbench?taskId=fdve-000ec12d-be8c-4a6a-a613-d3cf37da8aad\" target=\"_blank\"><span style=\"color: #000080; text-decoration-color: #000080; text-decoration: underline\">c-4a6a-a613-d3cf37da8aad'</span></a><span style=\"color: #000080; text-decoration-color: #000080; text-decoration: underline\">.</span>                                         \n",
       "</pre>\n"
      ],
      "text/plain": [
       "\u001b[2;36m18:45:58 BST\u001b[0m\u001b[2;36m \u001b[0mView simulation result at                                          \n",
       "\u001b[2;36m             \u001b[0m\u001b]8;id=131996;https://tidy3d.simulation.cloud/workbench?taskId=fdve-000ec12d-be8c-4a6a-a613-d3cf37da8aad\u001b\\\u001b[4;34m'https://tidy3d.simulation.cloud/workbench?\u001b[0m\u001b]8;;\u001b\\\u001b]8;id=888746;https://tidy3d.simulation.cloud/workbench?taskId=fdve-000ec12d-be8c-4a6a-a613-d3cf37da8aad\u001b\\\u001b[4;34mtaskId\u001b[0m\u001b]8;;\u001b\\\u001b]8;id=131996;https://tidy3d.simulation.cloud/workbench?taskId=fdve-000ec12d-be8c-4a6a-a613-d3cf37da8aad\u001b\\\u001b[4;34m=\u001b[0m\u001b]8;;\u001b\\\u001b]8;id=796410;https://tidy3d.simulation.cloud/workbench?taskId=fdve-000ec12d-be8c-4a6a-a613-d3cf37da8aad\u001b\\\u001b[4;34mfdve\u001b[0m\u001b]8;;\u001b\\\u001b]8;id=131996;https://tidy3d.simulation.cloud/workbench?taskId=fdve-000ec12d-be8c-4a6a-a613-d3cf37da8aad\u001b\\\u001b[4;34m-000ec12d-be8\u001b[0m\u001b]8;;\u001b\\\n",
       "\u001b[2;36m             \u001b[0m\u001b]8;id=131996;https://tidy3d.simulation.cloud/workbench?taskId=fdve-000ec12d-be8c-4a6a-a613-d3cf37da8aad\u001b\\\u001b[4;34mc-4a6a-a613-d3cf37da8aad'\u001b[0m\u001b]8;;\u001b\\\u001b[4;34m.\u001b[0m                                         \n"
      ]
     },
     "metadata": {},
     "output_type": "display_data"
    },
    {
     "data": {
      "application/vnd.jupyter.widget-view+json": {
       "model_id": "e088bc3e94fb4c71bece1f9def5daf07",
       "version_major": 2,
       "version_minor": 0
      },
      "text/plain": [
       "Output()"
      ]
     },
     "metadata": {},
     "output_type": "display_data"
    },
    {
     "data": {
      "text/html": [
       "<pre style=\"white-space:pre;overflow-x:auto;line-height:normal;font-family:Menlo,'DejaVu Sans Mono',consolas,'Courier New',monospace\"></pre>\n"
      ],
      "text/plain": []
     },
     "metadata": {},
     "output_type": "display_data"
    },
    {
     "data": {
      "text/html": [
       "<pre style=\"white-space:pre;overflow-x:auto;line-height:normal;font-family:Menlo,'DejaVu Sans Mono',consolas,'Courier New',monospace\">\n",
       "</pre>\n"
      ],
      "text/plain": [
       "\n"
      ]
     },
     "metadata": {},
     "output_type": "display_data"
    },
    {
     "data": {
      "text/html": [
       "<pre style=\"white-space:pre;overflow-x:auto;line-height:normal;font-family:Menlo,'DejaVu Sans Mono',consolas,'Courier New',monospace\"><span style=\"color: #7fbfbf; text-decoration-color: #7fbfbf\">18:46:14 BST </span>loading simulation from data/week05_design_jax_objective_fn_15.hdf5\n",
       "</pre>\n"
      ],
      "text/plain": [
       "\u001b[2;36m18:46:14 BST\u001b[0m\u001b[2;36m \u001b[0mloading simulation from data/week05_design_jax_objective_fn_15.hdf5\n"
      ]
     },
     "metadata": {},
     "output_type": "display_data"
    },
    {
     "name": "stdout",
     "output_type": "stream",
     "text": [
      "\terror value: 51.73092738262507\n",
      "\tgradient norm: 0.1387930331155514\n"
     ]
    },
    {
     "data": {
      "image/png": "[encoded data removed]",
      "text/plain": [
       "<Figure size 400x200 with 1 Axes>"
      ]
     },
     "metadata": {},
     "output_type": "display_data"
    },
    {
     "name": "stdout",
     "output_type": "stream",
     "text": [
      "Iteration 5\n"
     ]
    },
    {
     "data": {
      "text/html": [
       "<pre style=\"white-space:pre;overflow-x:auto;line-height:normal;font-family:Menlo,'DejaVu Sans Mono',consolas,'Courier New',monospace\"><span style=\"color: #7fbfbf; text-decoration-color: #7fbfbf\">18:50:21 BST </span>Created task <span style=\"color: #008000; text-decoration-color: #008000\">'task_week05_design_jax_objective_fn_16_fwd'</span> with     \n",
       "<span style=\"color: #7fbfbf; text-decoration-color: #7fbfbf\">             </span>task_id <span style=\"color: #008000; text-decoration-color: #008000\">'fdve-a5b97e05-71fc-4710-83fa-552621b27bd6'</span> and task_type  \n",
       "<span style=\"color: #7fbfbf; text-decoration-color: #7fbfbf\">             </span><span style=\"color: #008000; text-decoration-color: #008000\">'FDTD'</span>.                                                            \n",
       "</pre>\n"
      ],
      "text/plain": [
       "\u001b[2;36m18:50:21 BST\u001b[0m\u001b[2;36m \u001b[0mCreated task \u001b[32m'task_week05_design_jax_objective_fn_16_fwd'\u001b[0m with     \n",
       "\u001b[2;36m             \u001b[0mtask_id \u001b[32m'fdve-a5b97e05-71fc-4710-83fa-552621b27bd6'\u001b[0m and task_type  \n",
       "\u001b[2;36m             \u001b[0m\u001b[32m'FDTD'\u001b[0m.                                                            \n"
      ]
     },
     "metadata": {},
     "output_type": "display_data"
    },
    {
     "data": {
      "text/html": [
       "<pre style=\"white-space:pre;overflow-x:auto;line-height:normal;font-family:Menlo,'DejaVu Sans Mono',consolas,'Courier New',monospace\"><span style=\"color: #7fbfbf; text-decoration-color: #7fbfbf\">             </span>View task using web UI at                                          \n",
       "<span style=\"color: #7fbfbf; text-decoration-color: #7fbfbf\">             </span><a href=\"https://tidy3d.simulation.cloud/workbench?taskId=fdve-a5b97e05-71fc-4710-83fa-552621b27bd6\" target=\"_blank\"><span style=\"color: #008000; text-decoration-color: #008000\">'https://tidy3d.simulation.cloud/workbench?taskId=fdve-a5b97e05-71f</span></a>\n",
       "<span style=\"color: #7fbfbf; text-decoration-color: #7fbfbf\">             </span><a href=\"https://tidy3d.simulation.cloud/workbench?taskId=fdve-a5b97e05-71fc-4710-83fa-552621b27bd6\" target=\"_blank\"><span style=\"color: #008000; text-decoration-color: #008000\">c-4710-83fa-552621b27bd6'</span></a>.                                         \n",
       "</pre>\n"
      ],
      "text/plain": [
       "\u001b[2;36m            \u001b[0m\u001b[2;36m \u001b[0mView task using web UI at                                          \n",
       "\u001b[2;36m             \u001b[0m\u001b]8;id=571035;https://tidy3d.simulation.cloud/workbench?taskId=fdve-a5b97e05-71fc-4710-83fa-552621b27bd6\u001b\\\u001b[32m'https://tidy3d.simulation.cloud/workbench?\u001b[0m\u001b]8;;\u001b\\\u001b]8;id=767886;https://tidy3d.simulation.cloud/workbench?taskId=fdve-a5b97e05-71fc-4710-83fa-552621b27bd6\u001b\\\u001b[32mtaskId\u001b[0m\u001b]8;;\u001b\\\u001b]8;id=571035;https://tidy3d.simulation.cloud/workbench?taskId=fdve-a5b97e05-71fc-4710-83fa-552621b27bd6\u001b\\\u001b[32m=\u001b[0m\u001b]8;;\u001b\\\u001b]8;id=387321;https://tidy3d.simulation.cloud/workbench?taskId=fdve-a5b97e05-71fc-4710-83fa-552621b27bd6\u001b\\\u001b[32mfdve\u001b[0m\u001b]8;;\u001b\\\u001b]8;id=571035;https://tidy3d.simulation.cloud/workbench?taskId=fdve-a5b97e05-71fc-4710-83fa-552621b27bd6\u001b\\\u001b[32m-a5b97e05-71f\u001b[0m\u001b]8;;\u001b\\\n",
       "\u001b[2;36m             \u001b[0m\u001b]8;id=571035;https://tidy3d.simulation.cloud/workbench?taskId=fdve-a5b97e05-71fc-4710-83fa-552621b27bd6\u001b\\\u001b[32mc-4710-83fa-552621b27bd6'\u001b[0m\u001b]8;;\u001b\\.                                         \n"
      ]
     },
     "metadata": {},
     "output_type": "display_data"
    },
    {
     "data": {
      "application/vnd.jupyter.widget-view+json": {
       "model_id": "4060dff4a06e4a3da47f5b2006bd3134",
       "version_major": 2,
       "version_minor": 0
      },
      "text/plain": [
       "Output()"
      ]
     },
     "metadata": {},
     "output_type": "display_data"
    },
    {
     "data": {
      "text/html": [
       "<pre style=\"white-space:pre;overflow-x:auto;line-height:normal;font-family:Menlo,'DejaVu Sans Mono',consolas,'Courier New',monospace\"></pre>\n"
      ],
      "text/plain": []
     },
     "metadata": {},
     "output_type": "display_data"
    },
    {
     "data": {
      "text/html": [
       "<pre style=\"white-space:pre;overflow-x:auto;line-height:normal;font-family:Menlo,'DejaVu Sans Mono',consolas,'Courier New',monospace\">\n",
       "</pre>\n"
      ],
      "text/plain": [
       "\n"
      ]
     },
     "metadata": {},
     "output_type": "display_data"
    },
    {
     "data": {
      "text/html": [
       "<pre style=\"white-space:pre;overflow-x:auto;line-height:normal;font-family:Menlo,'DejaVu Sans Mono',consolas,'Courier New',monospace\"><span style=\"color: #7fbfbf; text-decoration-color: #7fbfbf\">18:50:24 BST </span>status = queued                                                    \n",
       "</pre>\n"
      ],
      "text/plain": [
       "\u001b[2;36m18:50:24 BST\u001b[0m\u001b[2;36m \u001b[0mstatus = queued                                                    \n"
      ]
     },
     "metadata": {},
     "output_type": "display_data"
    },
    {
     "data": {
      "text/html": [
       "<pre style=\"white-space:pre;overflow-x:auto;line-height:normal;font-family:Menlo,'DejaVu Sans Mono',consolas,'Courier New',monospace\"><span style=\"color: #7fbfbf; text-decoration-color: #7fbfbf\">             </span>To cancel the simulation, use <span style=\"color: #008000; text-decoration-color: #008000\">'web.abort(task_id)'</span> or              \n",
       "<span style=\"color: #7fbfbf; text-decoration-color: #7fbfbf\">             </span><span style=\"color: #008000; text-decoration-color: #008000\">'web.delete(task_id)'</span> or abort/delete the task in the web UI.      \n",
       "<span style=\"color: #7fbfbf; text-decoration-color: #7fbfbf\">             </span>Terminating the Python script will not stop the job running on the \n",
       "<span style=\"color: #7fbfbf; text-decoration-color: #7fbfbf\">             </span>cloud.                                                             \n",
       "</pre>\n"
      ],
      "text/plain": [
       "\u001b[2;36m            \u001b[0m\u001b[2;36m \u001b[0mTo cancel the simulation, use \u001b[32m'web.abort\u001b[0m\u001b[32m(\u001b[0m\u001b[32mtask_id\u001b[0m\u001b[32m)\u001b[0m\u001b[32m'\u001b[0m or              \n",
       "\u001b[2;36m             \u001b[0m\u001b[32m'web.delete\u001b[0m\u001b[32m(\u001b[0m\u001b[32mtask_id\u001b[0m\u001b[32m)\u001b[0m\u001b[32m'\u001b[0m or abort/delete the task in the web UI.      \n",
       "\u001b[2;36m             \u001b[0mTerminating the Python script will not stop the job running on the \n",
       "\u001b[2;36m             \u001b[0mcloud.                                                             \n"
      ]
     },
     "metadata": {},
     "output_type": "display_data"
    },
    {
     "data": {
      "application/vnd.jupyter.widget-view+json": {
       "model_id": "424c34ac33284daeba8df6fdad08f1ca",
       "version_major": 2,
       "version_minor": 0
      },
      "text/plain": [
       "Output()"
      ]
     },
     "metadata": {},
     "output_type": "display_data"
    },
    {
     "data": {
      "text/html": [
       "<pre style=\"white-space:pre;overflow-x:auto;line-height:normal;font-family:Menlo,'DejaVu Sans Mono',consolas,'Courier New',monospace\"><span style=\"color: #7fbfbf; text-decoration-color: #7fbfbf\">18:50:31 BST </span>status = preprocess                                                \n",
       "</pre>\n"
      ],
      "text/plain": [
       "\u001b[2;36m18:50:31 BST\u001b[0m\u001b[2;36m \u001b[0mstatus = preprocess                                                \n"
      ]
     },
     "metadata": {},
     "output_type": "display_data"
    },
    {
     "data": {
      "text/html": [
       "<pre style=\"white-space:pre;overflow-x:auto;line-height:normal;font-family:Menlo,'DejaVu Sans Mono',consolas,'Courier New',monospace\"></pre>\n"
      ],
      "text/plain": []
     },
     "metadata": {},
     "output_type": "display_data"
    },
    {
     "data": {
      "text/html": [
       "<pre style=\"white-space:pre;overflow-x:auto;line-height:normal;font-family:Menlo,'DejaVu Sans Mono',consolas,'Courier New',monospace\"><span style=\"color: #7fbfbf; text-decoration-color: #7fbfbf\">             </span>Maximum FlexCredit cost: <span style=\"color: #008080; text-decoration-color: #008080; font-weight: bold\">0.193</span>. Use <span style=\"color: #008000; text-decoration-color: #008000\">'web.real_cost(task_id)'</span> to get\n",
       "<span style=\"color: #7fbfbf; text-decoration-color: #7fbfbf\">             </span>the billed FlexCredit cost after a simulation run.                 \n",
       "</pre>\n"
      ],
      "text/plain": [
       "\u001b[2;36m            \u001b[0m\u001b[2;36m \u001b[0mMaximum FlexCredit cost: \u001b[1;36m0.193\u001b[0m. Use \u001b[32m'web.real_cost\u001b[0m\u001b[32m(\u001b[0m\u001b[32mtask_id\u001b[0m\u001b[32m)\u001b[0m\u001b[32m'\u001b[0m to get\n",
       "\u001b[2;36m             \u001b[0mthe billed FlexCredit cost after a simulation run.                 \n"
      ]
     },
     "metadata": {},
     "output_type": "display_data"
    },
    {
     "data": {
      "text/html": [
       "<pre style=\"white-space:pre;overflow-x:auto;line-height:normal;font-family:Menlo,'DejaVu Sans Mono',consolas,'Courier New',monospace\"><span style=\"color: #7fbfbf; text-decoration-color: #7fbfbf\">             </span>starting up solver                                                 \n",
       "</pre>\n"
      ],
      "text/plain": [
       "\u001b[2;36m            \u001b[0m\u001b[2;36m \u001b[0mstarting up solver                                                 \n"
      ]
     },
     "metadata": {},
     "output_type": "display_data"
    },
    {
     "data": {
      "text/html": [
       "<pre style=\"white-space:pre;overflow-x:auto;line-height:normal;font-family:Menlo,'DejaVu Sans Mono',consolas,'Courier New',monospace\"><span style=\"color: #7fbfbf; text-decoration-color: #7fbfbf\">18:50:32 BST </span>running solver                                                     \n",
       "</pre>\n"
      ],
      "text/plain": [
       "\u001b[2;36m18:50:32 BST\u001b[0m\u001b[2;36m \u001b[0mrunning solver                                                     \n"
      ]
     },
     "metadata": {},
     "output_type": "display_data"
    },
    {
     "data": {
      "application/vnd.jupyter.widget-view+json": {
       "model_id": "3810e45441a046b98012c55e7daf6225",
       "version_major": 2,
       "version_minor": 0
      },
      "text/plain": [
       "Output()"
      ]
     },
     "metadata": {},
     "output_type": "display_data"
    },
    {
     "data": {
      "text/html": [
       "<pre style=\"white-space:pre;overflow-x:auto;line-height:normal;font-family:Menlo,'DejaVu Sans Mono',consolas,'Courier New',monospace\"></pre>\n"
      ],
      "text/plain": []
     },
     "metadata": {},
     "output_type": "display_data"
    },
    {
     "data": {
      "text/html": [
       "<pre style=\"white-space:pre;overflow-x:auto;line-height:normal;font-family:Menlo,'DejaVu Sans Mono',consolas,'Courier New',monospace\">\n",
       "</pre>\n"
      ],
      "text/plain": [
       "\n"
      ]
     },
     "metadata": {},
     "output_type": "display_data"
    },
    {
     "data": {
      "text/html": [
       "<pre style=\"white-space:pre;overflow-x:auto;line-height:normal;font-family:Menlo,'DejaVu Sans Mono',consolas,'Courier New',monospace\"><span style=\"color: #7fbfbf; text-decoration-color: #7fbfbf\">18:52:45 BST </span>status = postprocess                                               \n",
       "</pre>\n"
      ],
      "text/plain": [
       "\u001b[2;36m18:52:45 BST\u001b[0m\u001b[2;36m \u001b[0mstatus = postprocess                                               \n"
      ]
     },
     "metadata": {},
     "output_type": "display_data"
    },
    {
     "data": {
      "application/vnd.jupyter.widget-view+json": {
       "model_id": "d16e669762864d3e8b2020e337a88768",
       "version_major": 2,
       "version_minor": 0
      },
      "text/plain": [
       "Output()"
      ]
     },
     "metadata": {},
     "output_type": "display_data"
    },
    {
     "data": {
      "text/html": [
       "<pre style=\"white-space:pre;overflow-x:auto;line-height:normal;font-family:Menlo,'DejaVu Sans Mono',consolas,'Courier New',monospace\"><span style=\"color: #7fbfbf; text-decoration-color: #7fbfbf\">18:53:01 BST </span>status = success                                                   \n",
       "</pre>\n"
      ],
      "text/plain": [
       "\u001b[2;36m18:53:01 BST\u001b[0m\u001b[2;36m \u001b[0mstatus = success                                                   \n"
      ]
     },
     "metadata": {},
     "output_type": "display_data"
    },
    {
     "data": {
      "text/html": [
       "<pre style=\"white-space:pre;overflow-x:auto;line-height:normal;font-family:Menlo,'DejaVu Sans Mono',consolas,'Courier New',monospace\"></pre>\n"
      ],
      "text/plain": []
     },
     "metadata": {},
     "output_type": "display_data"
    },
    {
     "data": {
      "text/html": [
       "<pre style=\"white-space:pre;overflow-x:auto;line-height:normal;font-family:Menlo,'DejaVu Sans Mono',consolas,'Courier New',monospace\"><span style=\"color: #7fbfbf; text-decoration-color: #7fbfbf\">             </span>View simulation result at                                          \n",
       "<span style=\"color: #7fbfbf; text-decoration-color: #7fbfbf\">             </span><a href=\"https://tidy3d.simulation.cloud/workbench?taskId=fdve-a5b97e05-71fc-4710-83fa-552621b27bd6\" target=\"_blank\"><span style=\"color: #000080; text-decoration-color: #000080; text-decoration: underline\">'https://tidy3d.simulation.cloud/workbench?taskId=fdve-a5b97e05-71f</span></a>\n",
       "<span style=\"color: #7fbfbf; text-decoration-color: #7fbfbf\">             </span><a href=\"https://tidy3d.simulation.cloud/workbench?taskId=fdve-a5b97e05-71fc-4710-83fa-552621b27bd6\" target=\"_blank\"><span style=\"color: #000080; text-decoration-color: #000080; text-decoration: underline\">c-4710-83fa-552621b27bd6'</span></a><span style=\"color: #000080; text-decoration-color: #000080; text-decoration: underline\">.</span>                                         \n",
       "</pre>\n"
      ],
      "text/plain": [
       "\u001b[2;36m            \u001b[0m\u001b[2;36m \u001b[0mView simulation result at                                          \n",
       "\u001b[2;36m             \u001b[0m\u001b]8;id=612170;https://tidy3d.simulation.cloud/workbench?taskId=fdve-a5b97e05-71fc-4710-83fa-552621b27bd6\u001b\\\u001b[4;34m'https://tidy3d.simulation.cloud/workbench?\u001b[0m\u001b]8;;\u001b\\\u001b]8;id=252620;https://tidy3d.simulation.cloud/workbench?taskId=fdve-a5b97e05-71fc-4710-83fa-552621b27bd6\u001b\\\u001b[4;34mtaskId\u001b[0m\u001b]8;;\u001b\\\u001b]8;id=612170;https://tidy3d.simulation.cloud/workbench?taskId=fdve-a5b97e05-71fc-4710-83fa-552621b27bd6\u001b\\\u001b[4;34m=\u001b[0m\u001b]8;;\u001b\\\u001b]8;id=271868;https://tidy3d.simulation.cloud/workbench?taskId=fdve-a5b97e05-71fc-4710-83fa-552621b27bd6\u001b\\\u001b[4;34mfdve\u001b[0m\u001b]8;;\u001b\\\u001b]8;id=612170;https://tidy3d.simulation.cloud/workbench?taskId=fdve-a5b97e05-71fc-4710-83fa-552621b27bd6\u001b\\\u001b[4;34m-a5b97e05-71f\u001b[0m\u001b]8;;\u001b\\\n",
       "\u001b[2;36m             \u001b[0m\u001b]8;id=612170;https://tidy3d.simulation.cloud/workbench?taskId=fdve-a5b97e05-71fc-4710-83fa-552621b27bd6\u001b\\\u001b[4;34mc-4710-83fa-552621b27bd6'\u001b[0m\u001b]8;;\u001b\\\u001b[4;34m.\u001b[0m                                         \n"
      ]
     },
     "metadata": {},
     "output_type": "display_data"
    },
    {
     "data": {
      "application/vnd.jupyter.widget-view+json": {
       "model_id": "95485362c95047e0a9f68fa4ead0b567",
       "version_major": 2,
       "version_minor": 0
      },
      "text/plain": [
       "Output()"
      ]
     },
     "metadata": {},
     "output_type": "display_data"
    },
    {
     "data": {
      "text/html": [
       "<pre style=\"white-space:pre;overflow-x:auto;line-height:normal;font-family:Menlo,'DejaVu Sans Mono',consolas,'Courier New',monospace\"></pre>\n"
      ],
      "text/plain": []
     },
     "metadata": {},
     "output_type": "display_data"
    },
    {
     "data": {
      "text/html": [
       "<pre style=\"white-space:pre;overflow-x:auto;line-height:normal;font-family:Menlo,'DejaVu Sans Mono',consolas,'Courier New',monospace\">\n",
       "</pre>\n"
      ],
      "text/plain": [
       "\n"
      ]
     },
     "metadata": {},
     "output_type": "display_data"
    },
    {
     "data": {
      "text/html": [
       "<pre style=\"white-space:pre;overflow-x:auto;line-height:normal;font-family:Menlo,'DejaVu Sans Mono',consolas,'Courier New',monospace\"><span style=\"color: #7fbfbf; text-decoration-color: #7fbfbf\">18:53:16 BST </span>loading simulation from data/week05_design_jax_objective_fn_16.hdf5\n",
       "</pre>\n"
      ],
      "text/plain": [
       "\u001b[2;36m18:53:16 BST\u001b[0m\u001b[2;36m \u001b[0mloading simulation from data/week05_design_jax_objective_fn_16.hdf5\n"
      ]
     },
     "metadata": {},
     "output_type": "display_data"
    },
    {
     "data": {
      "text/html": [
       "<pre style=\"white-space:pre;overflow-x:auto;line-height:normal;font-family:Menlo,'DejaVu Sans Mono',consolas,'Courier New',monospace\"><span style=\"color: #7fbfbf; text-decoration-color: #7fbfbf\">             </span><span style=\"color: #800000; text-decoration-color: #800000\">WARNING: Simulation final field decay value of </span><span style=\"color: #008080; text-decoration-color: #008080; font-weight: bold\">5.71e-05</span><span style=\"color: #800000; text-decoration-color: #800000\"> is greater </span>\n",
       "<span style=\"color: #7fbfbf; text-decoration-color: #7fbfbf\">             </span><span style=\"color: #800000; text-decoration-color: #800000\">than the simulation shutoff threshold of </span><span style=\"color: #008080; text-decoration-color: #008080; font-weight: bold\">1e-06</span><span style=\"color: #800000; text-decoration-color: #800000\">. Consider running   </span>\n",
       "<span style=\"color: #7fbfbf; text-decoration-color: #7fbfbf\">             </span><span style=\"color: #800000; text-decoration-color: #800000\">the simulation again with a larger </span><span style=\"color: #008000; text-decoration-color: #008000\">'run_time'</span><span style=\"color: #800000; text-decoration-color: #800000\"> duration for more    </span>\n",
       "<span style=\"color: #7fbfbf; text-decoration-color: #7fbfbf\">             </span><span style=\"color: #800000; text-decoration-color: #800000\">accurate results.                                                  </span>\n",
       "</pre>\n"
      ],
      "text/plain": [
       "\u001b[2;36m            \u001b[0m\u001b[2;36m \u001b[0m\u001b[31mWARNING: Simulation final field decay value of \u001b[0m\u001b[1;36m5.71e-05\u001b[0m\u001b[31m is greater \u001b[0m\n",
       "\u001b[2;36m             \u001b[0m\u001b[31mthan the simulation shutoff threshold of \u001b[0m\u001b[1;36m1e-06\u001b[0m\u001b[31m. Consider running   \u001b[0m\n",
       "\u001b[2;36m             \u001b[0m\u001b[31mthe simulation again with a larger \u001b[0m\u001b[32m'run_time'\u001b[0m\u001b[31m duration for more    \u001b[0m\n",
       "\u001b[2;36m             \u001b[0m\u001b[31maccurate results.                                                  \u001b[0m\n"
      ]
     },
     "metadata": {},
     "output_type": "display_data"
    },
    {
     "data": {
      "text/html": [
       "<pre style=\"white-space:pre;overflow-x:auto;line-height:normal;font-family:Menlo,'DejaVu Sans Mono',consolas,'Courier New',monospace\"><span style=\"color: #7fbfbf; text-decoration-color: #7fbfbf\">18:53:17 BST </span><span style=\"color: #800000; text-decoration-color: #800000\">WARNING: </span><span style=\"color: #008080; text-decoration-color: #008080; font-weight: bold\">101</span><span style=\"color: #800000; text-decoration-color: #800000\"> unique frequencies detected in the output monitors    </span>\n",
       "<span style=\"color: #7fbfbf; text-decoration-color: #7fbfbf\">             </span><span style=\"color: #800000; text-decoration-color: #800000\">with a minimum spacing of </span><span style=\"color: #008080; text-decoration-color: #008080; font-weight: bold\">1.713e+12</span><span style=\"color: #800000; text-decoration-color: #800000\"> </span><span style=\"color: #800000; text-decoration-color: #800000; font-weight: bold\">(</span><span style=\"color: #800000; text-decoration-color: #800000\">Hz</span><span style=\"color: #800000; text-decoration-color: #800000; font-weight: bold\">)</span><span style=\"color: #800000; text-decoration-color: #800000\">. Setting the </span><span style=\"color: #008000; text-decoration-color: #008000\">'fwidth'</span><span style=\"color: #800000; text-decoration-color: #800000\"> of  </span>\n",
       "<span style=\"color: #7fbfbf; text-decoration-color: #7fbfbf\">             </span><span style=\"color: #800000; text-decoration-color: #800000\">the adjoint sources to </span><span style=\"color: #008080; text-decoration-color: #008080; font-weight: bold\">0.1</span><span style=\"color: #800000; text-decoration-color: #800000\"> times this value = </span><span style=\"color: #008080; text-decoration-color: #008080; font-weight: bold\">1.713e+11</span><span style=\"color: #800000; text-decoration-color: #800000\"> </span><span style=\"color: #800000; text-decoration-color: #800000; font-weight: bold\">(</span><span style=\"color: #800000; text-decoration-color: #800000\">Hz</span><span style=\"color: #800000; text-decoration-color: #800000; font-weight: bold\">)</span><span style=\"color: #800000; text-decoration-color: #800000\"> to    </span>\n",
       "<span style=\"color: #7fbfbf; text-decoration-color: #7fbfbf\">             </span><span style=\"color: #800000; text-decoration-color: #800000\">avoid spectral overlap. To account for this, the corresponding     </span>\n",
       "<span style=\"color: #7fbfbf; text-decoration-color: #7fbfbf\">             </span><span style=\"color: #008000; text-decoration-color: #008000\">'run_time'</span><span style=\"color: #800000; text-decoration-color: #800000\"> in the adjoint simulation is will be set to </span><span style=\"color: #008080; text-decoration-color: #008080; font-weight: bold\">7.458864e-11</span>\n",
       "<span style=\"color: #7fbfbf; text-decoration-color: #7fbfbf\">             </span><span style=\"color: #800000; text-decoration-color: #800000\">compared to </span><span style=\"color: #008080; text-decoration-color: #008080; font-weight: bold\">1.621492e-11</span><span style=\"color: #800000; text-decoration-color: #800000\"> in the forward simulation. If the adjoint </span>\n",
       "<span style=\"color: #7fbfbf; text-decoration-color: #7fbfbf\">             </span><span style=\"color: #008000; text-decoration-color: #008000\">'run_time'</span><span style=\"color: #800000; text-decoration-color: #800000\"> is large due to small frequency spacing, it could be    </span>\n",
       "<span style=\"color: #7fbfbf; text-decoration-color: #7fbfbf\">             </span><span style=\"color: #800000; text-decoration-color: #800000\">better to instead run one simulation per frequency, which can be   </span>\n",
       "<span style=\"color: #7fbfbf; text-decoration-color: #7fbfbf\">             </span><span style=\"color: #800000; text-decoration-color: #800000\">done in parallel using </span><span style=\"color: #008000; text-decoration-color: #008000\">'tidy3d.plugins.adjoint.web.run_async'</span><span style=\"color: #800000; text-decoration-color: #800000\">.     </span>\n",
       "</pre>\n"
      ],
      "text/plain": [
       "\u001b[2;36m18:53:17 BST\u001b[0m\u001b[2;36m \u001b[0m\u001b[31mWARNING: \u001b[0m\u001b[1;36m101\u001b[0m\u001b[31m unique frequencies detected in the output monitors    \u001b[0m\n",
       "\u001b[2;36m             \u001b[0m\u001b[31mwith a minimum spacing of \u001b[0m\u001b[1;36m1.713e+12\u001b[0m\u001b[31m \u001b[0m\u001b[1;31m(\u001b[0m\u001b[31mHz\u001b[0m\u001b[1;31m)\u001b[0m\u001b[31m. Setting the \u001b[0m\u001b[32m'fwidth'\u001b[0m\u001b[31m of  \u001b[0m\n",
       "\u001b[2;36m             \u001b[0m\u001b[31mthe adjoint sources to \u001b[0m\u001b[1;36m0.1\u001b[0m\u001b[31m times this value = \u001b[0m\u001b[1;36m1.713e+11\u001b[0m\u001b[31m \u001b[0m\u001b[1;31m(\u001b[0m\u001b[31mHz\u001b[0m\u001b[1;31m)\u001b[0m\u001b[31m to    \u001b[0m\n",
       "\u001b[2;36m             \u001b[0m\u001b[31mavoid spectral overlap. To account for this, the corresponding     \u001b[0m\n",
       "\u001b[2;36m             \u001b[0m\u001b[32m'run_time'\u001b[0m\u001b[31m in the adjoint simulation is will be set to \u001b[0m\u001b[1;36m7.458864e-11\u001b[0m\n",
       "\u001b[2;36m             \u001b[0m\u001b[31mcompared to \u001b[0m\u001b[1;36m1.621492e-11\u001b[0m\u001b[31m in the forward simulation. If the adjoint \u001b[0m\n",
       "\u001b[2;36m             \u001b[0m\u001b[32m'run_time'\u001b[0m\u001b[31m is large due to small frequency spacing, it could be    \u001b[0m\n",
       "\u001b[2;36m             \u001b[0m\u001b[31mbetter to instead run one simulation per frequency, which can be   \u001b[0m\n",
       "\u001b[2;36m             \u001b[0m\u001b[31mdone in parallel using \u001b[0m\u001b[32m'tidy3d.plugins.adjoint.web.run_async'\u001b[0m\u001b[31m.     \u001b[0m\n"
      ]
     },
     "metadata": {},
     "output_type": "display_data"
    },
    {
     "data": {
      "text/html": [
       "<pre style=\"white-space:pre;overflow-x:auto;line-height:normal;font-family:Menlo,'DejaVu Sans Mono',consolas,'Courier New',monospace\"><span style=\"color: #7fbfbf; text-decoration-color: #7fbfbf\">18:53:20 BST </span><span style=\"color: #800000; text-decoration-color: #800000\">WARNING: Simulation has </span><span style=\"color: #008080; text-decoration-color: #008080; font-weight: bold\">3.13e+06</span><span style=\"color: #800000; text-decoration-color: #800000\"> time steps. The </span><span style=\"color: #008000; text-decoration-color: #008000\">'run_time'</span><span style=\"color: #800000; text-decoration-color: #800000\"> may be </span>\n",
       "<span style=\"color: #7fbfbf; text-decoration-color: #7fbfbf\">             </span><span style=\"color: #800000; text-decoration-color: #800000\">unnecessarily large, unless there are very long-lived resonances.  </span>\n",
       "</pre>\n"
      ],
      "text/plain": [
       "\u001b[2;36m18:53:20 BST\u001b[0m\u001b[2;36m \u001b[0m\u001b[31mWARNING: Simulation has \u001b[0m\u001b[1;36m3.13e+06\u001b[0m\u001b[31m time steps. The \u001b[0m\u001b[32m'run_time'\u001b[0m\u001b[31m may be \u001b[0m\n",
       "\u001b[2;36m             \u001b[0m\u001b[31munnecessarily large, unless there are very long-lived resonances.  \u001b[0m\n"
      ]
     },
     "metadata": {},
     "output_type": "display_data"
    },
    {
     "data": {
      "text/html": [
       "<pre style=\"white-space:pre;overflow-x:auto;line-height:normal;font-family:Menlo,'DejaVu Sans Mono',consolas,'Courier New',monospace\"><span style=\"color: #7fbfbf; text-decoration-color: #7fbfbf\">             </span>Created task <span style=\"color: #008000; text-decoration-color: #008000\">'task_week05_design_jax_objective_fn_16_adj'</span> with     \n",
       "<span style=\"color: #7fbfbf; text-decoration-color: #7fbfbf\">             </span>task_id <span style=\"color: #008000; text-decoration-color: #008000\">'fdve-3aea0600-5c5d-45d2-a170-79e7821f3f9b'</span> and task_type  \n",
       "<span style=\"color: #7fbfbf; text-decoration-color: #7fbfbf\">             </span><span style=\"color: #008000; text-decoration-color: #008000\">'FDTD'</span>.                                                            \n",
       "</pre>\n"
      ],
      "text/plain": [
       "\u001b[2;36m            \u001b[0m\u001b[2;36m \u001b[0mCreated task \u001b[32m'task_week05_design_jax_objective_fn_16_adj'\u001b[0m with     \n",
       "\u001b[2;36m             \u001b[0mtask_id \u001b[32m'fdve-3aea0600-5c5d-45d2-a170-79e7821f3f9b'\u001b[0m and task_type  \n",
       "\u001b[2;36m             \u001b[0m\u001b[32m'FDTD'\u001b[0m.                                                            \n"
      ]
     },
     "metadata": {},
     "output_type": "display_data"
    },
    {
     "data": {
      "text/html": [
       "<pre style=\"white-space:pre;overflow-x:auto;line-height:normal;font-family:Menlo,'DejaVu Sans Mono',consolas,'Courier New',monospace\"><span style=\"color: #7fbfbf; text-decoration-color: #7fbfbf\">             </span>View task using web UI at                                          \n",
       "<span style=\"color: #7fbfbf; text-decoration-color: #7fbfbf\">             </span><a href=\"https://tidy3d.simulation.cloud/workbench?taskId=fdve-3aea0600-5c5d-45d2-a170-79e7821f3f9b\" target=\"_blank\"><span style=\"color: #008000; text-decoration-color: #008000\">'https://tidy3d.simulation.cloud/workbench?taskId=fdve-3aea0600-5c5</span></a>\n",
       "<span style=\"color: #7fbfbf; text-decoration-color: #7fbfbf\">             </span><a href=\"https://tidy3d.simulation.cloud/workbench?taskId=fdve-3aea0600-5c5d-45d2-a170-79e7821f3f9b\" target=\"_blank\"><span style=\"color: #008000; text-decoration-color: #008000\">d-45d2-a170-79e7821f3f9b'</span></a>.                                         \n",
       "</pre>\n"
      ],
      "text/plain": [
       "\u001b[2;36m            \u001b[0m\u001b[2;36m \u001b[0mView task using web UI at                                          \n",
       "\u001b[2;36m             \u001b[0m\u001b]8;id=29453;https://tidy3d.simulation.cloud/workbench?taskId=fdve-3aea0600-5c5d-45d2-a170-79e7821f3f9b\u001b\\\u001b[32m'https://tidy3d.simulation.cloud/workbench?\u001b[0m\u001b]8;;\u001b\\\u001b]8;id=55528;https://tidy3d.simulation.cloud/workbench?taskId=fdve-3aea0600-5c5d-45d2-a170-79e7821f3f9b\u001b\\\u001b[32mtaskId\u001b[0m\u001b]8;;\u001b\\\u001b]8;id=29453;https://tidy3d.simulation.cloud/workbench?taskId=fdve-3aea0600-5c5d-45d2-a170-79e7821f3f9b\u001b\\\u001b[32m=\u001b[0m\u001b]8;;\u001b\\\u001b]8;id=825731;https://tidy3d.simulation.cloud/workbench?taskId=fdve-3aea0600-5c5d-45d2-a170-79e7821f3f9b\u001b\\\u001b[32mfdve\u001b[0m\u001b]8;;\u001b\\\u001b]8;id=29453;https://tidy3d.simulation.cloud/workbench?taskId=fdve-3aea0600-5c5d-45d2-a170-79e7821f3f9b\u001b\\\u001b[32m-3aea0600-5c5\u001b[0m\u001b]8;;\u001b\\\n",
       "\u001b[2;36m             \u001b[0m\u001b]8;id=29453;https://tidy3d.simulation.cloud/workbench?taskId=fdve-3aea0600-5c5d-45d2-a170-79e7821f3f9b\u001b\\\u001b[32md-45d2-a170-79e7821f3f9b'\u001b[0m\u001b]8;;\u001b\\.                                         \n"
      ]
     },
     "metadata": {},
     "output_type": "display_data"
    },
    {
     "data": {
      "application/vnd.jupyter.widget-view+json": {
       "model_id": "a5bca4f3c15a4f2bb7e87d96f5774315",
       "version_major": 2,
       "version_minor": 0
      },
      "text/plain": [
       "Output()"
      ]
     },
     "metadata": {},
     "output_type": "display_data"
    },
    {
     "data": {
      "text/html": [
       "<pre style=\"white-space:pre;overflow-x:auto;line-height:normal;font-family:Menlo,'DejaVu Sans Mono',consolas,'Courier New',monospace\"></pre>\n"
      ],
      "text/plain": []
     },
     "metadata": {},
     "output_type": "display_data"
    },
    {
     "data": {
      "text/html": [
       "<pre style=\"white-space:pre;overflow-x:auto;line-height:normal;font-family:Menlo,'DejaVu Sans Mono',consolas,'Courier New',monospace\">\n",
       "</pre>\n"
      ],
      "text/plain": [
       "\n"
      ]
     },
     "metadata": {},
     "output_type": "display_data"
    },
    {
     "data": {
      "text/html": [
       "<pre style=\"white-space:pre;overflow-x:auto;line-height:normal;font-family:Menlo,'DejaVu Sans Mono',consolas,'Courier New',monospace\"><span style=\"color: #7fbfbf; text-decoration-color: #7fbfbf\">18:53:33 BST </span>status = queued                                                    \n",
       "</pre>\n"
      ],
      "text/plain": [
       "\u001b[2;36m18:53:33 BST\u001b[0m\u001b[2;36m \u001b[0mstatus = queued                                                    \n"
      ]
     },
     "metadata": {},
     "output_type": "display_data"
    },
    {
     "data": {
      "text/html": [
       "<pre style=\"white-space:pre;overflow-x:auto;line-height:normal;font-family:Menlo,'DejaVu Sans Mono',consolas,'Courier New',monospace\"><span style=\"color: #7fbfbf; text-decoration-color: #7fbfbf\">             </span>To cancel the simulation, use <span style=\"color: #008000; text-decoration-color: #008000\">'web.abort(task_id)'</span> or              \n",
       "<span style=\"color: #7fbfbf; text-decoration-color: #7fbfbf\">             </span><span style=\"color: #008000; text-decoration-color: #008000\">'web.delete(task_id)'</span> or abort/delete the task in the web UI.      \n",
       "<span style=\"color: #7fbfbf; text-decoration-color: #7fbfbf\">             </span>Terminating the Python script will not stop the job running on the \n",
       "<span style=\"color: #7fbfbf; text-decoration-color: #7fbfbf\">             </span>cloud.                                                             \n",
       "</pre>\n"
      ],
      "text/plain": [
       "\u001b[2;36m            \u001b[0m\u001b[2;36m \u001b[0mTo cancel the simulation, use \u001b[32m'web.abort\u001b[0m\u001b[32m(\u001b[0m\u001b[32mtask_id\u001b[0m\u001b[32m)\u001b[0m\u001b[32m'\u001b[0m or              \n",
       "\u001b[2;36m             \u001b[0m\u001b[32m'web.delete\u001b[0m\u001b[32m(\u001b[0m\u001b[32mtask_id\u001b[0m\u001b[32m)\u001b[0m\u001b[32m'\u001b[0m or abort/delete the task in the web UI.      \n",
       "\u001b[2;36m             \u001b[0mTerminating the Python script will not stop the job running on the \n",
       "\u001b[2;36m             \u001b[0mcloud.                                                             \n"
      ]
     },
     "metadata": {},
     "output_type": "display_data"
    },
    {
     "data": {
      "application/vnd.jupyter.widget-view+json": {
       "model_id": "185288f882f341dd8fdec7d73c9ec7f7",
       "version_major": 2,
       "version_minor": 0
      },
      "text/plain": [
       "Output()"
      ]
     },
     "metadata": {},
     "output_type": "display_data"
    },
    {
     "data": {
      "text/html": [
       "<pre style=\"white-space:pre;overflow-x:auto;line-height:normal;font-family:Menlo,'DejaVu Sans Mono',consolas,'Courier New',monospace\"><span style=\"color: #7fbfbf; text-decoration-color: #7fbfbf\">18:53:40 BST </span>status = preprocess                                                \n",
       "</pre>\n"
      ],
      "text/plain": [
       "\u001b[2;36m18:53:40 BST\u001b[0m\u001b[2;36m \u001b[0mstatus = preprocess                                                \n"
      ]
     },
     "metadata": {},
     "output_type": "display_data"
    },
    {
     "data": {
      "text/html": [
       "<pre style=\"white-space:pre;overflow-x:auto;line-height:normal;font-family:Menlo,'DejaVu Sans Mono',consolas,'Courier New',monospace\"></pre>\n"
      ],
      "text/plain": []
     },
     "metadata": {},
     "output_type": "display_data"
    },
    {
     "data": {
      "text/html": [
       "<pre style=\"white-space:pre;overflow-x:auto;line-height:normal;font-family:Menlo,'DejaVu Sans Mono',consolas,'Courier New',monospace\"><span style=\"color: #7fbfbf; text-decoration-color: #7fbfbf\">18:54:27 BST </span>Maximum FlexCredit cost: <span style=\"color: #008080; text-decoration-color: #008080; font-weight: bold\">0.605</span>. Use <span style=\"color: #008000; text-decoration-color: #008000\">'web.real_cost(task_id)'</span> to get\n",
       "<span style=\"color: #7fbfbf; text-decoration-color: #7fbfbf\">             </span>the billed FlexCredit cost after a simulation run.                 \n",
       "</pre>\n"
      ],
      "text/plain": [
       "\u001b[2;36m18:54:27 BST\u001b[0m\u001b[2;36m \u001b[0mMaximum FlexCredit cost: \u001b[1;36m0.605\u001b[0m. Use \u001b[32m'web.real_cost\u001b[0m\u001b[32m(\u001b[0m\u001b[32mtask_id\u001b[0m\u001b[32m)\u001b[0m\u001b[32m'\u001b[0m to get\n",
       "\u001b[2;36m             \u001b[0mthe billed FlexCredit cost after a simulation run.                 \n"
      ]
     },
     "metadata": {},
     "output_type": "display_data"
    },
    {
     "data": {
      "text/html": [
       "<pre style=\"white-space:pre;overflow-x:auto;line-height:normal;font-family:Menlo,'DejaVu Sans Mono',consolas,'Courier New',monospace\"><span style=\"color: #7fbfbf; text-decoration-color: #7fbfbf\">             </span>starting up solver                                                 \n",
       "</pre>\n"
      ],
      "text/plain": [
       "\u001b[2;36m            \u001b[0m\u001b[2;36m \u001b[0mstarting up solver                                                 \n"
      ]
     },
     "metadata": {},
     "output_type": "display_data"
    },
    {
     "data": {
      "text/html": [
       "<pre style=\"white-space:pre;overflow-x:auto;line-height:normal;font-family:Menlo,'DejaVu Sans Mono',consolas,'Courier New',monospace\"><span style=\"color: #7fbfbf; text-decoration-color: #7fbfbf\">             </span>running solver                                                     \n",
       "</pre>\n"
      ],
      "text/plain": [
       "\u001b[2;36m            \u001b[0m\u001b[2;36m \u001b[0mrunning solver                                                     \n"
      ]
     },
     "metadata": {},
     "output_type": "display_data"
    },
    {
     "data": {
      "application/vnd.jupyter.widget-view+json": {
       "model_id": "3cc908d082644aaf951451e7064dc365",
       "version_major": 2,
       "version_minor": 0
      },
      "text/plain": [
       "Output()"
      ]
     },
     "metadata": {},
     "output_type": "display_data"
    },
    {
     "data": {
      "text/html": [
       "<pre style=\"white-space:pre;overflow-x:auto;line-height:normal;font-family:Menlo,'DejaVu Sans Mono',consolas,'Courier New',monospace\"><span style=\"color: #7fbfbf; text-decoration-color: #7fbfbf\">19:00:48 BST </span>early shutoff detected at <span style=\"color: #008080; text-decoration-color: #008080; font-weight: bold\">12</span>%, exiting.                            \n",
       "</pre>\n"
      ],
      "text/plain": [
       "\u001b[2;36m19:00:48 BST\u001b[0m\u001b[2;36m \u001b[0mearly shutoff detected at \u001b[1;36m12\u001b[0m%, exiting.                            \n"
      ]
     },
     "metadata": {},
     "output_type": "display_data"
    },
    {
     "data": {
      "text/html": [
       "<pre style=\"white-space:pre;overflow-x:auto;line-height:normal;font-family:Menlo,'DejaVu Sans Mono',consolas,'Courier New',monospace\"></pre>\n"
      ],
      "text/plain": []
     },
     "metadata": {},
     "output_type": "display_data"
    },
    {
     "data": {
      "text/html": [
       "<pre style=\"white-space:pre;overflow-x:auto;line-height:normal;font-family:Menlo,'DejaVu Sans Mono',consolas,'Courier New',monospace\">\n",
       "</pre>\n"
      ],
      "text/plain": [
       "\n"
      ]
     },
     "metadata": {},
     "output_type": "display_data"
    },
    {
     "data": {
      "text/html": [
       "<pre style=\"white-space:pre;overflow-x:auto;line-height:normal;font-family:Menlo,'DejaVu Sans Mono',consolas,'Courier New',monospace\"><span style=\"color: #7fbfbf; text-decoration-color: #7fbfbf\">19:00:49 BST </span>status = postprocess                                               \n",
       "</pre>\n"
      ],
      "text/plain": [
       "\u001b[2;36m19:00:49 BST\u001b[0m\u001b[2;36m \u001b[0mstatus = postprocess                                               \n"
      ]
     },
     "metadata": {},
     "output_type": "display_data"
    },
    {
     "data": {
      "application/vnd.jupyter.widget-view+json": {
       "model_id": "41b478eb59944ed5b7b47c83ff9980d4",
       "version_major": 2,
       "version_minor": 0
      },
      "text/plain": [
       "Output()"
      ]
     },
     "metadata": {},
     "output_type": "display_data"
    },
    {
     "data": {
      "text/html": [
       "<pre style=\"white-space:pre;overflow-x:auto;line-height:normal;font-family:Menlo,'DejaVu Sans Mono',consolas,'Courier New',monospace\"><span style=\"color: #7fbfbf; text-decoration-color: #7fbfbf\">19:01:16 BST </span>status = success                                                   \n",
       "</pre>\n"
      ],
      "text/plain": [
       "\u001b[2;36m19:01:16 BST\u001b[0m\u001b[2;36m \u001b[0mstatus = success                                                   \n"
      ]
     },
     "metadata": {},
     "output_type": "display_data"
    },
    {
     "data": {
      "text/html": [
       "<pre style=\"white-space:pre;overflow-x:auto;line-height:normal;font-family:Menlo,'DejaVu Sans Mono',consolas,'Courier New',monospace\"></pre>\n"
      ],
      "text/plain": []
     },
     "metadata": {},
     "output_type": "display_data"
    },
    {
     "data": {
      "text/html": [
       "<pre style=\"white-space:pre;overflow-x:auto;line-height:normal;font-family:Menlo,'DejaVu Sans Mono',consolas,'Courier New',monospace\"><span style=\"color: #7fbfbf; text-decoration-color: #7fbfbf\">             </span>View simulation result at                                          \n",
       "<span style=\"color: #7fbfbf; text-decoration-color: #7fbfbf\">             </span><a href=\"https://tidy3d.simulation.cloud/workbench?taskId=fdve-3aea0600-5c5d-45d2-a170-79e7821f3f9b\" target=\"_blank\"><span style=\"color: #000080; text-decoration-color: #000080; text-decoration: underline\">'https://tidy3d.simulation.cloud/workbench?taskId=fdve-3aea0600-5c5</span></a>\n",
       "<span style=\"color: #7fbfbf; text-decoration-color: #7fbfbf\">             </span><a href=\"https://tidy3d.simulation.cloud/workbench?taskId=fdve-3aea0600-5c5d-45d2-a170-79e7821f3f9b\" target=\"_blank\"><span style=\"color: #000080; text-decoration-color: #000080; text-decoration: underline\">d-45d2-a170-79e7821f3f9b'</span></a><span style=\"color: #000080; text-decoration-color: #000080; text-decoration: underline\">.</span>                                         \n",
       "</pre>\n"
      ],
      "text/plain": [
       "\u001b[2;36m            \u001b[0m\u001b[2;36m \u001b[0mView simulation result at                                          \n",
       "\u001b[2;36m             \u001b[0m\u001b]8;id=908560;https://tidy3d.simulation.cloud/workbench?taskId=fdve-3aea0600-5c5d-45d2-a170-79e7821f3f9b\u001b\\\u001b[4;34m'https://tidy3d.simulation.cloud/workbench?\u001b[0m\u001b]8;;\u001b\\\u001b]8;id=902396;https://tidy3d.simulation.cloud/workbench?taskId=fdve-3aea0600-5c5d-45d2-a170-79e7821f3f9b\u001b\\\u001b[4;34mtaskId\u001b[0m\u001b]8;;\u001b\\\u001b]8;id=908560;https://tidy3d.simulation.cloud/workbench?taskId=fdve-3aea0600-5c5d-45d2-a170-79e7821f3f9b\u001b\\\u001b[4;34m=\u001b[0m\u001b]8;;\u001b\\\u001b]8;id=341143;https://tidy3d.simulation.cloud/workbench?taskId=fdve-3aea0600-5c5d-45d2-a170-79e7821f3f9b\u001b\\\u001b[4;34mfdve\u001b[0m\u001b]8;;\u001b\\\u001b]8;id=908560;https://tidy3d.simulation.cloud/workbench?taskId=fdve-3aea0600-5c5d-45d2-a170-79e7821f3f9b\u001b\\\u001b[4;34m-3aea0600-5c5\u001b[0m\u001b]8;;\u001b\\\n",
       "\u001b[2;36m             \u001b[0m\u001b]8;id=908560;https://tidy3d.simulation.cloud/workbench?taskId=fdve-3aea0600-5c5d-45d2-a170-79e7821f3f9b\u001b\\\u001b[4;34md-45d2-a170-79e7821f3f9b'\u001b[0m\u001b]8;;\u001b\\\u001b[4;34m.\u001b[0m                                         \n"
      ]
     },
     "metadata": {},
     "output_type": "display_data"
    },
    {
     "data": {
      "application/vnd.jupyter.widget-view+json": {
       "model_id": "34a3c0d296f54b1e99e5654d5bb292d6",
       "version_major": 2,
       "version_minor": 0
      },
      "text/plain": [
       "Output()"
      ]
     },
     "metadata": {},
     "output_type": "display_data"
    },
    {
     "data": {
      "text/html": [
       "<pre style=\"white-space:pre;overflow-x:auto;line-height:normal;font-family:Menlo,'DejaVu Sans Mono',consolas,'Courier New',monospace\"></pre>\n"
      ],
      "text/plain": []
     },
     "metadata": {},
     "output_type": "display_data"
    },
    {
     "data": {
      "text/html": [
       "<pre style=\"white-space:pre;overflow-x:auto;line-height:normal;font-family:Menlo,'DejaVu Sans Mono',consolas,'Courier New',monospace\">\n",
       "</pre>\n"
      ],
      "text/plain": [
       "\n"
      ]
     },
     "metadata": {},
     "output_type": "display_data"
    },
    {
     "data": {
      "text/html": [
       "<pre style=\"white-space:pre;overflow-x:auto;line-height:normal;font-family:Menlo,'DejaVu Sans Mono',consolas,'Courier New',monospace\"><span style=\"color: #7fbfbf; text-decoration-color: #7fbfbf\">19:01:33 BST </span>loading simulation from data/week05_design_jax_objective_fn_16.hdf5\n",
       "</pre>\n"
      ],
      "text/plain": [
       "\u001b[2;36m19:01:33 BST\u001b[0m\u001b[2;36m \u001b[0mloading simulation from data/week05_design_jax_objective_fn_16.hdf5\n"
      ]
     },
     "metadata": {},
     "output_type": "display_data"
    },
    {
     "name": "stdout",
     "output_type": "stream",
     "text": [
      "\terror value: 47.54318110525417\n",
      "\tgradient norm: 0.006288841537884296\n"
     ]
    },
    {
     "data": {
      "image/png": "[encoded data removed]",
      "text/plain": [
       "<Figure size 400x200 with 1 Axes>"
      ]
     },
     "metadata": {},
     "output_type": "display_data"
    },
    {
     "name": "stdout",
     "output_type": "stream",
     "text": [
      "Iteration 6\n"
     ]
    },
    {
     "data": {
      "text/html": [
       "<pre style=\"white-space:pre;overflow-x:auto;line-height:normal;font-family:Menlo,'DejaVu Sans Mono',consolas,'Courier New',monospace\"><span style=\"color: #7fbfbf; text-decoration-color: #7fbfbf\">19:05:30 BST </span>Created task <span style=\"color: #008000; text-decoration-color: #008000\">'task_week05_design_jax_objective_fn_17_fwd'</span> with     \n",
       "<span style=\"color: #7fbfbf; text-decoration-color: #7fbfbf\">             </span>task_id <span style=\"color: #008000; text-decoration-color: #008000\">'fdve-69c73aec-a761-4886-ac27-6a5b8a4d5ecb'</span> and task_type  \n",
       "<span style=\"color: #7fbfbf; text-decoration-color: #7fbfbf\">             </span><span style=\"color: #008000; text-decoration-color: #008000\">'FDTD'</span>.                                                            \n",
       "</pre>\n"
      ],
      "text/plain": [
       "\u001b[2;36m19:05:30 BST\u001b[0m\u001b[2;36m \u001b[0mCreated task \u001b[32m'task_week05_design_jax_objective_fn_17_fwd'\u001b[0m with     \n",
       "\u001b[2;36m             \u001b[0mtask_id \u001b[32m'fdve-69c73aec-a761-4886-ac27-6a5b8a4d5ecb'\u001b[0m and task_type  \n",
       "\u001b[2;36m             \u001b[0m\u001b[32m'FDTD'\u001b[0m.                                                            \n"
      ]
     },
     "metadata": {},
     "output_type": "display_data"
    },
    {
     "data": {
      "text/html": [
       "<pre style=\"white-space:pre;overflow-x:auto;line-height:normal;font-family:Menlo,'DejaVu Sans Mono',consolas,'Courier New',monospace\"><span style=\"color: #7fbfbf; text-decoration-color: #7fbfbf\">             </span>View task using web UI at                                          \n",
       "<span style=\"color: #7fbfbf; text-decoration-color: #7fbfbf\">             </span><a href=\"https://tidy3d.simulation.cloud/workbench?taskId=fdve-69c73aec-a761-4886-ac27-6a5b8a4d5ecb\" target=\"_blank\"><span style=\"color: #008000; text-decoration-color: #008000\">'https://tidy3d.simulation.cloud/workbench?taskId=fdve-69c73aec-a76</span></a>\n",
       "<span style=\"color: #7fbfbf; text-decoration-color: #7fbfbf\">             </span><a href=\"https://tidy3d.simulation.cloud/workbench?taskId=fdve-69c73aec-a761-4886-ac27-6a5b8a4d5ecb\" target=\"_blank\"><span style=\"color: #008000; text-decoration-color: #008000\">1-4886-ac27-6a5b8a4d5ecb'</span></a>.                                         \n",
       "</pre>\n"
      ],
      "text/plain": [
       "\u001b[2;36m            \u001b[0m\u001b[2;36m \u001b[0mView task using web UI at                                          \n",
       "\u001b[2;36m             \u001b[0m\u001b]8;id=937425;https://tidy3d.simulation.cloud/workbench?taskId=fdve-69c73aec-a761-4886-ac27-6a5b8a4d5ecb\u001b\\\u001b[32m'https://tidy3d.simulation.cloud/workbench?\u001b[0m\u001b]8;;\u001b\\\u001b]8;id=789826;https://tidy3d.simulation.cloud/workbench?taskId=fdve-69c73aec-a761-4886-ac27-6a5b8a4d5ecb\u001b\\\u001b[32mtaskId\u001b[0m\u001b]8;;\u001b\\\u001b]8;id=937425;https://tidy3d.simulation.cloud/workbench?taskId=fdve-69c73aec-a761-4886-ac27-6a5b8a4d5ecb\u001b\\\u001b[32m=\u001b[0m\u001b]8;;\u001b\\\u001b]8;id=109095;https://tidy3d.simulation.cloud/workbench?taskId=fdve-69c73aec-a761-4886-ac27-6a5b8a4d5ecb\u001b\\\u001b[32mfdve\u001b[0m\u001b]8;;\u001b\\\u001b]8;id=937425;https://tidy3d.simulation.cloud/workbench?taskId=fdve-69c73aec-a761-4886-ac27-6a5b8a4d5ecb\u001b\\\u001b[32m-69c73aec-a76\u001b[0m\u001b]8;;\u001b\\\n",
       "\u001b[2;36m             \u001b[0m\u001b]8;id=937425;https://tidy3d.simulation.cloud/workbench?taskId=fdve-69c73aec-a761-4886-ac27-6a5b8a4d5ecb\u001b\\\u001b[32m1-4886-ac27-6a5b8a4d5ecb'\u001b[0m\u001b]8;;\u001b\\.                                         \n"
      ]
     },
     "metadata": {},
     "output_type": "display_data"
    },
    {
     "data": {
      "application/vnd.jupyter.widget-view+json": {
       "model_id": "9cac283da0274ae2ae5aad28cbbc36d1",
       "version_major": 2,
       "version_minor": 0
      },
      "text/plain": [
       "Output()"
      ]
     },
     "metadata": {},
     "output_type": "display_data"
    },
    {
     "data": {
      "text/html": [
       "<pre style=\"white-space:pre;overflow-x:auto;line-height:normal;font-family:Menlo,'DejaVu Sans Mono',consolas,'Courier New',monospace\"></pre>\n"
      ],
      "text/plain": []
     },
     "metadata": {},
     "output_type": "display_data"
    },
    {
     "data": {
      "text/html": [
       "<pre style=\"white-space:pre;overflow-x:auto;line-height:normal;font-family:Menlo,'DejaVu Sans Mono',consolas,'Courier New',monospace\">\n",
       "</pre>\n"
      ],
      "text/plain": [
       "\n"
      ]
     },
     "metadata": {},
     "output_type": "display_data"
    },
    {
     "data": {
      "text/html": [
       "<pre style=\"white-space:pre;overflow-x:auto;line-height:normal;font-family:Menlo,'DejaVu Sans Mono',consolas,'Courier New',monospace\"><span style=\"color: #7fbfbf; text-decoration-color: #7fbfbf\">19:05:39 BST </span>status = queued                                                    \n",
       "</pre>\n"
      ],
      "text/plain": [
       "\u001b[2;36m19:05:39 BST\u001b[0m\u001b[2;36m \u001b[0mstatus = queued                                                    \n"
      ]
     },
     "metadata": {},
     "output_type": "display_data"
    },
    {
     "data": {
      "text/html": [
       "<pre style=\"white-space:pre;overflow-x:auto;line-height:normal;font-family:Menlo,'DejaVu Sans Mono',consolas,'Courier New',monospace\"><span style=\"color: #7fbfbf; text-decoration-color: #7fbfbf\">             </span>To cancel the simulation, use <span style=\"color: #008000; text-decoration-color: #008000\">'web.abort(task_id)'</span> or              \n",
       "<span style=\"color: #7fbfbf; text-decoration-color: #7fbfbf\">             </span><span style=\"color: #008000; text-decoration-color: #008000\">'web.delete(task_id)'</span> or abort/delete the task in the web UI.      \n",
       "<span style=\"color: #7fbfbf; text-decoration-color: #7fbfbf\">             </span>Terminating the Python script will not stop the job running on the \n",
       "<span style=\"color: #7fbfbf; text-decoration-color: #7fbfbf\">             </span>cloud.                                                             \n",
       "</pre>\n"
      ],
      "text/plain": [
       "\u001b[2;36m            \u001b[0m\u001b[2;36m \u001b[0mTo cancel the simulation, use \u001b[32m'web.abort\u001b[0m\u001b[32m(\u001b[0m\u001b[32mtask_id\u001b[0m\u001b[32m)\u001b[0m\u001b[32m'\u001b[0m or              \n",
       "\u001b[2;36m             \u001b[0m\u001b[32m'web.delete\u001b[0m\u001b[32m(\u001b[0m\u001b[32mtask_id\u001b[0m\u001b[32m)\u001b[0m\u001b[32m'\u001b[0m or abort/delete the task in the web UI.      \n",
       "\u001b[2;36m             \u001b[0mTerminating the Python script will not stop the job running on the \n",
       "\u001b[2;36m             \u001b[0mcloud.                                                             \n"
      ]
     },
     "metadata": {},
     "output_type": "display_data"
    },
    {
     "data": {
      "application/vnd.jupyter.widget-view+json": {
       "model_id": "d094a66d2dac43d4a33530704e1233b4",
       "version_major": 2,
       "version_minor": 0
      },
      "text/plain": [
       "Output()"
      ]
     },
     "metadata": {},
     "output_type": "display_data"
    },
    {
     "data": {
      "text/html": [
       "<pre style=\"white-space:pre;overflow-x:auto;line-height:normal;font-family:Menlo,'DejaVu Sans Mono',consolas,'Courier New',monospace\"><span style=\"color: #7fbfbf; text-decoration-color: #7fbfbf\">19:05:46 BST </span>status = preprocess                                                \n",
       "</pre>\n"
      ],
      "text/plain": [
       "\u001b[2;36m19:05:46 BST\u001b[0m\u001b[2;36m \u001b[0mstatus = preprocess                                                \n"
      ]
     },
     "metadata": {},
     "output_type": "display_data"
    },
    {
     "data": {
      "text/html": [
       "<pre style=\"white-space:pre;overflow-x:auto;line-height:normal;font-family:Menlo,'DejaVu Sans Mono',consolas,'Courier New',monospace\"></pre>\n"
      ],
      "text/plain": []
     },
     "metadata": {},
     "output_type": "display_data"
    },
    {
     "data": {
      "text/html": [
       "<pre style=\"white-space:pre;overflow-x:auto;line-height:normal;font-family:Menlo,'DejaVu Sans Mono',consolas,'Courier New',monospace\"><span style=\"color: #7fbfbf; text-decoration-color: #7fbfbf\">19:05:47 BST </span>Maximum FlexCredit cost: <span style=\"color: #008080; text-decoration-color: #008080; font-weight: bold\">0.189</span>. Use <span style=\"color: #008000; text-decoration-color: #008000\">'web.real_cost(task_id)'</span> to get\n",
       "<span style=\"color: #7fbfbf; text-decoration-color: #7fbfbf\">             </span>the billed FlexCredit cost after a simulation run.                 \n",
       "</pre>\n"
      ],
      "text/plain": [
       "\u001b[2;36m19:05:47 BST\u001b[0m\u001b[2;36m \u001b[0mMaximum FlexCredit cost: \u001b[1;36m0.189\u001b[0m. Use \u001b[32m'web.real_cost\u001b[0m\u001b[32m(\u001b[0m\u001b[32mtask_id\u001b[0m\u001b[32m)\u001b[0m\u001b[32m'\u001b[0m to get\n",
       "\u001b[2;36m             \u001b[0mthe billed FlexCredit cost after a simulation run.                 \n"
      ]
     },
     "metadata": {},
     "output_type": "display_data"
    },
    {
     "data": {
      "text/html": [
       "<pre style=\"white-space:pre;overflow-x:auto;line-height:normal;font-family:Menlo,'DejaVu Sans Mono',consolas,'Courier New',monospace\"><span style=\"color: #7fbfbf; text-decoration-color: #7fbfbf\">             </span>starting up solver                                                 \n",
       "</pre>\n"
      ],
      "text/plain": [
       "\u001b[2;36m            \u001b[0m\u001b[2;36m \u001b[0mstarting up solver                                                 \n"
      ]
     },
     "metadata": {},
     "output_type": "display_data"
    },
    {
     "data": {
      "text/html": [
       "<pre style=\"white-space:pre;overflow-x:auto;line-height:normal;font-family:Menlo,'DejaVu Sans Mono',consolas,'Courier New',monospace\"><span style=\"color: #7fbfbf; text-decoration-color: #7fbfbf\">             </span>running solver                                                     \n",
       "</pre>\n"
      ],
      "text/plain": [
       "\u001b[2;36m            \u001b[0m\u001b[2;36m \u001b[0mrunning solver                                                     \n"
      ]
     },
     "metadata": {},
     "output_type": "display_data"
    },
    {
     "data": {
      "application/vnd.jupyter.widget-view+json": {
       "model_id": "eace34c906a94fba81d391a540171d01",
       "version_major": 2,
       "version_minor": 0
      },
      "text/plain": [
       "Output()"
      ]
     },
     "metadata": {},
     "output_type": "display_data"
    },
    {
     "data": {
      "text/html": [
       "<pre style=\"white-space:pre;overflow-x:auto;line-height:normal;font-family:Menlo,'DejaVu Sans Mono',consolas,'Courier New',monospace\"></pre>\n"
      ],
      "text/plain": []
     },
     "metadata": {},
     "output_type": "display_data"
    },
    {
     "data": {
      "text/html": [
       "<pre style=\"white-space:pre;overflow-x:auto;line-height:normal;font-family:Menlo,'DejaVu Sans Mono',consolas,'Courier New',monospace\">\n",
       "</pre>\n"
      ],
      "text/plain": [
       "\n"
      ]
     },
     "metadata": {},
     "output_type": "display_data"
    },
    {
     "data": {
      "text/html": [
       "<pre style=\"white-space:pre;overflow-x:auto;line-height:normal;font-family:Menlo,'DejaVu Sans Mono',consolas,'Courier New',monospace\"><span style=\"color: #7fbfbf; text-decoration-color: #7fbfbf\">19:08:00 BST </span>status = postprocess                                               \n",
       "</pre>\n"
      ],
      "text/plain": [
       "\u001b[2;36m19:08:00 BST\u001b[0m\u001b[2;36m \u001b[0mstatus = postprocess                                               \n"
      ]
     },
     "metadata": {},
     "output_type": "display_data"
    },
    {
     "data": {
      "application/vnd.jupyter.widget-view+json": {
       "model_id": "92b3662d651c436a8c22322b2d2255fe",
       "version_major": 2,
       "version_minor": 0
      },
      "text/plain": [
       "Output()"
      ]
     },
     "metadata": {},
     "output_type": "display_data"
    },
    {
     "data": {
      "text/html": [
       "<pre style=\"white-space:pre;overflow-x:auto;line-height:normal;font-family:Menlo,'DejaVu Sans Mono',consolas,'Courier New',monospace\"><span style=\"color: #7fbfbf; text-decoration-color: #7fbfbf\">19:08:31 BST </span>status = success                                                   \n",
       "</pre>\n"
      ],
      "text/plain": [
       "\u001b[2;36m19:08:31 BST\u001b[0m\u001b[2;36m \u001b[0mstatus = success                                                   \n"
      ]
     },
     "metadata": {},
     "output_type": "display_data"
    },
    {
     "data": {
      "text/html": [
       "<pre style=\"white-space:pre;overflow-x:auto;line-height:normal;font-family:Menlo,'DejaVu Sans Mono',consolas,'Courier New',monospace\"></pre>\n"
      ],
      "text/plain": []
     },
     "metadata": {},
     "output_type": "display_data"
    },
    {
     "data": {
      "text/html": [
       "<pre style=\"white-space:pre;overflow-x:auto;line-height:normal;font-family:Menlo,'DejaVu Sans Mono',consolas,'Courier New',monospace\"><span style=\"color: #7fbfbf; text-decoration-color: #7fbfbf\">             </span>View simulation result at                                          \n",
       "<span style=\"color: #7fbfbf; text-decoration-color: #7fbfbf\">             </span><a href=\"https://tidy3d.simulation.cloud/workbench?taskId=fdve-69c73aec-a761-4886-ac27-6a5b8a4d5ecb\" target=\"_blank\"><span style=\"color: #000080; text-decoration-color: #000080; text-decoration: underline\">'https://tidy3d.simulation.cloud/workbench?taskId=fdve-69c73aec-a76</span></a>\n",
       "<span style=\"color: #7fbfbf; text-decoration-color: #7fbfbf\">             </span><a href=\"https://tidy3d.simulation.cloud/workbench?taskId=fdve-69c73aec-a761-4886-ac27-6a5b8a4d5ecb\" target=\"_blank\"><span style=\"color: #000080; text-decoration-color: #000080; text-decoration: underline\">1-4886-ac27-6a5b8a4d5ecb'</span></a><span style=\"color: #000080; text-decoration-color: #000080; text-decoration: underline\">.</span>                                         \n",
       "</pre>\n"
      ],
      "text/plain": [
       "\u001b[2;36m            \u001b[0m\u001b[2;36m \u001b[0mView simulation result at                                          \n",
       "\u001b[2;36m             \u001b[0m\u001b]8;id=794305;https://tidy3d.simulation.cloud/workbench?taskId=fdve-69c73aec-a761-4886-ac27-6a5b8a4d5ecb\u001b\\\u001b[4;34m'https://tidy3d.simulation.cloud/workbench?\u001b[0m\u001b]8;;\u001b\\\u001b]8;id=344620;https://tidy3d.simulation.cloud/workbench?taskId=fdve-69c73aec-a761-4886-ac27-6a5b8a4d5ecb\u001b\\\u001b[4;34mtaskId\u001b[0m\u001b]8;;\u001b\\\u001b]8;id=794305;https://tidy3d.simulation.cloud/workbench?taskId=fdve-69c73aec-a761-4886-ac27-6a5b8a4d5ecb\u001b\\\u001b[4;34m=\u001b[0m\u001b]8;;\u001b\\\u001b]8;id=678074;https://tidy3d.simulation.cloud/workbench?taskId=fdve-69c73aec-a761-4886-ac27-6a5b8a4d5ecb\u001b\\\u001b[4;34mfdve\u001b[0m\u001b]8;;\u001b\\\u001b]8;id=794305;https://tidy3d.simulation.cloud/workbench?taskId=fdve-69c73aec-a761-4886-ac27-6a5b8a4d5ecb\u001b\\\u001b[4;34m-69c73aec-a76\u001b[0m\u001b]8;;\u001b\\\n",
       "\u001b[2;36m             \u001b[0m\u001b]8;id=794305;https://tidy3d.simulation.cloud/workbench?taskId=fdve-69c73aec-a761-4886-ac27-6a5b8a4d5ecb\u001b\\\u001b[4;34m1-4886-ac27-6a5b8a4d5ecb'\u001b[0m\u001b]8;;\u001b\\\u001b[4;34m.\u001b[0m                                         \n"
      ]
     },
     "metadata": {},
     "output_type": "display_data"
    },
    {
     "data": {
      "application/vnd.jupyter.widget-view+json": {
       "model_id": "40f17667e68e4d09b2c6d0e2bb6a5122",
       "version_major": 2,
       "version_minor": 0
      },
      "text/plain": [
       "Output()"
      ]
     },
     "metadata": {},
     "output_type": "display_data"
    },
    {
     "data": {
      "text/html": [
       "<pre style=\"white-space:pre;overflow-x:auto;line-height:normal;font-family:Menlo,'DejaVu Sans Mono',consolas,'Courier New',monospace\"></pre>\n"
      ],
      "text/plain": []
     },
     "metadata": {},
     "output_type": "display_data"
    },
    {
     "data": {
      "text/html": [
       "<pre style=\"white-space:pre;overflow-x:auto;line-height:normal;font-family:Menlo,'DejaVu Sans Mono',consolas,'Courier New',monospace\">\n",
       "</pre>\n"
      ],
      "text/plain": [
       "\n"
      ]
     },
     "metadata": {},
     "output_type": "display_data"
    },
    {
     "data": {
      "text/html": [
       "<pre style=\"white-space:pre;overflow-x:auto;line-height:normal;font-family:Menlo,'DejaVu Sans Mono',consolas,'Courier New',monospace\"><span style=\"color: #7fbfbf; text-decoration-color: #7fbfbf\">19:08:40 BST </span>loading simulation from data/week05_design_jax_objective_fn_17.hdf5\n",
       "</pre>\n"
      ],
      "text/plain": [
       "\u001b[2;36m19:08:40 BST\u001b[0m\u001b[2;36m \u001b[0mloading simulation from data/week05_design_jax_objective_fn_17.hdf5\n"
      ]
     },
     "metadata": {},
     "output_type": "display_data"
    },
    {
     "data": {
      "text/html": [
       "<pre style=\"white-space:pre;overflow-x:auto;line-height:normal;font-family:Menlo,'DejaVu Sans Mono',consolas,'Courier New',monospace\"><span style=\"color: #7fbfbf; text-decoration-color: #7fbfbf\">             </span><span style=\"color: #800000; text-decoration-color: #800000\">WARNING: Simulation final field decay value of </span><span style=\"color: #008080; text-decoration-color: #008080; font-weight: bold\">3.58e-05</span><span style=\"color: #800000; text-decoration-color: #800000\"> is greater </span>\n",
       "<span style=\"color: #7fbfbf; text-decoration-color: #7fbfbf\">             </span><span style=\"color: #800000; text-decoration-color: #800000\">than the simulation shutoff threshold of </span><span style=\"color: #008080; text-decoration-color: #008080; font-weight: bold\">1e-06</span><span style=\"color: #800000; text-decoration-color: #800000\">. Consider running   </span>\n",
       "<span style=\"color: #7fbfbf; text-decoration-color: #7fbfbf\">             </span><span style=\"color: #800000; text-decoration-color: #800000\">the simulation again with a larger </span><span style=\"color: #008000; text-decoration-color: #008000\">'run_time'</span><span style=\"color: #800000; text-decoration-color: #800000\"> duration for more    </span>\n",
       "<span style=\"color: #7fbfbf; text-decoration-color: #7fbfbf\">             </span><span style=\"color: #800000; text-decoration-color: #800000\">accurate results.                                                  </span>\n",
       "</pre>\n"
      ],
      "text/plain": [
       "\u001b[2;36m            \u001b[0m\u001b[2;36m \u001b[0m\u001b[31mWARNING: Simulation final field decay value of \u001b[0m\u001b[1;36m3.58e-05\u001b[0m\u001b[31m is greater \u001b[0m\n",
       "\u001b[2;36m             \u001b[0m\u001b[31mthan the simulation shutoff threshold of \u001b[0m\u001b[1;36m1e-06\u001b[0m\u001b[31m. Consider running   \u001b[0m\n",
       "\u001b[2;36m             \u001b[0m\u001b[31mthe simulation again with a larger \u001b[0m\u001b[32m'run_time'\u001b[0m\u001b[31m duration for more    \u001b[0m\n",
       "\u001b[2;36m             \u001b[0m\u001b[31maccurate results.                                                  \u001b[0m\n"
      ]
     },
     "metadata": {},
     "output_type": "display_data"
    },
    {
     "data": {
      "text/html": [
       "<pre style=\"white-space:pre;overflow-x:auto;line-height:normal;font-family:Menlo,'DejaVu Sans Mono',consolas,'Courier New',monospace\"><span style=\"color: #7fbfbf; text-decoration-color: #7fbfbf\">19:08:41 BST </span><span style=\"color: #800000; text-decoration-color: #800000\">WARNING: </span><span style=\"color: #008080; text-decoration-color: #008080; font-weight: bold\">101</span><span style=\"color: #800000; text-decoration-color: #800000\"> unique frequencies detected in the output monitors    </span>\n",
       "<span style=\"color: #7fbfbf; text-decoration-color: #7fbfbf\">             </span><span style=\"color: #800000; text-decoration-color: #800000\">with a minimum spacing of </span><span style=\"color: #008080; text-decoration-color: #008080; font-weight: bold\">1.713e+12</span><span style=\"color: #800000; text-decoration-color: #800000\"> </span><span style=\"color: #800000; text-decoration-color: #800000; font-weight: bold\">(</span><span style=\"color: #800000; text-decoration-color: #800000\">Hz</span><span style=\"color: #800000; text-decoration-color: #800000; font-weight: bold\">)</span><span style=\"color: #800000; text-decoration-color: #800000\">. Setting the </span><span style=\"color: #008000; text-decoration-color: #008000\">'fwidth'</span><span style=\"color: #800000; text-decoration-color: #800000\"> of  </span>\n",
       "<span style=\"color: #7fbfbf; text-decoration-color: #7fbfbf\">             </span><span style=\"color: #800000; text-decoration-color: #800000\">the adjoint sources to </span><span style=\"color: #008080; text-decoration-color: #008080; font-weight: bold\">0.1</span><span style=\"color: #800000; text-decoration-color: #800000\"> times this value = </span><span style=\"color: #008080; text-decoration-color: #008080; font-weight: bold\">1.713e+11</span><span style=\"color: #800000; text-decoration-color: #800000\"> </span><span style=\"color: #800000; text-decoration-color: #800000; font-weight: bold\">(</span><span style=\"color: #800000; text-decoration-color: #800000\">Hz</span><span style=\"color: #800000; text-decoration-color: #800000; font-weight: bold\">)</span><span style=\"color: #800000; text-decoration-color: #800000\"> to    </span>\n",
       "<span style=\"color: #7fbfbf; text-decoration-color: #7fbfbf\">             </span><span style=\"color: #800000; text-decoration-color: #800000\">avoid spectral overlap. To account for this, the corresponding     </span>\n",
       "<span style=\"color: #7fbfbf; text-decoration-color: #7fbfbf\">             </span><span style=\"color: #008000; text-decoration-color: #008000\">'run_time'</span><span style=\"color: #800000; text-decoration-color: #800000\"> in the adjoint simulation is will be set to </span><span style=\"color: #008080; text-decoration-color: #008080; font-weight: bold\">7.458864e-11</span>\n",
       "<span style=\"color: #7fbfbf; text-decoration-color: #7fbfbf\">             </span><span style=\"color: #800000; text-decoration-color: #800000\">compared to </span><span style=\"color: #008080; text-decoration-color: #008080; font-weight: bold\">1.621492e-11</span><span style=\"color: #800000; text-decoration-color: #800000\"> in the forward simulation. If the adjoint </span>\n",
       "<span style=\"color: #7fbfbf; text-decoration-color: #7fbfbf\">             </span><span style=\"color: #008000; text-decoration-color: #008000\">'run_time'</span><span style=\"color: #800000; text-decoration-color: #800000\"> is large due to small frequency spacing, it could be    </span>\n",
       "<span style=\"color: #7fbfbf; text-decoration-color: #7fbfbf\">             </span><span style=\"color: #800000; text-decoration-color: #800000\">better to instead run one simulation per frequency, which can be   </span>\n",
       "<span style=\"color: #7fbfbf; text-decoration-color: #7fbfbf\">             </span><span style=\"color: #800000; text-decoration-color: #800000\">done in parallel using </span><span style=\"color: #008000; text-decoration-color: #008000\">'tidy3d.plugins.adjoint.web.run_async'</span><span style=\"color: #800000; text-decoration-color: #800000\">.     </span>\n",
       "</pre>\n"
      ],
      "text/plain": [
       "\u001b[2;36m19:08:41 BST\u001b[0m\u001b[2;36m \u001b[0m\u001b[31mWARNING: \u001b[0m\u001b[1;36m101\u001b[0m\u001b[31m unique frequencies detected in the output monitors    \u001b[0m\n",
       "\u001b[2;36m             \u001b[0m\u001b[31mwith a minimum spacing of \u001b[0m\u001b[1;36m1.713e+12\u001b[0m\u001b[31m \u001b[0m\u001b[1;31m(\u001b[0m\u001b[31mHz\u001b[0m\u001b[1;31m)\u001b[0m\u001b[31m. Setting the \u001b[0m\u001b[32m'fwidth'\u001b[0m\u001b[31m of  \u001b[0m\n",
       "\u001b[2;36m             \u001b[0m\u001b[31mthe adjoint sources to \u001b[0m\u001b[1;36m0.1\u001b[0m\u001b[31m times this value = \u001b[0m\u001b[1;36m1.713e+11\u001b[0m\u001b[31m \u001b[0m\u001b[1;31m(\u001b[0m\u001b[31mHz\u001b[0m\u001b[1;31m)\u001b[0m\u001b[31m to    \u001b[0m\n",
       "\u001b[2;36m             \u001b[0m\u001b[31mavoid spectral overlap. To account for this, the corresponding     \u001b[0m\n",
       "\u001b[2;36m             \u001b[0m\u001b[32m'run_time'\u001b[0m\u001b[31m in the adjoint simulation is will be set to \u001b[0m\u001b[1;36m7.458864e-11\u001b[0m\n",
       "\u001b[2;36m             \u001b[0m\u001b[31mcompared to \u001b[0m\u001b[1;36m1.621492e-11\u001b[0m\u001b[31m in the forward simulation. If the adjoint \u001b[0m\n",
       "\u001b[2;36m             \u001b[0m\u001b[32m'run_time'\u001b[0m\u001b[31m is large due to small frequency spacing, it could be    \u001b[0m\n",
       "\u001b[2;36m             \u001b[0m\u001b[31mbetter to instead run one simulation per frequency, which can be   \u001b[0m\n",
       "\u001b[2;36m             \u001b[0m\u001b[31mdone in parallel using \u001b[0m\u001b[32m'tidy3d.plugins.adjoint.web.run_async'\u001b[0m\u001b[31m.     \u001b[0m\n"
      ]
     },
     "metadata": {},
     "output_type": "display_data"
    },
    {
     "data": {
      "text/html": [
       "<pre style=\"white-space:pre;overflow-x:auto;line-height:normal;font-family:Menlo,'DejaVu Sans Mono',consolas,'Courier New',monospace\"><span style=\"color: #7fbfbf; text-decoration-color: #7fbfbf\">19:08:44 BST </span><span style=\"color: #800000; text-decoration-color: #800000\">WARNING: Simulation has </span><span style=\"color: #008080; text-decoration-color: #008080; font-weight: bold\">3.09e+06</span><span style=\"color: #800000; text-decoration-color: #800000\"> time steps. The </span><span style=\"color: #008000; text-decoration-color: #008000\">'run_time'</span><span style=\"color: #800000; text-decoration-color: #800000\"> may be </span>\n",
       "<span style=\"color: #7fbfbf; text-decoration-color: #7fbfbf\">             </span><span style=\"color: #800000; text-decoration-color: #800000\">unnecessarily large, unless there are very long-lived resonances.  </span>\n",
       "</pre>\n"
      ],
      "text/plain": [
       "\u001b[2;36m19:08:44 BST\u001b[0m\u001b[2;36m \u001b[0m\u001b[31mWARNING: Simulation has \u001b[0m\u001b[1;36m3.09e+06\u001b[0m\u001b[31m time steps. The \u001b[0m\u001b[32m'run_time'\u001b[0m\u001b[31m may be \u001b[0m\n",
       "\u001b[2;36m             \u001b[0m\u001b[31munnecessarily large, unless there are very long-lived resonances.  \u001b[0m\n"
      ]
     },
     "metadata": {},
     "output_type": "display_data"
    },
    {
     "data": {
      "text/html": [
       "<pre style=\"white-space:pre;overflow-x:auto;line-height:normal;font-family:Menlo,'DejaVu Sans Mono',consolas,'Courier New',monospace\"><span style=\"color: #7fbfbf; text-decoration-color: #7fbfbf\">19:08:45 BST </span>Created task <span style=\"color: #008000; text-decoration-color: #008000\">'task_week05_design_jax_objective_fn_17_adj'</span> with     \n",
       "<span style=\"color: #7fbfbf; text-decoration-color: #7fbfbf\">             </span>task_id <span style=\"color: #008000; text-decoration-color: #008000\">'fdve-6be43f5c-92a3-4389-b665-6ea27e7ca7fe'</span> and task_type  \n",
       "<span style=\"color: #7fbfbf; text-decoration-color: #7fbfbf\">             </span><span style=\"color: #008000; text-decoration-color: #008000\">'FDTD'</span>.                                                            \n",
       "</pre>\n"
      ],
      "text/plain": [
       "\u001b[2;36m19:08:45 BST\u001b[0m\u001b[2;36m \u001b[0mCreated task \u001b[32m'task_week05_design_jax_objective_fn_17_adj'\u001b[0m with     \n",
       "\u001b[2;36m             \u001b[0mtask_id \u001b[32m'fdve-6be43f5c-92a3-4389-b665-6ea27e7ca7fe'\u001b[0m and task_type  \n",
       "\u001b[2;36m             \u001b[0m\u001b[32m'FDTD'\u001b[0m.                                                            \n"
      ]
     },
     "metadata": {},
     "output_type": "display_data"
    },
    {
     "data": {
      "text/html": [
       "<pre style=\"white-space:pre;overflow-x:auto;line-height:normal;font-family:Menlo,'DejaVu Sans Mono',consolas,'Courier New',monospace\"><span style=\"color: #7fbfbf; text-decoration-color: #7fbfbf\">             </span>View task using web UI at                                          \n",
       "<span style=\"color: #7fbfbf; text-decoration-color: #7fbfbf\">             </span><a href=\"https://tidy3d.simulation.cloud/workbench?taskId=fdve-6be43f5c-92a3-4389-b665-6ea27e7ca7fe\" target=\"_blank\"><span style=\"color: #008000; text-decoration-color: #008000\">'https://tidy3d.simulation.cloud/workbench?taskId=fdve-6be43f5c-92a</span></a>\n",
       "<span style=\"color: #7fbfbf; text-decoration-color: #7fbfbf\">             </span><a href=\"https://tidy3d.simulation.cloud/workbench?taskId=fdve-6be43f5c-92a3-4389-b665-6ea27e7ca7fe\" target=\"_blank\"><span style=\"color: #008000; text-decoration-color: #008000\">3-4389-b665-6ea27e7ca7fe'</span></a>.                                         \n",
       "</pre>\n"
      ],
      "text/plain": [
       "\u001b[2;36m            \u001b[0m\u001b[2;36m \u001b[0mView task using web UI at                                          \n",
       "\u001b[2;36m             \u001b[0m\u001b]8;id=476351;https://tidy3d.simulation.cloud/workbench?taskId=fdve-6be43f5c-92a3-4389-b665-6ea27e7ca7fe\u001b\\\u001b[32m'https://tidy3d.simulation.cloud/workbench?\u001b[0m\u001b]8;;\u001b\\\u001b]8;id=129979;https://tidy3d.simulation.cloud/workbench?taskId=fdve-6be43f5c-92a3-4389-b665-6ea27e7ca7fe\u001b\\\u001b[32mtaskId\u001b[0m\u001b]8;;\u001b\\\u001b]8;id=476351;https://tidy3d.simulation.cloud/workbench?taskId=fdve-6be43f5c-92a3-4389-b665-6ea27e7ca7fe\u001b\\\u001b[32m=\u001b[0m\u001b]8;;\u001b\\\u001b]8;id=746531;https://tidy3d.simulation.cloud/workbench?taskId=fdve-6be43f5c-92a3-4389-b665-6ea27e7ca7fe\u001b\\\u001b[32mfdve\u001b[0m\u001b]8;;\u001b\\\u001b]8;id=476351;https://tidy3d.simulation.cloud/workbench?taskId=fdve-6be43f5c-92a3-4389-b665-6ea27e7ca7fe\u001b\\\u001b[32m-6be43f5c-92a\u001b[0m\u001b]8;;\u001b\\\n",
       "\u001b[2;36m             \u001b[0m\u001b]8;id=476351;https://tidy3d.simulation.cloud/workbench?taskId=fdve-6be43f5c-92a3-4389-b665-6ea27e7ca7fe\u001b\\\u001b[32m3-4389-b665-6ea27e7ca7fe'\u001b[0m\u001b]8;;\u001b\\.                                         \n"
      ]
     },
     "metadata": {},
     "output_type": "display_data"
    },
    {
     "data": {
      "application/vnd.jupyter.widget-view+json": {
       "model_id": "0589040ec676430c9021b171cfd30188",
       "version_major": 2,
       "version_minor": 0
      },
      "text/plain": [
       "Output()"
      ]
     },
     "metadata": {},
     "output_type": "display_data"
    },
    {
     "data": {
      "text/html": [
       "<pre style=\"white-space:pre;overflow-x:auto;line-height:normal;font-family:Menlo,'DejaVu Sans Mono',consolas,'Courier New',monospace\"></pre>\n"
      ],
      "text/plain": []
     },
     "metadata": {},
     "output_type": "display_data"
    },
    {
     "data": {
      "text/html": [
       "<pre style=\"white-space:pre;overflow-x:auto;line-height:normal;font-family:Menlo,'DejaVu Sans Mono',consolas,'Courier New',monospace\">\n",
       "</pre>\n"
      ],
      "text/plain": [
       "\n"
      ]
     },
     "metadata": {},
     "output_type": "display_data"
    },
    {
     "data": {
      "text/html": [
       "<pre style=\"white-space:pre;overflow-x:auto;line-height:normal;font-family:Menlo,'DejaVu Sans Mono',consolas,'Courier New',monospace\"><span style=\"color: #7fbfbf; text-decoration-color: #7fbfbf\">19:08:57 BST </span>status = queued                                                    \n",
       "</pre>\n"
      ],
      "text/plain": [
       "\u001b[2;36m19:08:57 BST\u001b[0m\u001b[2;36m \u001b[0mstatus = queued                                                    \n"
      ]
     },
     "metadata": {},
     "output_type": "display_data"
    },
    {
     "data": {
      "text/html": [
       "<pre style=\"white-space:pre;overflow-x:auto;line-height:normal;font-family:Menlo,'DejaVu Sans Mono',consolas,'Courier New',monospace\"><span style=\"color: #7fbfbf; text-decoration-color: #7fbfbf\">             </span>To cancel the simulation, use <span style=\"color: #008000; text-decoration-color: #008000\">'web.abort(task_id)'</span> or              \n",
       "<span style=\"color: #7fbfbf; text-decoration-color: #7fbfbf\">             </span><span style=\"color: #008000; text-decoration-color: #008000\">'web.delete(task_id)'</span> or abort/delete the task in the web UI.      \n",
       "<span style=\"color: #7fbfbf; text-decoration-color: #7fbfbf\">             </span>Terminating the Python script will not stop the job running on the \n",
       "<span style=\"color: #7fbfbf; text-decoration-color: #7fbfbf\">             </span>cloud.                                                             \n",
       "</pre>\n"
      ],
      "text/plain": [
       "\u001b[2;36m            \u001b[0m\u001b[2;36m \u001b[0mTo cancel the simulation, use \u001b[32m'web.abort\u001b[0m\u001b[32m(\u001b[0m\u001b[32mtask_id\u001b[0m\u001b[32m)\u001b[0m\u001b[32m'\u001b[0m or              \n",
       "\u001b[2;36m             \u001b[0m\u001b[32m'web.delete\u001b[0m\u001b[32m(\u001b[0m\u001b[32mtask_id\u001b[0m\u001b[32m)\u001b[0m\u001b[32m'\u001b[0m or abort/delete the task in the web UI.      \n",
       "\u001b[2;36m             \u001b[0mTerminating the Python script will not stop the job running on the \n",
       "\u001b[2;36m             \u001b[0mcloud.                                                             \n"
      ]
     },
     "metadata": {},
     "output_type": "display_data"
    },
    {
     "data": {
      "application/vnd.jupyter.widget-view+json": {
       "model_id": "f6cddbad9028485595d194b3dba0721d",
       "version_major": 2,
       "version_minor": 0
      },
      "text/plain": [
       "Output()"
      ]
     },
     "metadata": {},
     "output_type": "display_data"
    },
    {
     "data": {
      "text/html": [
       "<pre style=\"white-space:pre;overflow-x:auto;line-height:normal;font-family:Menlo,'DejaVu Sans Mono',consolas,'Courier New',monospace\"><span style=\"color: #7fbfbf; text-decoration-color: #7fbfbf\">19:09:05 BST </span>status = preprocess                                                \n",
       "</pre>\n"
      ],
      "text/plain": [
       "\u001b[2;36m19:09:05 BST\u001b[0m\u001b[2;36m \u001b[0mstatus = preprocess                                                \n"
      ]
     },
     "metadata": {},
     "output_type": "display_data"
    },
    {
     "data": {
      "text/html": [
       "<pre style=\"white-space:pre;overflow-x:auto;line-height:normal;font-family:Menlo,'DejaVu Sans Mono',consolas,'Courier New',monospace\"></pre>\n"
      ],
      "text/plain": []
     },
     "metadata": {},
     "output_type": "display_data"
    },
    {
     "data": {
      "text/html": [
       "<pre style=\"white-space:pre;overflow-x:auto;line-height:normal;font-family:Menlo,'DejaVu Sans Mono',consolas,'Courier New',monospace\"><span style=\"color: #7fbfbf; text-decoration-color: #7fbfbf\">19:09:53 BST </span>Maximum FlexCredit cost: <span style=\"color: #008080; text-decoration-color: #008080; font-weight: bold\">0.594</span>. Use <span style=\"color: #008000; text-decoration-color: #008000\">'web.real_cost(task_id)'</span> to get\n",
       "<span style=\"color: #7fbfbf; text-decoration-color: #7fbfbf\">             </span>the billed FlexCredit cost after a simulation run.                 \n",
       "</pre>\n"
      ],
      "text/plain": [
       "\u001b[2;36m19:09:53 BST\u001b[0m\u001b[2;36m \u001b[0mMaximum FlexCredit cost: \u001b[1;36m0.594\u001b[0m. Use \u001b[32m'web.real_cost\u001b[0m\u001b[32m(\u001b[0m\u001b[32mtask_id\u001b[0m\u001b[32m)\u001b[0m\u001b[32m'\u001b[0m to get\n",
       "\u001b[2;36m             \u001b[0mthe billed FlexCredit cost after a simulation run.                 \n"
      ]
     },
     "metadata": {},
     "output_type": "display_data"
    },
    {
     "data": {
      "text/html": [
       "<pre style=\"white-space:pre;overflow-x:auto;line-height:normal;font-family:Menlo,'DejaVu Sans Mono',consolas,'Courier New',monospace\"><span style=\"color: #7fbfbf; text-decoration-color: #7fbfbf\">             </span>starting up solver                                                 \n",
       "</pre>\n"
      ],
      "text/plain": [
       "\u001b[2;36m            \u001b[0m\u001b[2;36m \u001b[0mstarting up solver                                                 \n"
      ]
     },
     "metadata": {},
     "output_type": "display_data"
    },
    {
     "data": {
      "text/html": [
       "<pre style=\"white-space:pre;overflow-x:auto;line-height:normal;font-family:Menlo,'DejaVu Sans Mono',consolas,'Courier New',monospace\"><span style=\"color: #7fbfbf; text-decoration-color: #7fbfbf\">             </span>running solver                                                     \n",
       "</pre>\n"
      ],
      "text/plain": [
       "\u001b[2;36m            \u001b[0m\u001b[2;36m \u001b[0mrunning solver                                                     \n"
      ]
     },
     "metadata": {},
     "output_type": "display_data"
    },
    {
     "data": {
      "application/vnd.jupyter.widget-view+json": {
       "model_id": "87e03fbb6b154ccb9fddf2f778bd9c98",
       "version_major": 2,
       "version_minor": 0
      },
      "text/plain": [
       "Output()"
      ]
     },
     "metadata": {},
     "output_type": "display_data"
    }
   ],
   "source": [
    "number_of_iterations = 6\n",
    "step_size = 0.1\n",
    "optimizer = optax.adam(learning_rate = step_size)\n",
    "params_i = PARAMS0.copy()\n",
    "slab_info_i = params_to_slab_info(params_i)\n",
    "jsim_i = make_jsim(slab_info_i)\n",
    "\n",
    "optimizer_state = optimizer.init(params_i)\n",
    "\n",
    "params_history = [params_i]\n",
    "error_history = []\n",
    "grad_norm_history = []\n",
    "jsim_history = []\n",
    "jsim_data_history = []\n",
    "# Flux history is already stored in the flux_history list, in objective_fn function\n",
    "\n",
    "for i in range(number_of_iterations):\n",
    "    print(f\"Iteration {i + 1}\")\n",
    "\n",
    "    # Compute the value (error) and gradient of the objective function\n",
    "    (val_i, jsim_data_i), grad_i = val_and_grad_fn(params_i)\n",
    "\n",
    "    print(f\"\\terror value: {val_i}\")\n",
    "\n",
    "    # Update the parameters: error (loss) as small as possible\n",
    "    updates, optimizer_state = optimizer.update(-grad_i, optimizer_state, params_i)\n",
    "    params_i = optax.apply_updates(params_i, updates)\n",
    "    grad_norm_i = jnp.linalg.norm(grad_i)\n",
    "\n",
    "    print(f\"\\tgradient norm: {grad_norm_i}\")\n",
    "\n",
    "    # Save the optimization history\n",
    "    params_history.append(params_i.copy())\n",
    "    error_history.append(val_i)\n",
    "    grad_norm_history.append(grad_norm_i)\n",
    "    jsim_data_history.append(jsim_data_i)\n",
    "\n",
    "    # Visualize the iteration results\n",
    "    plot_flux(i + 1)\n",
    "\n",
    "    # Update the structure and simulation\n",
    "    slab_info_i = params_to_slab_info(params_i)\n",
    "    jsim_i = make_jsim(slab_info_i)\n",
    "    jsim_history.append(jsim_i)\n"
   ]
  },
  {
   "cell_type": "markdown",
   "metadata": {},
   "source": [
    "### Visualize the iterations"
   ]
  },
  {
   "cell_type": "markdown",
   "metadata": {},
   "source": [
    "#### Flux history"
   ]
  },
  {
   "cell_type": "code",
   "execution_count": null,
   "metadata": {},
   "outputs": [],
   "source": [
    "# Flux history\n",
    "\n",
    "fig, axes = plt.subplots(2, 3, figsize = (9, 6))\n",
    "axes = axes.flatten()\n",
    "for i, flux in enumerate(flux_history):\n",
    "    ax = axes[i]\n",
    "    ax.plot(monitor_freqs / 1e12, flux)\n",
    "    ax.set_title(f'Flux at iteration {i+1}')\n",
    "    ax.set_xlabel('Frequency (THz)')\n",
    "    ax.set_ylabel('Flux')\n",
    "# fig.delaxes(axes[-1]) # Delete the last subplot if number_of_iterations == 5\n",
    "plt.tight_layout()\n",
    "plt.savefig(\"flux_history.png\")\n",
    "plt.show()"
   ]
  },
  {
   "cell_type": "markdown",
   "metadata": {},
   "source": [
    "#### Residue history"
   ]
  },
  {
   "cell_type": "code",
   "execution_count": null,
   "metadata": {},
   "outputs": [],
   "source": [
    "# Residue history\n",
    "\n",
    "fig, axes = plt.subplots(2, 3, figsize = (9, 6))\n",
    "axes = axes.flatten()\n",
    "for i, flux in enumerate(flux_history):\n",
    "    ax = axes[i]\n",
    "    residue_error = flux - gaussian_y\n",
    "    ax.plot(monitor_freqs / 1e12, residue_error)\n",
    "    ax.set_title(f\"Iteration {i+1}\")\n",
    "    ax.set_xlabel(\"Frequency (THz)\")\n",
    "    ax.set_ylabel(\"Residue error\")\n",
    "# fig.delaxes(axes[-1]) # Delete the last subplot if number_of_iterations == 5\n",
    "plt.tight_layout()\n",
    "plt.savefig(\"residue_history.png\")\n",
    "plt.show()"
   ]
  },
  {
   "cell_type": "markdown",
   "metadata": {},
   "source": [
    "#### Design parameters history"
   ]
  },
  {
   "cell_type": "code",
   "execution_count": null,
   "metadata": {},
   "outputs": [],
   "source": [
    "# Design parameters history\n",
    "\n",
    "param_name = [\"sub thickness 1\", \"sub thickness 2\", \"cuboid L\", \"cuboid W\", \"cuboid H\"]\n",
    "slab_info_history = []\n",
    "\n",
    "for i, params in enumerate(params_history[1:]):\n",
    "    slab_info_history.append(params_to_slab_info(params))\n",
    "\n",
    "slab_info_history_transposed = np.array(slab_info_history).T\n",
    "x = np.arange(number_of_iterations) + 1\n",
    "\n",
    "fig, axes = plt.subplots(2, 3, figsize = (9, 6))\n",
    "axes = axes.flatten()\n",
    "\n",
    "for i, slab_info in enumerate(slab_info_history_transposed):\n",
    "    ax = axes[i]\n",
    "    ax.plot(x, slab_info)\n",
    "    ax.set_title(f\"{param_name[i]}\")\n",
    "    ax.set_xlabel(\"Iteration number\")\n",
    "    ax.set_ylabel(f\"Size (microns)\")\n",
    "\n",
    "plt.tight_layout()\n",
    "plt.delaxes(axes[-1]) \n",
    "plt.savefig(\"design_history.png\")\n",
    "plt.show()"
   ]
  },
  {
   "cell_type": "markdown",
   "metadata": {},
   "source": [
    "#### Error history and gradient norm history"
   ]
  },
  {
   "cell_type": "code",
   "execution_count": null,
   "metadata": {},
   "outputs": [],
   "source": [
    "# Error history and gradient norm history\n",
    "fig, axes = plt.subplots(2, 1, figsize = (3, 7))\n",
    "axes = axes.flatten()\n",
    "\n",
    "axes[0].plot(x, error_history)\n",
    "axes[0].set_ylabel(\"Error\")\n",
    "axes[0].set_title(\"Error history\")\n",
    "\n",
    "axes[1].plot(x, grad_norm_history)\n",
    "axes[1].set_xlabel(\"Iteration number\")\n",
    "axes[1].set_ylabel(\"Gradient norm\")\n",
    "axes[1].set_title(\"Gradient norm history\")\n",
    "\n",
    "# Set the x-axis to show only integers\n",
    "# plt.xticks(x)\n",
    "\n",
    "plt.savefig(\"error_and_gradnorm_history.png\")\n",
    "plt.show()"
   ]
  },
  {
   "cell_type": "markdown",
   "metadata": {},
   "source": [
    "#### 3D plot"
   ]
  },
  {
   "cell_type": "code",
   "execution_count": null,
   "metadata": {},
   "outputs": [],
   "source": [
    "sim6, _ = jsim_history[5].to_simulation()\n",
    "sim6.plot_3d()"
   ]
  }
 ],
 "metadata": {
  "kernelspec": {
   "display_name": "Python 3 (ipykernel)",
   "language": "python",
   "name": "python3"
  },
  "language_info": {
   "codemirror_mode": {
    "name": "ipython",
    "version": 3
   },
   "file_extension": ".py",
   "mimetype": "text/x-python",
   "name": "python",
   "nbconvert_exporter": "python",
   "pygments_lexer": "ipython3",
   "version": "3.9.6"
  }
 },
 "nbformat": 4,
 "nbformat_minor": 4
}
